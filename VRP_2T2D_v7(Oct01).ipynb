{
  "cells": [
    {
      "cell_type": "markdown",
      "metadata": {
        "id": "view-in-github",
        "colab_type": "text"
      },
      "source": [
        "<a href=\"https://colab.research.google.com/github/RaminTK/TDRP/blob/main/VRP_2T2D_v7(Oct01).ipynb\" target=\"_parent\"><img src=\"https://colab.research.google.com/assets/colab-badge.svg\" alt=\"Open In Colab\"/></a>"
      ]
    },
    {
      "cell_type": "markdown",
      "metadata": {
        "id": "UV_CFLQu2gCR"
      },
      "source": [
        "Improvements compared to v3:\n",
        "\n",
        "- Multi Truck / Multi UAV - done\n",
        "- Overlap on UAV and Truck path - done\n",
        "\n",
        "- Capacitated UAV - done\n",
        "\n",
        "- Unassigned or assigned (Unassigned now, we may have both and compare, just make all u values t to make it assigned, obviously unassigned is more complex and may give better solution) - done\n",
        "\n",
        "- Meet at S - done\n",
        "\n",
        "- Multi depot visit by UAV (needs more than one depot visit, r_u and p_u must accept several depot visit time) (if we have large enough number of truck nodes to visit uav and truck, we may do not need depot visit by UAV)(ignore for now, discuss with Nafiseh on this)\n"
      ]
    },
    {
      "cell_type": "code",
      "execution_count": null,
      "metadata": {
        "id": "5xkeVfY1qXW1"
      },
      "outputs": [],
      "source": [
        "# !pip install gurobipy"
      ]
    },
    {
      "cell_type": "markdown",
      "metadata": {
        "id": "cHRYm6ZOrbdX"
      },
      "source": [
        "# Libraries"
      ]
    },
    {
      "cell_type": "code",
      "execution_count": null,
      "metadata": {
        "id": "M0ERIaWlqmr8"
      },
      "outputs": [],
      "source": [
        "import gurobipy as gp\n",
        "from gurobipy import GRB\n",
        "import numpy as np\n",
        "import pandas as pd\n",
        "from scipy.spatial import distance_matrix\n",
        "import matplotlib.pyplot as plt"
      ]
    },
    {
      "cell_type": "code",
      "execution_count": null,
      "metadata": {
        "id": "hlFg4ZJVWMmt"
      },
      "outputs": [],
      "source": [
        "# Create an environment with your WLS license\n",
        "params = {\n",
        "\"WLSACCESSID\": 'c5c6ef9a-d24b-4e09-99ba-a30fae3c2de1',\n",
        "\"WLSSECRET\": '3809b277-8064-4385-8804-9971d3dc9938',\n",
        "\"LICENSEID\": 2536865,\n",
        "}\n",
        "\n",
        "# env = gp.Env(params=params)\n",
        "\n",
        "# # Create the model within the Gurobi environment\n",
        "# model = gp.Model(env=env)"
      ]
    },
    {
      "cell_type": "markdown",
      "metadata": {
        "id": "0Cb1h78brjFQ"
      },
      "source": [
        "# Parameters"
      ]
    },
    {
      "cell_type": "markdown",
      "metadata": {
        "id": "0Lcdp_oTsAru"
      },
      "source": [
        "$d^{t}_{ij}$ Travel time between node $i$ and $j$ by truck, $(i,j) \\in A^t$.\n",
        "\n",
        "$d^{u}_{ij}$ Travel time between node $i$ and $j$ by UAV, $(i,j) \\in A^u$.\n",
        "\n",
        "$M$ A sufficiently large number.\n",
        "\n",
        "<!-- $L$ & Battery life limit of UAV. -->\n",
        "\n",
        "$N$ Total number of aid recipients (bu UAV).\n",
        "\n",
        "$L$ Number of aid recipients accessible by truck.\n",
        "\n",
        "$R$ Number of Trucks.\n",
        "\n",
        "$V$ Number of UAVs.\n",
        "\n",
        "<!-- $q$ Relief item capacity limit of UAVs. (unlimited) -->"
      ]
    },
    {
      "cell_type": "code",
      "execution_count": null,
      "metadata": {
        "id": "d2h7rxwSrb6y"
      },
      "outputs": [],
      "source": [
        "N = 6  # Total number of aid recipients (bu UAV)\n",
        "L = 3  # Number of aid recipients accessible by truck\n",
        "R = 1  # Number of Trucks\n",
        "V = 1  # Number of UAVs\n",
        "q = 2  # Relief item capacity limit of UAVs. (unlimited)\n",
        "M = 100000  # A large number"
      ]
    },
    {
      "cell_type": "markdown",
      "metadata": {
        "id": "22KInr9IsMJb"
      },
      "source": [
        "# Sets"
      ]
    },
    {
      "cell_type": "markdown",
      "metadata": {
        "id": "JrY1jphCsN_3"
      },
      "source": [
        "\n",
        "$A^t$  Set of aid recipients served by trucks and depot. $A^t \\subset A_U$.\n",
        "\n",
        "$A^u$  Set of aid recipients served by UAVs and depote (all nodes). $A^u$.\n",
        "\n",
        "$U$  Set of UAVs. $|U|= V$.\n",
        "\n",
        "$T$  Set of trucks. $|T| = R$."
      ]
    },
    {
      "cell_type": "code",
      "execution_count": null,
      "metadata": {
        "id": "A8CLQlefrjej"
      },
      "outputs": [],
      "source": [
        "A_T = (list(range(L+1)))+[N+1]  # Set of nodes for trucks\n",
        "A_U = list(range(N+2))# Set of nodes for UAVs\n",
        "\n",
        "T = list(range(1,R+1))      # Set of trucks\n",
        "U = T"
      ]
    },
    {
      "cell_type": "markdown",
      "metadata": {
        "id": "EVQNkUDwsVKp"
      },
      "source": [
        "## Generate random coordinates for the nodes"
      ]
    },
    {
      "cell_type": "code",
      "execution_count": null,
      "metadata": {
        "id": "6Dd6GW_3sSxd"
      },
      "outputs": [],
      "source": [
        "# Number of nodes\n",
        "N += 1\n",
        "\n",
        "np.random.seed(0)  # For reproducibility\n",
        "coordinates = np.random.rand(N, 2) * 100  # Generate random coordinates in a 100x100 area"
      ]
    },
    {
      "cell_type": "code",
      "execution_count": null,
      "metadata": {
        "id": "F7VW5VvasXPg"
      },
      "outputs": [],
      "source": [
        "coordinates = np.vstack([coordinates, coordinates[0]])"
      ]
    },
    {
      "cell_type": "markdown",
      "metadata": {
        "id": "FyRuSDs5saGK"
      },
      "source": [
        "## Distance Matrix\n"
      ]
    },
    {
      "cell_type": "code",
      "execution_count": null,
      "metadata": {
        "id": "8CzdgsFnsYpN"
      },
      "outputs": [],
      "source": [
        "euclidean_dist_matrix = distance_matrix(coordinates, coordinates)\n",
        "manhattan_dist_matrix = distance_matrix(coordinates, coordinates, p=1)"
      ]
    },
    {
      "cell_type": "code",
      "execution_count": null,
      "metadata": {
        "id": "DQ-79jNtc4PA"
      },
      "outputs": [],
      "source": [
        "euclidean_df = pd.DataFrame(euclidean_dist_matrix, columns=[f'Node {i}' for i in range(N+1)], index=[f'Node {i}' for i in range(N+1)])\n",
        "manhattan_df = pd.DataFrame(manhattan_dist_matrix, columns=[f'Node {i}' for i in range(N+1)], index=[f'Node {i}' for i in range(N+1)])"
      ]
    },
    {
      "cell_type": "markdown",
      "metadata": {
        "id": "tXIMqXwrsdoK"
      },
      "source": [
        "## Plot the nodes"
      ]
    },
    {
      "cell_type": "code",
      "execution_count": null,
      "metadata": {
        "colab": {
          "base_uri": "https://localhost:8080/",
          "height": 872
        },
        "id": "vWhRbD2HPwcl",
        "outputId": "0ffb471f-c986-4f8e-bdda-6b4e459388d6"
      },
      "outputs": [
        {
          "output_type": "display_data",
          "data": {
            "text/plain": [
              "<Figure size 1000x1000 with 1 Axes>"
            ],
            "image/png": "[encoded data removed]"
          },
          "metadata": {}
        }
      ],
      "source": [
        "plt.figure(figsize=(10, 10))\n",
        "# plt.scatter(coordinates[:, 0], coordinates[:, 1], color='red')\n",
        "plt.scatter(coordinates[A_T[1:-1], 0], coordinates[A_T[1:-1], 1], color='red', label='Truck or Drone')\n",
        "plt.scatter(coordinates[[item for item in A_U if item not in A_T], 0], coordinates[[item for item in A_U if item not in A_T], 1], color='blue', label='Only Drone')\n",
        "\n",
        "# Highlight the first and last points as depots\n",
        "plt.scatter(coordinates[0, 0], coordinates[0, 1], color='gray', s=100, label='Depot')\n",
        "plt.scatter(coordinates[-1, 0], coordinates[-1, 1], color='gray', s=100)\n",
        "\n",
        "# Annotate the nodes\n",
        "for i, (x, y) in enumerate(coordinates):\n",
        "    if i == 0:\n",
        "        plt.text(x, y, 'Depot', fontsize=12, ha='right')\n",
        "    elif i == len(coordinates) - 1:\n",
        "        plt.text(x, y, 'Depot', fontsize=12, ha='right')\n",
        "    else:\n",
        "        plt.text(x, y, f'Node {i}', fontsize=12, ha='right')\n",
        "\n",
        "# Draw lines between nodes for Euclidean distances\n",
        "for i in range(len(coordinates)):\n",
        "    for j in range(i + 1, N+1):\n",
        "        plt.plot([coordinates[i, 0], coordinates[j, 0]], [coordinates[i, 1], coordinates[j, 1]], 'gray', linestyle='--', linewidth=0.5)\n",
        "\n",
        "plt.title('Nodes and Euclidean Distances')\n",
        "plt.xlabel('X Coordinate')\n",
        "plt.ylabel('Y Coordinate')\n",
        "plt.grid(True)\n",
        "plt.legend()\n",
        "plt.show()"
      ]
    },
    {
      "cell_type": "code",
      "execution_count": null,
      "metadata": {
        "id": "JPvOCskKsm6i"
      },
      "outputs": [],
      "source": [
        "d_t = manhattan_df  # Travel times for trucks => will change into a matrix of Manhttan distances\n",
        "d_u = euclidean_df  # Travel times for UAVs => will change into a matrix of  Euclidean distances"
      ]
    },
    {
      "cell_type": "markdown",
      "metadata": {
        "id": "THUH9Q4TsdVn"
      },
      "source": [
        "# Model"
      ]
    },
    {
      "cell_type": "code",
      "execution_count": null,
      "metadata": {
        "colab": {
          "base_uri": "https://localhost:8080/"
        },
        "id": "mVKmqLEtspMN",
        "outputId": "2cb3ce84-cda4-4ee0-e1b7-77dda3cd9de1"
      },
      "outputs": [
        {
          "output_type": "stream",
          "name": "stdout",
          "text": [
            "Set parameter WLSAccessID\n",
            "Set parameter WLSSecret\n",
            "Set parameter LicenseID to value 2536865\n",
            "Academic license 2536865 - for non-commercial use only - registered to rt___@stevens.edu\n"
          ]
        }
      ],
      "source": [
        "env = gp.Env(params=params)\n",
        "m = gp.Model(env=env)"
      ]
    },
    {
      "cell_type": "markdown",
      "metadata": {
        "id": "j0UieaS_tOpd"
      },
      "source": [
        "# Indices"
      ]
    },
    {
      "cell_type": "markdown",
      "metadata": {
        "id": "3gZM6sMLtSTa"
      },
      "source": [
        "$i, j, h, s, g, v$  Equivalently used indices for the nodes of the network (aid recipients and depot).\n",
        "\n",
        "$t$  Index of trucks."
      ]
    },
    {
      "cell_type": "markdown",
      "metadata": {
        "id": "lU_hb4cUtUH3"
      },
      "source": [
        "# Variables"
      ]
    },
    {
      "cell_type": "markdown",
      "metadata": {
        "id": "jSH-9RBJtVZw"
      },
      "source": [
        "$x^{t}_{ij}$ 1 if truck $t$ moves from node $i$ to node $j$; 0 otherwise. $(i,j) \\in A_t, t \\in T$.\n",
        "\n",
        "$y^{t}_{ijs}$ 1 if UAV $u$ moves from node $i$ to node $j$ and meet it's truck on node $s$; 0 otherwise. $(i,j) \\in A_U$ s in for $t \\in T$.\n",
        "\n",
        "$z^{t}_{i}$ Position of node $i$ in the truck $t$ route. $i \\in A_E$ for $t \\in T$.\n",
        "\n",
        "$r^{t}_{i}$ Arrival time of truck $t$ at node $i$. $i \\in A_E$ for $t \\in T$.\n",
        "\n",
        "$p^{t}_{i}$ Departure time of truck $t$ from node $i$. $i \\in A_E$ for $t \\in T$."
      ]
    },
    {
      "cell_type": "code",
      "execution_count": null,
      "metadata": {
        "id": "dcz5E-j0sqhL"
      },
      "outputs": [],
      "source": [
        "x = m.addVars(A_T[:-1], A_T[1:], T, vtype=GRB.BINARY,lb=0, name=\"Truck\") #1 if truck $w$ moves from node $i$ to node $j$; 0 otherwise. $(i,j) \\in C_0$ for $w \\in W$.\n",
        "y = m.addVars(A_U[:-1], A_U[1:], A_T[1:], U, vtype=GRB.BINARY, lb=0, name=\"UAV\") #1 if UAV $u$ travels from node $i$ to visit node $j$ and returns to the truck $w$ at node $s$; 0 otherwise. $(i,j,s) \\in C_0$ for $w \\in W$ and $u \\in U$.\n",
        "z_t = m.addVars(A_T[1:-1],T, vtype=GRB.INTEGER,lb=1.0,ub= L, name=\"truck order\") #Position of node $i$ in the truck $w$ route. $i \\in C_0$ for $w \\in W$.\n",
        "z_u = m.addVars(A_U[1:-1],U, vtype=GRB.INTEGER,lb=1.0,ub= N, name=\"uav order\") #Position of node $i$ in the uav $t$ route. $i \\in A_T$ for $t \\in T$.\n",
        "r_t = m.addVars(A_T,T, vtype=GRB.CONTINUOUS, lb=0.0, name=\"arrival time truck\") #Arrival time of truck $w$ at node $i$. $i \\in C_0$ for $w \\in W$.\n",
        "p_t = m.addVars(A_T, T, vtype=GRB.CONTINUOUS, lb=0.0, name=\"departure time truck\") #Departure time of truck $w$ from node $i$. $i \\in C_0$ for $w \\in W$.\n",
        "r_u = m.addVars(A_U, U, vtype=GRB.CONTINUOUS, lb=0.0, name=\"arrival time uav\")\n",
        "p_u = m.addVars(A_U, T, vtype=GRB.CONTINUOUS, lb=0.0, name=\"departure time uav\")\n",
        "w = m.addVar(vtype=GRB.CONTINUOUS, lb=0.0, name=\"objective\")"
      ]
    },
    {
      "cell_type": "markdown",
      "metadata": {
        "id": "iWnMEaV-tpc7"
      },
      "source": [
        "# Objective Function\n",
        "\n",
        "Min (Max $(r^t_{it} + r^u_{ju}), \\forall i \\in A^t,\\forall j \\in A^u,\\forall t \\in T,\\forall u \\in U), $"
      ]
    },
    {
      "cell_type": "markdown",
      "metadata": {
        "id": "tYVHH5hytrYP"
      },
      "source": [
        "Min $\\sum_{i \\in A_T} \\sum_{t \\in T} r^{t}_{i}$ (1)\n"
      ]
    },
    {
      "cell_type": "code",
      "execution_count": null,
      "metadata": {
        "id": "5Z49Y9LOdmsm"
      },
      "outputs": [],
      "source": [
        "m.setObjective(w, GRB.MINIMIZE)"
      ]
    },
    {
      "cell_type": "code",
      "execution_count": null,
      "metadata": {
        "colab": {
          "base_uri": "https://localhost:8080/"
        },
        "id": "vAayEdfldmqR",
        "outputId": "b1ca5f67-4ab2-4f7c-eb7d-07f89874ee56"
      },
      "outputs": [
        {
          "output_type": "execute_result",
          "data": {
            "text/plain": [
              "{(1, 1): <gurobi.Constr *Awaiting Model Update*>,\n",
              " (2, 1): <gurobi.Constr *Awaiting Model Update*>,\n",
              " (3, 1): <gurobi.Constr *Awaiting Model Update*>,\n",
              " (4, 1): <gurobi.Constr *Awaiting Model Update*>,\n",
              " (5, 1): <gurobi.Constr *Awaiting Model Update*>,\n",
              " (6, 1): <gurobi.Constr *Awaiting Model Update*>}"
            ]
          },
          "metadata": {},
          "execution_count": 397
        }
      ],
      "source": [
        "m.addConstrs(r_t[i,t] <= w for i in A_T[1:-1] for t in T)\n",
        "m.addConstrs(r_u[i,u] <= w for i in A_U[1:-1] for u in U)"
      ]
    },
    {
      "cell_type": "markdown",
      "metadata": {
        "id": "RB_g4lgMFVYr"
      },
      "source": [
        "# Constraints"
      ]
    },
    {
      "cell_type": "markdown",
      "metadata": {
        "id": "No8z0ByRty-W"
      },
      "source": [
        "$\\sum_{j \\in A_T} x^{t}_{0j} = 1, \\forall t \\in T$  (2)"
      ]
    },
    {
      "cell_type": "code",
      "execution_count": null,
      "metadata": {
        "colab": {
          "base_uri": "https://localhost:8080/"
        },
        "id": "3MUsg3estb6N",
        "outputId": "fb53c1a3-a353-4adf-fdf2-df2f2c5ca5bb"
      },
      "outputs": [
        {
          "output_type": "execute_result",
          "data": {
            "text/plain": [
              "{1: <gurobi.Constr *Awaiting Model Update*>}"
            ]
          },
          "metadata": {},
          "execution_count": 398
        }
      ],
      "source": [
        "m.addConstrs((gp.quicksum(x[0, j, t] for j in A_T[1:-1]) == 1 for t in T), \"DepartsFromDepot\") #done\n",
        "\n",
        "m.addConstrs((gp.quicksum(y[0, j, s, u] for j in A_U[1:-1] for s in A_T[1:]) <= 1 for u in U), \"UAVsFromDepot\") #done"
      ]
    },
    {
      "cell_type": "markdown",
      "metadata": {
        "id": "sKBVnAjatzx4"
      },
      "source": [
        "$\\sum_{i \\in C_T} x^{t}_{i,end} = 1, \\forall t \\in T$ (3)"
      ]
    },
    {
      "cell_type": "code",
      "execution_count": null,
      "metadata": {
        "colab": {
          "base_uri": "https://localhost:8080/"
        },
        "id": "VCXnjPJBtdBb",
        "outputId": "8a3224b3-c7ca-4e4d-f7a9-1f419c084e48"
      },
      "outputs": [
        {
          "output_type": "execute_result",
          "data": {
            "text/plain": [
              "{1: <gurobi.Constr *Awaiting Model Update*>}"
            ]
          },
          "metadata": {},
          "execution_count": 399
        }
      ],
      "source": [
        "m.addConstrs((gp.quicksum(x[i, N, t] for i in A_T[1:-1]) == 1 for t in T), \"ReturnsToDepot\") #done"
      ]
    },
    {
      "cell_type": "markdown",
      "metadata": {
        "id": "v26ohKCxIH1J"
      },
      "source": [
        "explain - truck self return ban"
      ]
    },
    {
      "cell_type": "code",
      "execution_count": null,
      "metadata": {
        "colab": {
          "base_uri": "https://localhost:8080/"
        },
        "id": "McyFpUCpDjnR",
        "outputId": "017a9aac-a317-4bc0-bd2a-bdda14dff5f7"
      },
      "outputs": [
        {
          "output_type": "execute_result",
          "data": {
            "text/plain": [
              "<gurobi.Constr *Awaiting Model Update*>"
            ]
          },
          "metadata": {},
          "execution_count": 400
        }
      ],
      "source": [
        "m.addConstr(gp.quicksum(x[i, j, t] for t in T for i in A_T[1:-1] for j in A_T[1:-1] if i == j) == 0, \"self_return_ban\") #done\n",
        "\n",
        "m.addConstr(gp.quicksum(x[0, N, t] for t in T) == 0, \"self return ban\") #done"
      ]
    },
    {
      "cell_type": "markdown",
      "metadata": {
        "id": "W078EGWxSA_N"
      },
      "source": [
        "explain - uav self return ban"
      ]
    },
    {
      "cell_type": "code",
      "execution_count": null,
      "metadata": {
        "colab": {
          "base_uri": "https://localhost:8080/"
        },
        "id": "S3MAwUNqSBZI",
        "outputId": "0f6416c0-fcf0-485e-8a9b-fc75de302faa"
      },
      "outputs": [
        {
          "output_type": "execute_result",
          "data": {
            "text/plain": [
              "<gurobi.Constr *Awaiting Model Update*>"
            ]
          },
          "metadata": {},
          "execution_count": 401
        }
      ],
      "source": [
        "m.addConstr(gp.quicksum(y[i, j, s, u] for s in A_T[1:] for u in U for i in A_U[1:-1] for j in A_U[1:-1] if i == j ) == 0, \"self return ban\") #done\n",
        "\n",
        "m.addConstr(gp.quicksum(y[0, N, s, u] for s in A_T[1:] for u in U) == 0, \"self return ban\") #done"
      ]
    },
    {
      "cell_type": "markdown",
      "metadata": {
        "id": "rfS_QQlJDyS5"
      },
      "source": [
        "$\\sum_{g \\in A_T \\atop g \\neq i} x^{t}_{gi} = \\sum_{j \\in A_U \\atop j \\neq i} x^{t}_{ij}, \\forall i \\in A_T, \\forall t \\in T,$ (4)"
      ]
    },
    {
      "cell_type": "code",
      "execution_count": null,
      "metadata": {
        "colab": {
          "base_uri": "https://localhost:8080/"
        },
        "id": "4d2fZmGaD2VA",
        "outputId": "6354347f-9147-48c6-a947-f57069a1629c"
      },
      "outputs": [
        {
          "output_type": "execute_result",
          "data": {
            "text/plain": [
              "{(1, 1): <gurobi.Constr *Awaiting Model Update*>,\n",
              " (2, 1): <gurobi.Constr *Awaiting Model Update*>,\n",
              " (3, 1): <gurobi.Constr *Awaiting Model Update*>}"
            ]
          },
          "metadata": {},
          "execution_count": 402
        }
      ],
      "source": [
        "m.addConstrs((gp.quicksum(x[g, i, t] for g in A_T[:-1] if g != i) == gp.quicksum(x[i, j, t] for j in A_T[1:] if j != i) for i in A_T[1:-1] for t in T), \"FlowConservationTruck\") #probably this forces to visit the depote at the end"
      ]
    },
    {
      "cell_type": "markdown",
      "source": [
        "This sets if s is set equal for all or not"
      ],
      "metadata": {
        "id": "ebIH32Ow-u3u"
      }
    },
    {
      "cell_type": "code",
      "execution_count": null,
      "metadata": {
        "colab": {
          "base_uri": "https://localhost:8080/"
        },
        "collapsed": true,
        "id": "YCwIMgBMIigS",
        "outputId": "5f524324-f4fd-4773-97ca-d6a055621728"
      },
      "outputs": [
        {
          "output_type": "execute_result",
          "data": {
            "text/plain": [
              "{(1, 1): <gurobi.Constr *Awaiting Model Update*>,\n",
              " (2, 1): <gurobi.Constr *Awaiting Model Update*>,\n",
              " (3, 1): <gurobi.Constr *Awaiting Model Update*>,\n",
              " (4, 1): <gurobi.Constr *Awaiting Model Update*>,\n",
              " (5, 1): <gurobi.Constr *Awaiting Model Update*>,\n",
              " (6, 1): <gurobi.Constr *Awaiting Model Update*>}"
            ]
          },
          "metadata": {},
          "execution_count": 403
        }
      ],
      "source": [
        "# m.addConstrs((gp.quicksum(y[g, i, s, u] for g in A_U[:-1] if g != i) == gp.quicksum(y[i, j, s, u] for j in A_U[1:] if j != i) for i in A_U[1:-1] for s in A_T[1:] for u in U), \"FlowConservationUAV\")  #probably this forces to visit the depote at the end\n",
        "m.addConstrs((gp.quicksum(y[g, i, s, u] for g in A_U[:-1] if g != i for s in A_T[1:]) == gp.quicksum(y[i, j, s, u] for j in A_U[1:] if j != i for s in A_T[1:]) for i in A_U[1:-1] for u in U), \"FlowConservationUAV\")  #probably this forces to visit the depote at the end\n"
      ]
    },
    {
      "cell_type": "markdown",
      "source": [],
      "metadata": {
        "id": "Np3vF4k2G8NU"
      }
    },
    {
      "cell_type": "markdown",
      "metadata": {
        "id": "-qIw8oExJKdq"
      },
      "source": [
        "$\\sum_{i \\in A_T \\atop i \\neq j} \\sum_{t \\in T} x^{t}_{ij} + \\sum_{i \\in A_U \\atop i \\neq j} \\sum_{s \\in A_E} \\sum_{u \\in U} y^{ut}_{ijs} = 1, \\forall j \\in A_T,$ (5)\n",
        "\n",
        "\n",
        "it is only for nodes A_T. we should another one only for nodes unique for A_U (A_U - A_T)"
      ]
    },
    {
      "cell_type": "code",
      "execution_count": null,
      "metadata": {
        "colab": {
          "base_uri": "https://localhost:8080/"
        },
        "id": "VCLyybkShnBM",
        "outputId": "229a7ead-c834-49a1-9ce0-73e0e3df9328"
      },
      "outputs": [
        {
          "output_type": "execute_result",
          "data": {
            "text/plain": [
              "{1: <gurobi.Constr *Awaiting Model Update*>,\n",
              " 2: <gurobi.Constr *Awaiting Model Update*>,\n",
              " 3: <gurobi.Constr *Awaiting Model Update*>}"
            ]
          },
          "metadata": {},
          "execution_count": 404
        }
      ],
      "source": [
        "# m.addConstrs((gp.quicksum(x[i, j, t] for i in A_T[:-1] if i != j for t in T) + gp.quicksum(y[g, j, s, u] for g in A_U[:-1] if g != j for s in A_T[1:] for u in U) == 1 for j in A_T[1:-1]), \"VisitOnce - Truck or UAV\")\n",
        "\n",
        "# # Original constraint, but exclude the case when j == s\n",
        "m.addConstrs((gp.quicksum(x[i, j, t] for i in A_T[:-1] if i != j for t in T) + gp.quicksum(y[g, j, s, u] for g in A_U[:-1] if g != j for s in A_T[1:] if s != j for u in U) == 1 for j in A_T[1:-1]), \"VisitOnce Truck or UAV\")\n",
        "\n",
        "# # New constraint for j == s, allowing both x and y to be 1 simultaneously when j == s\n",
        "# m.addConstrs((gp.quicksum(x[i, j, t] for i in A_T[:-1] if i != j for t in T) + gp.quicksum(y[g, j, s, u] for g in A_U[:-1] if g != j for s in A_T[1:] if s == j for u in U) == 2 for j in A_T[1:-1]), \"VisitOnce Truck or UAV\")\n",
        "\n"
      ]
    },
    {
      "cell_type": "markdown",
      "metadata": {
        "id": "w5gfx6OrnRuG"
      },
      "source": [
        "it is only for nodes A_T. we should another one only for nodes unique for A_U (A_U - A_T)"
      ]
    },
    {
      "cell_type": "code",
      "execution_count": null,
      "metadata": {
        "colab": {
          "base_uri": "https://localhost:8080/"
        },
        "id": "59iJF1NKnQ_W",
        "outputId": "a5c01bd9-d81e-4ed3-d17a-8ab1c5db4992"
      },
      "outputs": [
        {
          "output_type": "execute_result",
          "data": {
            "text/plain": [
              "{4: <gurobi.Constr *Awaiting Model Update*>,\n",
              " 5: <gurobi.Constr *Awaiting Model Update*>,\n",
              " 6: <gurobi.Constr *Awaiting Model Update*>}"
            ]
          },
          "metadata": {},
          "execution_count": 405
        }
      ],
      "source": [
        "m.addConstrs((gp.quicksum(y[i, j, s, t] for i in A_U[:-1] if i != j for s in A_T[1:] for t in T) == 1 for j in  list(set(A_U) - set(A_T))), \"VisitOnce - UAV\")\n"
      ]
    },
    {
      "cell_type": "markdown",
      "metadata": {
        "id": "uObbzQ8adamY"
      },
      "source": [
        "$1 - (c + 2)(1 - x^{w}_{ij}) \\leq z_j - z^{w}_{i}, \\forall i \\in C_T, \\forall j \\in C_E, i \\neq j, \\forall w \\in W$ (17)\n",
        "\n",
        "\n",
        "MTZ for truck"
      ]
    },
    {
      "cell_type": "code",
      "execution_count": null,
      "metadata": {
        "colab": {
          "base_uri": "https://localhost:8080/"
        },
        "collapsed": true,
        "id": "TcaIz7rO4jiD",
        "outputId": "f634cb5c-b994-43d4-a0e3-e0c3c165dc27"
      },
      "outputs": [
        {
          "output_type": "execute_result",
          "data": {
            "text/plain": [
              "{(1, 2, 1): <gurobi.Constr *Awaiting Model Update*>,\n",
              " (1, 3, 1): <gurobi.Constr *Awaiting Model Update*>,\n",
              " (2, 1, 1): <gurobi.Constr *Awaiting Model Update*>,\n",
              " (2, 3, 1): <gurobi.Constr *Awaiting Model Update*>,\n",
              " (3, 1, 1): <gurobi.Constr *Awaiting Model Update*>,\n",
              " (3, 2, 1): <gurobi.Constr *Awaiting Model Update*>}"
            ]
          },
          "metadata": {},
          "execution_count": 406
        }
      ],
      "source": [
        "m.addConstrs(z_t[i,t] - z_t[j,t] + (L) * x[i,j,t] <= L - 1 for i in A_T[1:-1] for j in A_T[1:-1] if i != j for t in T)"
      ]
    },
    {
      "cell_type": "markdown",
      "metadata": {
        "id": "N_hV8pdrZehK"
      },
      "source": [
        "$(c+2) - 1 \\leq z_{i} - z_{j} + (c+2) y^{uw}_{ij}, \\forall i \\in C_{0}, \\forall j \\in C_E, \\forall u \\in U, \\forall w \\in W,$ (16)\n",
        "\n",
        "\n",
        "MTZ for UAV"
      ]
    },
    {
      "cell_type": "code",
      "execution_count": null,
      "metadata": {
        "colab": {
          "base_uri": "https://localhost:8080/"
        },
        "collapsed": true,
        "id": "9nOnWafHZepx",
        "outputId": "73013d0a-3e32-415c-d48f-f4c04f6fc5a1"
      },
      "outputs": [
        {
          "output_type": "execute_result",
          "data": {
            "text/plain": [
              "{(1, 2, 1, 1): <gurobi.Constr *Awaiting Model Update*>,\n",
              " (1, 2, 2, 1): <gurobi.Constr *Awaiting Model Update*>,\n",
              " (1, 2, 3, 1): <gurobi.Constr *Awaiting Model Update*>,\n",
              " (1, 2, 7, 1): <gurobi.Constr *Awaiting Model Update*>,\n",
              " (1, 3, 1, 1): <gurobi.Constr *Awaiting Model Update*>,\n",
              " (1, 3, 2, 1): <gurobi.Constr *Awaiting Model Update*>,\n",
              " (1, 3, 3, 1): <gurobi.Constr *Awaiting Model Update*>,\n",
              " (1, 3, 7, 1): <gurobi.Constr *Awaiting Model Update*>,\n",
              " (1, 4, 1, 1): <gurobi.Constr *Awaiting Model Update*>,\n",
              " (1, 4, 2, 1): <gurobi.Constr *Awaiting Model Update*>,\n",
              " (1, 4, 3, 1): <gurobi.Constr *Awaiting Model Update*>,\n",
              " (1, 4, 7, 1): <gurobi.Constr *Awaiting Model Update*>,\n",
              " (1, 5, 1, 1): <gurobi.Constr *Awaiting Model Update*>,\n",
              " (1, 5, 2, 1): <gurobi.Constr *Awaiting Model Update*>,\n",
              " (1, 5, 3, 1): <gurobi.Constr *Awaiting Model Update*>,\n",
              " (1, 5, 7, 1): <gurobi.Constr *Awaiting Model Update*>,\n",
              " (1, 6, 1, 1): <gurobi.Constr *Awaiting Model Update*>,\n",
              " (1, 6, 2, 1): <gurobi.Constr *Awaiting Model Update*>,\n",
              " (1, 6, 3, 1): <gurobi.Constr *Awaiting Model Update*>,\n",
              " (1, 6, 7, 1): <gurobi.Constr *Awaiting Model Update*>,\n",
              " (2, 1, 1, 1): <gurobi.Constr *Awaiting Model Update*>,\n",
              " (2, 1, 2, 1): <gurobi.Constr *Awaiting Model Update*>,\n",
              " (2, 1, 3, 1): <gurobi.Constr *Awaiting Model Update*>,\n",
              " (2, 1, 7, 1): <gurobi.Constr *Awaiting Model Update*>,\n",
              " (2, 3, 1, 1): <gurobi.Constr *Awaiting Model Update*>,\n",
              " (2, 3, 2, 1): <gurobi.Constr *Awaiting Model Update*>,\n",
              " (2, 3, 3, 1): <gurobi.Constr *Awaiting Model Update*>,\n",
              " (2, 3, 7, 1): <gurobi.Constr *Awaiting Model Update*>,\n",
              " (2, 4, 1, 1): <gurobi.Constr *Awaiting Model Update*>,\n",
              " (2, 4, 2, 1): <gurobi.Constr *Awaiting Model Update*>,\n",
              " (2, 4, 3, 1): <gurobi.Constr *Awaiting Model Update*>,\n",
              " (2, 4, 7, 1): <gurobi.Constr *Awaiting Model Update*>,\n",
              " (2, 5, 1, 1): <gurobi.Constr *Awaiting Model Update*>,\n",
              " (2, 5, 2, 1): <gurobi.Constr *Awaiting Model Update*>,\n",
              " (2, 5, 3, 1): <gurobi.Constr *Awaiting Model Update*>,\n",
              " (2, 5, 7, 1): <gurobi.Constr *Awaiting Model Update*>,\n",
              " (2, 6, 1, 1): <gurobi.Constr *Awaiting Model Update*>,\n",
              " (2, 6, 2, 1): <gurobi.Constr *Awaiting Model Update*>,\n",
              " (2, 6, 3, 1): <gurobi.Constr *Awaiting Model Update*>,\n",
              " (2, 6, 7, 1): <gurobi.Constr *Awaiting Model Update*>,\n",
              " (3, 1, 1, 1): <gurobi.Constr *Awaiting Model Update*>,\n",
              " (3, 1, 2, 1): <gurobi.Constr *Awaiting Model Update*>,\n",
              " (3, 1, 3, 1): <gurobi.Constr *Awaiting Model Update*>,\n",
              " (3, 1, 7, 1): <gurobi.Constr *Awaiting Model Update*>,\n",
              " (3, 2, 1, 1): <gurobi.Constr *Awaiting Model Update*>,\n",
              " (3, 2, 2, 1): <gurobi.Constr *Awaiting Model Update*>,\n",
              " (3, 2, 3, 1): <gurobi.Constr *Awaiting Model Update*>,\n",
              " (3, 2, 7, 1): <gurobi.Constr *Awaiting Model Update*>,\n",
              " (3, 4, 1, 1): <gurobi.Constr *Awaiting Model Update*>,\n",
              " (3, 4, 2, 1): <gurobi.Constr *Awaiting Model Update*>,\n",
              " (3, 4, 3, 1): <gurobi.Constr *Awaiting Model Update*>,\n",
              " (3, 4, 7, 1): <gurobi.Constr *Awaiting Model Update*>,\n",
              " (3, 5, 1, 1): <gurobi.Constr *Awaiting Model Update*>,\n",
              " (3, 5, 2, 1): <gurobi.Constr *Awaiting Model Update*>,\n",
              " (3, 5, 3, 1): <gurobi.Constr *Awaiting Model Update*>,\n",
              " (3, 5, 7, 1): <gurobi.Constr *Awaiting Model Update*>,\n",
              " (3, 6, 1, 1): <gurobi.Constr *Awaiting Model Update*>,\n",
              " (3, 6, 2, 1): <gurobi.Constr *Awaiting Model Update*>,\n",
              " (3, 6, 3, 1): <gurobi.Constr *Awaiting Model Update*>,\n",
              " (3, 6, 7, 1): <gurobi.Constr *Awaiting Model Update*>,\n",
              " (4, 1, 1, 1): <gurobi.Constr *Awaiting Model Update*>,\n",
              " (4, 1, 2, 1): <gurobi.Constr *Awaiting Model Update*>,\n",
              " (4, 1, 3, 1): <gurobi.Constr *Awaiting Model Update*>,\n",
              " (4, 1, 7, 1): <gurobi.Constr *Awaiting Model Update*>,\n",
              " (4, 2, 1, 1): <gurobi.Constr *Awaiting Model Update*>,\n",
              " (4, 2, 2, 1): <gurobi.Constr *Awaiting Model Update*>,\n",
              " (4, 2, 3, 1): <gurobi.Constr *Awaiting Model Update*>,\n",
              " (4, 2, 7, 1): <gurobi.Constr *Awaiting Model Update*>,\n",
              " (4, 3, 1, 1): <gurobi.Constr *Awaiting Model Update*>,\n",
              " (4, 3, 2, 1): <gurobi.Constr *Awaiting Model Update*>,\n",
              " (4, 3, 3, 1): <gurobi.Constr *Awaiting Model Update*>,\n",
              " (4, 3, 7, 1): <gurobi.Constr *Awaiting Model Update*>,\n",
              " (4, 5, 1, 1): <gurobi.Constr *Awaiting Model Update*>,\n",
              " (4, 5, 2, 1): <gurobi.Constr *Awaiting Model Update*>,\n",
              " (4, 5, 3, 1): <gurobi.Constr *Awaiting Model Update*>,\n",
              " (4, 5, 7, 1): <gurobi.Constr *Awaiting Model Update*>,\n",
              " (4, 6, 1, 1): <gurobi.Constr *Awaiting Model Update*>,\n",
              " (4, 6, 2, 1): <gurobi.Constr *Awaiting Model Update*>,\n",
              " (4, 6, 3, 1): <gurobi.Constr *Awaiting Model Update*>,\n",
              " (4, 6, 7, 1): <gurobi.Constr *Awaiting Model Update*>,\n",
              " (5, 1, 1, 1): <gurobi.Constr *Awaiting Model Update*>,\n",
              " (5, 1, 2, 1): <gurobi.Constr *Awaiting Model Update*>,\n",
              " (5, 1, 3, 1): <gurobi.Constr *Awaiting Model Update*>,\n",
              " (5, 1, 7, 1): <gurobi.Constr *Awaiting Model Update*>,\n",
              " (5, 2, 1, 1): <gurobi.Constr *Awaiting Model Update*>,\n",
              " (5, 2, 2, 1): <gurobi.Constr *Awaiting Model Update*>,\n",
              " (5, 2, 3, 1): <gurobi.Constr *Awaiting Model Update*>,\n",
              " (5, 2, 7, 1): <gurobi.Constr *Awaiting Model Update*>,\n",
              " (5, 3, 1, 1): <gurobi.Constr *Awaiting Model Update*>,\n",
              " (5, 3, 2, 1): <gurobi.Constr *Awaiting Model Update*>,\n",
              " (5, 3, 3, 1): <gurobi.Constr *Awaiting Model Update*>,\n",
              " (5, 3, 7, 1): <gurobi.Constr *Awaiting Model Update*>,\n",
              " (5, 4, 1, 1): <gurobi.Constr *Awaiting Model Update*>,\n",
              " (5, 4, 2, 1): <gurobi.Constr *Awaiting Model Update*>,\n",
              " (5, 4, 3, 1): <gurobi.Constr *Awaiting Model Update*>,\n",
              " (5, 4, 7, 1): <gurobi.Constr *Awaiting Model Update*>,\n",
              " (5, 6, 1, 1): <gurobi.Constr *Awaiting Model Update*>,\n",
              " (5, 6, 2, 1): <gurobi.Constr *Awaiting Model Update*>,\n",
              " (5, 6, 3, 1): <gurobi.Constr *Awaiting Model Update*>,\n",
              " (5, 6, 7, 1): <gurobi.Constr *Awaiting Model Update*>,\n",
              " (6, 1, 1, 1): <gurobi.Constr *Awaiting Model Update*>,\n",
              " (6, 1, 2, 1): <gurobi.Constr *Awaiting Model Update*>,\n",
              " (6, 1, 3, 1): <gurobi.Constr *Awaiting Model Update*>,\n",
              " (6, 1, 7, 1): <gurobi.Constr *Awaiting Model Update*>,\n",
              " (6, 2, 1, 1): <gurobi.Constr *Awaiting Model Update*>,\n",
              " (6, 2, 2, 1): <gurobi.Constr *Awaiting Model Update*>,\n",
              " (6, 2, 3, 1): <gurobi.Constr *Awaiting Model Update*>,\n",
              " (6, 2, 7, 1): <gurobi.Constr *Awaiting Model Update*>,\n",
              " (6, 3, 1, 1): <gurobi.Constr *Awaiting Model Update*>,\n",
              " (6, 3, 2, 1): <gurobi.Constr *Awaiting Model Update*>,\n",
              " (6, 3, 3, 1): <gurobi.Constr *Awaiting Model Update*>,\n",
              " (6, 3, 7, 1): <gurobi.Constr *Awaiting Model Update*>,\n",
              " (6, 4, 1, 1): <gurobi.Constr *Awaiting Model Update*>,\n",
              " (6, 4, 2, 1): <gurobi.Constr *Awaiting Model Update*>,\n",
              " (6, 4, 3, 1): <gurobi.Constr *Awaiting Model Update*>,\n",
              " (6, 4, 7, 1): <gurobi.Constr *Awaiting Model Update*>,\n",
              " (6, 5, 1, 1): <gurobi.Constr *Awaiting Model Update*>,\n",
              " (6, 5, 2, 1): <gurobi.Constr *Awaiting Model Update*>,\n",
              " (6, 5, 3, 1): <gurobi.Constr *Awaiting Model Update*>,\n",
              " (6, 5, 7, 1): <gurobi.Constr *Awaiting Model Update*>}"
            ]
          },
          "metadata": {},
          "execution_count": 407
        }
      ],
      "source": [
        "m.addConstrs((z_u[i, u] - z_u[j, u] + (N) * y[i, j, s, u] <= N - 1 for i in A_U[1:-1] for j in A_U[1:-1] if i!= j for s in A_T[1:] for u in U))"
      ]
    },
    {
      "cell_type": "markdown",
      "metadata": {
        "id": "O-I2AjbjRl6O"
      },
      "source": [
        "$\\sum_{h \\in A_T \\atop h \\neq i} x_{hi} + \\sum_{g \\in A_E \\atop g \\neq s} x_{gs} \\geq 2 \\sum_{j \\in A_U} y^{ut}_{ijs}, \\forall i \\in A_T, \\forall s \\in A_E, \\forall u \\in U,$ (6)\n",
        "\n",
        "$\\sum_{j \\in C_D} y^{uw}_{0js} \\leq \\sum_{g \\in C_T \\atop g \\neq s} x_{gs}, \\forall s \\in C_E, \\forall u \\in U,$ (7)\n",
        "\n",
        "\n",
        "limit of visiting one node per tour by UAV\n",
        "\n",
        "must have more constrs for two and three visits"
      ]
    },
    {
      "cell_type": "code",
      "execution_count": null,
      "metadata": {
        "id": "zhhkj2DNRmKP"
      },
      "outputs": [],
      "source": [
        "# m.addConstrs((gp.quicksum(x[h, i, t] for h in A_T[:-1] if h != i) + gp.quicksum(x[g, s, t] for g in A_T[:-1] if g != s) >= 2 * gp.quicksum(y[i, j, s, t] for j in A_U[1:]) for i in A_T[1:-1] for s in A_T[1:] for t in T)) # this is just for S\n",
        "\n",
        "# m.addConstrs((gp.quicksum(y[0, j, s, t] for j in A_U[1:]) <= gp.quicksum(x[g, s, t] for g in A_T[:-1] if g != s) for s in A_T[1:] for t in T), \"UAVRouteConsistency\") # this is just for S\n"
      ]
    },
    {
      "cell_type": "markdown",
      "metadata": {
        "id": "fWXSj49_IbYN"
      },
      "source": [
        " $r^{t}_{j} + d_{ij} - (1 - x^{t}_{ij}) M \\leq p^{t}_{j}, \\forall i \\in A_T, \\forall j \\in A_E, i \\neq j,$ (8)\n"
      ]
    },
    {
      "cell_type": "code",
      "execution_count": null,
      "metadata": {
        "colab": {
          "base_uri": "https://localhost:8080/"
        },
        "id": "ysx5ROcEIbqE",
        "outputId": "508abab5-4a1a-4c58-aac8-78ab45cd6feb"
      },
      "outputs": [
        {
          "output_type": "execute_result",
          "data": {
            "text/plain": [
              "{(0, 1, 1): <gurobi.Constr *Awaiting Model Update*>,\n",
              " (0, 2, 1): <gurobi.Constr *Awaiting Model Update*>,\n",
              " (0, 3, 1): <gurobi.Constr *Awaiting Model Update*>,\n",
              " (0, 7, 1): <gurobi.Constr *Awaiting Model Update*>,\n",
              " (1, 2, 1): <gurobi.Constr *Awaiting Model Update*>,\n",
              " (1, 3, 1): <gurobi.Constr *Awaiting Model Update*>,\n",
              " (1, 7, 1): <gurobi.Constr *Awaiting Model Update*>,\n",
              " (2, 1, 1): <gurobi.Constr *Awaiting Model Update*>,\n",
              " (2, 3, 1): <gurobi.Constr *Awaiting Model Update*>,\n",
              " (2, 7, 1): <gurobi.Constr *Awaiting Model Update*>,\n",
              " (3, 1, 1): <gurobi.Constr *Awaiting Model Update*>,\n",
              " (3, 2, 1): <gurobi.Constr *Awaiting Model Update*>,\n",
              " (3, 7, 1): <gurobi.Constr *Awaiting Model Update*>}"
            ]
          },
          "metadata": {},
          "execution_count": 409
        }
      ],
      "source": [
        "m.addConstrs((p_t[i, t] + d_t.iloc[i, j] - (1 - x[i, j, t]) * M <= r_t[j, t] for i in A_T[:-1] for j in A_T[1:] if i != j for t in T), \"TruckArrivalTime\")"
      ]
    },
    {
      "cell_type": "markdown",
      "metadata": {
        "id": "GqgLEbUOMLuN"
      },
      "source": [
        "$\\tilde{t}^{u}_{i} + \\bar{d}_{ij} - (1 - \\sum_{s \\in C_E \\atop s \\neq j} y^{uw}_{ijs}) M \\leq \\tilde{l}^{u}_{j}, \\forall i \\in C_D, \\forall j \\in C, \\forall u \\in U,$ (9)"
      ]
    },
    {
      "cell_type": "code",
      "execution_count": null,
      "metadata": {
        "colab": {
          "base_uri": "https://localhost:8080/"
        },
        "id": "47kL1k8tML2t",
        "outputId": "0bb6ee1d-743b-429e-8647-4b67153a7fce"
      },
      "outputs": [
        {
          "output_type": "execute_result",
          "data": {
            "text/plain": [
              "{(0, 1, 1): <gurobi.Constr *Awaiting Model Update*>,\n",
              " (0, 2, 1): <gurobi.Constr *Awaiting Model Update*>,\n",
              " (0, 3, 1): <gurobi.Constr *Awaiting Model Update*>,\n",
              " (0, 4, 1): <gurobi.Constr *Awaiting Model Update*>,\n",
              " (0, 5, 1): <gurobi.Constr *Awaiting Model Update*>,\n",
              " (0, 6, 1): <gurobi.Constr *Awaiting Model Update*>,\n",
              " (0, 7, 1): <gurobi.Constr *Awaiting Model Update*>,\n",
              " (1, 2, 1): <gurobi.Constr *Awaiting Model Update*>,\n",
              " (1, 3, 1): <gurobi.Constr *Awaiting Model Update*>,\n",
              " (1, 4, 1): <gurobi.Constr *Awaiting Model Update*>,\n",
              " (1, 5, 1): <gurobi.Constr *Awaiting Model Update*>,\n",
              " (1, 6, 1): <gurobi.Constr *Awaiting Model Update*>,\n",
              " (1, 7, 1): <gurobi.Constr *Awaiting Model Update*>,\n",
              " (2, 1, 1): <gurobi.Constr *Awaiting Model Update*>,\n",
              " (2, 3, 1): <gurobi.Constr *Awaiting Model Update*>,\n",
              " (2, 4, 1): <gurobi.Constr *Awaiting Model Update*>,\n",
              " (2, 5, 1): <gurobi.Constr *Awaiting Model Update*>,\n",
              " (2, 6, 1): <gurobi.Constr *Awaiting Model Update*>,\n",
              " (2, 7, 1): <gurobi.Constr *Awaiting Model Update*>,\n",
              " (3, 1, 1): <gurobi.Constr *Awaiting Model Update*>,\n",
              " (3, 2, 1): <gurobi.Constr *Awaiting Model Update*>,\n",
              " (3, 4, 1): <gurobi.Constr *Awaiting Model Update*>,\n",
              " (3, 5, 1): <gurobi.Constr *Awaiting Model Update*>,\n",
              " (3, 6, 1): <gurobi.Constr *Awaiting Model Update*>,\n",
              " (3, 7, 1): <gurobi.Constr *Awaiting Model Update*>,\n",
              " (4, 1, 1): <gurobi.Constr *Awaiting Model Update*>,\n",
              " (4, 2, 1): <gurobi.Constr *Awaiting Model Update*>,\n",
              " (4, 3, 1): <gurobi.Constr *Awaiting Model Update*>,\n",
              " (4, 5, 1): <gurobi.Constr *Awaiting Model Update*>,\n",
              " (4, 6, 1): <gurobi.Constr *Awaiting Model Update*>,\n",
              " (4, 7, 1): <gurobi.Constr *Awaiting Model Update*>,\n",
              " (5, 1, 1): <gurobi.Constr *Awaiting Model Update*>,\n",
              " (5, 2, 1): <gurobi.Constr *Awaiting Model Update*>,\n",
              " (5, 3, 1): <gurobi.Constr *Awaiting Model Update*>,\n",
              " (5, 4, 1): <gurobi.Constr *Awaiting Model Update*>,\n",
              " (5, 6, 1): <gurobi.Constr *Awaiting Model Update*>,\n",
              " (5, 7, 1): <gurobi.Constr *Awaiting Model Update*>,\n",
              " (6, 1, 1): <gurobi.Constr *Awaiting Model Update*>,\n",
              " (6, 2, 1): <gurobi.Constr *Awaiting Model Update*>,\n",
              " (6, 3, 1): <gurobi.Constr *Awaiting Model Update*>,\n",
              " (6, 4, 1): <gurobi.Constr *Awaiting Model Update*>,\n",
              " (6, 5, 1): <gurobi.Constr *Awaiting Model Update*>,\n",
              " (6, 7, 1): <gurobi.Constr *Awaiting Model Update*>}"
            ]
          },
          "metadata": {},
          "execution_count": 410
        }
      ],
      "source": [
        "m.addConstrs((p_u[i, u] + d_u.iloc[i, j] - (1 - gp.quicksum(y[i, j, s, u] for s in A_T[1:])) * M <= r_u[j, u] for i in A_U[:-1] for j in A_U[1:] if i != j for u in U), \"UAVArrivalTime\")"
      ]
    },
    {
      "cell_type": "markdown",
      "metadata": {
        "id": "MMbdpq0qNr_K"
      },
      "source": [
        "${p}^{u}_{i} \\leq {r}^{u}_{i}, \\forall i \\in {A}_{U}, \\forall u \\in U,$ (10)"
      ]
    },
    {
      "cell_type": "code",
      "execution_count": null,
      "metadata": {
        "colab": {
          "base_uri": "https://localhost:8080/"
        },
        "id": "f4JssxbnNr2p",
        "outputId": "3cd740e9-fdf2-4fc9-c2a6-0f50c9f902f9"
      },
      "outputs": [
        {
          "output_type": "execute_result",
          "data": {
            "text/plain": [
              "{(1, 1): <gurobi.Constr *Awaiting Model Update*>,\n",
              " (2, 1): <gurobi.Constr *Awaiting Model Update*>,\n",
              " (3, 1): <gurobi.Constr *Awaiting Model Update*>,\n",
              " (4, 1): <gurobi.Constr *Awaiting Model Update*>,\n",
              " (5, 1): <gurobi.Constr *Awaiting Model Update*>,\n",
              " (6, 1): <gurobi.Constr *Awaiting Model Update*>}"
            ]
          },
          "metadata": {},
          "execution_count": 411
        }
      ],
      "source": [
        "m.addConstrs((r_u[i, t] <= p_u[i, t] for i in A_U[1:-1] for t in T), \"UAVDepartureTime\")"
      ]
    },
    {
      "cell_type": "markdown",
      "metadata": {
        "id": "w9I4DaY_KPC5"
      },
      "source": [
        "$p^{t}_{i} \\leq r^{t}_{j}, \\forall i \\in A_T, \\forall t \\in W,$ (11)"
      ]
    },
    {
      "cell_type": "code",
      "execution_count": null,
      "metadata": {
        "colab": {
          "base_uri": "https://localhost:8080/"
        },
        "id": "SbMIoC9CJLZj",
        "outputId": "3f4f9297-7dd3-4414-f8ff-850207b21768"
      },
      "outputs": [
        {
          "output_type": "execute_result",
          "data": {
            "text/plain": [
              "{(1, 1): <gurobi.Constr *Awaiting Model Update*>,\n",
              " (2, 1): <gurobi.Constr *Awaiting Model Update*>,\n",
              " (3, 1): <gurobi.Constr *Awaiting Model Update*>}"
            ]
          },
          "metadata": {},
          "execution_count": 412
        }
      ],
      "source": [
        "m.addConstrs((r_t[i, t] <= p_t[i, t] for i in A_T[1:-1] for t in T), \"TruckDepartureTime\")"
      ]
    },
    {
      "cell_type": "markdown",
      "metadata": {
        "id": "xavf6doGOOzh"
      },
      "source": [
        "$\\tilde{t}^{u}_{i} - (1 - \\sum_{j \\in C \\atop j \\neq i} \\sum_{s \\in C_E} y^{uw}_{ijs}) M \\leq l^{w}_{j}, \\forall i \\in C_D, \\forall u \\in U, \\forall w \\in W,$ (12)\n",
        "\n",
        "UAV must depart from node i after truck arrives there"
      ]
    },
    {
      "cell_type": "code",
      "execution_count": null,
      "metadata": {
        "colab": {
          "base_uri": "https://localhost:8080/"
        },
        "id": "4NfpSsV1OO64",
        "outputId": "38cc6988-b4db-4530-81b3-b5e769ded300"
      },
      "outputs": [
        {
          "output_type": "execute_result",
          "data": {
            "text/plain": [
              "{(0, 1): <gurobi.Constr *Awaiting Model Update*>,\n",
              " (1, 1): <gurobi.Constr *Awaiting Model Update*>,\n",
              " (2, 1): <gurobi.Constr *Awaiting Model Update*>,\n",
              " (3, 1): <gurobi.Constr *Awaiting Model Update*>}"
            ]
          },
          "metadata": {},
          "execution_count": 413
        }
      ],
      "source": [
        "m.addConstrs((r_t[i, t] - (1 - gp.quicksum(y[i, g, s, t] for g in A_U[1:] if g != i for s in A_T[1:])) * M <= p_u[i, t] for i in A_T[:-1] for t in T), \"UAVReturnTime1\")"
      ]
    },
    {
      "cell_type": "markdown",
      "metadata": {
        "id": "2CfR9XmjXx8M"
      },
      "source": [
        "$l^{w}_{s} + \\bar{d}_{js} - (1 - \\sum_{i \\in C_D \\atop i \\neq j} y^{uw}_{ijs}) M \\leq \\tilde{t}^{u}_{j}, \\forall j \\in C, \\forall s \\in C_E, \\forall u \\in U, \\forall w \\in W,$ (13)\n",
        "\n",
        "UAV must arrive to the intermeeting point s after it's truck"
      ]
    },
    {
      "cell_type": "code",
      "execution_count": null,
      "metadata": {
        "id": "o642cKAyo4o9"
      },
      "outputs": [],
      "source": [
        "# m.addConstrs((r_t[s, t] - (1 - y[i, s, s, t] ) * M <= p_u[i, t] + d_u.iloc[i, s] for i in A_U[:-1] for s in A_T[1:] for t in T if i != s) , \"UAVReturnTime2\")\n",
        "\n",
        "###### why do we need an extra cons. for S # we may dont need it"
      ]
    },
    {
      "cell_type": "markdown",
      "metadata": {
        "id": "dw8N0lV6PTcq"
      },
      "source": [
        "$t^{w}_{i} - (1 - \\sum_{j \\in C \\atop j \\neq i} \\sum_{s \\in C_E} y^{uw}_{ijs}) M \\leq \\tilde{t}^{u}_{i}, \\forall i \\in C_D, \\forall u \\in U,$ (14)\n",
        "\n",
        "wrong and rep - when truck arives to a node, uav can fly even before truck's departure\n",
        "\n",
        "(14) say uav must fly after truck's departure"
      ]
    },
    {
      "cell_type": "markdown",
      "metadata": {
        "id": "bUTJVsp3WaE4"
      },
      "source": [
        "$\\tilde{t}^{u}_{j} + \\bar{d}_{js} - \\left(2 - \\sum_{i \\in C_D \\atop i \\neq j} y^{uw}_{ijs} - \\sum_{v \\in C \\atop v \\neq s} \\sum_{h \\in C_E \\atop h \\neq j} y^{uw}_{vsh}\\right) M \\leq \\tilde{l}_{su}, \\forall s \\in C_E, \\forall j \\in C, \\forall u \\in U,$ (15)"
      ]
    },
    {
      "cell_type": "code",
      "execution_count": null,
      "metadata": {
        "id": "bvp6EwnlWaP3"
      },
      "outputs": [],
      "source": [
        "# m.addConstrs((p_u[j, u] + d_u.iloc[j, s] - (1 - y[j, s, s, u]) * M <= r_u[s, u] for s in A_T[1:] for j in A_U[1:-1] for u in U), \"UAVReturnTime4\") #obviously to set S\n",
        "\n",
        "####### REP #########\n",
        "\n"
      ]
    },
    {
      "cell_type": "markdown",
      "metadata": {
        "id": "LBeqU_tQQ6Wo"
      },
      "source": [
        "$\\sum_{j \\in A} y^{uw}_{ijs} \\leq q, \\forall i \\in A, \\forall s \\in A_E,$ (23)"
      ]
    },
    {
      "cell_type": "code",
      "source": [
        "m.addConstrs((gp.quicksum(y[i, j, s, u] for i in A_U[:-1] for j in A_U[1:] if i != j and s != j) <= q for u in U for s in A_T[1:]), \"UAVRouteLength\",)\n",
        "\n"
      ],
      "metadata": {
        "colab": {
          "base_uri": "https://localhost:8080/"
        },
        "id": "Njo5ZDL1ZLbp",
        "outputId": "0ce4242e-25cf-4ca6-c3c5-7f2d040309ca"
      },
      "execution_count": null,
      "outputs": [
        {
          "output_type": "execute_result",
          "data": {
            "text/plain": [
              "{(1, 1): <gurobi.Constr *Awaiting Model Update*>,\n",
              " (1, 2): <gurobi.Constr *Awaiting Model Update*>,\n",
              " (1, 3): <gurobi.Constr *Awaiting Model Update*>,\n",
              " (1, 7): <gurobi.Constr *Awaiting Model Update*>}"
            ]
          },
          "metadata": {},
          "execution_count": 416
        }
      ]
    },
    {
      "cell_type": "code",
      "source": [
        "m.addConstrs((gp.quicksum(y[i, s, s, u] for i in A_U[:-1] if i != s)\n",
        "             >= gp.quicksum(y[i, j, s, u] for i in A_U[:-1] for j in A_U[1:] if i != j and j != s)\n",
        "             for s in A_T[1:-1] for u in U), \"UAVRendezvous\")"
      ],
      "metadata": {
        "colab": {
          "base_uri": "https://localhost:8080/"
        },
        "id": "TDD4I57RFzbR",
        "outputId": "e484ff5a-ac8d-4015-8f60-2f323c945f30"
      },
      "execution_count": null,
      "outputs": [
        {
          "output_type": "execute_result",
          "data": {
            "text/plain": [
              "{(1, 1): <gurobi.Constr *Awaiting Model Update*>,\n",
              " (2, 1): <gurobi.Constr *Awaiting Model Update*>,\n",
              " (3, 1): <gurobi.Constr *Awaiting Model Update*>}"
            ]
          },
          "metadata": {},
          "execution_count": 417
        }
      ]
    },
    {
      "cell_type": "markdown",
      "metadata": {
        "id": "QvFe8nEeQ6ZR"
      },
      "source": [
        "$x^{w}_{ij}, p^{w}_{ij} \\in \\{0,1\\}, \\forall i \\in V, \\forall j \\in V,$ (24)"
      ]
    },
    {
      "cell_type": "code",
      "execution_count": null,
      "metadata": {
        "colab": {
          "base_uri": "https://localhost:8080/"
        },
        "id": "s1sLsU1hLUOJ",
        "outputId": "ba543276-8659-4351-b416-c399b18ea3ca"
      },
      "outputs": [
        {
          "output_type": "stream",
          "name": "stdout",
          "text": [
            "Gurobi Optimizer version 11.0.3 build v11.0.3rc0 (linux64 - \"Ubuntu 22.04.3 LTS\")\n",
            "\n",
            "CPU model: Intel(R) Xeon(R) CPU @ 2.20GHz, instruction set [SSE2|AVX|AVX2]\n",
            "Thread count: 1 physical cores, 2 logical processors, using up to 2 threads\n",
            "\n",
            "Academic license 2536865 - for non-commercial use only - registered to rt___@stevens.edu\n",
            "Optimize a model with 233 rows, 248 columns and 1598 nonzeros\n",
            "Model fingerprint: 0x36ff5028\n",
            "Variable types: 27 continuous, 221 integer (212 binary)\n",
            "Coefficient statistics:\n",
            "  Matrix range     [1e+00, 1e+05]\n",
            "  Objective range  [1e+00, 1e+00]\n",
            "  Bounds range     [1e+00, 7e+00]\n",
            "  RHS range        [1e+00, 1e+05]\n",
            "Presolve removed 22 rows and 58 columns\n",
            "Presolve time: 0.02s\n",
            "Presolved: 211 rows, 190 columns, 1353 nonzeros\n",
            "Variable types: 13 continuous, 177 integer (168 binary)\n",
            "\n",
            "Root relaxation: objective 7.647418e+00, 96 iterations, 0.00 seconds (0.00 work units)\n",
            "\n",
            "    Nodes    |    Current Node    |     Objective Bounds      |     Work\n",
            " Expl Unexpl |  Obj  Depth IntInf | Incumbent    BestBd   Gap | It/Node Time\n",
            "\n",
            "     0     0    7.64742    0   19          -    7.64742      -     -    0s\n",
            "H    0     0                     168.1491131    7.64742  95.5%     -    0s\n",
            "     0     0   13.98462    0   39  168.14911   13.98462  91.7%     -    0s\n",
            "H    0     0                     146.8575912   16.10903  89.0%     -    0s\n",
            "     0     0   16.10903    0   35  146.85759   16.10903  89.0%     -    0s\n",
            "     0     0   16.10903    0   33  146.85759   16.10903  89.0%     -    0s\n",
            "     0     0   18.70733    0   35  146.85759   18.70733  87.3%     -    0s\n",
            "H    0     0                     134.8624493   18.70733  86.1%     -    0s\n",
            "     0     0   18.70733    0   35  134.86245   18.70733  86.1%     -    0s\n",
            "     0     0   19.44540    0   30  134.86245   19.44540  85.6%     -    0s\n",
            "     0     0   19.44540    0   30  134.86245   19.44540  85.6%     -    0s\n",
            "     0     0   19.44540    0   28  134.86245   19.44540  85.6%     -    0s\n",
            "     0     0   19.44540    0   26  134.86245   19.44540  85.6%     -    0s\n",
            "     0     0   19.44540    0   32  134.86245   19.44540  85.6%     -    0s\n",
            "     0     0   19.44540    0   29  134.86245   19.44540  85.6%     -    0s\n",
            "     0     2   19.44540    0   21  134.86245   19.44540  85.6%     -    0s\n",
            "H  139    80                     121.2803131   25.98113  78.6%  16.1    0s\n",
            "H  272   160                     120.3755976   28.01195  76.7%  13.4    0s\n",
            "H  294   175                     115.9048841   28.78099  75.2%  13.1    0s\n",
            "H  300   181                     113.7484695   28.78099  74.7%  13.0    0s\n",
            "H  735   385                     100.8423793   30.61236  69.6%  10.6    1s\n",
            "H  769   386                     100.8423793   39.53701  60.8%  12.9    1s\n",
            "  2070   180   61.96189   25   17  100.84238   49.47979  50.9%  24.1    5s\n",
            "\n",
            "Cutting planes:\n",
            "  Learned: 7\n",
            "  Gomory: 1\n",
            "  Cover: 31\n",
            "  Implied bound: 40\n",
            "  Projected implied bound: 2\n",
            "  Clique: 1\n",
            "  MIR: 13\n",
            "  StrongCG: 1\n",
            "  Flow cover: 24\n",
            "  Zero half: 8\n",
            "  RLT: 4\n",
            "  Relax-and-lift: 6\n",
            "  BQP: 1\n",
            "  PSD: 2\n",
            "\n",
            "Explored 3165 nodes (92068 simplex iterations) in 7.47 seconds (3.38 work units)\n",
            "Thread count was 2 (of 2 available processors)\n",
            "\n",
            "Solution count 9: 100.842 100.842 113.748 ... 168.149\n",
            "\n",
            "Optimal solution found (tolerance 1.00e-04)\n",
            "Best objective 1.008423793299e+02, best bound 1.008423793299e+02, gap 0.0000%\n",
            "Non-zero values of x:\n",
            "Truck[0,1,1]: 1.0\n",
            "Truck[1,2,1]: 1.0\n",
            "Truck[2,3,1]: 1.0\n",
            "Truck[3,7,1]: 1.0\n",
            "\n",
            "Non-zero values of y:\n",
            "UAV[0,6,7,1]: 1.0\n",
            "UAV[1,5,1,1]: 1.0\n",
            "UAV[4,7,7,1]: 1.0\n",
            "UAV[5,4,7,1]: 1.0\n",
            "UAV[6,1,1,1]: 1.0\n"
          ]
        }
      ],
      "source": [
        "m.optimize()\n",
        "\n",
        "# Print the variables with values greater than 0\n",
        "print(\"Non-zero values of x:\")\n",
        "for v in x.values():\n",
        "    if v.x > 0.1:\n",
        "        print(f'{v.varName}: {v.x}')\n",
        "\n",
        "\n",
        "print(\"\\nNon-zero values of y:\")\n",
        "for v in y.values():\n",
        "    if v.x > 0.1:\n",
        "        print(f'{v.varName}: {v.x}')\n",
        "\n",
        "\n",
        "# if m.status == GRB.INFEASIBLE:\n",
        "#     print(\"Model is infeasible, computing IIS...\")\n",
        "#     m.computeIIS()\n",
        "#     m.write(\"model.ilp\")\n",
        "\n",
        "\n",
        "# m.computeIIS()\n",
        "# m.write(\"model.ilp\")\n",
        "\n",
        "\n",
        "# import os\n",
        "# os.listdir()\n",
        "\n",
        "\n",
        "# from google.colab import files\n",
        "# files.download('model.ilp')\n"
      ]
    },
    {
      "cell_type": "markdown",
      "metadata": {
        "id": "BNRoxCMLQ6bg"
      },
      "source": [
        "$y^{uw}_{ijs} \\in \\{0,1\\}, \\forall i \\in V, \\forall j \\in V, \\forall s \\in V, \\forall u \\in U,$ (25)"
      ]
    },
    {
      "cell_type": "markdown",
      "metadata": {
        "id": "LtvI2PFlQ6d2"
      },
      "source": [
        "$1 \\leq z^{w}_{i} \\leq (a + 2), \\forall i \\in A_T,$ (26)"
      ]
    },
    {
      "cell_type": "markdown",
      "metadata": {
        "id": "S4keV2ZcRPl4"
      },
      "source": [
        "$t^{w}_{i}, l^{w}_{j} \\geq 0, \\forall i \\in V$ (27)"
      ]
    },
    {
      "cell_type": "markdown",
      "metadata": {
        "id": "nAYjQhwLRRxh"
      },
      "source": [
        "$t^{u}_{i}, l^{u}_{i} \\geq 0, \\forall i \\in V, \\forall u \\in U.$ (28)"
      ]
    },
    {
      "cell_type": "markdown",
      "metadata": {
        "id": "imTuIba4t0WV"
      },
      "source": [
        "# Optimization"
      ]
    },
    {
      "cell_type": "code",
      "source": [],
      "metadata": {
        "id": "j0YksNYW82qO"
      },
      "execution_count": null,
      "outputs": []
    }
  ],
  "metadata": {
    "colab": {
      "provenance": [],
      "authorship_tag": "ABX9TyNoCNa3EuaowKtUuTzvzLG5",
      "include_colab_link": true
    },
    "kernelspec": {
      "display_name": "Python 3",
      "name": "python3"
    },
    "language_info": {
      "name": "python"
    }
  },
  "nbformat": 4,
  "nbformat_minor": 0
}