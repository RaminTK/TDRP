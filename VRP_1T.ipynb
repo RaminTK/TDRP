{
  "nbformat": 4,
  "nbformat_minor": 0,
  "metadata": {
    "colab": {
      "provenance": [],
      "authorship_tag": "ABX9TyMMBWeFm+GQpZQJaohKO2lx",
      "include_colab_link": true
    },
    "kernelspec": {
      "name": "python3",
      "display_name": "Python 3"
    },
    "language_info": {
      "name": "python"
    }
  },
  "cells": [
    {
      "cell_type": "markdown",
      "metadata": {
        "id": "view-in-github",
        "colab_type": "text"
      },
      "source": [
        "<a href=\"https://colab.research.google.com/github/RaminTK/TDRP/blob/main/VRP_1T.ipynb\" target=\"_parent\"><img src=\"https://colab.research.google.com/assets/colab-badge.svg\" alt=\"Open In Colab\"/></a>"
      ]
    },
    {
      "cell_type": "code",
      "source": [
        "!pip install gurobipy"
      ],
      "metadata": {
        "id": "5xkeVfY1qXW1",
        "colab": {
          "base_uri": "https://localhost:8080/"
        },
        "outputId": "e57df840-e8a9-4798-b878-5a45dab712d6"
      },
      "execution_count": null,
      "outputs": [
        {
          "output_type": "stream",
          "name": "stdout",
          "text": [
            "Requirement already satisfied: gurobipy in /usr/local/lib/python3.10/dist-packages (11.0.3)\n"
          ]
        }
      ]
    },
    {
      "cell_type": "markdown",
      "source": [
        "# Libraries"
      ],
      "metadata": {
        "id": "cHRYm6ZOrbdX"
      }
    },
    {
      "cell_type": "code",
      "source": [
        "import gurobipy as gp\n",
        "from gurobipy import GRB\n",
        "import numpy as np\n",
        "import pandas as pd\n",
        "from scipy.spatial import distance_matrix\n",
        "import matplotlib.pyplot as plt"
      ],
      "metadata": {
        "id": "M0ERIaWlqmr8"
      },
      "execution_count": null,
      "outputs": []
    },
    {
      "cell_type": "code",
      "source": [
        "# Create an environment with your WLS license\n",
        "params = {\n",
        "\"WLSACCESSID\": 'c5c6ef9a-d24b-4e09-99ba-a30fae3c2de1',\n",
        "\"WLSSECRET\": '3809b277-8064-4385-8804-9971d3dc9938',\n",
        "\"LICENSEID\": 2536865,\n",
        "}"
      ],
      "metadata": {
        "id": "hlFg4ZJVWMmt"
      },
      "execution_count": null,
      "outputs": []
    },
    {
      "cell_type": "markdown",
      "source": [
        "# Parameters"
      ],
      "metadata": {
        "id": "0Cb1h78brjFQ"
      }
    },
    {
      "cell_type": "markdown",
      "source": [
        "$d_{ij}$ Travel time between node $i$ and $j$ by truck, $(i,j) \\in C_0$.\n",
        "\n",
        "$\\bar{d}_{ij}$ Travel time between node $i$ and $j$ by UAV, $(i,j) \\in C_0$.\n",
        "\n",
        "$M$ A sufficiently large number.\n",
        "\n",
        "<!-- $L$ & Battery life limit of UAV. -->\n",
        "\n",
        "$a$ Number of aid recipients.\n",
        "\n",
        "$K$ Number of UAVs.\n",
        "\n",
        "$q$ Relief item capacity limit of UAVs. (unlimited)"
      ],
      "metadata": {
        "id": "0Lcdp_oTsAru"
      }
    },
    {
      "cell_type": "code",
      "source": [
        "num_nodes_t = 5\n",
        "num_t = 1\n",
        "M = 100000  # A large number\n",
        "a = num_nodes_t+1"
      ],
      "metadata": {
        "id": "d2h7rxwSrb6y"
      },
      "execution_count": null,
      "outputs": []
    },
    {
      "cell_type": "markdown",
      "source": [
        "# Sets"
      ],
      "metadata": {
        "id": "22KInr9IsMJb"
      }
    },
    {
      "cell_type": "markdown",
      "source": [
        "\n",
        "\n",
        "<!-- $V$ & Set of all nodes in the network. Elements $0$ and $a + 1$ both represent the depot. -->\n",
        "$A_E$  Set of aid recipients and the depot as the starting location. $A_E = \\{0, 1, 2, \\dots, a\\}$.\n",
        "\n",
        "$A$  Set of aid recipients. $A = \\{1, 2, \\dots, a\\}$. $|A|= a$.\n",
        "\n",
        "$A_T$  Set of aid recipients served by trucks. $A_T \\subset A_E$.\n",
        "\n",
        "$A_U$  Set of aid recipients served by UAVs. $A_U \\subset A_E$.\n",
        "\n",
        "\n",
        "<!-- % $A_E$ & Set of aid recipients and the depot as the terminal location. $A_E = \\{1, 2, \\dots, a\\}$. -->\n",
        "\n",
        "$U$  Set of UAVs. $|U|= K$.\n",
        "\n",
        "$T$  Set of trucks. $|T| = N$."
      ],
      "metadata": {
        "id": "JrY1jphCsN_3"
      }
    },
    {
      "cell_type": "code",
      "source": [
        "A_T = list(range(num_nodes_t+2))  # Set of nodes for trucks\n",
        "T = list(range(1,num_t+1))      # Set of trucks"
      ],
      "metadata": {
        "id": "A8CLQlefrjej"
      },
      "execution_count": null,
      "outputs": []
    },
    {
      "cell_type": "code",
      "source": [
        "A_T,T"
      ],
      "metadata": {
        "colab": {
          "base_uri": "https://localhost:8080/"
        },
        "id": "e5p7FH-WsQjV",
        "outputId": "59117c69-57ec-44c9-bc9d-d551ca0566ea"
      },
      "execution_count": null,
      "outputs": [
        {
          "output_type": "execute_result",
          "data": {
            "text/plain": [
              "([0, 1, 2, 3, 4, 5, 6], [1])"
            ]
          },
          "metadata": {},
          "execution_count": 83
        }
      ]
    },
    {
      "cell_type": "markdown",
      "source": [
        "## Generate random coordinates for the nodes"
      ],
      "metadata": {
        "id": "EVQNkUDwsVKp"
      }
    },
    {
      "cell_type": "code",
      "source": [
        "# Number of nodes\n",
        "num_nodes = num_nodes_t+1\n",
        "\n",
        "np.random.seed(0)  # For reproducibility\n",
        "coordinates = np.random.rand(num_nodes, 2) * 100  # Generate random coordinates in a 100x100 area"
      ],
      "metadata": {
        "id": "6Dd6GW_3sSxd"
      },
      "execution_count": null,
      "outputs": []
    },
    {
      "cell_type": "code",
      "source": [
        "coordinates = np.vstack([coordinates, coordinates[0]])"
      ],
      "metadata": {
        "id": "F7VW5VvasXPg"
      },
      "execution_count": null,
      "outputs": []
    },
    {
      "cell_type": "code",
      "source": [
        "coordinates"
      ],
      "metadata": {
        "colab": {
          "base_uri": "https://localhost:8080/"
        },
        "id": "1an_SKROc1ef",
        "outputId": "1086a92e-b9bf-4e8e-c19e-56a1220fb932"
      },
      "execution_count": null,
      "outputs": [
        {
          "output_type": "execute_result",
          "data": {
            "text/plain": [
              "array([[54.88135039, 71.51893664],\n",
              "       [60.27633761, 54.4883183 ],\n",
              "       [42.36547993, 64.58941131],\n",
              "       [43.75872113, 89.17730008],\n",
              "       [96.36627605, 38.34415188],\n",
              "       [79.17250381, 52.88949198],\n",
              "       [54.88135039, 71.51893664]])"
            ]
          },
          "metadata": {},
          "execution_count": 86
        }
      ]
    },
    {
      "cell_type": "code",
      "source": [
        "num_nodes = num_nodes+1"
      ],
      "metadata": {
        "id": "hhRrH_yfcMnm"
      },
      "execution_count": null,
      "outputs": []
    },
    {
      "cell_type": "markdown",
      "source": [
        "## Distance Matrix\n"
      ],
      "metadata": {
        "id": "FyRuSDs5saGK"
      }
    },
    {
      "cell_type": "code",
      "source": [
        "euclidean_dist_matrix = distance_matrix(coordinates, coordinates)\n",
        "manhattan_dist_matrix = distance_matrix(coordinates, coordinates, p=1)"
      ],
      "metadata": {
        "id": "8CzdgsFnsYpN"
      },
      "execution_count": null,
      "outputs": []
    },
    {
      "cell_type": "code",
      "source": [
        "euclidean_df = pd.DataFrame(euclidean_dist_matrix, columns=[f'Node {i}' for i in range(num_nodes)], index=[f'Node {i}' for i in range(num_nodes)])\n",
        "manhattan_df = pd.DataFrame(manhattan_dist_matrix, columns=[f'Node {i}' for i in range(num_nodes)], index=[f'Node {i}' for i in range(num_nodes)])"
      ],
      "metadata": {
        "id": "DQ-79jNtc4PA"
      },
      "execution_count": null,
      "outputs": []
    },
    {
      "cell_type": "code",
      "source": [
        "euclidean_df"
      ],
      "metadata": {
        "colab": {
          "base_uri": "https://localhost:8080/",
          "height": 269
        },
        "id": "oTyIAWR7blL_",
        "outputId": "e8ba76ab-5db9-4541-ad04-4c6103044953"
      },
      "execution_count": null,
      "outputs": [
        {
          "output_type": "execute_result",
          "data": {
            "text/plain": [
              "           Node 0     Node 1     Node 2     Node 3     Node 4     Node 5  \\\n",
              "Node 0   0.000000  17.864710  14.306129  20.869372  53.118409  30.612356   \n",
              "Node 1  17.864710   0.000000  20.562852  38.420790  39.536284  18.963685   \n",
              "Node 2  14.306129  20.562852   0.000000  24.627330  60.040816  38.621822   \n",
              "Node 3  20.869372  38.420790  24.627330   0.000000  73.154383  50.704448   \n",
              "Node 4  53.118409  39.536284  60.040816  73.154383   0.000000  22.520940   \n",
              "Node 5  30.612356  18.963685  38.621822  50.704448  22.520940   0.000000   \n",
              "Node 6   0.000000  17.864710  14.306129  20.869372  53.118409  30.612356   \n",
              "\n",
              "           Node 6  \n",
              "Node 0   0.000000  \n",
              "Node 1  17.864710  \n",
              "Node 2  14.306129  \n",
              "Node 3  20.869372  \n",
              "Node 4  53.118409  \n",
              "Node 5  30.612356  \n",
              "Node 6   0.000000  "
            ],
            "text/html": [
              "\n",
              "  <div id=\"df-3363217f-023c-4661-bd5a-0b9e9d8846a8\" class=\"colab-df-container\">\n",
              "    <div>\n",
              "<style scoped>\n",
              "    .dataframe tbody tr th:only-of-type {\n",
              "        vertical-align: middle;\n",
              "    }\n",
              "\n",
              "    .dataframe tbody tr th {\n",
              "        vertical-align: top;\n",
              "    }\n",
              "\n",
              "    .dataframe thead th {\n",
              "        text-align: right;\n",
              "    }\n",
              "</style>\n",
              "<table border=\"1\" class=\"dataframe\">\n",
              "  <thead>\n",
              "    <tr style=\"text-align: right;\">\n",
              "      <th></th>\n",
              "      <th>Node 0</th>\n",
              "      <th>Node 1</th>\n",
              "      <th>Node 2</th>\n",
              "      <th>Node 3</th>\n",
              "      <th>Node 4</th>\n",
              "      <th>Node 5</th>\n",
              "      <th>Node 6</th>\n",
              "    </tr>\n",
              "  </thead>\n",
              "  <tbody>\n",
              "    <tr>\n",
              "      <th>Node 0</th>\n",
              "      <td>0.000000</td>\n",
              "      <td>17.864710</td>\n",
              "      <td>14.306129</td>\n",
              "      <td>20.869372</td>\n",
              "      <td>53.118409</td>\n",
              "      <td>30.612356</td>\n",
              "      <td>0.000000</td>\n",
              "    </tr>\n",
              "    <tr>\n",
              "      <th>Node 1</th>\n",
              "      <td>17.864710</td>\n",
              "      <td>0.000000</td>\n",
              "      <td>20.562852</td>\n",
              "      <td>38.420790</td>\n",
              "      <td>39.536284</td>\n",
              "      <td>18.963685</td>\n",
              "      <td>17.864710</td>\n",
              "    </tr>\n",
              "    <tr>\n",
              "      <th>Node 2</th>\n",
              "      <td>14.306129</td>\n",
              "      <td>20.562852</td>\n",
              "      <td>0.000000</td>\n",
              "      <td>24.627330</td>\n",
              "      <td>60.040816</td>\n",
              "      <td>38.621822</td>\n",
              "      <td>14.306129</td>\n",
              "    </tr>\n",
              "    <tr>\n",
              "      <th>Node 3</th>\n",
              "      <td>20.869372</td>\n",
              "      <td>38.420790</td>\n",
              "      <td>24.627330</td>\n",
              "      <td>0.000000</td>\n",
              "      <td>73.154383</td>\n",
              "      <td>50.704448</td>\n",
              "      <td>20.869372</td>\n",
              "    </tr>\n",
              "    <tr>\n",
              "      <th>Node 4</th>\n",
              "      <td>53.118409</td>\n",
              "      <td>39.536284</td>\n",
              "      <td>60.040816</td>\n",
              "      <td>73.154383</td>\n",
              "      <td>0.000000</td>\n",
              "      <td>22.520940</td>\n",
              "      <td>53.118409</td>\n",
              "    </tr>\n",
              "    <tr>\n",
              "      <th>Node 5</th>\n",
              "      <td>30.612356</td>\n",
              "      <td>18.963685</td>\n",
              "      <td>38.621822</td>\n",
              "      <td>50.704448</td>\n",
              "      <td>22.520940</td>\n",
              "      <td>0.000000</td>\n",
              "      <td>30.612356</td>\n",
              "    </tr>\n",
              "    <tr>\n",
              "      <th>Node 6</th>\n",
              "      <td>0.000000</td>\n",
              "      <td>17.864710</td>\n",
              "      <td>14.306129</td>\n",
              "      <td>20.869372</td>\n",
              "      <td>53.118409</td>\n",
              "      <td>30.612356</td>\n",
              "      <td>0.000000</td>\n",
              "    </tr>\n",
              "  </tbody>\n",
              "</table>\n",
              "</div>\n",
              "    <div class=\"colab-df-buttons\">\n",
              "\n",
              "  <div class=\"colab-df-container\">\n",
              "    <button class=\"colab-df-convert\" onclick=\"convertToInteractive('df-3363217f-023c-4661-bd5a-0b9e9d8846a8')\"\n",
              "            title=\"Convert this dataframe to an interactive table.\"\n",
              "            style=\"display:none;\">\n",
              "\n",
              "  <svg xmlns=\"http://www.w3.org/2000/svg\" height=\"24px\" viewBox=\"0 -960 960 960\">\n",
              "    <path d=\"M120-120v-720h720v720H120Zm60-500h600v-160H180v160Zm220 220h160v-160H400v160Zm0 220h160v-160H400v160ZM180-400h160v-160H180v160Zm440 0h160v-160H620v160ZM180-180h160v-160H180v160Zm440 0h160v-160H620v160Z\"/>\n",
              "  </svg>\n",
              "    </button>\n",
              "\n",
              "  <style>\n",
              "    .colab-df-container {\n",
              "      display:flex;\n",
              "      gap: 12px;\n",
              "    }\n",
              "\n",
              "    .colab-df-convert {\n",
              "      background-color: #E8F0FE;\n",
              "      border: none;\n",
              "      border-radius: 50%;\n",
              "      cursor: pointer;\n",
              "      display: none;\n",
              "      fill: #1967D2;\n",
              "      height: 32px;\n",
              "      padding: 0 0 0 0;\n",
              "      width: 32px;\n",
              "    }\n",
              "\n",
              "    .colab-df-convert:hover {\n",
              "      background-color: #E2EBFA;\n",
              "      box-shadow: 0px 1px 2px rgba(60, 64, 67, 0.3), 0px 1px 3px 1px rgba(60, 64, 67, 0.15);\n",
              "      fill: #174EA6;\n",
              "    }\n",
              "\n",
              "    .colab-df-buttons div {\n",
              "      margin-bottom: 4px;\n",
              "    }\n",
              "\n",
              "    [theme=dark] .colab-df-convert {\n",
              "      background-color: #3B4455;\n",
              "      fill: #D2E3FC;\n",
              "    }\n",
              "\n",
              "    [theme=dark] .colab-df-convert:hover {\n",
              "      background-color: #434B5C;\n",
              "      box-shadow: 0px 1px 3px 1px rgba(0, 0, 0, 0.15);\n",
              "      filter: drop-shadow(0px 1px 2px rgba(0, 0, 0, 0.3));\n",
              "      fill: #FFFFFF;\n",
              "    }\n",
              "  </style>\n",
              "\n",
              "    <script>\n",
              "      const buttonEl =\n",
              "        document.querySelector('#df-3363217f-023c-4661-bd5a-0b9e9d8846a8 button.colab-df-convert');\n",
              "      buttonEl.style.display =\n",
              "        google.colab.kernel.accessAllowed ? 'block' : 'none';\n",
              "\n",
              "      async function convertToInteractive(key) {\n",
              "        const element = document.querySelector('#df-3363217f-023c-4661-bd5a-0b9e9d8846a8');\n",
              "        const dataTable =\n",
              "          await google.colab.kernel.invokeFunction('convertToInteractive',\n",
              "                                                    [key], {});\n",
              "        if (!dataTable) return;\n",
              "\n",
              "        const docLinkHtml = 'Like what you see? Visit the ' +\n",
              "          '<a target=\"_blank\" href=https://colab.research.google.com/notebooks/data_table.ipynb>data table notebook</a>'\n",
              "          + ' to learn more about interactive tables.';\n",
              "        element.innerHTML = '';\n",
              "        dataTable['output_type'] = 'display_data';\n",
              "        await google.colab.output.renderOutput(dataTable, element);\n",
              "        const docLink = document.createElement('div');\n",
              "        docLink.innerHTML = docLinkHtml;\n",
              "        element.appendChild(docLink);\n",
              "      }\n",
              "    </script>\n",
              "  </div>\n",
              "\n",
              "\n",
              "<div id=\"df-f29e7b63-649a-49f1-865e-d4ef942d349d\">\n",
              "  <button class=\"colab-df-quickchart\" onclick=\"quickchart('df-f29e7b63-649a-49f1-865e-d4ef942d349d')\"\n",
              "            title=\"Suggest charts\"\n",
              "            style=\"display:none;\">\n",
              "\n",
              "<svg xmlns=\"http://www.w3.org/2000/svg\" height=\"24px\"viewBox=\"0 0 24 24\"\n",
              "     width=\"24px\">\n",
              "    <g>\n",
              "        <path d=\"M19 3H5c-1.1 0-2 .9-2 2v14c0 1.1.9 2 2 2h14c1.1 0 2-.9 2-2V5c0-1.1-.9-2-2-2zM9 17H7v-7h2v7zm4 0h-2V7h2v10zm4 0h-2v-4h2v4z\"/>\n",
              "    </g>\n",
              "</svg>\n",
              "  </button>\n",
              "\n",
              "<style>\n",
              "  .colab-df-quickchart {\n",
              "      --bg-color: #E8F0FE;\n",
              "      --fill-color: #1967D2;\n",
              "      --hover-bg-color: #E2EBFA;\n",
              "      --hover-fill-color: #174EA6;\n",
              "      --disabled-fill-color: #AAA;\n",
              "      --disabled-bg-color: #DDD;\n",
              "  }\n",
              "\n",
              "  [theme=dark] .colab-df-quickchart {\n",
              "      --bg-color: #3B4455;\n",
              "      --fill-color: #D2E3FC;\n",
              "      --hover-bg-color: #434B5C;\n",
              "      --hover-fill-color: #FFFFFF;\n",
              "      --disabled-bg-color: #3B4455;\n",
              "      --disabled-fill-color: #666;\n",
              "  }\n",
              "\n",
              "  .colab-df-quickchart {\n",
              "    background-color: var(--bg-color);\n",
              "    border: none;\n",
              "    border-radius: 50%;\n",
              "    cursor: pointer;\n",
              "    display: none;\n",
              "    fill: var(--fill-color);\n",
              "    height: 32px;\n",
              "    padding: 0;\n",
              "    width: 32px;\n",
              "  }\n",
              "\n",
              "  .colab-df-quickchart:hover {\n",
              "    background-color: var(--hover-bg-color);\n",
              "    box-shadow: 0 1px 2px rgba(60, 64, 67, 0.3), 0 1px 3px 1px rgba(60, 64, 67, 0.15);\n",
              "    fill: var(--button-hover-fill-color);\n",
              "  }\n",
              "\n",
              "  .colab-df-quickchart-complete:disabled,\n",
              "  .colab-df-quickchart-complete:disabled:hover {\n",
              "    background-color: var(--disabled-bg-color);\n",
              "    fill: var(--disabled-fill-color);\n",
              "    box-shadow: none;\n",
              "  }\n",
              "\n",
              "  .colab-df-spinner {\n",
              "    border: 2px solid var(--fill-color);\n",
              "    border-color: transparent;\n",
              "    border-bottom-color: var(--fill-color);\n",
              "    animation:\n",
              "      spin 1s steps(1) infinite;\n",
              "  }\n",
              "\n",
              "  @keyframes spin {\n",
              "    0% {\n",
              "      border-color: transparent;\n",
              "      border-bottom-color: var(--fill-color);\n",
              "      border-left-color: var(--fill-color);\n",
              "    }\n",
              "    20% {\n",
              "      border-color: transparent;\n",
              "      border-left-color: var(--fill-color);\n",
              "      border-top-color: var(--fill-color);\n",
              "    }\n",
              "    30% {\n",
              "      border-color: transparent;\n",
              "      border-left-color: var(--fill-color);\n",
              "      border-top-color: var(--fill-color);\n",
              "      border-right-color: var(--fill-color);\n",
              "    }\n",
              "    40% {\n",
              "      border-color: transparent;\n",
              "      border-right-color: var(--fill-color);\n",
              "      border-top-color: var(--fill-color);\n",
              "    }\n",
              "    60% {\n",
              "      border-color: transparent;\n",
              "      border-right-color: var(--fill-color);\n",
              "    }\n",
              "    80% {\n",
              "      border-color: transparent;\n",
              "      border-right-color: var(--fill-color);\n",
              "      border-bottom-color: var(--fill-color);\n",
              "    }\n",
              "    90% {\n",
              "      border-color: transparent;\n",
              "      border-bottom-color: var(--fill-color);\n",
              "    }\n",
              "  }\n",
              "</style>\n",
              "\n",
              "  <script>\n",
              "    async function quickchart(key) {\n",
              "      const quickchartButtonEl =\n",
              "        document.querySelector('#' + key + ' button');\n",
              "      quickchartButtonEl.disabled = true;  // To prevent multiple clicks.\n",
              "      quickchartButtonEl.classList.add('colab-df-spinner');\n",
              "      try {\n",
              "        const charts = await google.colab.kernel.invokeFunction(\n",
              "            'suggestCharts', [key], {});\n",
              "      } catch (error) {\n",
              "        console.error('Error during call to suggestCharts:', error);\n",
              "      }\n",
              "      quickchartButtonEl.classList.remove('colab-df-spinner');\n",
              "      quickchartButtonEl.classList.add('colab-df-quickchart-complete');\n",
              "    }\n",
              "    (() => {\n",
              "      let quickchartButtonEl =\n",
              "        document.querySelector('#df-f29e7b63-649a-49f1-865e-d4ef942d349d button');\n",
              "      quickchartButtonEl.style.display =\n",
              "        google.colab.kernel.accessAllowed ? 'block' : 'none';\n",
              "    })();\n",
              "  </script>\n",
              "</div>\n",
              "\n",
              "  <div id=\"id_7339fe0a-a622-4b46-a258-98ae951a6bf2\">\n",
              "    <style>\n",
              "      .colab-df-generate {\n",
              "        background-color: #E8F0FE;\n",
              "        border: none;\n",
              "        border-radius: 50%;\n",
              "        cursor: pointer;\n",
              "        display: none;\n",
              "        fill: #1967D2;\n",
              "        height: 32px;\n",
              "        padding: 0 0 0 0;\n",
              "        width: 32px;\n",
              "      }\n",
              "\n",
              "      .colab-df-generate:hover {\n",
              "        background-color: #E2EBFA;\n",
              "        box-shadow: 0px 1px 2px rgba(60, 64, 67, 0.3), 0px 1px 3px 1px rgba(60, 64, 67, 0.15);\n",
              "        fill: #174EA6;\n",
              "      }\n",
              "\n",
              "      [theme=dark] .colab-df-generate {\n",
              "        background-color: #3B4455;\n",
              "        fill: #D2E3FC;\n",
              "      }\n",
              "\n",
              "      [theme=dark] .colab-df-generate:hover {\n",
              "        background-color: #434B5C;\n",
              "        box-shadow: 0px 1px 3px 1px rgba(0, 0, 0, 0.15);\n",
              "        filter: drop-shadow(0px 1px 2px rgba(0, 0, 0, 0.3));\n",
              "        fill: #FFFFFF;\n",
              "      }\n",
              "    </style>\n",
              "    <button class=\"colab-df-generate\" onclick=\"generateWithVariable('euclidean_df')\"\n",
              "            title=\"Generate code using this dataframe.\"\n",
              "            style=\"display:none;\">\n",
              "\n",
              "  <svg xmlns=\"http://www.w3.org/2000/svg\" height=\"24px\"viewBox=\"0 0 24 24\"\n",
              "       width=\"24px\">\n",
              "    <path d=\"M7,19H8.4L18.45,9,17,7.55,7,17.6ZM5,21V16.75L18.45,3.32a2,2,0,0,1,2.83,0l1.4,1.43a1.91,1.91,0,0,1,.58,1.4,1.91,1.91,0,0,1-.58,1.4L9.25,21ZM18.45,9,17,7.55Zm-12,3A5.31,5.31,0,0,0,4.9,8.1,5.31,5.31,0,0,0,1,6.5,5.31,5.31,0,0,0,4.9,4.9,5.31,5.31,0,0,0,6.5,1,5.31,5.31,0,0,0,8.1,4.9,5.31,5.31,0,0,0,12,6.5,5.46,5.46,0,0,0,6.5,12Z\"/>\n",
              "  </svg>\n",
              "    </button>\n",
              "    <script>\n",
              "      (() => {\n",
              "      const buttonEl =\n",
              "        document.querySelector('#id_7339fe0a-a622-4b46-a258-98ae951a6bf2 button.colab-df-generate');\n",
              "      buttonEl.style.display =\n",
              "        google.colab.kernel.accessAllowed ? 'block' : 'none';\n",
              "\n",
              "      buttonEl.onclick = () => {\n",
              "        google.colab.notebook.generateWithVariable('euclidean_df');\n",
              "      }\n",
              "      })();\n",
              "    </script>\n",
              "  </div>\n",
              "\n",
              "    </div>\n",
              "  </div>\n"
            ],
            "application/vnd.google.colaboratory.intrinsic+json": {
              "type": "dataframe",
              "variable_name": "euclidean_df",
              "summary": "{\n  \"name\": \"euclidean_df\",\n  \"rows\": 7,\n  \"fields\": [\n    {\n      \"column\": \"Node 0\",\n      \"properties\": {\n        \"dtype\": \"number\",\n        \"std\": 18.464818142898174,\n        \"min\": 0.0,\n        \"max\": 53.118409241202365,\n        \"num_unique_values\": 6,\n        \"samples\": [\n          0.0,\n          17.864709569518762,\n          30.6123560457166\n        ],\n        \"semantic_type\": \"\",\n        \"description\": \"\"\n      }\n    },\n    {\n      \"column\": \"Node 1\",\n      \"properties\": {\n        \"dtype\": \"number\",\n        \"std\": 13.580384088346054,\n        \"min\": 0.0,\n        \"max\": 39.53628417186544,\n        \"num_unique_values\": 6,\n        \"samples\": [\n          17.864709569518762,\n          0.0,\n          18.963684840116496\n        ],\n        \"semantic_type\": \"\",\n        \"description\": \"\"\n      }\n    },\n    {\n      \"column\": \"Node 2\",\n      \"properties\": {\n        \"dtype\": \"number\",\n        \"std\": 19.519391065571117,\n        \"min\": 0.0,\n        \"max\": 60.040816312092375,\n        \"num_unique_values\": 6,\n        \"samples\": [\n          14.306129268590196,\n          20.562852490057235,\n          38.62182179609825\n        ],\n        \"semantic_type\": \"\",\n        \"description\": \"\"\n      }\n    },\n    {\n      \"column\": \"Node 3\",\n      \"properties\": {\n        \"dtype\": \"number\",\n        \"std\": 23.832124629447257,\n        \"min\": 0.0,\n        \"max\": 73.15438326268003,\n        \"num_unique_values\": 6,\n        \"samples\": [\n          20.86937184518091,\n          38.42079008870474,\n          50.70444774141507\n        ],\n        \"semantic_type\": \"\",\n        \"description\": \"\"\n      }\n    },\n    {\n      \"column\": \"Node 4\",\n      \"properties\": {\n        \"dtype\": \"number\",\n        \"std\": 24.781699256570764,\n        \"min\": 0.0,\n        \"max\": 73.15438326268003,\n        \"num_unique_values\": 6,\n        \"samples\": [\n          53.118409241202365,\n          39.53628417186544,\n          22.52093964107229\n        ],\n        \"semantic_type\": \"\",\n        \"description\": \"\"\n      }\n    },\n    {\n      \"column\": \"Node 5\",\n      \"properties\": {\n        \"dtype\": \"number\",\n        \"std\": 15.996842110832448,\n        \"min\": 0.0,\n        \"max\": 50.70444774141507,\n        \"num_unique_values\": 6,\n        \"samples\": [\n          30.6123560457166,\n          18.963684840116496,\n          0.0\n        ],\n        \"semantic_type\": \"\",\n        \"description\": \"\"\n      }\n    },\n    {\n      \"column\": \"Node 6\",\n      \"properties\": {\n        \"dtype\": \"number\",\n        \"std\": 18.464818142898174,\n        \"min\": 0.0,\n        \"max\": 53.118409241202365,\n        \"num_unique_values\": 6,\n        \"samples\": [\n          0.0,\n          17.864709569518762,\n          30.6123560457166\n        ],\n        \"semantic_type\": \"\",\n        \"description\": \"\"\n      }\n    }\n  ]\n}"
            }
          },
          "metadata": {},
          "execution_count": 90
        }
      ]
    },
    {
      "cell_type": "code",
      "source": [
        "manhattan_df"
      ],
      "metadata": {
        "colab": {
          "base_uri": "https://localhost:8080/",
          "height": 269
        },
        "id": "W1HpDJ-mbmg5",
        "outputId": "6c3844ec-648e-46ee-a169-42227cb23896"
      },
      "execution_count": null,
      "outputs": [
        {
          "output_type": "execute_result",
          "data": {
            "text/plain": [
              "           Node 0     Node 1     Node 2      Node 3      Node 4     Node 5  \\\n",
              "Node 0   0.000000  22.425606  19.445396   28.780993   74.659710  42.920598   \n",
              "Node 1  22.425606   0.000000  28.011951   51.206598   52.234105  20.494993   \n",
              "Node 2  19.445396  28.011951   0.000000   25.981130   80.246056  48.506943   \n",
              "Node 3  28.780993  51.206598  25.981130    0.000000  103.440703  71.701591   \n",
              "Node 4  74.659710  52.234105  80.246056  103.440703    0.000000  31.739112   \n",
              "Node 5  42.920598  20.494993  48.506943   71.701591   31.739112   0.000000   \n",
              "Node 6   0.000000  22.425606  19.445396   28.780993   74.659710  42.920598   \n",
              "\n",
              "           Node 6  \n",
              "Node 0   0.000000  \n",
              "Node 1  22.425606  \n",
              "Node 2  19.445396  \n",
              "Node 3  28.780993  \n",
              "Node 4  74.659710  \n",
              "Node 5  42.920598  \n",
              "Node 6   0.000000  "
            ],
            "text/html": [
              "\n",
              "  <div id=\"df-a1d4ad39-9832-4fbd-ae22-34e3129fc6cb\" class=\"colab-df-container\">\n",
              "    <div>\n",
              "<style scoped>\n",
              "    .dataframe tbody tr th:only-of-type {\n",
              "        vertical-align: middle;\n",
              "    }\n",
              "\n",
              "    .dataframe tbody tr th {\n",
              "        vertical-align: top;\n",
              "    }\n",
              "\n",
              "    .dataframe thead th {\n",
              "        text-align: right;\n",
              "    }\n",
              "</style>\n",
              "<table border=\"1\" class=\"dataframe\">\n",
              "  <thead>\n",
              "    <tr style=\"text-align: right;\">\n",
              "      <th></th>\n",
              "      <th>Node 0</th>\n",
              "      <th>Node 1</th>\n",
              "      <th>Node 2</th>\n",
              "      <th>Node 3</th>\n",
              "      <th>Node 4</th>\n",
              "      <th>Node 5</th>\n",
              "      <th>Node 6</th>\n",
              "    </tr>\n",
              "  </thead>\n",
              "  <tbody>\n",
              "    <tr>\n",
              "      <th>Node 0</th>\n",
              "      <td>0.000000</td>\n",
              "      <td>22.425606</td>\n",
              "      <td>19.445396</td>\n",
              "      <td>28.780993</td>\n",
              "      <td>74.659710</td>\n",
              "      <td>42.920598</td>\n",
              "      <td>0.000000</td>\n",
              "    </tr>\n",
              "    <tr>\n",
              "      <th>Node 1</th>\n",
              "      <td>22.425606</td>\n",
              "      <td>0.000000</td>\n",
              "      <td>28.011951</td>\n",
              "      <td>51.206598</td>\n",
              "      <td>52.234105</td>\n",
              "      <td>20.494993</td>\n",
              "      <td>22.425606</td>\n",
              "    </tr>\n",
              "    <tr>\n",
              "      <th>Node 2</th>\n",
              "      <td>19.445396</td>\n",
              "      <td>28.011951</td>\n",
              "      <td>0.000000</td>\n",
              "      <td>25.981130</td>\n",
              "      <td>80.246056</td>\n",
              "      <td>48.506943</td>\n",
              "      <td>19.445396</td>\n",
              "    </tr>\n",
              "    <tr>\n",
              "      <th>Node 3</th>\n",
              "      <td>28.780993</td>\n",
              "      <td>51.206598</td>\n",
              "      <td>25.981130</td>\n",
              "      <td>0.000000</td>\n",
              "      <td>103.440703</td>\n",
              "      <td>71.701591</td>\n",
              "      <td>28.780993</td>\n",
              "    </tr>\n",
              "    <tr>\n",
              "      <th>Node 4</th>\n",
              "      <td>74.659710</td>\n",
              "      <td>52.234105</td>\n",
              "      <td>80.246056</td>\n",
              "      <td>103.440703</td>\n",
              "      <td>0.000000</td>\n",
              "      <td>31.739112</td>\n",
              "      <td>74.659710</td>\n",
              "    </tr>\n",
              "    <tr>\n",
              "      <th>Node 5</th>\n",
              "      <td>42.920598</td>\n",
              "      <td>20.494993</td>\n",
              "      <td>48.506943</td>\n",
              "      <td>71.701591</td>\n",
              "      <td>31.739112</td>\n",
              "      <td>0.000000</td>\n",
              "      <td>42.920598</td>\n",
              "    </tr>\n",
              "    <tr>\n",
              "      <th>Node 6</th>\n",
              "      <td>0.000000</td>\n",
              "      <td>22.425606</td>\n",
              "      <td>19.445396</td>\n",
              "      <td>28.780993</td>\n",
              "      <td>74.659710</td>\n",
              "      <td>42.920598</td>\n",
              "      <td>0.000000</td>\n",
              "    </tr>\n",
              "  </tbody>\n",
              "</table>\n",
              "</div>\n",
              "    <div class=\"colab-df-buttons\">\n",
              "\n",
              "  <div class=\"colab-df-container\">\n",
              "    <button class=\"colab-df-convert\" onclick=\"convertToInteractive('df-a1d4ad39-9832-4fbd-ae22-34e3129fc6cb')\"\n",
              "            title=\"Convert this dataframe to an interactive table.\"\n",
              "            style=\"display:none;\">\n",
              "\n",
              "  <svg xmlns=\"http://www.w3.org/2000/svg\" height=\"24px\" viewBox=\"0 -960 960 960\">\n",
              "    <path d=\"M120-120v-720h720v720H120Zm60-500h600v-160H180v160Zm220 220h160v-160H400v160Zm0 220h160v-160H400v160ZM180-400h160v-160H180v160Zm440 0h160v-160H620v160ZM180-180h160v-160H180v160Zm440 0h160v-160H620v160Z\"/>\n",
              "  </svg>\n",
              "    </button>\n",
              "\n",
              "  <style>\n",
              "    .colab-df-container {\n",
              "      display:flex;\n",
              "      gap: 12px;\n",
              "    }\n",
              "\n",
              "    .colab-df-convert {\n",
              "      background-color: #E8F0FE;\n",
              "      border: none;\n",
              "      border-radius: 50%;\n",
              "      cursor: pointer;\n",
              "      display: none;\n",
              "      fill: #1967D2;\n",
              "      height: 32px;\n",
              "      padding: 0 0 0 0;\n",
              "      width: 32px;\n",
              "    }\n",
              "\n",
              "    .colab-df-convert:hover {\n",
              "      background-color: #E2EBFA;\n",
              "      box-shadow: 0px 1px 2px rgba(60, 64, 67, 0.3), 0px 1px 3px 1px rgba(60, 64, 67, 0.15);\n",
              "      fill: #174EA6;\n",
              "    }\n",
              "\n",
              "    .colab-df-buttons div {\n",
              "      margin-bottom: 4px;\n",
              "    }\n",
              "\n",
              "    [theme=dark] .colab-df-convert {\n",
              "      background-color: #3B4455;\n",
              "      fill: #D2E3FC;\n",
              "    }\n",
              "\n",
              "    [theme=dark] .colab-df-convert:hover {\n",
              "      background-color: #434B5C;\n",
              "      box-shadow: 0px 1px 3px 1px rgba(0, 0, 0, 0.15);\n",
              "      filter: drop-shadow(0px 1px 2px rgba(0, 0, 0, 0.3));\n",
              "      fill: #FFFFFF;\n",
              "    }\n",
              "  </style>\n",
              "\n",
              "    <script>\n",
              "      const buttonEl =\n",
              "        document.querySelector('#df-a1d4ad39-9832-4fbd-ae22-34e3129fc6cb button.colab-df-convert');\n",
              "      buttonEl.style.display =\n",
              "        google.colab.kernel.accessAllowed ? 'block' : 'none';\n",
              "\n",
              "      async function convertToInteractive(key) {\n",
              "        const element = document.querySelector('#df-a1d4ad39-9832-4fbd-ae22-34e3129fc6cb');\n",
              "        const dataTable =\n",
              "          await google.colab.kernel.invokeFunction('convertToInteractive',\n",
              "                                                    [key], {});\n",
              "        if (!dataTable) return;\n",
              "\n",
              "        const docLinkHtml = 'Like what you see? Visit the ' +\n",
              "          '<a target=\"_blank\" href=https://colab.research.google.com/notebooks/data_table.ipynb>data table notebook</a>'\n",
              "          + ' to learn more about interactive tables.';\n",
              "        element.innerHTML = '';\n",
              "        dataTable['output_type'] = 'display_data';\n",
              "        await google.colab.output.renderOutput(dataTable, element);\n",
              "        const docLink = document.createElement('div');\n",
              "        docLink.innerHTML = docLinkHtml;\n",
              "        element.appendChild(docLink);\n",
              "      }\n",
              "    </script>\n",
              "  </div>\n",
              "\n",
              "\n",
              "<div id=\"df-d652d446-0e97-4e1e-a679-eae3cd511ca5\">\n",
              "  <button class=\"colab-df-quickchart\" onclick=\"quickchart('df-d652d446-0e97-4e1e-a679-eae3cd511ca5')\"\n",
              "            title=\"Suggest charts\"\n",
              "            style=\"display:none;\">\n",
              "\n",
              "<svg xmlns=\"http://www.w3.org/2000/svg\" height=\"24px\"viewBox=\"0 0 24 24\"\n",
              "     width=\"24px\">\n",
              "    <g>\n",
              "        <path d=\"M19 3H5c-1.1 0-2 .9-2 2v14c0 1.1.9 2 2 2h14c1.1 0 2-.9 2-2V5c0-1.1-.9-2-2-2zM9 17H7v-7h2v7zm4 0h-2V7h2v10zm4 0h-2v-4h2v4z\"/>\n",
              "    </g>\n",
              "</svg>\n",
              "  </button>\n",
              "\n",
              "<style>\n",
              "  .colab-df-quickchart {\n",
              "      --bg-color: #E8F0FE;\n",
              "      --fill-color: #1967D2;\n",
              "      --hover-bg-color: #E2EBFA;\n",
              "      --hover-fill-color: #174EA6;\n",
              "      --disabled-fill-color: #AAA;\n",
              "      --disabled-bg-color: #DDD;\n",
              "  }\n",
              "\n",
              "  [theme=dark] .colab-df-quickchart {\n",
              "      --bg-color: #3B4455;\n",
              "      --fill-color: #D2E3FC;\n",
              "      --hover-bg-color: #434B5C;\n",
              "      --hover-fill-color: #FFFFFF;\n",
              "      --disabled-bg-color: #3B4455;\n",
              "      --disabled-fill-color: #666;\n",
              "  }\n",
              "\n",
              "  .colab-df-quickchart {\n",
              "    background-color: var(--bg-color);\n",
              "    border: none;\n",
              "    border-radius: 50%;\n",
              "    cursor: pointer;\n",
              "    display: none;\n",
              "    fill: var(--fill-color);\n",
              "    height: 32px;\n",
              "    padding: 0;\n",
              "    width: 32px;\n",
              "  }\n",
              "\n",
              "  .colab-df-quickchart:hover {\n",
              "    background-color: var(--hover-bg-color);\n",
              "    box-shadow: 0 1px 2px rgba(60, 64, 67, 0.3), 0 1px 3px 1px rgba(60, 64, 67, 0.15);\n",
              "    fill: var(--button-hover-fill-color);\n",
              "  }\n",
              "\n",
              "  .colab-df-quickchart-complete:disabled,\n",
              "  .colab-df-quickchart-complete:disabled:hover {\n",
              "    background-color: var(--disabled-bg-color);\n",
              "    fill: var(--disabled-fill-color);\n",
              "    box-shadow: none;\n",
              "  }\n",
              "\n",
              "  .colab-df-spinner {\n",
              "    border: 2px solid var(--fill-color);\n",
              "    border-color: transparent;\n",
              "    border-bottom-color: var(--fill-color);\n",
              "    animation:\n",
              "      spin 1s steps(1) infinite;\n",
              "  }\n",
              "\n",
              "  @keyframes spin {\n",
              "    0% {\n",
              "      border-color: transparent;\n",
              "      border-bottom-color: var(--fill-color);\n",
              "      border-left-color: var(--fill-color);\n",
              "    }\n",
              "    20% {\n",
              "      border-color: transparent;\n",
              "      border-left-color: var(--fill-color);\n",
              "      border-top-color: var(--fill-color);\n",
              "    }\n",
              "    30% {\n",
              "      border-color: transparent;\n",
              "      border-left-color: var(--fill-color);\n",
              "      border-top-color: var(--fill-color);\n",
              "      border-right-color: var(--fill-color);\n",
              "    }\n",
              "    40% {\n",
              "      border-color: transparent;\n",
              "      border-right-color: var(--fill-color);\n",
              "      border-top-color: var(--fill-color);\n",
              "    }\n",
              "    60% {\n",
              "      border-color: transparent;\n",
              "      border-right-color: var(--fill-color);\n",
              "    }\n",
              "    80% {\n",
              "      border-color: transparent;\n",
              "      border-right-color: var(--fill-color);\n",
              "      border-bottom-color: var(--fill-color);\n",
              "    }\n",
              "    90% {\n",
              "      border-color: transparent;\n",
              "      border-bottom-color: var(--fill-color);\n",
              "    }\n",
              "  }\n",
              "</style>\n",
              "\n",
              "  <script>\n",
              "    async function quickchart(key) {\n",
              "      const quickchartButtonEl =\n",
              "        document.querySelector('#' + key + ' button');\n",
              "      quickchartButtonEl.disabled = true;  // To prevent multiple clicks.\n",
              "      quickchartButtonEl.classList.add('colab-df-spinner');\n",
              "      try {\n",
              "        const charts = await google.colab.kernel.invokeFunction(\n",
              "            'suggestCharts', [key], {});\n",
              "      } catch (error) {\n",
              "        console.error('Error during call to suggestCharts:', error);\n",
              "      }\n",
              "      quickchartButtonEl.classList.remove('colab-df-spinner');\n",
              "      quickchartButtonEl.classList.add('colab-df-quickchart-complete');\n",
              "    }\n",
              "    (() => {\n",
              "      let quickchartButtonEl =\n",
              "        document.querySelector('#df-d652d446-0e97-4e1e-a679-eae3cd511ca5 button');\n",
              "      quickchartButtonEl.style.display =\n",
              "        google.colab.kernel.accessAllowed ? 'block' : 'none';\n",
              "    })();\n",
              "  </script>\n",
              "</div>\n",
              "\n",
              "  <div id=\"id_b0f94200-66e6-4a71-b706-820a99e807fb\">\n",
              "    <style>\n",
              "      .colab-df-generate {\n",
              "        background-color: #E8F0FE;\n",
              "        border: none;\n",
              "        border-radius: 50%;\n",
              "        cursor: pointer;\n",
              "        display: none;\n",
              "        fill: #1967D2;\n",
              "        height: 32px;\n",
              "        padding: 0 0 0 0;\n",
              "        width: 32px;\n",
              "      }\n",
              "\n",
              "      .colab-df-generate:hover {\n",
              "        background-color: #E2EBFA;\n",
              "        box-shadow: 0px 1px 2px rgba(60, 64, 67, 0.3), 0px 1px 3px 1px rgba(60, 64, 67, 0.15);\n",
              "        fill: #174EA6;\n",
              "      }\n",
              "\n",
              "      [theme=dark] .colab-df-generate {\n",
              "        background-color: #3B4455;\n",
              "        fill: #D2E3FC;\n",
              "      }\n",
              "\n",
              "      [theme=dark] .colab-df-generate:hover {\n",
              "        background-color: #434B5C;\n",
              "        box-shadow: 0px 1px 3px 1px rgba(0, 0, 0, 0.15);\n",
              "        filter: drop-shadow(0px 1px 2px rgba(0, 0, 0, 0.3));\n",
              "        fill: #FFFFFF;\n",
              "      }\n",
              "    </style>\n",
              "    <button class=\"colab-df-generate\" onclick=\"generateWithVariable('manhattan_df')\"\n",
              "            title=\"Generate code using this dataframe.\"\n",
              "            style=\"display:none;\">\n",
              "\n",
              "  <svg xmlns=\"http://www.w3.org/2000/svg\" height=\"24px\"viewBox=\"0 0 24 24\"\n",
              "       width=\"24px\">\n",
              "    <path d=\"M7,19H8.4L18.45,9,17,7.55,7,17.6ZM5,21V16.75L18.45,3.32a2,2,0,0,1,2.83,0l1.4,1.43a1.91,1.91,0,0,1,.58,1.4,1.91,1.91,0,0,1-.58,1.4L9.25,21ZM18.45,9,17,7.55Zm-12,3A5.31,5.31,0,0,0,4.9,8.1,5.31,5.31,0,0,0,1,6.5,5.31,5.31,0,0,0,4.9,4.9,5.31,5.31,0,0,0,6.5,1,5.31,5.31,0,0,0,8.1,4.9,5.31,5.31,0,0,0,12,6.5,5.46,5.46,0,0,0,6.5,12Z\"/>\n",
              "  </svg>\n",
              "    </button>\n",
              "    <script>\n",
              "      (() => {\n",
              "      const buttonEl =\n",
              "        document.querySelector('#id_b0f94200-66e6-4a71-b706-820a99e807fb button.colab-df-generate');\n",
              "      buttonEl.style.display =\n",
              "        google.colab.kernel.accessAllowed ? 'block' : 'none';\n",
              "\n",
              "      buttonEl.onclick = () => {\n",
              "        google.colab.notebook.generateWithVariable('manhattan_df');\n",
              "      }\n",
              "      })();\n",
              "    </script>\n",
              "  </div>\n",
              "\n",
              "    </div>\n",
              "  </div>\n"
            ],
            "application/vnd.google.colaboratory.intrinsic+json": {
              "type": "dataframe",
              "variable_name": "manhattan_df",
              "summary": "{\n  \"name\": \"manhattan_df\",\n  \"rows\": 7,\n  \"fields\": [\n    {\n      \"column\": \"Node 0\",\n      \"properties\": {\n        \"dtype\": \"number\",\n        \"std\": 26.02562298285218,\n        \"min\": 0.0,\n        \"max\": 74.65971041203463,\n        \"num_unique_values\": 6,\n        \"samples\": [\n          0.0,\n          22.425605551984177,\n          42.92059807748549\n        ],\n        \"semantic_type\": \"\",\n        \"description\": \"\"\n      }\n    },\n    {\n      \"column\": \"Node 1\",\n      \"properties\": {\n        \"dtype\": \"number\",\n        \"std\": 18.385773034595843,\n        \"min\": 0.0,\n        \"max\": 52.23410486005046,\n        \"num_unique_values\": 6,\n        \"samples\": [\n          22.425605551984177,\n          0.0,\n          20.49499252550131\n        ],\n        \"semantic_type\": \"\",\n        \"description\": \"\"\n      }\n    },\n    {\n      \"column\": \"Node 2\",\n      \"properties\": {\n        \"dtype\": \"number\",\n        \"std\": 25.78995537171368,\n        \"min\": 0.0,\n        \"max\": 80.24605554030029,\n        \"num_unique_values\": 6,\n        \"samples\": [\n          19.445395789418342,\n          28.01195068024984,\n          48.50694320575115\n        ],\n        \"semantic_type\": \"\",\n        \"description\": \"\"\n      }\n    },\n    {\n      \"column\": \"Node 3\",\n      \"properties\": {\n        \"dtype\": \"number\",\n        \"std\": 34.3412168210318,\n        \"min\": 0.0,\n        \"max\": 103.44070311946388,\n        \"num_unique_values\": 6,\n        \"samples\": [\n          28.78099270742925,\n          51.206598259413425,\n          71.70159078491474\n        ],\n        \"semantic_type\": \"\",\n        \"description\": \"\"\n      }\n    },\n    {\n      \"column\": \"Node 4\",\n      \"properties\": {\n        \"dtype\": \"number\",\n        \"std\": 34.603697141658245,\n        \"min\": 0.0,\n        \"max\": 103.44070311946388,\n        \"num_unique_values\": 6,\n        \"samples\": [\n          74.65971041203463,\n          52.23410486005046,\n          31.739112334549148\n        ],\n        \"semantic_type\": \"\",\n        \"description\": \"\"\n      }\n    },\n    {\n      \"column\": \"Node 5\",\n      \"properties\": {\n        \"dtype\": \"number\",\n        \"std\": 22.641172115446462,\n        \"min\": 0.0,\n        \"max\": 71.70159078491474,\n        \"num_unique_values\": 6,\n        \"samples\": [\n          42.92059807748549,\n          20.49499252550131,\n          0.0\n        ],\n        \"semantic_type\": \"\",\n        \"description\": \"\"\n      }\n    },\n    {\n      \"column\": \"Node 6\",\n      \"properties\": {\n        \"dtype\": \"number\",\n        \"std\": 26.02562298285218,\n        \"min\": 0.0,\n        \"max\": 74.65971041203463,\n        \"num_unique_values\": 6,\n        \"samples\": [\n          0.0,\n          22.425605551984177,\n          42.92059807748549\n        ],\n        \"semantic_type\": \"\",\n        \"description\": \"\"\n      }\n    }\n  ]\n}"
            }
          },
          "metadata": {},
          "execution_count": 91
        }
      ]
    },
    {
      "cell_type": "markdown",
      "source": [
        "## Plot the nodes"
      ],
      "metadata": {
        "id": "tXIMqXwrsdoK"
      }
    },
    {
      "cell_type": "code",
      "source": [
        "plt.figure(figsize=(10, 10))\n",
        "plt.scatter(coordinates[:, 0], coordinates[:, 1], color='red')\n",
        "\n",
        "# Annotate the nodes\n",
        "for i, (x, y) in enumerate(coordinates):\n",
        "    plt.text(x, y, f'Node {i}', fontsize=12, ha='right')\n",
        "\n",
        "# Draw lines between nodes for Euclidean distances\n",
        "for i in range(num_nodes):\n",
        "    for j in range(i + 1, num_nodes):\n",
        "        plt.plot([coordinates[i, 0], coordinates[j, 0]], [coordinates[i, 1], coordinates[j, 1]], 'gray', linestyle='--', linewidth=0.5)\n",
        "\n",
        "plt.title('Nodes and Euclidean Distances')\n",
        "plt.xlabel('X Coordinate')\n",
        "plt.ylabel('Y Coordinate')\n",
        "plt.grid(True)\n",
        "plt.show()"
      ],
      "metadata": {
        "colab": {
          "base_uri": "https://localhost:8080/",
          "height": 872
        },
        "id": "DXe8sq8ysbj_",
        "outputId": "3b7ee4fa-a8c5-411b-fc59-59dab9c81305"
      },
      "execution_count": null,
      "outputs": [
        {
          "output_type": "display_data",
          "data": {
            "text/plain": [
              "<Figure size 1000x1000 with 1 Axes>"
            ],
            "image/png": "[encoded data removed]"
          },
          "metadata": {}
        }
      ]
    },
    {
      "cell_type": "code",
      "source": [
        "euclidean_df"
      ],
      "metadata": {
        "colab": {
          "base_uri": "https://localhost:8080/",
          "height": 269
        },
        "id": "5lEohVvssjjD",
        "outputId": "290c92e2-1caf-44b2-91f3-314bd7e637fa"
      },
      "execution_count": null,
      "outputs": [
        {
          "output_type": "execute_result",
          "data": {
            "text/plain": [
              "           Node 0     Node 1     Node 2     Node 3     Node 4     Node 5  \\\n",
              "Node 0   0.000000  17.864710  14.306129  20.869372  53.118409  30.612356   \n",
              "Node 1  17.864710   0.000000  20.562852  38.420790  39.536284  18.963685   \n",
              "Node 2  14.306129  20.562852   0.000000  24.627330  60.040816  38.621822   \n",
              "Node 3  20.869372  38.420790  24.627330   0.000000  73.154383  50.704448   \n",
              "Node 4  53.118409  39.536284  60.040816  73.154383   0.000000  22.520940   \n",
              "Node 5  30.612356  18.963685  38.621822  50.704448  22.520940   0.000000   \n",
              "Node 6   0.000000  17.864710  14.306129  20.869372  53.118409  30.612356   \n",
              "\n",
              "           Node 6  \n",
              "Node 0   0.000000  \n",
              "Node 1  17.864710  \n",
              "Node 2  14.306129  \n",
              "Node 3  20.869372  \n",
              "Node 4  53.118409  \n",
              "Node 5  30.612356  \n",
              "Node 6   0.000000  "
            ],
            "text/html": [
              "\n",
              "  <div id=\"df-0164b93d-56c4-4ce9-885f-d2e72bb93970\" class=\"colab-df-container\">\n",
              "    <div>\n",
              "<style scoped>\n",
              "    .dataframe tbody tr th:only-of-type {\n",
              "        vertical-align: middle;\n",
              "    }\n",
              "\n",
              "    .dataframe tbody tr th {\n",
              "        vertical-align: top;\n",
              "    }\n",
              "\n",
              "    .dataframe thead th {\n",
              "        text-align: right;\n",
              "    }\n",
              "</style>\n",
              "<table border=\"1\" class=\"dataframe\">\n",
              "  <thead>\n",
              "    <tr style=\"text-align: right;\">\n",
              "      <th></th>\n",
              "      <th>Node 0</th>\n",
              "      <th>Node 1</th>\n",
              "      <th>Node 2</th>\n",
              "      <th>Node 3</th>\n",
              "      <th>Node 4</th>\n",
              "      <th>Node 5</th>\n",
              "      <th>Node 6</th>\n",
              "    </tr>\n",
              "  </thead>\n",
              "  <tbody>\n",
              "    <tr>\n",
              "      <th>Node 0</th>\n",
              "      <td>0.000000</td>\n",
              "      <td>17.864710</td>\n",
              "      <td>14.306129</td>\n",
              "      <td>20.869372</td>\n",
              "      <td>53.118409</td>\n",
              "      <td>30.612356</td>\n",
              "      <td>0.000000</td>\n",
              "    </tr>\n",
              "    <tr>\n",
              "      <th>Node 1</th>\n",
              "      <td>17.864710</td>\n",
              "      <td>0.000000</td>\n",
              "      <td>20.562852</td>\n",
              "      <td>38.420790</td>\n",
              "      <td>39.536284</td>\n",
              "      <td>18.963685</td>\n",
              "      <td>17.864710</td>\n",
              "    </tr>\n",
              "    <tr>\n",
              "      <th>Node 2</th>\n",
              "      <td>14.306129</td>\n",
              "      <td>20.562852</td>\n",
              "      <td>0.000000</td>\n",
              "      <td>24.627330</td>\n",
              "      <td>60.040816</td>\n",
              "      <td>38.621822</td>\n",
              "      <td>14.306129</td>\n",
              "    </tr>\n",
              "    <tr>\n",
              "      <th>Node 3</th>\n",
              "      <td>20.869372</td>\n",
              "      <td>38.420790</td>\n",
              "      <td>24.627330</td>\n",
              "      <td>0.000000</td>\n",
              "      <td>73.154383</td>\n",
              "      <td>50.704448</td>\n",
              "      <td>20.869372</td>\n",
              "    </tr>\n",
              "    <tr>\n",
              "      <th>Node 4</th>\n",
              "      <td>53.118409</td>\n",
              "      <td>39.536284</td>\n",
              "      <td>60.040816</td>\n",
              "      <td>73.154383</td>\n",
              "      <td>0.000000</td>\n",
              "      <td>22.520940</td>\n",
              "      <td>53.118409</td>\n",
              "    </tr>\n",
              "    <tr>\n",
              "      <th>Node 5</th>\n",
              "      <td>30.612356</td>\n",
              "      <td>18.963685</td>\n",
              "      <td>38.621822</td>\n",
              "      <td>50.704448</td>\n",
              "      <td>22.520940</td>\n",
              "      <td>0.000000</td>\n",
              "      <td>30.612356</td>\n",
              "    </tr>\n",
              "    <tr>\n",
              "      <th>Node 6</th>\n",
              "      <td>0.000000</td>\n",
              "      <td>17.864710</td>\n",
              "      <td>14.306129</td>\n",
              "      <td>20.869372</td>\n",
              "      <td>53.118409</td>\n",
              "      <td>30.612356</td>\n",
              "      <td>0.000000</td>\n",
              "    </tr>\n",
              "  </tbody>\n",
              "</table>\n",
              "</div>\n",
              "    <div class=\"colab-df-buttons\">\n",
              "\n",
              "  <div class=\"colab-df-container\">\n",
              "    <button class=\"colab-df-convert\" onclick=\"convertToInteractive('df-0164b93d-56c4-4ce9-885f-d2e72bb93970')\"\n",
              "            title=\"Convert this dataframe to an interactive table.\"\n",
              "            style=\"display:none;\">\n",
              "\n",
              "  <svg xmlns=\"http://www.w3.org/2000/svg\" height=\"24px\" viewBox=\"0 -960 960 960\">\n",
              "    <path d=\"M120-120v-720h720v720H120Zm60-500h600v-160H180v160Zm220 220h160v-160H400v160Zm0 220h160v-160H400v160ZM180-400h160v-160H180v160Zm440 0h160v-160H620v160ZM180-180h160v-160H180v160Zm440 0h160v-160H620v160Z\"/>\n",
              "  </svg>\n",
              "    </button>\n",
              "\n",
              "  <style>\n",
              "    .colab-df-container {\n",
              "      display:flex;\n",
              "      gap: 12px;\n",
              "    }\n",
              "\n",
              "    .colab-df-convert {\n",
              "      background-color: #E8F0FE;\n",
              "      border: none;\n",
              "      border-radius: 50%;\n",
              "      cursor: pointer;\n",
              "      display: none;\n",
              "      fill: #1967D2;\n",
              "      height: 32px;\n",
              "      padding: 0 0 0 0;\n",
              "      width: 32px;\n",
              "    }\n",
              "\n",
              "    .colab-df-convert:hover {\n",
              "      background-color: #E2EBFA;\n",
              "      box-shadow: 0px 1px 2px rgba(60, 64, 67, 0.3), 0px 1px 3px 1px rgba(60, 64, 67, 0.15);\n",
              "      fill: #174EA6;\n",
              "    }\n",
              "\n",
              "    .colab-df-buttons div {\n",
              "      margin-bottom: 4px;\n",
              "    }\n",
              "\n",
              "    [theme=dark] .colab-df-convert {\n",
              "      background-color: #3B4455;\n",
              "      fill: #D2E3FC;\n",
              "    }\n",
              "\n",
              "    [theme=dark] .colab-df-convert:hover {\n",
              "      background-color: #434B5C;\n",
              "      box-shadow: 0px 1px 3px 1px rgba(0, 0, 0, 0.15);\n",
              "      filter: drop-shadow(0px 1px 2px rgba(0, 0, 0, 0.3));\n",
              "      fill: #FFFFFF;\n",
              "    }\n",
              "  </style>\n",
              "\n",
              "    <script>\n",
              "      const buttonEl =\n",
              "        document.querySelector('#df-0164b93d-56c4-4ce9-885f-d2e72bb93970 button.colab-df-convert');\n",
              "      buttonEl.style.display =\n",
              "        google.colab.kernel.accessAllowed ? 'block' : 'none';\n",
              "\n",
              "      async function convertToInteractive(key) {\n",
              "        const element = document.querySelector('#df-0164b93d-56c4-4ce9-885f-d2e72bb93970');\n",
              "        const dataTable =\n",
              "          await google.colab.kernel.invokeFunction('convertToInteractive',\n",
              "                                                    [key], {});\n",
              "        if (!dataTable) return;\n",
              "\n",
              "        const docLinkHtml = 'Like what you see? Visit the ' +\n",
              "          '<a target=\"_blank\" href=https://colab.research.google.com/notebooks/data_table.ipynb>data table notebook</a>'\n",
              "          + ' to learn more about interactive tables.';\n",
              "        element.innerHTML = '';\n",
              "        dataTable['output_type'] = 'display_data';\n",
              "        await google.colab.output.renderOutput(dataTable, element);\n",
              "        const docLink = document.createElement('div');\n",
              "        docLink.innerHTML = docLinkHtml;\n",
              "        element.appendChild(docLink);\n",
              "      }\n",
              "    </script>\n",
              "  </div>\n",
              "\n",
              "\n",
              "<div id=\"df-0fa09d6b-0953-4c40-a683-319a2a4cf1cb\">\n",
              "  <button class=\"colab-df-quickchart\" onclick=\"quickchart('df-0fa09d6b-0953-4c40-a683-319a2a4cf1cb')\"\n",
              "            title=\"Suggest charts\"\n",
              "            style=\"display:none;\">\n",
              "\n",
              "<svg xmlns=\"http://www.w3.org/2000/svg\" height=\"24px\"viewBox=\"0 0 24 24\"\n",
              "     width=\"24px\">\n",
              "    <g>\n",
              "        <path d=\"M19 3H5c-1.1 0-2 .9-2 2v14c0 1.1.9 2 2 2h14c1.1 0 2-.9 2-2V5c0-1.1-.9-2-2-2zM9 17H7v-7h2v7zm4 0h-2V7h2v10zm4 0h-2v-4h2v4z\"/>\n",
              "    </g>\n",
              "</svg>\n",
              "  </button>\n",
              "\n",
              "<style>\n",
              "  .colab-df-quickchart {\n",
              "      --bg-color: #E8F0FE;\n",
              "      --fill-color: #1967D2;\n",
              "      --hover-bg-color: #E2EBFA;\n",
              "      --hover-fill-color: #174EA6;\n",
              "      --disabled-fill-color: #AAA;\n",
              "      --disabled-bg-color: #DDD;\n",
              "  }\n",
              "\n",
              "  [theme=dark] .colab-df-quickchart {\n",
              "      --bg-color: #3B4455;\n",
              "      --fill-color: #D2E3FC;\n",
              "      --hover-bg-color: #434B5C;\n",
              "      --hover-fill-color: #FFFFFF;\n",
              "      --disabled-bg-color: #3B4455;\n",
              "      --disabled-fill-color: #666;\n",
              "  }\n",
              "\n",
              "  .colab-df-quickchart {\n",
              "    background-color: var(--bg-color);\n",
              "    border: none;\n",
              "    border-radius: 50%;\n",
              "    cursor: pointer;\n",
              "    display: none;\n",
              "    fill: var(--fill-color);\n",
              "    height: 32px;\n",
              "    padding: 0;\n",
              "    width: 32px;\n",
              "  }\n",
              "\n",
              "  .colab-df-quickchart:hover {\n",
              "    background-color: var(--hover-bg-color);\n",
              "    box-shadow: 0 1px 2px rgba(60, 64, 67, 0.3), 0 1px 3px 1px rgba(60, 64, 67, 0.15);\n",
              "    fill: var(--button-hover-fill-color);\n",
              "  }\n",
              "\n",
              "  .colab-df-quickchart-complete:disabled,\n",
              "  .colab-df-quickchart-complete:disabled:hover {\n",
              "    background-color: var(--disabled-bg-color);\n",
              "    fill: var(--disabled-fill-color);\n",
              "    box-shadow: none;\n",
              "  }\n",
              "\n",
              "  .colab-df-spinner {\n",
              "    border: 2px solid var(--fill-color);\n",
              "    border-color: transparent;\n",
              "    border-bottom-color: var(--fill-color);\n",
              "    animation:\n",
              "      spin 1s steps(1) infinite;\n",
              "  }\n",
              "\n",
              "  @keyframes spin {\n",
              "    0% {\n",
              "      border-color: transparent;\n",
              "      border-bottom-color: var(--fill-color);\n",
              "      border-left-color: var(--fill-color);\n",
              "    }\n",
              "    20% {\n",
              "      border-color: transparent;\n",
              "      border-left-color: var(--fill-color);\n",
              "      border-top-color: var(--fill-color);\n",
              "    }\n",
              "    30% {\n",
              "      border-color: transparent;\n",
              "      border-left-color: var(--fill-color);\n",
              "      border-top-color: var(--fill-color);\n",
              "      border-right-color: var(--fill-color);\n",
              "    }\n",
              "    40% {\n",
              "      border-color: transparent;\n",
              "      border-right-color: var(--fill-color);\n",
              "      border-top-color: var(--fill-color);\n",
              "    }\n",
              "    60% {\n",
              "      border-color: transparent;\n",
              "      border-right-color: var(--fill-color);\n",
              "    }\n",
              "    80% {\n",
              "      border-color: transparent;\n",
              "      border-right-color: var(--fill-color);\n",
              "      border-bottom-color: var(--fill-color);\n",
              "    }\n",
              "    90% {\n",
              "      border-color: transparent;\n",
              "      border-bottom-color: var(--fill-color);\n",
              "    }\n",
              "  }\n",
              "</style>\n",
              "\n",
              "  <script>\n",
              "    async function quickchart(key) {\n",
              "      const quickchartButtonEl =\n",
              "        document.querySelector('#' + key + ' button');\n",
              "      quickchartButtonEl.disabled = true;  // To prevent multiple clicks.\n",
              "      quickchartButtonEl.classList.add('colab-df-spinner');\n",
              "      try {\n",
              "        const charts = await google.colab.kernel.invokeFunction(\n",
              "            'suggestCharts', [key], {});\n",
              "      } catch (error) {\n",
              "        console.error('Error during call to suggestCharts:', error);\n",
              "      }\n",
              "      quickchartButtonEl.classList.remove('colab-df-spinner');\n",
              "      quickchartButtonEl.classList.add('colab-df-quickchart-complete');\n",
              "    }\n",
              "    (() => {\n",
              "      let quickchartButtonEl =\n",
              "        document.querySelector('#df-0fa09d6b-0953-4c40-a683-319a2a4cf1cb button');\n",
              "      quickchartButtonEl.style.display =\n",
              "        google.colab.kernel.accessAllowed ? 'block' : 'none';\n",
              "    })();\n",
              "  </script>\n",
              "</div>\n",
              "\n",
              "  <div id=\"id_1a451fdc-7679-4a8c-a679-97ee98037c2a\">\n",
              "    <style>\n",
              "      .colab-df-generate {\n",
              "        background-color: #E8F0FE;\n",
              "        border: none;\n",
              "        border-radius: 50%;\n",
              "        cursor: pointer;\n",
              "        display: none;\n",
              "        fill: #1967D2;\n",
              "        height: 32px;\n",
              "        padding: 0 0 0 0;\n",
              "        width: 32px;\n",
              "      }\n",
              "\n",
              "      .colab-df-generate:hover {\n",
              "        background-color: #E2EBFA;\n",
              "        box-shadow: 0px 1px 2px rgba(60, 64, 67, 0.3), 0px 1px 3px 1px rgba(60, 64, 67, 0.15);\n",
              "        fill: #174EA6;\n",
              "      }\n",
              "\n",
              "      [theme=dark] .colab-df-generate {\n",
              "        background-color: #3B4455;\n",
              "        fill: #D2E3FC;\n",
              "      }\n",
              "\n",
              "      [theme=dark] .colab-df-generate:hover {\n",
              "        background-color: #434B5C;\n",
              "        box-shadow: 0px 1px 3px 1px rgba(0, 0, 0, 0.15);\n",
              "        filter: drop-shadow(0px 1px 2px rgba(0, 0, 0, 0.3));\n",
              "        fill: #FFFFFF;\n",
              "      }\n",
              "    </style>\n",
              "    <button class=\"colab-df-generate\" onclick=\"generateWithVariable('euclidean_df')\"\n",
              "            title=\"Generate code using this dataframe.\"\n",
              "            style=\"display:none;\">\n",
              "\n",
              "  <svg xmlns=\"http://www.w3.org/2000/svg\" height=\"24px\"viewBox=\"0 0 24 24\"\n",
              "       width=\"24px\">\n",
              "    <path d=\"M7,19H8.4L18.45,9,17,7.55,7,17.6ZM5,21V16.75L18.45,3.32a2,2,0,0,1,2.83,0l1.4,1.43a1.91,1.91,0,0,1,.58,1.4,1.91,1.91,0,0,1-.58,1.4L9.25,21ZM18.45,9,17,7.55Zm-12,3A5.31,5.31,0,0,0,4.9,8.1,5.31,5.31,0,0,0,1,6.5,5.31,5.31,0,0,0,4.9,4.9,5.31,5.31,0,0,0,6.5,1,5.31,5.31,0,0,0,8.1,4.9,5.31,5.31,0,0,0,12,6.5,5.46,5.46,0,0,0,6.5,12Z\"/>\n",
              "  </svg>\n",
              "    </button>\n",
              "    <script>\n",
              "      (() => {\n",
              "      const buttonEl =\n",
              "        document.querySelector('#id_1a451fdc-7679-4a8c-a679-97ee98037c2a button.colab-df-generate');\n",
              "      buttonEl.style.display =\n",
              "        google.colab.kernel.accessAllowed ? 'block' : 'none';\n",
              "\n",
              "      buttonEl.onclick = () => {\n",
              "        google.colab.notebook.generateWithVariable('euclidean_df');\n",
              "      }\n",
              "      })();\n",
              "    </script>\n",
              "  </div>\n",
              "\n",
              "    </div>\n",
              "  </div>\n"
            ],
            "application/vnd.google.colaboratory.intrinsic+json": {
              "type": "dataframe",
              "variable_name": "euclidean_df",
              "summary": "{\n  \"name\": \"euclidean_df\",\n  \"rows\": 7,\n  \"fields\": [\n    {\n      \"column\": \"Node 0\",\n      \"properties\": {\n        \"dtype\": \"number\",\n        \"std\": 18.464818142898174,\n        \"min\": 0.0,\n        \"max\": 53.118409241202365,\n        \"num_unique_values\": 6,\n        \"samples\": [\n          0.0,\n          17.864709569518762,\n          30.6123560457166\n        ],\n        \"semantic_type\": \"\",\n        \"description\": \"\"\n      }\n    },\n    {\n      \"column\": \"Node 1\",\n      \"properties\": {\n        \"dtype\": \"number\",\n        \"std\": 13.580384088346054,\n        \"min\": 0.0,\n        \"max\": 39.53628417186544,\n        \"num_unique_values\": 6,\n        \"samples\": [\n          17.864709569518762,\n          0.0,\n          18.963684840116496\n        ],\n        \"semantic_type\": \"\",\n        \"description\": \"\"\n      }\n    },\n    {\n      \"column\": \"Node 2\",\n      \"properties\": {\n        \"dtype\": \"number\",\n        \"std\": 19.519391065571117,\n        \"min\": 0.0,\n        \"max\": 60.040816312092375,\n        \"num_unique_values\": 6,\n        \"samples\": [\n          14.306129268590196,\n          20.562852490057235,\n          38.62182179609825\n        ],\n        \"semantic_type\": \"\",\n        \"description\": \"\"\n      }\n    },\n    {\n      \"column\": \"Node 3\",\n      \"properties\": {\n        \"dtype\": \"number\",\n        \"std\": 23.832124629447257,\n        \"min\": 0.0,\n        \"max\": 73.15438326268003,\n        \"num_unique_values\": 6,\n        \"samples\": [\n          20.86937184518091,\n          38.42079008870474,\n          50.70444774141507\n        ],\n        \"semantic_type\": \"\",\n        \"description\": \"\"\n      }\n    },\n    {\n      \"column\": \"Node 4\",\n      \"properties\": {\n        \"dtype\": \"number\",\n        \"std\": 24.781699256570764,\n        \"min\": 0.0,\n        \"max\": 73.15438326268003,\n        \"num_unique_values\": 6,\n        \"samples\": [\n          53.118409241202365,\n          39.53628417186544,\n          22.52093964107229\n        ],\n        \"semantic_type\": \"\",\n        \"description\": \"\"\n      }\n    },\n    {\n      \"column\": \"Node 5\",\n      \"properties\": {\n        \"dtype\": \"number\",\n        \"std\": 15.996842110832448,\n        \"min\": 0.0,\n        \"max\": 50.70444774141507,\n        \"num_unique_values\": 6,\n        \"samples\": [\n          30.6123560457166,\n          18.963684840116496,\n          0.0\n        ],\n        \"semantic_type\": \"\",\n        \"description\": \"\"\n      }\n    },\n    {\n      \"column\": \"Node 6\",\n      \"properties\": {\n        \"dtype\": \"number\",\n        \"std\": 18.464818142898174,\n        \"min\": 0.0,\n        \"max\": 53.118409241202365,\n        \"num_unique_values\": 6,\n        \"samples\": [\n          0.0,\n          17.864709569518762,\n          30.6123560457166\n        ],\n        \"semantic_type\": \"\",\n        \"description\": \"\"\n      }\n    }\n  ]\n}"
            }
          },
          "metadata": {},
          "execution_count": 93
        }
      ]
    },
    {
      "cell_type": "code",
      "source": [
        "manhattan_df"
      ],
      "metadata": {
        "colab": {
          "base_uri": "https://localhost:8080/",
          "height": 269
        },
        "id": "knayACMWslSq",
        "outputId": "dd4c9bc8-fba1-4c78-ae9e-2bb1e5720df2"
      },
      "execution_count": null,
      "outputs": [
        {
          "output_type": "execute_result",
          "data": {
            "text/plain": [
              "           Node 0     Node 1     Node 2      Node 3      Node 4     Node 5  \\\n",
              "Node 0   0.000000  22.425606  19.445396   28.780993   74.659710  42.920598   \n",
              "Node 1  22.425606   0.000000  28.011951   51.206598   52.234105  20.494993   \n",
              "Node 2  19.445396  28.011951   0.000000   25.981130   80.246056  48.506943   \n",
              "Node 3  28.780993  51.206598  25.981130    0.000000  103.440703  71.701591   \n",
              "Node 4  74.659710  52.234105  80.246056  103.440703    0.000000  31.739112   \n",
              "Node 5  42.920598  20.494993  48.506943   71.701591   31.739112   0.000000   \n",
              "Node 6   0.000000  22.425606  19.445396   28.780993   74.659710  42.920598   \n",
              "\n",
              "           Node 6  \n",
              "Node 0   0.000000  \n",
              "Node 1  22.425606  \n",
              "Node 2  19.445396  \n",
              "Node 3  28.780993  \n",
              "Node 4  74.659710  \n",
              "Node 5  42.920598  \n",
              "Node 6   0.000000  "
            ],
            "text/html": [
              "\n",
              "  <div id=\"df-e2db9460-acf8-4ceb-9a41-68a75d489ac3\" class=\"colab-df-container\">\n",
              "    <div>\n",
              "<style scoped>\n",
              "    .dataframe tbody tr th:only-of-type {\n",
              "        vertical-align: middle;\n",
              "    }\n",
              "\n",
              "    .dataframe tbody tr th {\n",
              "        vertical-align: top;\n",
              "    }\n",
              "\n",
              "    .dataframe thead th {\n",
              "        text-align: right;\n",
              "    }\n",
              "</style>\n",
              "<table border=\"1\" class=\"dataframe\">\n",
              "  <thead>\n",
              "    <tr style=\"text-align: right;\">\n",
              "      <th></th>\n",
              "      <th>Node 0</th>\n",
              "      <th>Node 1</th>\n",
              "      <th>Node 2</th>\n",
              "      <th>Node 3</th>\n",
              "      <th>Node 4</th>\n",
              "      <th>Node 5</th>\n",
              "      <th>Node 6</th>\n",
              "    </tr>\n",
              "  </thead>\n",
              "  <tbody>\n",
              "    <tr>\n",
              "      <th>Node 0</th>\n",
              "      <td>0.000000</td>\n",
              "      <td>22.425606</td>\n",
              "      <td>19.445396</td>\n",
              "      <td>28.780993</td>\n",
              "      <td>74.659710</td>\n",
              "      <td>42.920598</td>\n",
              "      <td>0.000000</td>\n",
              "    </tr>\n",
              "    <tr>\n",
              "      <th>Node 1</th>\n",
              "      <td>22.425606</td>\n",
              "      <td>0.000000</td>\n",
              "      <td>28.011951</td>\n",
              "      <td>51.206598</td>\n",
              "      <td>52.234105</td>\n",
              "      <td>20.494993</td>\n",
              "      <td>22.425606</td>\n",
              "    </tr>\n",
              "    <tr>\n",
              "      <th>Node 2</th>\n",
              "      <td>19.445396</td>\n",
              "      <td>28.011951</td>\n",
              "      <td>0.000000</td>\n",
              "      <td>25.981130</td>\n",
              "      <td>80.246056</td>\n",
              "      <td>48.506943</td>\n",
              "      <td>19.445396</td>\n",
              "    </tr>\n",
              "    <tr>\n",
              "      <th>Node 3</th>\n",
              "      <td>28.780993</td>\n",
              "      <td>51.206598</td>\n",
              "      <td>25.981130</td>\n",
              "      <td>0.000000</td>\n",
              "      <td>103.440703</td>\n",
              "      <td>71.701591</td>\n",
              "      <td>28.780993</td>\n",
              "    </tr>\n",
              "    <tr>\n",
              "      <th>Node 4</th>\n",
              "      <td>74.659710</td>\n",
              "      <td>52.234105</td>\n",
              "      <td>80.246056</td>\n",
              "      <td>103.440703</td>\n",
              "      <td>0.000000</td>\n",
              "      <td>31.739112</td>\n",
              "      <td>74.659710</td>\n",
              "    </tr>\n",
              "    <tr>\n",
              "      <th>Node 5</th>\n",
              "      <td>42.920598</td>\n",
              "      <td>20.494993</td>\n",
              "      <td>48.506943</td>\n",
              "      <td>71.701591</td>\n",
              "      <td>31.739112</td>\n",
              "      <td>0.000000</td>\n",
              "      <td>42.920598</td>\n",
              "    </tr>\n",
              "    <tr>\n",
              "      <th>Node 6</th>\n",
              "      <td>0.000000</td>\n",
              "      <td>22.425606</td>\n",
              "      <td>19.445396</td>\n",
              "      <td>28.780993</td>\n",
              "      <td>74.659710</td>\n",
              "      <td>42.920598</td>\n",
              "      <td>0.000000</td>\n",
              "    </tr>\n",
              "  </tbody>\n",
              "</table>\n",
              "</div>\n",
              "    <div class=\"colab-df-buttons\">\n",
              "\n",
              "  <div class=\"colab-df-container\">\n",
              "    <button class=\"colab-df-convert\" onclick=\"convertToInteractive('df-e2db9460-acf8-4ceb-9a41-68a75d489ac3')\"\n",
              "            title=\"Convert this dataframe to an interactive table.\"\n",
              "            style=\"display:none;\">\n",
              "\n",
              "  <svg xmlns=\"http://www.w3.org/2000/svg\" height=\"24px\" viewBox=\"0 -960 960 960\">\n",
              "    <path d=\"M120-120v-720h720v720H120Zm60-500h600v-160H180v160Zm220 220h160v-160H400v160Zm0 220h160v-160H400v160ZM180-400h160v-160H180v160Zm440 0h160v-160H620v160ZM180-180h160v-160H180v160Zm440 0h160v-160H620v160Z\"/>\n",
              "  </svg>\n",
              "    </button>\n",
              "\n",
              "  <style>\n",
              "    .colab-df-container {\n",
              "      display:flex;\n",
              "      gap: 12px;\n",
              "    }\n",
              "\n",
              "    .colab-df-convert {\n",
              "      background-color: #E8F0FE;\n",
              "      border: none;\n",
              "      border-radius: 50%;\n",
              "      cursor: pointer;\n",
              "      display: none;\n",
              "      fill: #1967D2;\n",
              "      height: 32px;\n",
              "      padding: 0 0 0 0;\n",
              "      width: 32px;\n",
              "    }\n",
              "\n",
              "    .colab-df-convert:hover {\n",
              "      background-color: #E2EBFA;\n",
              "      box-shadow: 0px 1px 2px rgba(60, 64, 67, 0.3), 0px 1px 3px 1px rgba(60, 64, 67, 0.15);\n",
              "      fill: #174EA6;\n",
              "    }\n",
              "\n",
              "    .colab-df-buttons div {\n",
              "      margin-bottom: 4px;\n",
              "    }\n",
              "\n",
              "    [theme=dark] .colab-df-convert {\n",
              "      background-color: #3B4455;\n",
              "      fill: #D2E3FC;\n",
              "    }\n",
              "\n",
              "    [theme=dark] .colab-df-convert:hover {\n",
              "      background-color: #434B5C;\n",
              "      box-shadow: 0px 1px 3px 1px rgba(0, 0, 0, 0.15);\n",
              "      filter: drop-shadow(0px 1px 2px rgba(0, 0, 0, 0.3));\n",
              "      fill: #FFFFFF;\n",
              "    }\n",
              "  </style>\n",
              "\n",
              "    <script>\n",
              "      const buttonEl =\n",
              "        document.querySelector('#df-e2db9460-acf8-4ceb-9a41-68a75d489ac3 button.colab-df-convert');\n",
              "      buttonEl.style.display =\n",
              "        google.colab.kernel.accessAllowed ? 'block' : 'none';\n",
              "\n",
              "      async function convertToInteractive(key) {\n",
              "        const element = document.querySelector('#df-e2db9460-acf8-4ceb-9a41-68a75d489ac3');\n",
              "        const dataTable =\n",
              "          await google.colab.kernel.invokeFunction('convertToInteractive',\n",
              "                                                    [key], {});\n",
              "        if (!dataTable) return;\n",
              "\n",
              "        const docLinkHtml = 'Like what you see? Visit the ' +\n",
              "          '<a target=\"_blank\" href=https://colab.research.google.com/notebooks/data_table.ipynb>data table notebook</a>'\n",
              "          + ' to learn more about interactive tables.';\n",
              "        element.innerHTML = '';\n",
              "        dataTable['output_type'] = 'display_data';\n",
              "        await google.colab.output.renderOutput(dataTable, element);\n",
              "        const docLink = document.createElement('div');\n",
              "        docLink.innerHTML = docLinkHtml;\n",
              "        element.appendChild(docLink);\n",
              "      }\n",
              "    </script>\n",
              "  </div>\n",
              "\n",
              "\n",
              "<div id=\"df-b5d9d850-2476-44e2-9fc7-f7ce0502c781\">\n",
              "  <button class=\"colab-df-quickchart\" onclick=\"quickchart('df-b5d9d850-2476-44e2-9fc7-f7ce0502c781')\"\n",
              "            title=\"Suggest charts\"\n",
              "            style=\"display:none;\">\n",
              "\n",
              "<svg xmlns=\"http://www.w3.org/2000/svg\" height=\"24px\"viewBox=\"0 0 24 24\"\n",
              "     width=\"24px\">\n",
              "    <g>\n",
              "        <path d=\"M19 3H5c-1.1 0-2 .9-2 2v14c0 1.1.9 2 2 2h14c1.1 0 2-.9 2-2V5c0-1.1-.9-2-2-2zM9 17H7v-7h2v7zm4 0h-2V7h2v10zm4 0h-2v-4h2v4z\"/>\n",
              "    </g>\n",
              "</svg>\n",
              "  </button>\n",
              "\n",
              "<style>\n",
              "  .colab-df-quickchart {\n",
              "      --bg-color: #E8F0FE;\n",
              "      --fill-color: #1967D2;\n",
              "      --hover-bg-color: #E2EBFA;\n",
              "      --hover-fill-color: #174EA6;\n",
              "      --disabled-fill-color: #AAA;\n",
              "      --disabled-bg-color: #DDD;\n",
              "  }\n",
              "\n",
              "  [theme=dark] .colab-df-quickchart {\n",
              "      --bg-color: #3B4455;\n",
              "      --fill-color: #D2E3FC;\n",
              "      --hover-bg-color: #434B5C;\n",
              "      --hover-fill-color: #FFFFFF;\n",
              "      --disabled-bg-color: #3B4455;\n",
              "      --disabled-fill-color: #666;\n",
              "  }\n",
              "\n",
              "  .colab-df-quickchart {\n",
              "    background-color: var(--bg-color);\n",
              "    border: none;\n",
              "    border-radius: 50%;\n",
              "    cursor: pointer;\n",
              "    display: none;\n",
              "    fill: var(--fill-color);\n",
              "    height: 32px;\n",
              "    padding: 0;\n",
              "    width: 32px;\n",
              "  }\n",
              "\n",
              "  .colab-df-quickchart:hover {\n",
              "    background-color: var(--hover-bg-color);\n",
              "    box-shadow: 0 1px 2px rgba(60, 64, 67, 0.3), 0 1px 3px 1px rgba(60, 64, 67, 0.15);\n",
              "    fill: var(--button-hover-fill-color);\n",
              "  }\n",
              "\n",
              "  .colab-df-quickchart-complete:disabled,\n",
              "  .colab-df-quickchart-complete:disabled:hover {\n",
              "    background-color: var(--disabled-bg-color);\n",
              "    fill: var(--disabled-fill-color);\n",
              "    box-shadow: none;\n",
              "  }\n",
              "\n",
              "  .colab-df-spinner {\n",
              "    border: 2px solid var(--fill-color);\n",
              "    border-color: transparent;\n",
              "    border-bottom-color: var(--fill-color);\n",
              "    animation:\n",
              "      spin 1s steps(1) infinite;\n",
              "  }\n",
              "\n",
              "  @keyframes spin {\n",
              "    0% {\n",
              "      border-color: transparent;\n",
              "      border-bottom-color: var(--fill-color);\n",
              "      border-left-color: var(--fill-color);\n",
              "    }\n",
              "    20% {\n",
              "      border-color: transparent;\n",
              "      border-left-color: var(--fill-color);\n",
              "      border-top-color: var(--fill-color);\n",
              "    }\n",
              "    30% {\n",
              "      border-color: transparent;\n",
              "      border-left-color: var(--fill-color);\n",
              "      border-top-color: var(--fill-color);\n",
              "      border-right-color: var(--fill-color);\n",
              "    }\n",
              "    40% {\n",
              "      border-color: transparent;\n",
              "      border-right-color: var(--fill-color);\n",
              "      border-top-color: var(--fill-color);\n",
              "    }\n",
              "    60% {\n",
              "      border-color: transparent;\n",
              "      border-right-color: var(--fill-color);\n",
              "    }\n",
              "    80% {\n",
              "      border-color: transparent;\n",
              "      border-right-color: var(--fill-color);\n",
              "      border-bottom-color: var(--fill-color);\n",
              "    }\n",
              "    90% {\n",
              "      border-color: transparent;\n",
              "      border-bottom-color: var(--fill-color);\n",
              "    }\n",
              "  }\n",
              "</style>\n",
              "\n",
              "  <script>\n",
              "    async function quickchart(key) {\n",
              "      const quickchartButtonEl =\n",
              "        document.querySelector('#' + key + ' button');\n",
              "      quickchartButtonEl.disabled = true;  // To prevent multiple clicks.\n",
              "      quickchartButtonEl.classList.add('colab-df-spinner');\n",
              "      try {\n",
              "        const charts = await google.colab.kernel.invokeFunction(\n",
              "            'suggestCharts', [key], {});\n",
              "      } catch (error) {\n",
              "        console.error('Error during call to suggestCharts:', error);\n",
              "      }\n",
              "      quickchartButtonEl.classList.remove('colab-df-spinner');\n",
              "      quickchartButtonEl.classList.add('colab-df-quickchart-complete');\n",
              "    }\n",
              "    (() => {\n",
              "      let quickchartButtonEl =\n",
              "        document.querySelector('#df-b5d9d850-2476-44e2-9fc7-f7ce0502c781 button');\n",
              "      quickchartButtonEl.style.display =\n",
              "        google.colab.kernel.accessAllowed ? 'block' : 'none';\n",
              "    })();\n",
              "  </script>\n",
              "</div>\n",
              "\n",
              "  <div id=\"id_ef4478ff-8c16-41a8-b27a-0dfc36337dba\">\n",
              "    <style>\n",
              "      .colab-df-generate {\n",
              "        background-color: #E8F0FE;\n",
              "        border: none;\n",
              "        border-radius: 50%;\n",
              "        cursor: pointer;\n",
              "        display: none;\n",
              "        fill: #1967D2;\n",
              "        height: 32px;\n",
              "        padding: 0 0 0 0;\n",
              "        width: 32px;\n",
              "      }\n",
              "\n",
              "      .colab-df-generate:hover {\n",
              "        background-color: #E2EBFA;\n",
              "        box-shadow: 0px 1px 2px rgba(60, 64, 67, 0.3), 0px 1px 3px 1px rgba(60, 64, 67, 0.15);\n",
              "        fill: #174EA6;\n",
              "      }\n",
              "\n",
              "      [theme=dark] .colab-df-generate {\n",
              "        background-color: #3B4455;\n",
              "        fill: #D2E3FC;\n",
              "      }\n",
              "\n",
              "      [theme=dark] .colab-df-generate:hover {\n",
              "        background-color: #434B5C;\n",
              "        box-shadow: 0px 1px 3px 1px rgba(0, 0, 0, 0.15);\n",
              "        filter: drop-shadow(0px 1px 2px rgba(0, 0, 0, 0.3));\n",
              "        fill: #FFFFFF;\n",
              "      }\n",
              "    </style>\n",
              "    <button class=\"colab-df-generate\" onclick=\"generateWithVariable('manhattan_df')\"\n",
              "            title=\"Generate code using this dataframe.\"\n",
              "            style=\"display:none;\">\n",
              "\n",
              "  <svg xmlns=\"http://www.w3.org/2000/svg\" height=\"24px\"viewBox=\"0 0 24 24\"\n",
              "       width=\"24px\">\n",
              "    <path d=\"M7,19H8.4L18.45,9,17,7.55,7,17.6ZM5,21V16.75L18.45,3.32a2,2,0,0,1,2.83,0l1.4,1.43a1.91,1.91,0,0,1,.58,1.4,1.91,1.91,0,0,1-.58,1.4L9.25,21ZM18.45,9,17,7.55Zm-12,3A5.31,5.31,0,0,0,4.9,8.1,5.31,5.31,0,0,0,1,6.5,5.31,5.31,0,0,0,4.9,4.9,5.31,5.31,0,0,0,6.5,1,5.31,5.31,0,0,0,8.1,4.9,5.31,5.31,0,0,0,12,6.5,5.46,5.46,0,0,0,6.5,12Z\"/>\n",
              "  </svg>\n",
              "    </button>\n",
              "    <script>\n",
              "      (() => {\n",
              "      const buttonEl =\n",
              "        document.querySelector('#id_ef4478ff-8c16-41a8-b27a-0dfc36337dba button.colab-df-generate');\n",
              "      buttonEl.style.display =\n",
              "        google.colab.kernel.accessAllowed ? 'block' : 'none';\n",
              "\n",
              "      buttonEl.onclick = () => {\n",
              "        google.colab.notebook.generateWithVariable('manhattan_df');\n",
              "      }\n",
              "      })();\n",
              "    </script>\n",
              "  </div>\n",
              "\n",
              "    </div>\n",
              "  </div>\n"
            ],
            "application/vnd.google.colaboratory.intrinsic+json": {
              "type": "dataframe",
              "variable_name": "manhattan_df",
              "summary": "{\n  \"name\": \"manhattan_df\",\n  \"rows\": 7,\n  \"fields\": [\n    {\n      \"column\": \"Node 0\",\n      \"properties\": {\n        \"dtype\": \"number\",\n        \"std\": 26.02562298285218,\n        \"min\": 0.0,\n        \"max\": 74.65971041203463,\n        \"num_unique_values\": 6,\n        \"samples\": [\n          0.0,\n          22.425605551984177,\n          42.92059807748549\n        ],\n        \"semantic_type\": \"\",\n        \"description\": \"\"\n      }\n    },\n    {\n      \"column\": \"Node 1\",\n      \"properties\": {\n        \"dtype\": \"number\",\n        \"std\": 18.385773034595843,\n        \"min\": 0.0,\n        \"max\": 52.23410486005046,\n        \"num_unique_values\": 6,\n        \"samples\": [\n          22.425605551984177,\n          0.0,\n          20.49499252550131\n        ],\n        \"semantic_type\": \"\",\n        \"description\": \"\"\n      }\n    },\n    {\n      \"column\": \"Node 2\",\n      \"properties\": {\n        \"dtype\": \"number\",\n        \"std\": 25.78995537171368,\n        \"min\": 0.0,\n        \"max\": 80.24605554030029,\n        \"num_unique_values\": 6,\n        \"samples\": [\n          19.445395789418342,\n          28.01195068024984,\n          48.50694320575115\n        ],\n        \"semantic_type\": \"\",\n        \"description\": \"\"\n      }\n    },\n    {\n      \"column\": \"Node 3\",\n      \"properties\": {\n        \"dtype\": \"number\",\n        \"std\": 34.3412168210318,\n        \"min\": 0.0,\n        \"max\": 103.44070311946388,\n        \"num_unique_values\": 6,\n        \"samples\": [\n          28.78099270742925,\n          51.206598259413425,\n          71.70159078491474\n        ],\n        \"semantic_type\": \"\",\n        \"description\": \"\"\n      }\n    },\n    {\n      \"column\": \"Node 4\",\n      \"properties\": {\n        \"dtype\": \"number\",\n        \"std\": 34.603697141658245,\n        \"min\": 0.0,\n        \"max\": 103.44070311946388,\n        \"num_unique_values\": 6,\n        \"samples\": [\n          74.65971041203463,\n          52.23410486005046,\n          31.739112334549148\n        ],\n        \"semantic_type\": \"\",\n        \"description\": \"\"\n      }\n    },\n    {\n      \"column\": \"Node 5\",\n      \"properties\": {\n        \"dtype\": \"number\",\n        \"std\": 22.641172115446462,\n        \"min\": 0.0,\n        \"max\": 71.70159078491474,\n        \"num_unique_values\": 6,\n        \"samples\": [\n          42.92059807748549,\n          20.49499252550131,\n          0.0\n        ],\n        \"semantic_type\": \"\",\n        \"description\": \"\"\n      }\n    },\n    {\n      \"column\": \"Node 6\",\n      \"properties\": {\n        \"dtype\": \"number\",\n        \"std\": 26.02562298285218,\n        \"min\": 0.0,\n        \"max\": 74.65971041203463,\n        \"num_unique_values\": 6,\n        \"samples\": [\n          0.0,\n          22.425605551984177,\n          42.92059807748549\n        ],\n        \"semantic_type\": \"\",\n        \"description\": \"\"\n      }\n    }\n  ]\n}"
            }
          },
          "metadata": {},
          "execution_count": 94
        }
      ]
    },
    {
      "cell_type": "code",
      "source": [
        "d_t = manhattan_df  # Travel times for trucks => will change into a matrix of Manhttan distances\n",
        "d_u = euclidean_df  # Travel times for UAVs => will change into a matrix of  Euclidean distances"
      ],
      "metadata": {
        "id": "JPvOCskKsm6i"
      },
      "execution_count": null,
      "outputs": []
    },
    {
      "cell_type": "markdown",
      "source": [
        "# Model"
      ],
      "metadata": {
        "id": "THUH9Q4TsdVn"
      }
    },
    {
      "cell_type": "code",
      "source": [
        "env = gp.Env(params=params)\n",
        "m = gp.Model(env=env)"
      ],
      "metadata": {
        "colab": {
          "base_uri": "https://localhost:8080/"
        },
        "id": "mVKmqLEtspMN",
        "outputId": "4d24b837-e125-45e1-d171-587c1917632b"
      },
      "execution_count": null,
      "outputs": [
        {
          "output_type": "stream",
          "name": "stdout",
          "text": [
            "Set parameter WLSAccessID\n",
            "Set parameter WLSSecret\n",
            "Set parameter LicenseID to value 2536865\n",
            "Academic license 2536865 - for non-commercial use only - registered to rt___@stevens.edu\n"
          ]
        }
      ]
    },
    {
      "cell_type": "markdown",
      "source": [
        "# Indices"
      ],
      "metadata": {
        "id": "j0UieaS_tOpd"
      }
    },
    {
      "cell_type": "markdown",
      "source": [
        "$i, j, h, s, g, v$  Equivalently used indices for the nodes of the network (aid recipients and depot).\n",
        "\n",
        "$t$  Index of trucks.\n",
        "\n",
        "$u$  Index of UAVs."
      ],
      "metadata": {
        "id": "3gZM6sMLtSTa"
      }
    },
    {
      "cell_type": "markdown",
      "source": [
        "# Variables"
      ],
      "metadata": {
        "id": "lU_hb4cUtUH3"
      }
    },
    {
      "cell_type": "markdown",
      "source": [
        "$x^{t}_{ij}$ 1 if truck $t$ moves from node $i$ to node $j$; 0 otherwise. $(i,j) \\in A_E$ for $t \\in T$.\n",
        "\n",
        "$v^{t}_{ij}$ 1 if node $i$ is visited before node $j$ by truck $t$; 0 otherwise. $(i,j) \\in A_T$ for $t \\in T$.\n",
        "\n",
        "\n",
        "\n",
        "$z^{t}_{i}$ Position of node $i$ in the truck $t$ route. $i \\in A_E$ for $t \\in T$.\n",
        "\n",
        "$r^{t}_{i}$ Arrival time of truck $t$ at node $i$. $i \\in A_E$ for $t \\in T$.\n",
        "\n",
        "$p^{t}_{i}$ Departure time of truck $t$ from node $i$. $i \\in A_E$ for $t \\in T$."
      ],
      "metadata": {
        "id": "jSH-9RBJtVZw"
      }
    },
    {
      "cell_type": "code",
      "source": [
        "x = m.addVars(A_T, A_T, T, vtype=GRB.BINARY, name=\"from i to j truck t travels\") #1 if truck $w$ moves from node $i$ to node $j$; 0 otherwise. $(i,j) \\in C_0$ for $w \\in W$.\n",
        "z = m.addVars(A_T[1:-1],T, vtype=GRB.INTEGER,lb=1.0,ub= a-1, name=\"order\") #Position of node $i$ in the truck $w$ route. $i \\in C_0$ for $w \\in W$.\n",
        "r_t = m.addVars(A_T,T, vtype=GRB.CONTINUOUS, lb=0.0, name=\"arrival time truck\") #Arrival time of truck $w$ at node $i$. $i \\in C_0$ for $w \\in W$.\n",
        "p_t = m.addVars(A_T, T, vtype=GRB.CONTINUOUS, lb=0.0, name=\"departure time truck\") #Departure time of truck $w$ from node $i$. $i \\in C_0$ for $w \\in W$.\n",
        "y = m.addVar(name=\"objective value\")"
      ],
      "metadata": {
        "id": "dcz5E-j0sqhL"
      },
      "execution_count": null,
      "outputs": []
    },
    {
      "cell_type": "markdown",
      "source": [
        "# Objective Function"
      ],
      "metadata": {
        "id": "iWnMEaV-tpc7"
      }
    },
    {
      "cell_type": "markdown",
      "source": [
        "Min $\\sum_{i \\in A_T} \\sum_{t \\in T} r^{t}_{i}$ (1)\n"
      ],
      "metadata": {
        "id": "tYVHH5hytrYP"
      }
    },
    {
      "cell_type": "code",
      "source": [
        "# m.setObjective(gp.quicksum(r_t[i, t] for i in A_T[1:-1] for t in T), GRB.MINIMIZE)"
      ],
      "metadata": {
        "id": "F_5ym-B7tat1"
      },
      "execution_count": null,
      "outputs": []
    },
    {
      "cell_type": "markdown",
      "source": [
        "$\\min \\max y$"
      ],
      "metadata": {
        "id": "qYTmThP4XDqM"
      }
    },
    {
      "cell_type": "code",
      "source": [
        "m.setObjective(y, GRB.MINIMIZE)"
      ],
      "metadata": {
        "id": "UYv2NBBXXBRY"
      },
      "execution_count": null,
      "outputs": []
    },
    {
      "cell_type": "markdown",
      "source": [
        "# Constraints"
      ],
      "metadata": {
        "id": "RB_g4lgMFVYr"
      }
    },
    {
      "cell_type": "markdown",
      "source": [
        "$r^{t}_{i, t} \\leq y \\quad \\forall i \\in A^{T}_{1:n-1}, \\forall t \\in T $"
      ],
      "metadata": {
        "id": "DkGg_2TsYKim"
      }
    },
    {
      "cell_type": "code",
      "source": [
        "m.addConstrs((r_t[i, t] <= y for t in T for i in A_T[1:-1]),'min maxconversion constraint')"
      ],
      "metadata": {
        "colab": {
          "base_uri": "https://localhost:8080/"
        },
        "id": "ICGyY96BU9bG",
        "outputId": "ea88d6ec-c4f8-4e5d-8642-3c7c28489b5d"
      },
      "execution_count": null,
      "outputs": [
        {
          "output_type": "execute_result",
          "data": {
            "text/plain": [
              "{(1, 1): <gurobi.Constr *Awaiting Model Update*>,\n",
              " (1, 2): <gurobi.Constr *Awaiting Model Update*>,\n",
              " (1, 3): <gurobi.Constr *Awaiting Model Update*>,\n",
              " (1, 4): <gurobi.Constr *Awaiting Model Update*>,\n",
              " (1, 5): <gurobi.Constr *Awaiting Model Update*>}"
            ]
          },
          "metadata": {},
          "execution_count": 100
        }
      ]
    },
    {
      "cell_type": "markdown",
      "source": [
        "$\\sum_{j \\in A_T} x^{t}_{0j} = 1, \\forall t \\in T$  (2)"
      ],
      "metadata": {
        "id": "No8z0ByRty-W"
      }
    },
    {
      "cell_type": "code",
      "source": [
        "m.addConstrs((gp.quicksum(x[0, j, t] for j in A_T[1:-1]) == 1 for t in T), \"DepartsFromDepot\")"
      ],
      "metadata": {
        "colab": {
          "base_uri": "https://localhost:8080/"
        },
        "id": "3MUsg3estb6N",
        "outputId": "62249e0c-0e4c-436e-ef55-31d82f14c8c8"
      },
      "execution_count": null,
      "outputs": [
        {
          "output_type": "execute_result",
          "data": {
            "text/plain": [
              "{1: <gurobi.Constr *Awaiting Model Update*>}"
            ]
          },
          "metadata": {},
          "execution_count": 101
        }
      ]
    },
    {
      "cell_type": "markdown",
      "source": [
        "$\\sum_{i \\in C_T} x^{t}_{i,end} = 1, \\forall t \\in T$ (3)"
      ],
      "metadata": {
        "id": "sKBVnAjatzx4"
      }
    },
    {
      "cell_type": "code",
      "source": [
        "m.addConstrs((gp.quicksum(x[i, a, t] for i in A_T[1:-1]) == 1 for t in T), \"ReturnsToDepot\")"
      ],
      "metadata": {
        "colab": {
          "base_uri": "https://localhost:8080/"
        },
        "id": "VCXnjPJBtdBb",
        "outputId": "7e11b851-baa0-4d33-d497-6a4f0538bac4"
      },
      "execution_count": null,
      "outputs": [
        {
          "output_type": "execute_result",
          "data": {
            "text/plain": [
              "{1: <gurobi.Constr *Awaiting Model Update*>}"
            ]
          },
          "metadata": {},
          "execution_count": 102
        }
      ]
    },
    {
      "cell_type": "markdown",
      "source": [
        "explain - truck self return ban"
      ],
      "metadata": {
        "id": "v26ohKCxIH1J"
      }
    },
    {
      "cell_type": "code",
      "source": [
        "m.addConstrs((gp.quicksum(x[i, j, t] for i in A_T for j in A_T if i == j) == 0 for t in T), \"explain - self return ban\")\n",
        "\n",
        "m.addConstrs((gp.quicksum(x[i, 0, t] for i in A_T[1:]) == 0 for t in T), \"ReturnToStartDepot ban\")\n",
        "m.addConstrs((gp.quicksum(x[a, j, t] for j in A_T[:-1]) == 0 for t in T), \"StartFromEndDepot ban\")"
      ],
      "metadata": {
        "colab": {
          "base_uri": "https://localhost:8080/"
        },
        "id": "McyFpUCpDjnR",
        "outputId": "e24413b9-8d72-4ecc-f56e-f62cd808f91e"
      },
      "execution_count": null,
      "outputs": [
        {
          "output_type": "execute_result",
          "data": {
            "text/plain": [
              "{1: <gurobi.Constr *Awaiting Model Update*>}"
            ]
          },
          "metadata": {},
          "execution_count": 103
        }
      ]
    },
    {
      "cell_type": "markdown",
      "source": [
        "$\\sum_{g \\in A_T \\atop g \\neq i} x^{t}_{gi} = \\sum_{j \\in A_U \\atop j \\neq i} x^{t}_{ij}, \\forall i \\in A_T, \\forall t \\in T,$ (4)"
      ],
      "metadata": {
        "id": "rfS_QQlJDyS5"
      }
    },
    {
      "cell_type": "code",
      "source": [
        "m.addConstrs((gp.quicksum(x[g, i, t] for g in A_T[:-1] if g != i) == gp.quicksum(x[i, j, t] for j in A_T[1:] if j != i) for i in A_T[1:-1] for t in T), \"FlowConservationTruck\")"
      ],
      "metadata": {
        "colab": {
          "base_uri": "https://localhost:8080/"
        },
        "id": "4d2fZmGaD2VA",
        "outputId": "865d97ee-fd67-4828-c099-a464521ccf9e"
      },
      "execution_count": null,
      "outputs": [
        {
          "output_type": "execute_result",
          "data": {
            "text/plain": [
              "{(1, 1): <gurobi.Constr *Awaiting Model Update*>,\n",
              " (2, 1): <gurobi.Constr *Awaiting Model Update*>,\n",
              " (3, 1): <gurobi.Constr *Awaiting Model Update*>,\n",
              " (4, 1): <gurobi.Constr *Awaiting Model Update*>,\n",
              " (5, 1): <gurobi.Constr *Awaiting Model Update*>}"
            ]
          },
          "metadata": {},
          "execution_count": 104
        }
      ]
    },
    {
      "cell_type": "markdown",
      "source": [
        " $p^{t}_{i} + d_{ij} - (1 - x^{t}_{ij}) M \\leq r^{t}_{j}, \\forall i \\in A_T, \\forall j \\in A_E, i \\neq j,$ (8)\n"
      ],
      "metadata": {
        "id": "fWXSj49_IbYN"
      }
    },
    {
      "cell_type": "code",
      "source": [
        "m.addConstrs((p_t[i, t] + d_t.iloc[i, j] - (1 - x[i, j, t]) * M <= r_t[j, t] for i in A_T[:-1] for j in A_T[1:] if i != j for t in T), \"TruckArrivalTime\")"
      ],
      "metadata": {
        "colab": {
          "base_uri": "https://localhost:8080/"
        },
        "id": "ysx5ROcEIbqE",
        "outputId": "9fed04dc-35fb-42bc-f840-be9e29e7b148"
      },
      "execution_count": null,
      "outputs": [
        {
          "output_type": "execute_result",
          "data": {
            "text/plain": [
              "{(0, 1, 1): <gurobi.Constr *Awaiting Model Update*>,\n",
              " (0, 2, 1): <gurobi.Constr *Awaiting Model Update*>,\n",
              " (0, 3, 1): <gurobi.Constr *Awaiting Model Update*>,\n",
              " (0, 4, 1): <gurobi.Constr *Awaiting Model Update*>,\n",
              " (0, 5, 1): <gurobi.Constr *Awaiting Model Update*>,\n",
              " (0, 6, 1): <gurobi.Constr *Awaiting Model Update*>,\n",
              " (1, 2, 1): <gurobi.Constr *Awaiting Model Update*>,\n",
              " (1, 3, 1): <gurobi.Constr *Awaiting Model Update*>,\n",
              " (1, 4, 1): <gurobi.Constr *Awaiting Model Update*>,\n",
              " (1, 5, 1): <gurobi.Constr *Awaiting Model Update*>,\n",
              " (1, 6, 1): <gurobi.Constr *Awaiting Model Update*>,\n",
              " (2, 1, 1): <gurobi.Constr *Awaiting Model Update*>,\n",
              " (2, 3, 1): <gurobi.Constr *Awaiting Model Update*>,\n",
              " (2, 4, 1): <gurobi.Constr *Awaiting Model Update*>,\n",
              " (2, 5, 1): <gurobi.Constr *Awaiting Model Update*>,\n",
              " (2, 6, 1): <gurobi.Constr *Awaiting Model Update*>,\n",
              " (3, 1, 1): <gurobi.Constr *Awaiting Model Update*>,\n",
              " (3, 2, 1): <gurobi.Constr *Awaiting Model Update*>,\n",
              " (3, 4, 1): <gurobi.Constr *Awaiting Model Update*>,\n",
              " (3, 5, 1): <gurobi.Constr *Awaiting Model Update*>,\n",
              " (3, 6, 1): <gurobi.Constr *Awaiting Model Update*>,\n",
              " (4, 1, 1): <gurobi.Constr *Awaiting Model Update*>,\n",
              " (4, 2, 1): <gurobi.Constr *Awaiting Model Update*>,\n",
              " (4, 3, 1): <gurobi.Constr *Awaiting Model Update*>,\n",
              " (4, 5, 1): <gurobi.Constr *Awaiting Model Update*>,\n",
              " (4, 6, 1): <gurobi.Constr *Awaiting Model Update*>,\n",
              " (5, 1, 1): <gurobi.Constr *Awaiting Model Update*>,\n",
              " (5, 2, 1): <gurobi.Constr *Awaiting Model Update*>,\n",
              " (5, 3, 1): <gurobi.Constr *Awaiting Model Update*>,\n",
              " (5, 4, 1): <gurobi.Constr *Awaiting Model Update*>,\n",
              " (5, 6, 1): <gurobi.Constr *Awaiting Model Update*>}"
            ]
          },
          "metadata": {},
          "execution_count": 105
        }
      ]
    },
    {
      "cell_type": "markdown",
      "source": [
        "$r^{t}_{i} \\leq p^{t}_{j}, \\forall i \\in A_T, \\forall t \\in W,$ (11)"
      ],
      "metadata": {
        "id": "w9I4DaY_KPC5"
      }
    },
    {
      "cell_type": "code",
      "source": [
        "m.addConstrs((r_t[i, t] <= p_t[i, t] for i in A_T[1:-1] for t in T), \"TruckDepartureTime\")"
      ],
      "metadata": {
        "colab": {
          "base_uri": "https://localhost:8080/"
        },
        "id": "SbMIoC9CJLZj",
        "outputId": "e7d899cd-4845-431a-d176-ff2a07c7001c"
      },
      "execution_count": null,
      "outputs": [
        {
          "output_type": "execute_result",
          "data": {
            "text/plain": [
              "{(1, 1): <gurobi.Constr *Awaiting Model Update*>,\n",
              " (2, 1): <gurobi.Constr *Awaiting Model Update*>,\n",
              " (3, 1): <gurobi.Constr *Awaiting Model Update*>,\n",
              " (4, 1): <gurobi.Constr *Awaiting Model Update*>,\n",
              " (5, 1): <gurobi.Constr *Awaiting Model Update*>}"
            ]
          },
          "metadata": {},
          "execution_count": 106
        }
      ]
    },
    {
      "cell_type": "markdown",
      "source": [],
      "metadata": {
        "id": "-qIw8oExJKdq"
      }
    },
    {
      "cell_type": "code",
      "source": [
        "m.addConstrs((gp.quicksum(x[i, j, t] for i in A_T[:-1] if i != j for t in T) == 1 for j in A_T[1:]), \"VisitExactOnce - Truck\")"
      ],
      "metadata": {
        "colab": {
          "base_uri": "https://localhost:8080/"
        },
        "id": "VCLyybkShnBM",
        "outputId": "f3dccd5c-2800-40fe-f49c-7ad1c17ce4c0"
      },
      "execution_count": null,
      "outputs": [
        {
          "output_type": "execute_result",
          "data": {
            "text/plain": [
              "{1: <gurobi.Constr *Awaiting Model Update*>,\n",
              " 2: <gurobi.Constr *Awaiting Model Update*>,\n",
              " 3: <gurobi.Constr *Awaiting Model Update*>,\n",
              " 4: <gurobi.Constr *Awaiting Model Update*>,\n",
              " 5: <gurobi.Constr *Awaiting Model Update*>,\n",
              " 6: <gurobi.Constr *Awaiting Model Update*>}"
            ]
          },
          "metadata": {},
          "execution_count": 107
        }
      ]
    },
    {
      "cell_type": "markdown",
      "source": [
        "MTZ"
      ],
      "metadata": {
        "id": "uObbzQ8adamY"
      }
    },
    {
      "cell_type": "code",
      "source": [
        "m.addConstrs(z[i,t] - z[j,t] + (a - 1) * x[i,j,t] <= a - 2 for i in A_T[1:-1] for j in A_T[1:-1] if i != j for t in T)"
      ],
      "metadata": {
        "colab": {
          "base_uri": "https://localhost:8080/"
        },
        "id": "TcaIz7rO4jiD",
        "outputId": "ead4f289-2472-445e-d0f3-f850080fa45e"
      },
      "execution_count": null,
      "outputs": [
        {
          "output_type": "execute_result",
          "data": {
            "text/plain": [
              "{(1, 2, 1): <gurobi.Constr *Awaiting Model Update*>,\n",
              " (1, 3, 1): <gurobi.Constr *Awaiting Model Update*>,\n",
              " (1, 4, 1): <gurobi.Constr *Awaiting Model Update*>,\n",
              " (1, 5, 1): <gurobi.Constr *Awaiting Model Update*>,\n",
              " (2, 1, 1): <gurobi.Constr *Awaiting Model Update*>,\n",
              " (2, 3, 1): <gurobi.Constr *Awaiting Model Update*>,\n",
              " (2, 4, 1): <gurobi.Constr *Awaiting Model Update*>,\n",
              " (2, 5, 1): <gurobi.Constr *Awaiting Model Update*>,\n",
              " (3, 1, 1): <gurobi.Constr *Awaiting Model Update*>,\n",
              " (3, 2, 1): <gurobi.Constr *Awaiting Model Update*>,\n",
              " (3, 4, 1): <gurobi.Constr *Awaiting Model Update*>,\n",
              " (3, 5, 1): <gurobi.Constr *Awaiting Model Update*>,\n",
              " (4, 1, 1): <gurobi.Constr *Awaiting Model Update*>,\n",
              " (4, 2, 1): <gurobi.Constr *Awaiting Model Update*>,\n",
              " (4, 3, 1): <gurobi.Constr *Awaiting Model Update*>,\n",
              " (4, 5, 1): <gurobi.Constr *Awaiting Model Update*>,\n",
              " (5, 1, 1): <gurobi.Constr *Awaiting Model Update*>,\n",
              " (5, 2, 1): <gurobi.Constr *Awaiting Model Update*>,\n",
              " (5, 3, 1): <gurobi.Constr *Awaiting Model Update*>,\n",
              " (5, 4, 1): <gurobi.Constr *Awaiting Model Update*>}"
            ]
          },
          "metadata": {},
          "execution_count": 108
        }
      ]
    },
    {
      "cell_type": "markdown",
      "source": [
        "# Optimization"
      ],
      "metadata": {
        "id": "imTuIba4t0WV"
      }
    },
    {
      "cell_type": "code",
      "source": [
        "m.optimize()\n",
        "\n",
        "# Display the results\n",
        "if m.status == GRB.OPTIMAL:\n",
        "    print(\"Optimal objective value is :\", m.objVal)\n",
        "    for v in m.getVars():\n",
        "        if v.x > 0:\n",
        "            print(v.varName, v.x)\n",
        "else:\n",
        "    print(\"Ther is no optimal solution.\")"
      ],
      "metadata": {
        "colab": {
          "base_uri": "https://localhost:8080/"
        },
        "id": "_gI-El4Ot0g2",
        "outputId": "d331ac13-6496-4c72-8a88-f7b9f67d0c89"
      },
      "execution_count": null,
      "outputs": [
        {
          "output_type": "stream",
          "name": "stdout",
          "text": [
            "Gurobi Optimizer version 11.0.3 build v11.0.3rc0 (linux64 - \"Ubuntu 22.04.3 LTS\")\n",
            "\n",
            "CPU model: Intel(R) Xeon(R) CPU @ 2.20GHz, instruction set [SSE2|AVX|AVX2]\n",
            "Thread count: 1 physical cores, 2 logical processors, using up to 2 threads\n",
            "\n",
            "Academic license 2536865 - for non-commercial use only - registered to rt___@stevens.edu\n",
            "Optimize a model with 77 rows, 69 columns and 283 nonzeros\n",
            "Model fingerprint: 0xf9cbfe0e\n",
            "Variable types: 15 continuous, 54 integer (49 binary)\n",
            "Coefficient statistics:\n",
            "  Matrix range     [1e+00, 1e+05]\n",
            "  Objective range  [1e+00, 1e+00]\n",
            "  Bounds range     [1e+00, 5e+00]\n",
            "  RHS range        [1e+00, 1e+05]\n",
            "Found heuristic solution: objective 255.0944145\n",
            "Presolve removed 15 rows and 28 columns\n",
            "Presolve time: 0.00s\n",
            "Presolved: 62 rows, 41 columns, 200 nonzeros\n",
            "Variable types: 6 continuous, 35 integer (30 binary)\n",
            "\n",
            "Root relaxation: objective 5.971717e+00, 27 iterations, 0.00 seconds (0.00 work units)\n",
            "\n",
            "    Nodes    |    Current Node    |     Objective Bounds      |     Work\n",
            " Expl Unexpl |  Obj  Depth IntInf | Incumbent    BestBd   Gap | It/Node Time\n",
            "\n",
            "     0     0    5.97172    0   14  255.09441    5.97172  97.7%     -    0s\n",
            "H    0     0                     180.8868959    5.97172  96.7%     -    0s\n",
            "     0     0   10.13336    0   19  180.88690   10.13336  94.4%     -    0s\n",
            "     0     0   13.57063    0   23  180.88690   13.57063  92.5%     -    0s\n",
            "     0     0   13.57063    0   25  180.88690   13.57063  92.5%     -    0s\n",
            "     0     0   26.76605    0   21  180.88690   26.76605  85.2%     -    0s\n",
            "H    0     0                     179.8593893   28.78099  84.0%     -    0s\n",
            "     0     0   28.78099    0   20  179.85939   28.78099  84.0%     -    0s\n",
            "     0     0   35.79685    0   21  179.85939   35.79685  80.1%     -    0s\n",
            "H    0     0                     135.0081782   39.06358  71.1%     -    0s\n",
            "     0     0   39.06358    0   22  135.00818   39.06358  71.1%     -    0s\n",
            "     0     0   52.23410    0   19  135.00818   52.23410  61.3%     -    0s\n",
            "     0     0   52.23410    0   20  135.00818   52.23410  61.3%     -    0s\n",
            "     0     0   52.23486    0   20  135.00818   52.23486  61.3%     -    0s\n",
            "     0     0   52.23530    0   19  135.00818   52.23530  61.3%     -    0s\n",
            "     0     0   53.66765    0   18  135.00818   53.66765  60.2%     -    0s\n",
            "     0     0   53.70530    0   18  135.00818   53.70530  60.2%     -    0s\n",
            "     0     0   54.91882    0   20  135.00818   54.91882  59.3%     -    0s\n",
            "     0     0   55.07727    0   22  135.00818   55.07727  59.2%     -    0s\n",
            "     0     0   55.07727    0   21  135.00818   55.07727  59.2%     -    0s\n",
            "     0     0   55.16152    0   21  135.00818   55.16152  59.1%     -    0s\n",
            "     0     0   55.20402    0   22  135.00818   55.20402  59.1%     -    0s\n",
            "     0     0   55.22668    0   23  135.00818   55.22668  59.1%     -    0s\n",
            "     0     0   55.30722    0   22  135.00818   55.30722  59.0%     -    0s\n",
            "     0     0   55.30722    0   21  135.00818   55.30722  59.0%     -    0s\n",
            "     0     2   55.50529    0   19  135.00818   55.50529  58.9%     -    0s\n",
            "\n",
            "Cutting planes:\n",
            "  Learned: 6\n",
            "  Cover: 1\n",
            "  Implied bound: 3\n",
            "  MIR: 13\n",
            "  Inf proof: 1\n",
            "  RLT: 11\n",
            "  Relax-and-lift: 7\n",
            "  BQP: 2\n",
            "  PSD: 1\n",
            "\n",
            "Explored 48 nodes (531 simplex iterations) in 0.44 seconds (0.02 work units)\n",
            "Thread count was 2 (of 2 available processors)\n",
            "\n",
            "Solution count 4: 135.008 179.859 180.887 255.094 \n",
            "\n",
            "Optimal solution found (tolerance 1.00e-04)\n",
            "Best objective 1.350081782108e+02, best bound 1.350081782108e+02, gap 0.0000%\n",
            "Optimal objective value is : 135.00817821083004\n",
            "from i to j truck t travels[0,3,1] 1.0\n",
            "from i to j truck t travels[1,5,1] 1.0\n",
            "from i to j truck t travels[2,1,1] 1.0\n",
            "from i to j truck t travels[3,2,1] 1.0\n",
            "from i to j truck t travels[4,6,1] 1.0\n",
            "from i to j truck t travels[5,4,1] 1.0\n",
            "order[1,1] 3.0\n",
            "order[2,1] 2.0\n",
            "order[3,1] 1.0\n",
            "order[4,1] 5.0\n",
            "order[5,1] 4.0\n",
            "arrival time truck[1,1] 82.77407335107188\n",
            "arrival time truck[2,1] 54.762122671119016\n",
            "arrival time truck[3,1] 28.780992707310105\n",
            "arrival time truck[4,1] 135.00817821083015\n",
            "arrival time truck[5,1] 103.26906587634682\n",
            "arrival time truck[6,1] 210.0\n",
            "departure time truck[1,1] 82.77407335107188\n",
            "departure time truck[2,1] 54.762122671119016\n",
            "departure time truck[3,1] 28.780992707310105\n",
            "departure time truck[4,1] 135.00817821083015\n",
            "departure time truck[5,1] 103.26906587634682\n",
            "objective value 135.00817821083004\n"
          ]
        }
      ]
    },
    {
      "cell_type": "markdown",
      "source": [],
      "metadata": {
        "id": "ua2KVavlt0uN"
      }
    },
    {
      "cell_type": "markdown",
      "source": [],
      "metadata": {
        "id": "CSxNsyHRt076"
      }
    },
    {
      "cell_type": "markdown",
      "source": [],
      "metadata": {
        "id": "E5VitiWlt1Im"
      }
    },
    {
      "cell_type": "code",
      "source": [],
      "metadata": {
        "id": "hZuF8Sydt1PW"
      },
      "execution_count": null,
      "outputs": []
    },
    {
      "cell_type": "markdown",
      "source": [],
      "metadata": {
        "id": "qQjMiAp5t1VE"
      }
    },
    {
      "cell_type": "code",
      "source": [],
      "metadata": {
        "id": "8A0tD1krt1bZ"
      },
      "execution_count": null,
      "outputs": []
    },
    {
      "cell_type": "markdown",
      "source": [],
      "metadata": {
        "id": "K9QGDC4Dt1hI"
      }
    },
    {
      "cell_type": "code",
      "source": [],
      "metadata": {
        "id": "Afcp9I4jt1nM"
      },
      "execution_count": null,
      "outputs": []
    },
    {
      "cell_type": "markdown",
      "source": [],
      "metadata": {
        "id": "sBshFgYit1tK"
      }
    },
    {
      "cell_type": "code",
      "source": [],
      "metadata": {
        "id": "lBFzS-04t1zp"
      },
      "execution_count": null,
      "outputs": []
    },
    {
      "cell_type": "markdown",
      "source": [],
      "metadata": {
        "id": "TCAlWh4Pt15R"
      }
    },
    {
      "cell_type": "code",
      "source": [],
      "metadata": {
        "id": "uZhu41YAYj4p"
      },
      "execution_count": null,
      "outputs": []
    }
  ]
}