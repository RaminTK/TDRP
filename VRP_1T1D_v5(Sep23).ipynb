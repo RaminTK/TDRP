{
  "nbformat": 4,
  "nbformat_minor": 0,
  "metadata": {
    "colab": {
      "provenance": [],
      "authorship_tag": "ABX9TyPoiMgbh6tpBmz3//s4ITRg",
      "include_colab_link": true
    },
    "kernelspec": {
      "name": "python3",
      "display_name": "Python 3"
    },
    "language_info": {
      "name": "python"
    }
  },
  "cells": [
    {
      "cell_type": "markdown",
      "metadata": {
        "id": "view-in-github",
        "colab_type": "text"
      },
      "source": [
        "<a href=\"https://colab.research.google.com/github/RaminTK/TDRP/blob/main/VRP_1T1D_v5(Sep23).ipynb\" target=\"_parent\"><img src=\"https://colab.research.google.com/assets/colab-badge.svg\" alt=\"Open In Colab\"/></a>"
      ]
    },
    {
      "cell_type": "markdown",
      "source": [
        "Improvements compared to v3:\n",
        "\n",
        "- Overlap on UAV and Truck path\n",
        "\n",
        "- Capacitated UAV"
      ],
      "metadata": {
        "id": "UV_CFLQu2gCR"
      }
    },
    {
      "cell_type": "code",
      "source": [
        "!pip install gurobipy"
      ],
      "metadata": {
        "colab": {
          "base_uri": "https://localhost:8080/"
        },
        "id": "5xkeVfY1qXW1",
        "outputId": "992ed27d-b3dd-473e-e3c2-94df04d9700c"
      },
      "execution_count": 1,
      "outputs": [
        {
          "output_type": "stream",
          "name": "stdout",
          "text": [
            "Collecting gurobipy\n",
            "  Downloading gurobipy-11.0.3-cp310-cp310-manylinux2014_x86_64.manylinux_2_17_x86_64.whl.metadata (15 kB)\n",
            "Downloading gurobipy-11.0.3-cp310-cp310-manylinux2014_x86_64.manylinux_2_17_x86_64.whl (13.4 MB)\n",
            "\u001b[2K   \u001b[90m━━━━━━━━━━━━━━━━━━━━━━━━━━━━━━━━━━━━━━━━\u001b[0m \u001b[32m13.4/13.4 MB\u001b[0m \u001b[31m41.9 MB/s\u001b[0m eta \u001b[36m0:00:00\u001b[0m\n",
            "\u001b[?25hInstalling collected packages: gurobipy\n",
            "Successfully installed gurobipy-11.0.3\n"
          ]
        }
      ]
    },
    {
      "cell_type": "markdown",
      "source": [
        "# Libraries"
      ],
      "metadata": {
        "id": "cHRYm6ZOrbdX"
      }
    },
    {
      "cell_type": "code",
      "source": [
        "import gurobipy as gp\n",
        "from gurobipy import GRB\n",
        "import numpy as np\n",
        "import pandas as pd\n",
        "from scipy.spatial import distance_matrix\n",
        "import matplotlib.pyplot as plt"
      ],
      "metadata": {
        "id": "M0ERIaWlqmr8"
      },
      "execution_count": 2,
      "outputs": []
    },
    {
      "cell_type": "code",
      "source": [
        "# Create an environment with your WLS license\n",
        "params = {\n",
        "\"WLSACCESSID\": 'c5c6ef9a-d24b-4e09-99ba-a30fae3c2de1',\n",
        "\"WLSSECRET\": '3809b277-8064-4385-8804-9971d3dc9938',\n",
        "\"LICENSEID\": 2536865,\n",
        "}\n",
        "\n",
        "# env = gp.Env(params=params)\n",
        "\n",
        "# # Create the model within the Gurobi environment\n",
        "# model = gp.Model(env=env)"
      ],
      "metadata": {
        "id": "hlFg4ZJVWMmt"
      },
      "execution_count": 3,
      "outputs": []
    },
    {
      "cell_type": "markdown",
      "source": [
        "# Parameters"
      ],
      "metadata": {
        "id": "0Cb1h78brjFQ"
      }
    },
    {
      "cell_type": "markdown",
      "source": [
        "$d^{t}_{ij}$ Travel time between node $i$ and $j$ by truck, $(i,j) \\in A^t$.\n",
        "\n",
        "$d^{u}_{ij}$ Travel time between node $i$ and $j$ by UAV, $(i,j) \\in A^u$.\n",
        "\n",
        "$M$ A sufficiently large number.\n",
        "\n",
        "<!-- $L$ & Battery life limit of UAV. -->\n",
        "\n",
        "$N$ Total number of aid recipients (bu UAV).\n",
        "\n",
        "$L$ Number of aid recipients accessible by truck.\n",
        "\n",
        "$R$ Number of Trucks.\n",
        "\n",
        "$V$ Number of UAVs.\n",
        "\n",
        "<!-- $q$ Relief item capacity limit of UAVs. (unlimited) -->"
      ],
      "metadata": {
        "id": "0Lcdp_oTsAru"
      }
    },
    {
      "cell_type": "code",
      "source": [
        "N = 8  # Total number of aid recipients (bu UAV)\n",
        "L = 7  # Number of aid recipients accessible by truck\n",
        "R = 1  # Number of Trucks\n",
        "V = 1  # Number of UAVs\n",
        "# q = 10  # Relief item capacity limit of UAVs. (unlimited)\n",
        "M = 100000  # A large number\n",
        "# a = L + 1\n",
        "# b = N + 1"
      ],
      "metadata": {
        "id": "d2h7rxwSrb6y"
      },
      "execution_count": 4,
      "outputs": []
    },
    {
      "cell_type": "markdown",
      "source": [
        "# Sets"
      ],
      "metadata": {
        "id": "22KInr9IsMJb"
      }
    },
    {
      "cell_type": "markdown",
      "source": [
        "\n",
        "$A^t$  Set of aid recipients served by trucks and depot. $A^t \\subset A_U$.\n",
        "\n",
        "$A^u$  Set of aid recipients served by UAVs and depote (all nodes). $A^u$.\n",
        "\n",
        "$U$  Set of UAVs. $|U|= V$.\n",
        "\n",
        "$T$  Set of trucks. $|T| = R$."
      ],
      "metadata": {
        "id": "JrY1jphCsN_3"
      }
    },
    {
      "cell_type": "code",
      "source": [
        "A_T = (list(range(L+1)))+[N+1]  # Set of nodes for trucks\n",
        "A_U = list(range(N+2))# Set of nodes for UAVs\n",
        "\n",
        "T = list(range(1,R+1))      # Set of trucks\n",
        "U = T"
      ],
      "metadata": {
        "id": "A8CLQlefrjej"
      },
      "execution_count": 5,
      "outputs": []
    },
    {
      "cell_type": "markdown",
      "source": [
        "## Generate random coordinates for the nodes"
      ],
      "metadata": {
        "id": "EVQNkUDwsVKp"
      }
    },
    {
      "cell_type": "code",
      "source": [
        "# Number of nodes\n",
        "N += 1\n",
        "\n",
        "np.random.seed(0)  # For reproducibility\n",
        "coordinates = np.random.rand(N, 2) * 100  # Generate random coordinates in a 100x100 area"
      ],
      "metadata": {
        "id": "6Dd6GW_3sSxd"
      },
      "execution_count": 6,
      "outputs": []
    },
    {
      "cell_type": "code",
      "source": [
        "coordinates = np.vstack([coordinates, coordinates[0]])"
      ],
      "metadata": {
        "id": "F7VW5VvasXPg"
      },
      "execution_count": 7,
      "outputs": []
    },
    {
      "cell_type": "markdown",
      "source": [
        "## Distance Matrix\n"
      ],
      "metadata": {
        "id": "FyRuSDs5saGK"
      }
    },
    {
      "cell_type": "code",
      "source": [
        "euclidean_dist_matrix = distance_matrix(coordinates, coordinates)\n",
        "manhattan_dist_matrix = distance_matrix(coordinates, coordinates, p=1)"
      ],
      "metadata": {
        "id": "8CzdgsFnsYpN"
      },
      "execution_count": 8,
      "outputs": []
    },
    {
      "cell_type": "code",
      "source": [
        "euclidean_df = pd.DataFrame(euclidean_dist_matrix, columns=[f'Node {i}' for i in range(N+1)], index=[f'Node {i}' for i in range(N+1)])\n",
        "manhattan_df = pd.DataFrame(manhattan_dist_matrix, columns=[f'Node {i}' for i in range(N+1)], index=[f'Node {i}' for i in range(N+1)])"
      ],
      "metadata": {
        "id": "DQ-79jNtc4PA"
      },
      "execution_count": 9,
      "outputs": []
    },
    {
      "cell_type": "markdown",
      "source": [
        "## Plot the nodes"
      ],
      "metadata": {
        "id": "tXIMqXwrsdoK"
      }
    },
    {
      "cell_type": "code",
      "source": [
        "plt.figure(figsize=(10, 10))\n",
        "# plt.scatter(coordinates[:, 0], coordinates[:, 1], color='red')\n",
        "plt.scatter(coordinates[A_T[1:-1], 0], coordinates[A_T[1:-1], 1], color='red', label='Truck or Drone')\n",
        "plt.scatter(coordinates[[item for item in A_U if item not in A_T], 0], coordinates[[item for item in A_U if item not in A_T], 1], color='blue', label='Only Drone')\n",
        "\n",
        "# Highlight the first and last points as depots\n",
        "plt.scatter(coordinates[0, 0], coordinates[0, 1], color='gray', s=100, label='Depot')\n",
        "plt.scatter(coordinates[-1, 0], coordinates[-1, 1], color='gray', s=100)\n",
        "\n",
        "# Annotate the nodes\n",
        "for i, (x, y) in enumerate(coordinates):\n",
        "    if i == 0:\n",
        "        plt.text(x, y, 'Depot', fontsize=12, ha='right')\n",
        "    elif i == len(coordinates) - 1:\n",
        "        plt.text(x, y, 'Depot', fontsize=12, ha='right')\n",
        "    else:\n",
        "        plt.text(x, y, f'Node {i}', fontsize=12, ha='right')\n",
        "\n",
        "# Draw lines between nodes for Euclidean distances\n",
        "for i in range(len(coordinates)):\n",
        "    for j in range(i + 1, N+1):\n",
        "        plt.plot([coordinates[i, 0], coordinates[j, 0]], [coordinates[i, 1], coordinates[j, 1]], 'gray', linestyle='--', linewidth=0.5)\n",
        "\n",
        "plt.title('Nodes and Euclidean Distances')\n",
        "plt.xlabel('X Coordinate')\n",
        "plt.ylabel('Y Coordinate')\n",
        "plt.grid(True)\n",
        "plt.legend()\n",
        "plt.show()"
      ],
      "metadata": {
        "colab": {
          "base_uri": "https://localhost:8080/",
          "height": 872
        },
        "id": "vWhRbD2HPwcl",
        "outputId": "fa5f03e6-b65e-4a59-a939-088ab5da180b"
      },
      "execution_count": 10,
      "outputs": [
        {
          "output_type": "display_data",
          "data": {
            "text/plain": [
              "<Figure size 1000x1000 with 1 Axes>"
            ],
            "image/png": "[encoded data removed]"
          },
          "metadata": {}
        }
      ]
    },
    {
      "cell_type": "code",
      "source": [
        "d_t = manhattan_df  # Travel times for trucks => will change into a matrix of Manhttan distances\n",
        "d_u = euclidean_df  # Travel times for UAVs => will change into a matrix of  Euclidean distances"
      ],
      "metadata": {
        "id": "JPvOCskKsm6i"
      },
      "execution_count": 11,
      "outputs": []
    },
    {
      "cell_type": "markdown",
      "source": [
        "# Model"
      ],
      "metadata": {
        "id": "THUH9Q4TsdVn"
      }
    },
    {
      "cell_type": "code",
      "source": [
        "env = gp.Env(params=params)\n",
        "m = gp.Model(env=env)"
      ],
      "metadata": {
        "colab": {
          "base_uri": "https://localhost:8080/"
        },
        "id": "mVKmqLEtspMN",
        "outputId": "98e166bc-7422-451d-e4a7-7c90f887ba58"
      },
      "execution_count": 12,
      "outputs": [
        {
          "output_type": "stream",
          "name": "stdout",
          "text": [
            "Set parameter WLSAccessID\n",
            "Set parameter WLSSecret\n",
            "Set parameter LicenseID to value 2536865\n",
            "Academic license 2536865 - for non-commercial use only - registered to rt___@stevens.edu\n"
          ]
        }
      ]
    },
    {
      "cell_type": "markdown",
      "source": [
        "# Indices"
      ],
      "metadata": {
        "id": "j0UieaS_tOpd"
      }
    },
    {
      "cell_type": "markdown",
      "source": [
        "$i, j, h, s, g, v$  Equivalently used indices for the nodes of the network (aid recipients and depot).\n",
        "\n",
        "$t$  Index of trucks."
      ],
      "metadata": {
        "id": "3gZM6sMLtSTa"
      }
    },
    {
      "cell_type": "markdown",
      "source": [
        "# Variables"
      ],
      "metadata": {
        "id": "lU_hb4cUtUH3"
      }
    },
    {
      "cell_type": "markdown",
      "source": [
        "$x^{t}_{ij}$ 1 if truck $t$ moves from node $i$ to node $j$; 0 otherwise. $(i,j) \\in A_t, t \\in T$.\n",
        "\n",
        "$y^{t}_{ijs}$ 1 if UAV $u$ moves from node $i$ to node $j$ and meet it's truck on node $s$; 0 otherwise. $(i,j) \\in A_U$ s in for $t \\in T$.\n",
        "\n",
        "$z^{t}_{i}$ Position of node $i$ in the truck $t$ route. $i \\in A_E$ for $t \\in T$.\n",
        "\n",
        "$r^{t}_{i}$ Arrival time of truck $t$ at node $i$. $i \\in A_E$ for $t \\in T$.\n",
        "\n",
        "$p^{t}_{i}$ Departure time of truck $t$ from node $i$. $i \\in A_E$ for $t \\in T$."
      ],
      "metadata": {
        "id": "jSH-9RBJtVZw"
      }
    },
    {
      "cell_type": "code",
      "source": [
        "x = m.addVars(A_T[:-1], A_T[1:], T, vtype=GRB.BINARY,lb=0, name=\"Truck\") #1 if truck $w$ moves from node $i$ to node $j$; 0 otherwise. $(i,j) \\in C_0$ for $w \\in W$.\n",
        "y = m.addVars(A_U[:-1], A_U[1:], A_T[1:], U, vtype=GRB.BINARY, lb=0, name=\"UAV\") #1 if UAV $u$ travels from node $i$ to visit node $j$ and returns to the truck $w$ at node $s$; 0 otherwise. $(i,j,s) \\in C_0$ for $w \\in W$ and $u \\in U$.\n",
        "z_t = m.addVars(A_T[1:-1],T, vtype=GRB.INTEGER,lb=1.0,ub= L, name=\"truck order\") #Position of node $i$ in the truck $w$ route. $i \\in C_0$ for $w \\in W$.\n",
        "z_u = m.addVars(A_U[1:-1],U, vtype=GRB.INTEGER,lb=1.0,ub= N, name=\"uav order\") #Position of node $i$ in the uav $t$ route. $i \\in A_T$ for $t \\in T$.\n",
        "r_t = m.addVars(A_T,T, vtype=GRB.CONTINUOUS, lb=0.0, name=\"arrival time truck\") #Arrival time of truck $w$ at node $i$. $i \\in C_0$ for $w \\in W$.\n",
        "p_t = m.addVars(A_T, T, vtype=GRB.CONTINUOUS, lb=0.0, name=\"departure time truck\") #Departure time of truck $w$ from node $i$. $i \\in C_0$ for $w \\in W$.\n",
        "r_u = m.addVars(A_U, U, vtype=GRB.CONTINUOUS, lb=0.0, name=\"arrival time uav\")\n",
        "p_u = m.addVars(A_U, T, vtype=GRB.CONTINUOUS, lb=0.0, name=\"departure time uav\")\n",
        "w = m.addVar(vtype=GRB.CONTINUOUS, lb=0.0, name=\"objective\")"
      ],
      "metadata": {
        "id": "dcz5E-j0sqhL"
      },
      "execution_count": 13,
      "outputs": []
    },
    {
      "cell_type": "markdown",
      "source": [
        "# Objective Function\n",
        "\n",
        "Min (Max $(r^t_{it} + r^u_{ju}), \\forall i \\in A^t,\\forall j \\in A^u,\\forall t \\in T,\\forall u \\in U), $"
      ],
      "metadata": {
        "id": "iWnMEaV-tpc7"
      }
    },
    {
      "cell_type": "markdown",
      "source": [
        "Min $\\sum_{i \\in A_T} \\sum_{t \\in T} r^{t}_{i}$ (1)\n"
      ],
      "metadata": {
        "id": "tYVHH5hytrYP"
      }
    },
    {
      "cell_type": "code",
      "source": [
        "m.setObjective(w, GRB.MINIMIZE)\n",
        "\n",
        "# m.setObjective(gp.quicksum(x[i,j,t] for i in A_T[:-1] for j in A_T[1:] for t in T) + gp.quicksum(y[i,j,s, u] for i in A_U[:-1] for j in A_U[1:] for s in A_T[1:] for u in T), GRB.MINIMIZE)"
      ],
      "metadata": {
        "id": "5Z49Y9LOdmsm"
      },
      "execution_count": 14,
      "outputs": []
    },
    {
      "cell_type": "code",
      "source": [
        "m.addConstrs(r_t[i,t] <= w for i in A_T[1:-1] for t in T)\n",
        "m.addConstrs(r_u[i,u] <= w for i in A_U[1:-1] for u in U)"
      ],
      "metadata": {
        "id": "vAayEdfldmqR",
        "colab": {
          "base_uri": "https://localhost:8080/"
        },
        "outputId": "697f2db8-e625-47c4-fffb-fa5d01774a99"
      },
      "execution_count": 15,
      "outputs": [
        {
          "output_type": "execute_result",
          "data": {
            "text/plain": [
              "{(1, 1): <gurobi.Constr *Awaiting Model Update*>,\n",
              " (2, 1): <gurobi.Constr *Awaiting Model Update*>,\n",
              " (3, 1): <gurobi.Constr *Awaiting Model Update*>,\n",
              " (4, 1): <gurobi.Constr *Awaiting Model Update*>,\n",
              " (5, 1): <gurobi.Constr *Awaiting Model Update*>,\n",
              " (6, 1): <gurobi.Constr *Awaiting Model Update*>,\n",
              " (7, 1): <gurobi.Constr *Awaiting Model Update*>,\n",
              " (8, 1): <gurobi.Constr *Awaiting Model Update*>}"
            ]
          },
          "metadata": {},
          "execution_count": 15
        }
      ]
    },
    {
      "cell_type": "code",
      "source": [
        "# m.setObjective(gp.quicksum(r_t[i, t] for i in A_T[1:-1] for t in T) + gp.quicksum(r_u[i, u] for i in A_U for u in T), GRB.MINIMIZE)"
      ],
      "metadata": {
        "id": "F_5ym-B7tat1"
      },
      "execution_count": 16,
      "outputs": []
    },
    {
      "cell_type": "markdown",
      "source": [],
      "metadata": {
        "id": "gFPN7MgDo64H"
      }
    },
    {
      "cell_type": "markdown",
      "source": [
        "# Constraints"
      ],
      "metadata": {
        "id": "RB_g4lgMFVYr"
      }
    },
    {
      "cell_type": "markdown",
      "source": [
        "$\\sum_{j \\in A_T} x^{t}_{0j} = 1, \\forall t \\in T$  (2)"
      ],
      "metadata": {
        "id": "No8z0ByRty-W"
      }
    },
    {
      "cell_type": "code",
      "source": [
        "m.addConstrs((gp.quicksum(x[0, j, t] for j in A_T[1:-1]) == 1 for t in T), \"DepartsFromDepot\") #done\n",
        "\n",
        "m.addConstrs((gp.quicksum(y[0, j, s, u] for j in A_U[1:-1] for s in A_T[1:]) <= 1 for u in U), \"UAVsFromDepot\") #"
      ],
      "metadata": {
        "colab": {
          "base_uri": "https://localhost:8080/"
        },
        "id": "3MUsg3estb6N",
        "outputId": "f40b45f2-bea8-4239-850a-16dd287ab4f9"
      },
      "execution_count": 17,
      "outputs": [
        {
          "output_type": "execute_result",
          "data": {
            "text/plain": [
              "{1: <gurobi.Constr *Awaiting Model Update*>}"
            ]
          },
          "metadata": {},
          "execution_count": 17
        }
      ]
    },
    {
      "cell_type": "markdown",
      "source": [
        "$\\sum_{i \\in C_T} x^{t}_{i,end} = 1, \\forall t \\in T$ (3)"
      ],
      "metadata": {
        "id": "sKBVnAjatzx4"
      }
    },
    {
      "cell_type": "code",
      "source": [
        "m.addConstrs((gp.quicksum(x[i, N, t] for i in A_T[1:-1]) == 1 for t in T), \"ReturnsToDepot\") #done\n",
        "\n",
        "# m.addConstrs((gp.quicksum(y[i, N, s, u] for i in A_U[1:-1] for s in A_T[1:]) <= 1 for u in U), \"ReturnsToDepot - UAV\") #"
      ],
      "metadata": {
        "colab": {
          "base_uri": "https://localhost:8080/"
        },
        "id": "VCXnjPJBtdBb",
        "outputId": "703a5973-b8ac-492c-bfea-501903bf42b4"
      },
      "execution_count": 18,
      "outputs": [
        {
          "output_type": "execute_result",
          "data": {
            "text/plain": [
              "{1: <gurobi.Constr *Awaiting Model Update*>}"
            ]
          },
          "metadata": {},
          "execution_count": 18
        }
      ]
    },
    {
      "cell_type": "markdown",
      "source": [
        "explain - truck self return ban"
      ],
      "metadata": {
        "id": "v26ohKCxIH1J"
      }
    },
    {
      "cell_type": "code",
      "source": [
        "# m.addConstrs((gp.quicksum(x[i, j, t] for i in A_T[1:-1] for j in A_T[1:-1] if i == j) == 0 for t in T), \"explain - self return ban\") #done\n",
        "m.addConstr(gp.quicksum(x[i, j, t] for t in T for i in A_T[1:-1] for j in A_T[1:-1] if i == j) == 0, \"self_return_ban\")\n",
        "\n",
        "m.addConstr(gp.quicksum(x[0, N, t] for t in T) == 0, \"self return ban\") #done"
      ],
      "metadata": {
        "colab": {
          "base_uri": "https://localhost:8080/"
        },
        "id": "McyFpUCpDjnR",
        "outputId": "fb209974-ee13-4636-f35d-768e2b5fa863"
      },
      "execution_count": 19,
      "outputs": [
        {
          "output_type": "execute_result",
          "data": {
            "text/plain": [
              "<gurobi.Constr *Awaiting Model Update*>"
            ]
          },
          "metadata": {},
          "execution_count": 19
        }
      ]
    },
    {
      "cell_type": "markdown",
      "source": [
        "explain - uav self return ban"
      ],
      "metadata": {
        "id": "W078EGWxSA_N"
      }
    },
    {
      "cell_type": "code",
      "source": [
        "m.addConstr(gp.quicksum(y[i, j, s, u] for s in A_T[1:] for u in U for i in A_U[1:-1] for j in A_U[1:-1] if i == j ) == 0, \"self return ban\") #done\n",
        "\n",
        "m.addConstr(gp.quicksum(y[0, N, s, u] for s in A_T[1:] for u in U) == 0, \"self return ban\") #done"
      ],
      "metadata": {
        "colab": {
          "base_uri": "https://localhost:8080/"
        },
        "id": "S3MAwUNqSBZI",
        "outputId": "b3fdf9ec-9410-4389-8735-714013e989c9"
      },
      "execution_count": 20,
      "outputs": [
        {
          "output_type": "execute_result",
          "data": {
            "text/plain": [
              "<gurobi.Constr *Awaiting Model Update*>"
            ]
          },
          "metadata": {},
          "execution_count": 20
        }
      ]
    },
    {
      "cell_type": "markdown",
      "source": [
        "$\\sum_{g \\in A_T \\atop g \\neq i} x^{t}_{gi} = \\sum_{j \\in A_U \\atop j \\neq i} x^{t}_{ij}, \\forall i \\in A_T, \\forall t \\in T,$ (4)"
      ],
      "metadata": {
        "id": "rfS_QQlJDyS5"
      }
    },
    {
      "cell_type": "code",
      "source": [
        "m.addConstrs((gp.quicksum(x[g, i, t] for g in A_T[:-1] if g != i) == gp.quicksum(x[i, j, t] for j in A_T[1:] if j != i) for i in A_T[1:-1] for t in T), \"FlowConservationTruck\") #probably this forces to visit the depote at the end"
      ],
      "metadata": {
        "colab": {
          "base_uri": "https://localhost:8080/"
        },
        "id": "4d2fZmGaD2VA",
        "outputId": "fc5b6772-a511-4b51-80ed-58cb180e6354"
      },
      "execution_count": 21,
      "outputs": [
        {
          "output_type": "execute_result",
          "data": {
            "text/plain": [
              "{(1, 1): <gurobi.Constr *Awaiting Model Update*>,\n",
              " (2, 1): <gurobi.Constr *Awaiting Model Update*>,\n",
              " (3, 1): <gurobi.Constr *Awaiting Model Update*>,\n",
              " (4, 1): <gurobi.Constr *Awaiting Model Update*>,\n",
              " (5, 1): <gurobi.Constr *Awaiting Model Update*>,\n",
              " (6, 1): <gurobi.Constr *Awaiting Model Update*>,\n",
              " (7, 1): <gurobi.Constr *Awaiting Model Update*>}"
            ]
          },
          "metadata": {},
          "execution_count": 21
        }
      ]
    },
    {
      "cell_type": "code",
      "source": [
        "m.addConstrs((gp.quicksum(y[g, i, s, u] for g in A_U[:-1] if g != i) == gp.quicksum(y[i, j, s, u] for j in A_U[1:] if j != i) for i in A_U[1:-1] for s in A_T[1:] for u in U), \"FlowConservationUAV\")  #probably this forces to visit the depote at the end\n"
      ],
      "metadata": {
        "colab": {
          "base_uri": "https://localhost:8080/"
        },
        "id": "YCwIMgBMIigS",
        "outputId": "03fb4928-4946-48a8-d95e-96fa818113c5",
        "collapsed": true
      },
      "execution_count": 22,
      "outputs": [
        {
          "output_type": "execute_result",
          "data": {
            "text/plain": [
              "{(1, 1, 1): <gurobi.Constr *Awaiting Model Update*>,\n",
              " (1, 2, 1): <gurobi.Constr *Awaiting Model Update*>,\n",
              " (1, 3, 1): <gurobi.Constr *Awaiting Model Update*>,\n",
              " (1, 4, 1): <gurobi.Constr *Awaiting Model Update*>,\n",
              " (1, 5, 1): <gurobi.Constr *Awaiting Model Update*>,\n",
              " (1, 6, 1): <gurobi.Constr *Awaiting Model Update*>,\n",
              " (1, 7, 1): <gurobi.Constr *Awaiting Model Update*>,\n",
              " (1, 9, 1): <gurobi.Constr *Awaiting Model Update*>,\n",
              " (2, 1, 1): <gurobi.Constr *Awaiting Model Update*>,\n",
              " (2, 2, 1): <gurobi.Constr *Awaiting Model Update*>,\n",
              " (2, 3, 1): <gurobi.Constr *Awaiting Model Update*>,\n",
              " (2, 4, 1): <gurobi.Constr *Awaiting Model Update*>,\n",
              " (2, 5, 1): <gurobi.Constr *Awaiting Model Update*>,\n",
              " (2, 6, 1): <gurobi.Constr *Awaiting Model Update*>,\n",
              " (2, 7, 1): <gurobi.Constr *Awaiting Model Update*>,\n",
              " (2, 9, 1): <gurobi.Constr *Awaiting Model Update*>,\n",
              " (3, 1, 1): <gurobi.Constr *Awaiting Model Update*>,\n",
              " (3, 2, 1): <gurobi.Constr *Awaiting Model Update*>,\n",
              " (3, 3, 1): <gurobi.Constr *Awaiting Model Update*>,\n",
              " (3, 4, 1): <gurobi.Constr *Awaiting Model Update*>,\n",
              " (3, 5, 1): <gurobi.Constr *Awaiting Model Update*>,\n",
              " (3, 6, 1): <gurobi.Constr *Awaiting Model Update*>,\n",
              " (3, 7, 1): <gurobi.Constr *Awaiting Model Update*>,\n",
              " (3, 9, 1): <gurobi.Constr *Awaiting Model Update*>,\n",
              " (4, 1, 1): <gurobi.Constr *Awaiting Model Update*>,\n",
              " (4, 2, 1): <gurobi.Constr *Awaiting Model Update*>,\n",
              " (4, 3, 1): <gurobi.Constr *Awaiting Model Update*>,\n",
              " (4, 4, 1): <gurobi.Constr *Awaiting Model Update*>,\n",
              " (4, 5, 1): <gurobi.Constr *Awaiting Model Update*>,\n",
              " (4, 6, 1): <gurobi.Constr *Awaiting Model Update*>,\n",
              " (4, 7, 1): <gurobi.Constr *Awaiting Model Update*>,\n",
              " (4, 9, 1): <gurobi.Constr *Awaiting Model Update*>,\n",
              " (5, 1, 1): <gurobi.Constr *Awaiting Model Update*>,\n",
              " (5, 2, 1): <gurobi.Constr *Awaiting Model Update*>,\n",
              " (5, 3, 1): <gurobi.Constr *Awaiting Model Update*>,\n",
              " (5, 4, 1): <gurobi.Constr *Awaiting Model Update*>,\n",
              " (5, 5, 1): <gurobi.Constr *Awaiting Model Update*>,\n",
              " (5, 6, 1): <gurobi.Constr *Awaiting Model Update*>,\n",
              " (5, 7, 1): <gurobi.Constr *Awaiting Model Update*>,\n",
              " (5, 9, 1): <gurobi.Constr *Awaiting Model Update*>,\n",
              " (6, 1, 1): <gurobi.Constr *Awaiting Model Update*>,\n",
              " (6, 2, 1): <gurobi.Constr *Awaiting Model Update*>,\n",
              " (6, 3, 1): <gurobi.Constr *Awaiting Model Update*>,\n",
              " (6, 4, 1): <gurobi.Constr *Awaiting Model Update*>,\n",
              " (6, 5, 1): <gurobi.Constr *Awaiting Model Update*>,\n",
              " (6, 6, 1): <gurobi.Constr *Awaiting Model Update*>,\n",
              " (6, 7, 1): <gurobi.Constr *Awaiting Model Update*>,\n",
              " (6, 9, 1): <gurobi.Constr *Awaiting Model Update*>,\n",
              " (7, 1, 1): <gurobi.Constr *Awaiting Model Update*>,\n",
              " (7, 2, 1): <gurobi.Constr *Awaiting Model Update*>,\n",
              " (7, 3, 1): <gurobi.Constr *Awaiting Model Update*>,\n",
              " (7, 4, 1): <gurobi.Constr *Awaiting Model Update*>,\n",
              " (7, 5, 1): <gurobi.Constr *Awaiting Model Update*>,\n",
              " (7, 6, 1): <gurobi.Constr *Awaiting Model Update*>,\n",
              " (7, 7, 1): <gurobi.Constr *Awaiting Model Update*>,\n",
              " (7, 9, 1): <gurobi.Constr *Awaiting Model Update*>,\n",
              " (8, 1, 1): <gurobi.Constr *Awaiting Model Update*>,\n",
              " (8, 2, 1): <gurobi.Constr *Awaiting Model Update*>,\n",
              " (8, 3, 1): <gurobi.Constr *Awaiting Model Update*>,\n",
              " (8, 4, 1): <gurobi.Constr *Awaiting Model Update*>,\n",
              " (8, 5, 1): <gurobi.Constr *Awaiting Model Update*>,\n",
              " (8, 6, 1): <gurobi.Constr *Awaiting Model Update*>,\n",
              " (8, 7, 1): <gurobi.Constr *Awaiting Model Update*>,\n",
              " (8, 9, 1): <gurobi.Constr *Awaiting Model Update*>}"
            ]
          },
          "metadata": {},
          "execution_count": 22
        }
      ]
    },
    {
      "cell_type": "code",
      "source": [
        "# m.addConstrs((gp.quicksum(x[g, i, t] for g in A_T[:-1] if g != i) == gp.quicksum(x[i, j, t] for j in A_T[1:] if j != i) for i in A_T for t in T), \"FlowConservationTruck\")"
      ],
      "metadata": {
        "id": "cHPZlisqlAN-"
      },
      "execution_count": 23,
      "outputs": []
    },
    {
      "cell_type": "markdown",
      "source": [
        "$\\sum_{i \\in A_T \\atop i \\neq j} \\sum_{t \\in T} x^{t}_{ij} + \\sum_{i \\in A_U \\atop i \\neq j} \\sum_{s \\in A_E} \\sum_{u \\in U} y^{ut}_{ijs} = 1, \\forall j \\in A_T,$ (5)\n",
        "\n",
        "\n",
        "it is only for nodes A_T. we should another one only for nodes unique for A_U (A_U - A_T)"
      ],
      "metadata": {
        "id": "-qIw8oExJKdq"
      }
    },
    {
      "cell_type": "code",
      "source": [
        "# m.addConstrs((gp.quicksum(x[i, j, t] for i in A_T[:-1] if i != j for t in T) == 1 for j in A_T[1:]), \"VisitExactOnce - Truck\")\n",
        "\n",
        "# m.addConstrs((gp.quicksum(x[i, j, t] for i in A_T[:-1] if i != j for t in T) + gp.quicksum(y[g, j, s, u] for g in A_U[:-1] if g != j for s in A_T[1:] if s!=j for u in U) == 1 for j in A_T[1:-1]), \"VisitOnce - Truck and UAV\")\n",
        "m.addConstrs((gp.quicksum(x[i, j, t] for i in A_T[:-1] if i != j for t in T) + gp.quicksum(y[g, j, s, u] for g in A_U[:-1] if g != j for s in A_T[1:] for u in U) == 1 for j in A_T[1:-1]), \"VisitOnce - Truck and UAV\")\n",
        "\n",
        "\n",
        "# m.addConstrs((gp.quicksum(x[i, j, t] for i in A_T[:-1] if i != j for t in T) == 1 for j in A_T[1:]), \"VisitOnce - Truck\")"
      ],
      "metadata": {
        "colab": {
          "base_uri": "https://localhost:8080/"
        },
        "id": "VCLyybkShnBM",
        "outputId": "f6a98784-175a-4cd5-88f9-7dc44f95dcc5"
      },
      "execution_count": 24,
      "outputs": [
        {
          "output_type": "execute_result",
          "data": {
            "text/plain": [
              "{1: <gurobi.Constr *Awaiting Model Update*>,\n",
              " 2: <gurobi.Constr *Awaiting Model Update*>,\n",
              " 3: <gurobi.Constr *Awaiting Model Update*>,\n",
              " 4: <gurobi.Constr *Awaiting Model Update*>,\n",
              " 5: <gurobi.Constr *Awaiting Model Update*>,\n",
              " 6: <gurobi.Constr *Awaiting Model Update*>,\n",
              " 7: <gurobi.Constr *Awaiting Model Update*>}"
            ]
          },
          "metadata": {},
          "execution_count": 24
        }
      ]
    },
    {
      "cell_type": "code",
      "source": [
        "A_T[1:]"
      ],
      "metadata": {
        "colab": {
          "base_uri": "https://localhost:8080/"
        },
        "id": "qWSsv5t_DqC2",
        "outputId": "0b4bb4e6-7c99-466e-df68-7c209106f55b"
      },
      "execution_count": 25,
      "outputs": [
        {
          "output_type": "execute_result",
          "data": {
            "text/plain": [
              "[1, 2, 3, 4, 5, 6, 7, 9]"
            ]
          },
          "metadata": {},
          "execution_count": 25
        }
      ]
    },
    {
      "cell_type": "markdown",
      "source": [
        "it is only for nodes A_T. we should another one only for nodes unique for A_U (A_U - A_T)"
      ],
      "metadata": {
        "id": "w5gfx6OrnRuG"
      }
    },
    {
      "cell_type": "code",
      "source": [
        "# m.addConstrs((gp.quicksum(y[i, j, s, t] for i in A_U[:-1] if i != j for s in A_T[1:] for t in T) == 1 for j in [item for item in A_U if item not in A_T]), \"VisitOnce - UAV\")\n",
        "# m.addConstrs((gp.quicksum(y[i, j, s, t] for i in A_U[:-1] if i != j for s in A_T[1:] for t in T) == 1 for j in A_U[1:-1]), \"VisitOnce - UAV\")\n",
        "m.addConstrs((gp.quicksum(y[i, j, s, t] for i in A_U[:-1] if i != j for s in A_T[1:] for t in T) == 1 for j in  list(set(A_U) - set(A_T))), \"VisitOnce - UAV\")"
      ],
      "metadata": {
        "colab": {
          "base_uri": "https://localhost:8080/"
        },
        "id": "59iJF1NKnQ_W",
        "outputId": "5d123d2e-df6b-4912-bc9d-04a0f2db4486"
      },
      "execution_count": 26,
      "outputs": [
        {
          "output_type": "execute_result",
          "data": {
            "text/plain": [
              "{8: <gurobi.Constr *Awaiting Model Update*>}"
            ]
          },
          "metadata": {},
          "execution_count": 26
        }
      ]
    },
    {
      "cell_type": "code",
      "source": [],
      "metadata": {
        "id": "o-ERCCrs8DXV"
      },
      "execution_count": 26,
      "outputs": []
    },
    {
      "cell_type": "markdown",
      "source": [
        "$1 - (c + 2)(1 - x^{w}_{ij}) \\leq z_j - z^{w}_{i}, \\forall i \\in C_T, \\forall j \\in C_E, i \\neq j, \\forall w \\in W$ (17)\n",
        "\n",
        "\n",
        "MTZ for truck"
      ],
      "metadata": {
        "id": "uObbzQ8adamY"
      }
    },
    {
      "cell_type": "code",
      "source": [
        "m.addConstrs(z_t[i,t] - z_t[j,t] + (L) * x[i,j,t] <= L - 1 for i in A_T[1:-1] for j in A_T[1:-1] if i != j for t in T)"
      ],
      "metadata": {
        "id": "TcaIz7rO4jiD",
        "colab": {
          "base_uri": "https://localhost:8080/"
        },
        "outputId": "bcadabab-848f-4036-b105-f2fedf0063ea",
        "collapsed": true
      },
      "execution_count": 27,
      "outputs": [
        {
          "output_type": "execute_result",
          "data": {
            "text/plain": [
              "{(1, 2, 1): <gurobi.Constr *Awaiting Model Update*>,\n",
              " (1, 3, 1): <gurobi.Constr *Awaiting Model Update*>,\n",
              " (1, 4, 1): <gurobi.Constr *Awaiting Model Update*>,\n",
              " (1, 5, 1): <gurobi.Constr *Awaiting Model Update*>,\n",
              " (1, 6, 1): <gurobi.Constr *Awaiting Model Update*>,\n",
              " (1, 7, 1): <gurobi.Constr *Awaiting Model Update*>,\n",
              " (2, 1, 1): <gurobi.Constr *Awaiting Model Update*>,\n",
              " (2, 3, 1): <gurobi.Constr *Awaiting Model Update*>,\n",
              " (2, 4, 1): <gurobi.Constr *Awaiting Model Update*>,\n",
              " (2, 5, 1): <gurobi.Constr *Awaiting Model Update*>,\n",
              " (2, 6, 1): <gurobi.Constr *Awaiting Model Update*>,\n",
              " (2, 7, 1): <gurobi.Constr *Awaiting Model Update*>,\n",
              " (3, 1, 1): <gurobi.Constr *Awaiting Model Update*>,\n",
              " (3, 2, 1): <gurobi.Constr *Awaiting Model Update*>,\n",
              " (3, 4, 1): <gurobi.Constr *Awaiting Model Update*>,\n",
              " (3, 5, 1): <gurobi.Constr *Awaiting Model Update*>,\n",
              " (3, 6, 1): <gurobi.Constr *Awaiting Model Update*>,\n",
              " (3, 7, 1): <gurobi.Constr *Awaiting Model Update*>,\n",
              " (4, 1, 1): <gurobi.Constr *Awaiting Model Update*>,\n",
              " (4, 2, 1): <gurobi.Constr *Awaiting Model Update*>,\n",
              " (4, 3, 1): <gurobi.Constr *Awaiting Model Update*>,\n",
              " (4, 5, 1): <gurobi.Constr *Awaiting Model Update*>,\n",
              " (4, 6, 1): <gurobi.Constr *Awaiting Model Update*>,\n",
              " (4, 7, 1): <gurobi.Constr *Awaiting Model Update*>,\n",
              " (5, 1, 1): <gurobi.Constr *Awaiting Model Update*>,\n",
              " (5, 2, 1): <gurobi.Constr *Awaiting Model Update*>,\n",
              " (5, 3, 1): <gurobi.Constr *Awaiting Model Update*>,\n",
              " (5, 4, 1): <gurobi.Constr *Awaiting Model Update*>,\n",
              " (5, 6, 1): <gurobi.Constr *Awaiting Model Update*>,\n",
              " (5, 7, 1): <gurobi.Constr *Awaiting Model Update*>,\n",
              " (6, 1, 1): <gurobi.Constr *Awaiting Model Update*>,\n",
              " (6, 2, 1): <gurobi.Constr *Awaiting Model Update*>,\n",
              " (6, 3, 1): <gurobi.Constr *Awaiting Model Update*>,\n",
              " (6, 4, 1): <gurobi.Constr *Awaiting Model Update*>,\n",
              " (6, 5, 1): <gurobi.Constr *Awaiting Model Update*>,\n",
              " (6, 7, 1): <gurobi.Constr *Awaiting Model Update*>,\n",
              " (7, 1, 1): <gurobi.Constr *Awaiting Model Update*>,\n",
              " (7, 2, 1): <gurobi.Constr *Awaiting Model Update*>,\n",
              " (7, 3, 1): <gurobi.Constr *Awaiting Model Update*>,\n",
              " (7, 4, 1): <gurobi.Constr *Awaiting Model Update*>,\n",
              " (7, 5, 1): <gurobi.Constr *Awaiting Model Update*>,\n",
              " (7, 6, 1): <gurobi.Constr *Awaiting Model Update*>}"
            ]
          },
          "metadata": {},
          "execution_count": 27
        }
      ]
    },
    {
      "cell_type": "markdown",
      "source": [
        "$(c+2) - 1 \\leq z_{i} - z_{j} + (c+2) y^{uw}_{ij}, \\forall i \\in C_{0}, \\forall j \\in C_E, \\forall u \\in U, \\forall w \\in W,$ (16)\n",
        "\n",
        "\n",
        "MTZ for UAV"
      ],
      "metadata": {
        "id": "N_hV8pdrZehK"
      }
    },
    {
      "cell_type": "code",
      "source": [
        "m.addConstrs((z_u[i, u] - z_u[j, u] + (N) * y[i, j, s, u] <= N - 1 for i in A_U[1:-1] for j in A_U[1:-1] if i!= j for s in A_T[1:] for u in U))"
      ],
      "metadata": {
        "colab": {
          "base_uri": "https://localhost:8080/"
        },
        "id": "9nOnWafHZepx",
        "outputId": "4f662d76-3d64-4c3b-fc42-62b91e02ca46",
        "collapsed": true
      },
      "execution_count": 28,
      "outputs": [
        {
          "output_type": "execute_result",
          "data": {
            "text/plain": [
              "{(1, 2, 1, 1): <gurobi.Constr *Awaiting Model Update*>,\n",
              " (1, 2, 2, 1): <gurobi.Constr *Awaiting Model Update*>,\n",
              " (1, 2, 3, 1): <gurobi.Constr *Awaiting Model Update*>,\n",
              " (1, 2, 4, 1): <gurobi.Constr *Awaiting Model Update*>,\n",
              " (1, 2, 5, 1): <gurobi.Constr *Awaiting Model Update*>,\n",
              " (1, 2, 6, 1): <gurobi.Constr *Awaiting Model Update*>,\n",
              " (1, 2, 7, 1): <gurobi.Constr *Awaiting Model Update*>,\n",
              " (1, 2, 9, 1): <gurobi.Constr *Awaiting Model Update*>,\n",
              " (1, 3, 1, 1): <gurobi.Constr *Awaiting Model Update*>,\n",
              " (1, 3, 2, 1): <gurobi.Constr *Awaiting Model Update*>,\n",
              " (1, 3, 3, 1): <gurobi.Constr *Awaiting Model Update*>,\n",
              " (1, 3, 4, 1): <gurobi.Constr *Awaiting Model Update*>,\n",
              " (1, 3, 5, 1): <gurobi.Constr *Awaiting Model Update*>,\n",
              " (1, 3, 6, 1): <gurobi.Constr *Awaiting Model Update*>,\n",
              " (1, 3, 7, 1): <gurobi.Constr *Awaiting Model Update*>,\n",
              " (1, 3, 9, 1): <gurobi.Constr *Awaiting Model Update*>,\n",
              " (1, 4, 1, 1): <gurobi.Constr *Awaiting Model Update*>,\n",
              " (1, 4, 2, 1): <gurobi.Constr *Awaiting Model Update*>,\n",
              " (1, 4, 3, 1): <gurobi.Constr *Awaiting Model Update*>,\n",
              " (1, 4, 4, 1): <gurobi.Constr *Awaiting Model Update*>,\n",
              " (1, 4, 5, 1): <gurobi.Constr *Awaiting Model Update*>,\n",
              " (1, 4, 6, 1): <gurobi.Constr *Awaiting Model Update*>,\n",
              " (1, 4, 7, 1): <gurobi.Constr *Awaiting Model Update*>,\n",
              " (1, 4, 9, 1): <gurobi.Constr *Awaiting Model Update*>,\n",
              " (1, 5, 1, 1): <gurobi.Constr *Awaiting Model Update*>,\n",
              " (1, 5, 2, 1): <gurobi.Constr *Awaiting Model Update*>,\n",
              " (1, 5, 3, 1): <gurobi.Constr *Awaiting Model Update*>,\n",
              " (1, 5, 4, 1): <gurobi.Constr *Awaiting Model Update*>,\n",
              " (1, 5, 5, 1): <gurobi.Constr *Awaiting Model Update*>,\n",
              " (1, 5, 6, 1): <gurobi.Constr *Awaiting Model Update*>,\n",
              " (1, 5, 7, 1): <gurobi.Constr *Awaiting Model Update*>,\n",
              " (1, 5, 9, 1): <gurobi.Constr *Awaiting Model Update*>,\n",
              " (1, 6, 1, 1): <gurobi.Constr *Awaiting Model Update*>,\n",
              " (1, 6, 2, 1): <gurobi.Constr *Awaiting Model Update*>,\n",
              " (1, 6, 3, 1): <gurobi.Constr *Awaiting Model Update*>,\n",
              " (1, 6, 4, 1): <gurobi.Constr *Awaiting Model Update*>,\n",
              " (1, 6, 5, 1): <gurobi.Constr *Awaiting Model Update*>,\n",
              " (1, 6, 6, 1): <gurobi.Constr *Awaiting Model Update*>,\n",
              " (1, 6, 7, 1): <gurobi.Constr *Awaiting Model Update*>,\n",
              " (1, 6, 9, 1): <gurobi.Constr *Awaiting Model Update*>,\n",
              " (1, 7, 1, 1): <gurobi.Constr *Awaiting Model Update*>,\n",
              " (1, 7, 2, 1): <gurobi.Constr *Awaiting Model Update*>,\n",
              " (1, 7, 3, 1): <gurobi.Constr *Awaiting Model Update*>,\n",
              " (1, 7, 4, 1): <gurobi.Constr *Awaiting Model Update*>,\n",
              " (1, 7, 5, 1): <gurobi.Constr *Awaiting Model Update*>,\n",
              " (1, 7, 6, 1): <gurobi.Constr *Awaiting Model Update*>,\n",
              " (1, 7, 7, 1): <gurobi.Constr *Awaiting Model Update*>,\n",
              " (1, 7, 9, 1): <gurobi.Constr *Awaiting Model Update*>,\n",
              " (1, 8, 1, 1): <gurobi.Constr *Awaiting Model Update*>,\n",
              " (1, 8, 2, 1): <gurobi.Constr *Awaiting Model Update*>,\n",
              " (1, 8, 3, 1): <gurobi.Constr *Awaiting Model Update*>,\n",
              " (1, 8, 4, 1): <gurobi.Constr *Awaiting Model Update*>,\n",
              " (1, 8, 5, 1): <gurobi.Constr *Awaiting Model Update*>,\n",
              " (1, 8, 6, 1): <gurobi.Constr *Awaiting Model Update*>,\n",
              " (1, 8, 7, 1): <gurobi.Constr *Awaiting Model Update*>,\n",
              " (1, 8, 9, 1): <gurobi.Constr *Awaiting Model Update*>,\n",
              " (2, 1, 1, 1): <gurobi.Constr *Awaiting Model Update*>,\n",
              " (2, 1, 2, 1): <gurobi.Constr *Awaiting Model Update*>,\n",
              " (2, 1, 3, 1): <gurobi.Constr *Awaiting Model Update*>,\n",
              " (2, 1, 4, 1): <gurobi.Constr *Awaiting Model Update*>,\n",
              " (2, 1, 5, 1): <gurobi.Constr *Awaiting Model Update*>,\n",
              " (2, 1, 6, 1): <gurobi.Constr *Awaiting Model Update*>,\n",
              " (2, 1, 7, 1): <gurobi.Constr *Awaiting Model Update*>,\n",
              " (2, 1, 9, 1): <gurobi.Constr *Awaiting Model Update*>,\n",
              " (2, 3, 1, 1): <gurobi.Constr *Awaiting Model Update*>,\n",
              " (2, 3, 2, 1): <gurobi.Constr *Awaiting Model Update*>,\n",
              " (2, 3, 3, 1): <gurobi.Constr *Awaiting Model Update*>,\n",
              " (2, 3, 4, 1): <gurobi.Constr *Awaiting Model Update*>,\n",
              " (2, 3, 5, 1): <gurobi.Constr *Awaiting Model Update*>,\n",
              " (2, 3, 6, 1): <gurobi.Constr *Awaiting Model Update*>,\n",
              " (2, 3, 7, 1): <gurobi.Constr *Awaiting Model Update*>,\n",
              " (2, 3, 9, 1): <gurobi.Constr *Awaiting Model Update*>,\n",
              " (2, 4, 1, 1): <gurobi.Constr *Awaiting Model Update*>,\n",
              " (2, 4, 2, 1): <gurobi.Constr *Awaiting Model Update*>,\n",
              " (2, 4, 3, 1): <gurobi.Constr *Awaiting Model Update*>,\n",
              " (2, 4, 4, 1): <gurobi.Constr *Awaiting Model Update*>,\n",
              " (2, 4, 5, 1): <gurobi.Constr *Awaiting Model Update*>,\n",
              " (2, 4, 6, 1): <gurobi.Constr *Awaiting Model Update*>,\n",
              " (2, 4, 7, 1): <gurobi.Constr *Awaiting Model Update*>,\n",
              " (2, 4, 9, 1): <gurobi.Constr *Awaiting Model Update*>,\n",
              " (2, 5, 1, 1): <gurobi.Constr *Awaiting Model Update*>,\n",
              " (2, 5, 2, 1): <gurobi.Constr *Awaiting Model Update*>,\n",
              " (2, 5, 3, 1): <gurobi.Constr *Awaiting Model Update*>,\n",
              " (2, 5, 4, 1): <gurobi.Constr *Awaiting Model Update*>,\n",
              " (2, 5, 5, 1): <gurobi.Constr *Awaiting Model Update*>,\n",
              " (2, 5, 6, 1): <gurobi.Constr *Awaiting Model Update*>,\n",
              " (2, 5, 7, 1): <gurobi.Constr *Awaiting Model Update*>,\n",
              " (2, 5, 9, 1): <gurobi.Constr *Awaiting Model Update*>,\n",
              " (2, 6, 1, 1): <gurobi.Constr *Awaiting Model Update*>,\n",
              " (2, 6, 2, 1): <gurobi.Constr *Awaiting Model Update*>,\n",
              " (2, 6, 3, 1): <gurobi.Constr *Awaiting Model Update*>,\n",
              " (2, 6, 4, 1): <gurobi.Constr *Awaiting Model Update*>,\n",
              " (2, 6, 5, 1): <gurobi.Constr *Awaiting Model Update*>,\n",
              " (2, 6, 6, 1): <gurobi.Constr *Awaiting Model Update*>,\n",
              " (2, 6, 7, 1): <gurobi.Constr *Awaiting Model Update*>,\n",
              " (2, 6, 9, 1): <gurobi.Constr *Awaiting Model Update*>,\n",
              " (2, 7, 1, 1): <gurobi.Constr *Awaiting Model Update*>,\n",
              " (2, 7, 2, 1): <gurobi.Constr *Awaiting Model Update*>,\n",
              " (2, 7, 3, 1): <gurobi.Constr *Awaiting Model Update*>,\n",
              " (2, 7, 4, 1): <gurobi.Constr *Awaiting Model Update*>,\n",
              " (2, 7, 5, 1): <gurobi.Constr *Awaiting Model Update*>,\n",
              " (2, 7, 6, 1): <gurobi.Constr *Awaiting Model Update*>,\n",
              " (2, 7, 7, 1): <gurobi.Constr *Awaiting Model Update*>,\n",
              " (2, 7, 9, 1): <gurobi.Constr *Awaiting Model Update*>,\n",
              " (2, 8, 1, 1): <gurobi.Constr *Awaiting Model Update*>,\n",
              " (2, 8, 2, 1): <gurobi.Constr *Awaiting Model Update*>,\n",
              " (2, 8, 3, 1): <gurobi.Constr *Awaiting Model Update*>,\n",
              " (2, 8, 4, 1): <gurobi.Constr *Awaiting Model Update*>,\n",
              " (2, 8, 5, 1): <gurobi.Constr *Awaiting Model Update*>,\n",
              " (2, 8, 6, 1): <gurobi.Constr *Awaiting Model Update*>,\n",
              " (2, 8, 7, 1): <gurobi.Constr *Awaiting Model Update*>,\n",
              " (2, 8, 9, 1): <gurobi.Constr *Awaiting Model Update*>,\n",
              " (3, 1, 1, 1): <gurobi.Constr *Awaiting Model Update*>,\n",
              " (3, 1, 2, 1): <gurobi.Constr *Awaiting Model Update*>,\n",
              " (3, 1, 3, 1): <gurobi.Constr *Awaiting Model Update*>,\n",
              " (3, 1, 4, 1): <gurobi.Constr *Awaiting Model Update*>,\n",
              " (3, 1, 5, 1): <gurobi.Constr *Awaiting Model Update*>,\n",
              " (3, 1, 6, 1): <gurobi.Constr *Awaiting Model Update*>,\n",
              " (3, 1, 7, 1): <gurobi.Constr *Awaiting Model Update*>,\n",
              " (3, 1, 9, 1): <gurobi.Constr *Awaiting Model Update*>,\n",
              " (3, 2, 1, 1): <gurobi.Constr *Awaiting Model Update*>,\n",
              " (3, 2, 2, 1): <gurobi.Constr *Awaiting Model Update*>,\n",
              " (3, 2, 3, 1): <gurobi.Constr *Awaiting Model Update*>,\n",
              " (3, 2, 4, 1): <gurobi.Constr *Awaiting Model Update*>,\n",
              " (3, 2, 5, 1): <gurobi.Constr *Awaiting Model Update*>,\n",
              " (3, 2, 6, 1): <gurobi.Constr *Awaiting Model Update*>,\n",
              " (3, 2, 7, 1): <gurobi.Constr *Awaiting Model Update*>,\n",
              " (3, 2, 9, 1): <gurobi.Constr *Awaiting Model Update*>,\n",
              " (3, 4, 1, 1): <gurobi.Constr *Awaiting Model Update*>,\n",
              " (3, 4, 2, 1): <gurobi.Constr *Awaiting Model Update*>,\n",
              " (3, 4, 3, 1): <gurobi.Constr *Awaiting Model Update*>,\n",
              " (3, 4, 4, 1): <gurobi.Constr *Awaiting Model Update*>,\n",
              " (3, 4, 5, 1): <gurobi.Constr *Awaiting Model Update*>,\n",
              " (3, 4, 6, 1): <gurobi.Constr *Awaiting Model Update*>,\n",
              " (3, 4, 7, 1): <gurobi.Constr *Awaiting Model Update*>,\n",
              " (3, 4, 9, 1): <gurobi.Constr *Awaiting Model Update*>,\n",
              " (3, 5, 1, 1): <gurobi.Constr *Awaiting Model Update*>,\n",
              " (3, 5, 2, 1): <gurobi.Constr *Awaiting Model Update*>,\n",
              " (3, 5, 3, 1): <gurobi.Constr *Awaiting Model Update*>,\n",
              " (3, 5, 4, 1): <gurobi.Constr *Awaiting Model Update*>,\n",
              " (3, 5, 5, 1): <gurobi.Constr *Awaiting Model Update*>,\n",
              " (3, 5, 6, 1): <gurobi.Constr *Awaiting Model Update*>,\n",
              " (3, 5, 7, 1): <gurobi.Constr *Awaiting Model Update*>,\n",
              " (3, 5, 9, 1): <gurobi.Constr *Awaiting Model Update*>,\n",
              " (3, 6, 1, 1): <gurobi.Constr *Awaiting Model Update*>,\n",
              " (3, 6, 2, 1): <gurobi.Constr *Awaiting Model Update*>,\n",
              " (3, 6, 3, 1): <gurobi.Constr *Awaiting Model Update*>,\n",
              " (3, 6, 4, 1): <gurobi.Constr *Awaiting Model Update*>,\n",
              " (3, 6, 5, 1): <gurobi.Constr *Awaiting Model Update*>,\n",
              " (3, 6, 6, 1): <gurobi.Constr *Awaiting Model Update*>,\n",
              " (3, 6, 7, 1): <gurobi.Constr *Awaiting Model Update*>,\n",
              " (3, 6, 9, 1): <gurobi.Constr *Awaiting Model Update*>,\n",
              " (3, 7, 1, 1): <gurobi.Constr *Awaiting Model Update*>,\n",
              " (3, 7, 2, 1): <gurobi.Constr *Awaiting Model Update*>,\n",
              " (3, 7, 3, 1): <gurobi.Constr *Awaiting Model Update*>,\n",
              " (3, 7, 4, 1): <gurobi.Constr *Awaiting Model Update*>,\n",
              " (3, 7, 5, 1): <gurobi.Constr *Awaiting Model Update*>,\n",
              " (3, 7, 6, 1): <gurobi.Constr *Awaiting Model Update*>,\n",
              " (3, 7, 7, 1): <gurobi.Constr *Awaiting Model Update*>,\n",
              " (3, 7, 9, 1): <gurobi.Constr *Awaiting Model Update*>,\n",
              " (3, 8, 1, 1): <gurobi.Constr *Awaiting Model Update*>,\n",
              " (3, 8, 2, 1): <gurobi.Constr *Awaiting Model Update*>,\n",
              " (3, 8, 3, 1): <gurobi.Constr *Awaiting Model Update*>,\n",
              " (3, 8, 4, 1): <gurobi.Constr *Awaiting Model Update*>,\n",
              " (3, 8, 5, 1): <gurobi.Constr *Awaiting Model Update*>,\n",
              " (3, 8, 6, 1): <gurobi.Constr *Awaiting Model Update*>,\n",
              " (3, 8, 7, 1): <gurobi.Constr *Awaiting Model Update*>,\n",
              " (3, 8, 9, 1): <gurobi.Constr *Awaiting Model Update*>,\n",
              " (4, 1, 1, 1): <gurobi.Constr *Awaiting Model Update*>,\n",
              " (4, 1, 2, 1): <gurobi.Constr *Awaiting Model Update*>,\n",
              " (4, 1, 3, 1): <gurobi.Constr *Awaiting Model Update*>,\n",
              " (4, 1, 4, 1): <gurobi.Constr *Awaiting Model Update*>,\n",
              " (4, 1, 5, 1): <gurobi.Constr *Awaiting Model Update*>,\n",
              " (4, 1, 6, 1): <gurobi.Constr *Awaiting Model Update*>,\n",
              " (4, 1, 7, 1): <gurobi.Constr *Awaiting Model Update*>,\n",
              " (4, 1, 9, 1): <gurobi.Constr *Awaiting Model Update*>,\n",
              " (4, 2, 1, 1): <gurobi.Constr *Awaiting Model Update*>,\n",
              " (4, 2, 2, 1): <gurobi.Constr *Awaiting Model Update*>,\n",
              " (4, 2, 3, 1): <gurobi.Constr *Awaiting Model Update*>,\n",
              " (4, 2, 4, 1): <gurobi.Constr *Awaiting Model Update*>,\n",
              " (4, 2, 5, 1): <gurobi.Constr *Awaiting Model Update*>,\n",
              " (4, 2, 6, 1): <gurobi.Constr *Awaiting Model Update*>,\n",
              " (4, 2, 7, 1): <gurobi.Constr *Awaiting Model Update*>,\n",
              " (4, 2, 9, 1): <gurobi.Constr *Awaiting Model Update*>,\n",
              " (4, 3, 1, 1): <gurobi.Constr *Awaiting Model Update*>,\n",
              " (4, 3, 2, 1): <gurobi.Constr *Awaiting Model Update*>,\n",
              " (4, 3, 3, 1): <gurobi.Constr *Awaiting Model Update*>,\n",
              " (4, 3, 4, 1): <gurobi.Constr *Awaiting Model Update*>,\n",
              " (4, 3, 5, 1): <gurobi.Constr *Awaiting Model Update*>,\n",
              " (4, 3, 6, 1): <gurobi.Constr *Awaiting Model Update*>,\n",
              " (4, 3, 7, 1): <gurobi.Constr *Awaiting Model Update*>,\n",
              " (4, 3, 9, 1): <gurobi.Constr *Awaiting Model Update*>,\n",
              " (4, 5, 1, 1): <gurobi.Constr *Awaiting Model Update*>,\n",
              " (4, 5, 2, 1): <gurobi.Constr *Awaiting Model Update*>,\n",
              " (4, 5, 3, 1): <gurobi.Constr *Awaiting Model Update*>,\n",
              " (4, 5, 4, 1): <gurobi.Constr *Awaiting Model Update*>,\n",
              " (4, 5, 5, 1): <gurobi.Constr *Awaiting Model Update*>,\n",
              " (4, 5, 6, 1): <gurobi.Constr *Awaiting Model Update*>,\n",
              " (4, 5, 7, 1): <gurobi.Constr *Awaiting Model Update*>,\n",
              " (4, 5, 9, 1): <gurobi.Constr *Awaiting Model Update*>,\n",
              " (4, 6, 1, 1): <gurobi.Constr *Awaiting Model Update*>,\n",
              " (4, 6, 2, 1): <gurobi.Constr *Awaiting Model Update*>,\n",
              " (4, 6, 3, 1): <gurobi.Constr *Awaiting Model Update*>,\n",
              " (4, 6, 4, 1): <gurobi.Constr *Awaiting Model Update*>,\n",
              " (4, 6, 5, 1): <gurobi.Constr *Awaiting Model Update*>,\n",
              " (4, 6, 6, 1): <gurobi.Constr *Awaiting Model Update*>,\n",
              " (4, 6, 7, 1): <gurobi.Constr *Awaiting Model Update*>,\n",
              " (4, 6, 9, 1): <gurobi.Constr *Awaiting Model Update*>,\n",
              " (4, 7, 1, 1): <gurobi.Constr *Awaiting Model Update*>,\n",
              " (4, 7, 2, 1): <gurobi.Constr *Awaiting Model Update*>,\n",
              " (4, 7, 3, 1): <gurobi.Constr *Awaiting Model Update*>,\n",
              " (4, 7, 4, 1): <gurobi.Constr *Awaiting Model Update*>,\n",
              " (4, 7, 5, 1): <gurobi.Constr *Awaiting Model Update*>,\n",
              " (4, 7, 6, 1): <gurobi.Constr *Awaiting Model Update*>,\n",
              " (4, 7, 7, 1): <gurobi.Constr *Awaiting Model Update*>,\n",
              " (4, 7, 9, 1): <gurobi.Constr *Awaiting Model Update*>,\n",
              " (4, 8, 1, 1): <gurobi.Constr *Awaiting Model Update*>,\n",
              " (4, 8, 2, 1): <gurobi.Constr *Awaiting Model Update*>,\n",
              " (4, 8, 3, 1): <gurobi.Constr *Awaiting Model Update*>,\n",
              " (4, 8, 4, 1): <gurobi.Constr *Awaiting Model Update*>,\n",
              " (4, 8, 5, 1): <gurobi.Constr *Awaiting Model Update*>,\n",
              " (4, 8, 6, 1): <gurobi.Constr *Awaiting Model Update*>,\n",
              " (4, 8, 7, 1): <gurobi.Constr *Awaiting Model Update*>,\n",
              " (4, 8, 9, 1): <gurobi.Constr *Awaiting Model Update*>,\n",
              " (5, 1, 1, 1): <gurobi.Constr *Awaiting Model Update*>,\n",
              " (5, 1, 2, 1): <gurobi.Constr *Awaiting Model Update*>,\n",
              " (5, 1, 3, 1): <gurobi.Constr *Awaiting Model Update*>,\n",
              " (5, 1, 4, 1): <gurobi.Constr *Awaiting Model Update*>,\n",
              " (5, 1, 5, 1): <gurobi.Constr *Awaiting Model Update*>,\n",
              " (5, 1, 6, 1): <gurobi.Constr *Awaiting Model Update*>,\n",
              " (5, 1, 7, 1): <gurobi.Constr *Awaiting Model Update*>,\n",
              " (5, 1, 9, 1): <gurobi.Constr *Awaiting Model Update*>,\n",
              " (5, 2, 1, 1): <gurobi.Constr *Awaiting Model Update*>,\n",
              " (5, 2, 2, 1): <gurobi.Constr *Awaiting Model Update*>,\n",
              " (5, 2, 3, 1): <gurobi.Constr *Awaiting Model Update*>,\n",
              " (5, 2, 4, 1): <gurobi.Constr *Awaiting Model Update*>,\n",
              " (5, 2, 5, 1): <gurobi.Constr *Awaiting Model Update*>,\n",
              " (5, 2, 6, 1): <gurobi.Constr *Awaiting Model Update*>,\n",
              " (5, 2, 7, 1): <gurobi.Constr *Awaiting Model Update*>,\n",
              " (5, 2, 9, 1): <gurobi.Constr *Awaiting Model Update*>,\n",
              " (5, 3, 1, 1): <gurobi.Constr *Awaiting Model Update*>,\n",
              " (5, 3, 2, 1): <gurobi.Constr *Awaiting Model Update*>,\n",
              " (5, 3, 3, 1): <gurobi.Constr *Awaiting Model Update*>,\n",
              " (5, 3, 4, 1): <gurobi.Constr *Awaiting Model Update*>,\n",
              " (5, 3, 5, 1): <gurobi.Constr *Awaiting Model Update*>,\n",
              " (5, 3, 6, 1): <gurobi.Constr *Awaiting Model Update*>,\n",
              " (5, 3, 7, 1): <gurobi.Constr *Awaiting Model Update*>,\n",
              " (5, 3, 9, 1): <gurobi.Constr *Awaiting Model Update*>,\n",
              " (5, 4, 1, 1): <gurobi.Constr *Awaiting Model Update*>,\n",
              " (5, 4, 2, 1): <gurobi.Constr *Awaiting Model Update*>,\n",
              " (5, 4, 3, 1): <gurobi.Constr *Awaiting Model Update*>,\n",
              " (5, 4, 4, 1): <gurobi.Constr *Awaiting Model Update*>,\n",
              " (5, 4, 5, 1): <gurobi.Constr *Awaiting Model Update*>,\n",
              " (5, 4, 6, 1): <gurobi.Constr *Awaiting Model Update*>,\n",
              " (5, 4, 7, 1): <gurobi.Constr *Awaiting Model Update*>,\n",
              " (5, 4, 9, 1): <gurobi.Constr *Awaiting Model Update*>,\n",
              " (5, 6, 1, 1): <gurobi.Constr *Awaiting Model Update*>,\n",
              " (5, 6, 2, 1): <gurobi.Constr *Awaiting Model Update*>,\n",
              " (5, 6, 3, 1): <gurobi.Constr *Awaiting Model Update*>,\n",
              " (5, 6, 4, 1): <gurobi.Constr *Awaiting Model Update*>,\n",
              " (5, 6, 5, 1): <gurobi.Constr *Awaiting Model Update*>,\n",
              " (5, 6, 6, 1): <gurobi.Constr *Awaiting Model Update*>,\n",
              " (5, 6, 7, 1): <gurobi.Constr *Awaiting Model Update*>,\n",
              " (5, 6, 9, 1): <gurobi.Constr *Awaiting Model Update*>,\n",
              " (5, 7, 1, 1): <gurobi.Constr *Awaiting Model Update*>,\n",
              " (5, 7, 2, 1): <gurobi.Constr *Awaiting Model Update*>,\n",
              " (5, 7, 3, 1): <gurobi.Constr *Awaiting Model Update*>,\n",
              " (5, 7, 4, 1): <gurobi.Constr *Awaiting Model Update*>,\n",
              " (5, 7, 5, 1): <gurobi.Constr *Awaiting Model Update*>,\n",
              " (5, 7, 6, 1): <gurobi.Constr *Awaiting Model Update*>,\n",
              " (5, 7, 7, 1): <gurobi.Constr *Awaiting Model Update*>,\n",
              " (5, 7, 9, 1): <gurobi.Constr *Awaiting Model Update*>,\n",
              " (5, 8, 1, 1): <gurobi.Constr *Awaiting Model Update*>,\n",
              " (5, 8, 2, 1): <gurobi.Constr *Awaiting Model Update*>,\n",
              " (5, 8, 3, 1): <gurobi.Constr *Awaiting Model Update*>,\n",
              " (5, 8, 4, 1): <gurobi.Constr *Awaiting Model Update*>,\n",
              " (5, 8, 5, 1): <gurobi.Constr *Awaiting Model Update*>,\n",
              " (5, 8, 6, 1): <gurobi.Constr *Awaiting Model Update*>,\n",
              " (5, 8, 7, 1): <gurobi.Constr *Awaiting Model Update*>,\n",
              " (5, 8, 9, 1): <gurobi.Constr *Awaiting Model Update*>,\n",
              " (6, 1, 1, 1): <gurobi.Constr *Awaiting Model Update*>,\n",
              " (6, 1, 2, 1): <gurobi.Constr *Awaiting Model Update*>,\n",
              " (6, 1, 3, 1): <gurobi.Constr *Awaiting Model Update*>,\n",
              " (6, 1, 4, 1): <gurobi.Constr *Awaiting Model Update*>,\n",
              " (6, 1, 5, 1): <gurobi.Constr *Awaiting Model Update*>,\n",
              " (6, 1, 6, 1): <gurobi.Constr *Awaiting Model Update*>,\n",
              " (6, 1, 7, 1): <gurobi.Constr *Awaiting Model Update*>,\n",
              " (6, 1, 9, 1): <gurobi.Constr *Awaiting Model Update*>,\n",
              " (6, 2, 1, 1): <gurobi.Constr *Awaiting Model Update*>,\n",
              " (6, 2, 2, 1): <gurobi.Constr *Awaiting Model Update*>,\n",
              " (6, 2, 3, 1): <gurobi.Constr *Awaiting Model Update*>,\n",
              " (6, 2, 4, 1): <gurobi.Constr *Awaiting Model Update*>,\n",
              " (6, 2, 5, 1): <gurobi.Constr *Awaiting Model Update*>,\n",
              " (6, 2, 6, 1): <gurobi.Constr *Awaiting Model Update*>,\n",
              " (6, 2, 7, 1): <gurobi.Constr *Awaiting Model Update*>,\n",
              " (6, 2, 9, 1): <gurobi.Constr *Awaiting Model Update*>,\n",
              " (6, 3, 1, 1): <gurobi.Constr *Awaiting Model Update*>,\n",
              " (6, 3, 2, 1): <gurobi.Constr *Awaiting Model Update*>,\n",
              " (6, 3, 3, 1): <gurobi.Constr *Awaiting Model Update*>,\n",
              " (6, 3, 4, 1): <gurobi.Constr *Awaiting Model Update*>,\n",
              " (6, 3, 5, 1): <gurobi.Constr *Awaiting Model Update*>,\n",
              " (6, 3, 6, 1): <gurobi.Constr *Awaiting Model Update*>,\n",
              " (6, 3, 7, 1): <gurobi.Constr *Awaiting Model Update*>,\n",
              " (6, 3, 9, 1): <gurobi.Constr *Awaiting Model Update*>,\n",
              " (6, 4, 1, 1): <gurobi.Constr *Awaiting Model Update*>,\n",
              " (6, 4, 2, 1): <gurobi.Constr *Awaiting Model Update*>,\n",
              " (6, 4, 3, 1): <gurobi.Constr *Awaiting Model Update*>,\n",
              " (6, 4, 4, 1): <gurobi.Constr *Awaiting Model Update*>,\n",
              " (6, 4, 5, 1): <gurobi.Constr *Awaiting Model Update*>,\n",
              " (6, 4, 6, 1): <gurobi.Constr *Awaiting Model Update*>,\n",
              " (6, 4, 7, 1): <gurobi.Constr *Awaiting Model Update*>,\n",
              " (6, 4, 9, 1): <gurobi.Constr *Awaiting Model Update*>,\n",
              " (6, 5, 1, 1): <gurobi.Constr *Awaiting Model Update*>,\n",
              " (6, 5, 2, 1): <gurobi.Constr *Awaiting Model Update*>,\n",
              " (6, 5, 3, 1): <gurobi.Constr *Awaiting Model Update*>,\n",
              " (6, 5, 4, 1): <gurobi.Constr *Awaiting Model Update*>,\n",
              " (6, 5, 5, 1): <gurobi.Constr *Awaiting Model Update*>,\n",
              " (6, 5, 6, 1): <gurobi.Constr *Awaiting Model Update*>,\n",
              " (6, 5, 7, 1): <gurobi.Constr *Awaiting Model Update*>,\n",
              " (6, 5, 9, 1): <gurobi.Constr *Awaiting Model Update*>,\n",
              " (6, 7, 1, 1): <gurobi.Constr *Awaiting Model Update*>,\n",
              " (6, 7, 2, 1): <gurobi.Constr *Awaiting Model Update*>,\n",
              " (6, 7, 3, 1): <gurobi.Constr *Awaiting Model Update*>,\n",
              " (6, 7, 4, 1): <gurobi.Constr *Awaiting Model Update*>,\n",
              " (6, 7, 5, 1): <gurobi.Constr *Awaiting Model Update*>,\n",
              " (6, 7, 6, 1): <gurobi.Constr *Awaiting Model Update*>,\n",
              " (6, 7, 7, 1): <gurobi.Constr *Awaiting Model Update*>,\n",
              " (6, 7, 9, 1): <gurobi.Constr *Awaiting Model Update*>,\n",
              " (6, 8, 1, 1): <gurobi.Constr *Awaiting Model Update*>,\n",
              " (6, 8, 2, 1): <gurobi.Constr *Awaiting Model Update*>,\n",
              " (6, 8, 3, 1): <gurobi.Constr *Awaiting Model Update*>,\n",
              " (6, 8, 4, 1): <gurobi.Constr *Awaiting Model Update*>,\n",
              " (6, 8, 5, 1): <gurobi.Constr *Awaiting Model Update*>,\n",
              " (6, 8, 6, 1): <gurobi.Constr *Awaiting Model Update*>,\n",
              " (6, 8, 7, 1): <gurobi.Constr *Awaiting Model Update*>,\n",
              " (6, 8, 9, 1): <gurobi.Constr *Awaiting Model Update*>,\n",
              " (7, 1, 1, 1): <gurobi.Constr *Awaiting Model Update*>,\n",
              " (7, 1, 2, 1): <gurobi.Constr *Awaiting Model Update*>,\n",
              " (7, 1, 3, 1): <gurobi.Constr *Awaiting Model Update*>,\n",
              " (7, 1, 4, 1): <gurobi.Constr *Awaiting Model Update*>,\n",
              " (7, 1, 5, 1): <gurobi.Constr *Awaiting Model Update*>,\n",
              " (7, 1, 6, 1): <gurobi.Constr *Awaiting Model Update*>,\n",
              " (7, 1, 7, 1): <gurobi.Constr *Awaiting Model Update*>,\n",
              " (7, 1, 9, 1): <gurobi.Constr *Awaiting Model Update*>,\n",
              " (7, 2, 1, 1): <gurobi.Constr *Awaiting Model Update*>,\n",
              " (7, 2, 2, 1): <gurobi.Constr *Awaiting Model Update*>,\n",
              " (7, 2, 3, 1): <gurobi.Constr *Awaiting Model Update*>,\n",
              " (7, 2, 4, 1): <gurobi.Constr *Awaiting Model Update*>,\n",
              " (7, 2, 5, 1): <gurobi.Constr *Awaiting Model Update*>,\n",
              " (7, 2, 6, 1): <gurobi.Constr *Awaiting Model Update*>,\n",
              " (7, 2, 7, 1): <gurobi.Constr *Awaiting Model Update*>,\n",
              " (7, 2, 9, 1): <gurobi.Constr *Awaiting Model Update*>,\n",
              " (7, 3, 1, 1): <gurobi.Constr *Awaiting Model Update*>,\n",
              " (7, 3, 2, 1): <gurobi.Constr *Awaiting Model Update*>,\n",
              " (7, 3, 3, 1): <gurobi.Constr *Awaiting Model Update*>,\n",
              " (7, 3, 4, 1): <gurobi.Constr *Awaiting Model Update*>,\n",
              " (7, 3, 5, 1): <gurobi.Constr *Awaiting Model Update*>,\n",
              " (7, 3, 6, 1): <gurobi.Constr *Awaiting Model Update*>,\n",
              " (7, 3, 7, 1): <gurobi.Constr *Awaiting Model Update*>,\n",
              " (7, 3, 9, 1): <gurobi.Constr *Awaiting Model Update*>,\n",
              " (7, 4, 1, 1): <gurobi.Constr *Awaiting Model Update*>,\n",
              " (7, 4, 2, 1): <gurobi.Constr *Awaiting Model Update*>,\n",
              " (7, 4, 3, 1): <gurobi.Constr *Awaiting Model Update*>,\n",
              " (7, 4, 4, 1): <gurobi.Constr *Awaiting Model Update*>,\n",
              " (7, 4, 5, 1): <gurobi.Constr *Awaiting Model Update*>,\n",
              " (7, 4, 6, 1): <gurobi.Constr *Awaiting Model Update*>,\n",
              " (7, 4, 7, 1): <gurobi.Constr *Awaiting Model Update*>,\n",
              " (7, 4, 9, 1): <gurobi.Constr *Awaiting Model Update*>,\n",
              " (7, 5, 1, 1): <gurobi.Constr *Awaiting Model Update*>,\n",
              " (7, 5, 2, 1): <gurobi.Constr *Awaiting Model Update*>,\n",
              " (7, 5, 3, 1): <gurobi.Constr *Awaiting Model Update*>,\n",
              " (7, 5, 4, 1): <gurobi.Constr *Awaiting Model Update*>,\n",
              " (7, 5, 5, 1): <gurobi.Constr *Awaiting Model Update*>,\n",
              " (7, 5, 6, 1): <gurobi.Constr *Awaiting Model Update*>,\n",
              " (7, 5, 7, 1): <gurobi.Constr *Awaiting Model Update*>,\n",
              " (7, 5, 9, 1): <gurobi.Constr *Awaiting Model Update*>,\n",
              " (7, 6, 1, 1): <gurobi.Constr *Awaiting Model Update*>,\n",
              " (7, 6, 2, 1): <gurobi.Constr *Awaiting Model Update*>,\n",
              " (7, 6, 3, 1): <gurobi.Constr *Awaiting Model Update*>,\n",
              " (7, 6, 4, 1): <gurobi.Constr *Awaiting Model Update*>,\n",
              " (7, 6, 5, 1): <gurobi.Constr *Awaiting Model Update*>,\n",
              " (7, 6, 6, 1): <gurobi.Constr *Awaiting Model Update*>,\n",
              " (7, 6, 7, 1): <gurobi.Constr *Awaiting Model Update*>,\n",
              " (7, 6, 9, 1): <gurobi.Constr *Awaiting Model Update*>,\n",
              " (7, 8, 1, 1): <gurobi.Constr *Awaiting Model Update*>,\n",
              " (7, 8, 2, 1): <gurobi.Constr *Awaiting Model Update*>,\n",
              " (7, 8, 3, 1): <gurobi.Constr *Awaiting Model Update*>,\n",
              " (7, 8, 4, 1): <gurobi.Constr *Awaiting Model Update*>,\n",
              " (7, 8, 5, 1): <gurobi.Constr *Awaiting Model Update*>,\n",
              " (7, 8, 6, 1): <gurobi.Constr *Awaiting Model Update*>,\n",
              " (7, 8, 7, 1): <gurobi.Constr *Awaiting Model Update*>,\n",
              " (7, 8, 9, 1): <gurobi.Constr *Awaiting Model Update*>,\n",
              " (8, 1, 1, 1): <gurobi.Constr *Awaiting Model Update*>,\n",
              " (8, 1, 2, 1): <gurobi.Constr *Awaiting Model Update*>,\n",
              " (8, 1, 3, 1): <gurobi.Constr *Awaiting Model Update*>,\n",
              " (8, 1, 4, 1): <gurobi.Constr *Awaiting Model Update*>,\n",
              " (8, 1, 5, 1): <gurobi.Constr *Awaiting Model Update*>,\n",
              " (8, 1, 6, 1): <gurobi.Constr *Awaiting Model Update*>,\n",
              " (8, 1, 7, 1): <gurobi.Constr *Awaiting Model Update*>,\n",
              " (8, 1, 9, 1): <gurobi.Constr *Awaiting Model Update*>,\n",
              " (8, 2, 1, 1): <gurobi.Constr *Awaiting Model Update*>,\n",
              " (8, 2, 2, 1): <gurobi.Constr *Awaiting Model Update*>,\n",
              " (8, 2, 3, 1): <gurobi.Constr *Awaiting Model Update*>,\n",
              " (8, 2, 4, 1): <gurobi.Constr *Awaiting Model Update*>,\n",
              " (8, 2, 5, 1): <gurobi.Constr *Awaiting Model Update*>,\n",
              " (8, 2, 6, 1): <gurobi.Constr *Awaiting Model Update*>,\n",
              " (8, 2, 7, 1): <gurobi.Constr *Awaiting Model Update*>,\n",
              " (8, 2, 9, 1): <gurobi.Constr *Awaiting Model Update*>,\n",
              " (8, 3, 1, 1): <gurobi.Constr *Awaiting Model Update*>,\n",
              " (8, 3, 2, 1): <gurobi.Constr *Awaiting Model Update*>,\n",
              " (8, 3, 3, 1): <gurobi.Constr *Awaiting Model Update*>,\n",
              " (8, 3, 4, 1): <gurobi.Constr *Awaiting Model Update*>,\n",
              " (8, 3, 5, 1): <gurobi.Constr *Awaiting Model Update*>,\n",
              " (8, 3, 6, 1): <gurobi.Constr *Awaiting Model Update*>,\n",
              " (8, 3, 7, 1): <gurobi.Constr *Awaiting Model Update*>,\n",
              " (8, 3, 9, 1): <gurobi.Constr *Awaiting Model Update*>,\n",
              " (8, 4, 1, 1): <gurobi.Constr *Awaiting Model Update*>,\n",
              " (8, 4, 2, 1): <gurobi.Constr *Awaiting Model Update*>,\n",
              " (8, 4, 3, 1): <gurobi.Constr *Awaiting Model Update*>,\n",
              " (8, 4, 4, 1): <gurobi.Constr *Awaiting Model Update*>,\n",
              " (8, 4, 5, 1): <gurobi.Constr *Awaiting Model Update*>,\n",
              " (8, 4, 6, 1): <gurobi.Constr *Awaiting Model Update*>,\n",
              " (8, 4, 7, 1): <gurobi.Constr *Awaiting Model Update*>,\n",
              " (8, 4, 9, 1): <gurobi.Constr *Awaiting Model Update*>,\n",
              " (8, 5, 1, 1): <gurobi.Constr *Awaiting Model Update*>,\n",
              " (8, 5, 2, 1): <gurobi.Constr *Awaiting Model Update*>,\n",
              " (8, 5, 3, 1): <gurobi.Constr *Awaiting Model Update*>,\n",
              " (8, 5, 4, 1): <gurobi.Constr *Awaiting Model Update*>,\n",
              " (8, 5, 5, 1): <gurobi.Constr *Awaiting Model Update*>,\n",
              " (8, 5, 6, 1): <gurobi.Constr *Awaiting Model Update*>,\n",
              " (8, 5, 7, 1): <gurobi.Constr *Awaiting Model Update*>,\n",
              " (8, 5, 9, 1): <gurobi.Constr *Awaiting Model Update*>,\n",
              " (8, 6, 1, 1): <gurobi.Constr *Awaiting Model Update*>,\n",
              " (8, 6, 2, 1): <gurobi.Constr *Awaiting Model Update*>,\n",
              " (8, 6, 3, 1): <gurobi.Constr *Awaiting Model Update*>,\n",
              " (8, 6, 4, 1): <gurobi.Constr *Awaiting Model Update*>,\n",
              " (8, 6, 5, 1): <gurobi.Constr *Awaiting Model Update*>,\n",
              " (8, 6, 6, 1): <gurobi.Constr *Awaiting Model Update*>,\n",
              " (8, 6, 7, 1): <gurobi.Constr *Awaiting Model Update*>,\n",
              " (8, 6, 9, 1): <gurobi.Constr *Awaiting Model Update*>,\n",
              " (8, 7, 1, 1): <gurobi.Constr *Awaiting Model Update*>,\n",
              " (8, 7, 2, 1): <gurobi.Constr *Awaiting Model Update*>,\n",
              " (8, 7, 3, 1): <gurobi.Constr *Awaiting Model Update*>,\n",
              " (8, 7, 4, 1): <gurobi.Constr *Awaiting Model Update*>,\n",
              " (8, 7, 5, 1): <gurobi.Constr *Awaiting Model Update*>,\n",
              " (8, 7, 6, 1): <gurobi.Constr *Awaiting Model Update*>,\n",
              " (8, 7, 7, 1): <gurobi.Constr *Awaiting Model Update*>,\n",
              " (8, 7, 9, 1): <gurobi.Constr *Awaiting Model Update*>}"
            ]
          },
          "metadata": {},
          "execution_count": 28
        }
      ]
    },
    {
      "cell_type": "markdown",
      "source": [
        "$\\sum_{h \\in A_T \\atop h \\neq i} x_{hi} + \\sum_{g \\in A_E \\atop g \\neq s} x_{gs} \\geq 2 \\sum_{j \\in A_U} y^{ut}_{ijs}, \\forall i \\in A_T, \\forall s \\in A_E, \\forall u \\in U,$ (6)\n",
        "\n",
        "$\\sum_{j \\in C_D} y^{uw}_{0js} \\leq \\sum_{g \\in C_T \\atop g \\neq s} x_{gs}, \\forall s \\in C_E, \\forall u \\in U,$ (7)\n",
        "\n",
        "\n",
        "limit of visiting one node per tour by UAV\n",
        "\n",
        "must have more constrs for two and three visits"
      ],
      "metadata": {
        "id": "O-I2AjbjRl6O"
      }
    },
    {
      "cell_type": "code",
      "source": [
        "m.addConstrs((gp.quicksum(x[h, i, t] for h in A_T[:-1] if h != i) + gp.quicksum(x[g, s, t] for g in A_T[:-1] if g != s) >= 2 * gp.quicksum(y[i, j, s, t] for j in A_U[1:]) for i in A_T[1:-1] for s in A_T[1:] for t in T))\n",
        "m.addConstrs((gp.quicksum(y[0, j, s, t] for j in A_U[1:]) <= gp.quicksum(x[g, s, t] for g in A_T[:-1] if g != s) for s in A_T[1:] for t in T), \"UAVRouteConsistency\")"
      ],
      "metadata": {
        "colab": {
          "base_uri": "https://localhost:8080/"
        },
        "id": "zhhkj2DNRmKP",
        "outputId": "a7d761e4-9592-4783-8035-65af14251839"
      },
      "execution_count": 29,
      "outputs": [
        {
          "output_type": "execute_result",
          "data": {
            "text/plain": [
              "{(1, 1): <gurobi.Constr *Awaiting Model Update*>,\n",
              " (2, 1): <gurobi.Constr *Awaiting Model Update*>,\n",
              " (3, 1): <gurobi.Constr *Awaiting Model Update*>,\n",
              " (4, 1): <gurobi.Constr *Awaiting Model Update*>,\n",
              " (5, 1): <gurobi.Constr *Awaiting Model Update*>,\n",
              " (6, 1): <gurobi.Constr *Awaiting Model Update*>,\n",
              " (7, 1): <gurobi.Constr *Awaiting Model Update*>,\n",
              " (9, 1): <gurobi.Constr *Awaiting Model Update*>}"
            ]
          },
          "metadata": {},
          "execution_count": 29
        }
      ]
    },
    {
      "cell_type": "markdown",
      "source": [
        " $r^{t}_{j} + d_{ij} - (1 - x^{t}_{ij}) M \\leq p^{t}_{j}, \\forall i \\in A_T, \\forall j \\in A_E, i \\neq j,$ (8)\n"
      ],
      "metadata": {
        "id": "fWXSj49_IbYN"
      }
    },
    {
      "cell_type": "code",
      "source": [
        "m.addConstrs((p_t[i, t] + d_t.iloc[i, j] - (1 - x[i, j, t]) * M <= r_t[j, t] for i in A_T[:-1] for j in A_T[1:] if i != j for t in T), \"TruckArrivalTime\")"
      ],
      "metadata": {
        "colab": {
          "base_uri": "https://localhost:8080/"
        },
        "id": "ysx5ROcEIbqE",
        "outputId": "d8542400-dd96-4a73-a278-2c65eda4f61b"
      },
      "execution_count": 30,
      "outputs": [
        {
          "output_type": "execute_result",
          "data": {
            "text/plain": [
              "{(0, 1, 1): <gurobi.Constr *Awaiting Model Update*>,\n",
              " (0, 2, 1): <gurobi.Constr *Awaiting Model Update*>,\n",
              " (0, 3, 1): <gurobi.Constr *Awaiting Model Update*>,\n",
              " (0, 4, 1): <gurobi.Constr *Awaiting Model Update*>,\n",
              " (0, 5, 1): <gurobi.Constr *Awaiting Model Update*>,\n",
              " (0, 6, 1): <gurobi.Constr *Awaiting Model Update*>,\n",
              " (0, 7, 1): <gurobi.Constr *Awaiting Model Update*>,\n",
              " (0, 9, 1): <gurobi.Constr *Awaiting Model Update*>,\n",
              " (1, 2, 1): <gurobi.Constr *Awaiting Model Update*>,\n",
              " (1, 3, 1): <gurobi.Constr *Awaiting Model Update*>,\n",
              " (1, 4, 1): <gurobi.Constr *Awaiting Model Update*>,\n",
              " (1, 5, 1): <gurobi.Constr *Awaiting Model Update*>,\n",
              " (1, 6, 1): <gurobi.Constr *Awaiting Model Update*>,\n",
              " (1, 7, 1): <gurobi.Constr *Awaiting Model Update*>,\n",
              " (1, 9, 1): <gurobi.Constr *Awaiting Model Update*>,\n",
              " (2, 1, 1): <gurobi.Constr *Awaiting Model Update*>,\n",
              " (2, 3, 1): <gurobi.Constr *Awaiting Model Update*>,\n",
              " (2, 4, 1): <gurobi.Constr *Awaiting Model Update*>,\n",
              " (2, 5, 1): <gurobi.Constr *Awaiting Model Update*>,\n",
              " (2, 6, 1): <gurobi.Constr *Awaiting Model Update*>,\n",
              " (2, 7, 1): <gurobi.Constr *Awaiting Model Update*>,\n",
              " (2, 9, 1): <gurobi.Constr *Awaiting Model Update*>,\n",
              " (3, 1, 1): <gurobi.Constr *Awaiting Model Update*>,\n",
              " (3, 2, 1): <gurobi.Constr *Awaiting Model Update*>,\n",
              " (3, 4, 1): <gurobi.Constr *Awaiting Model Update*>,\n",
              " (3, 5, 1): <gurobi.Constr *Awaiting Model Update*>,\n",
              " (3, 6, 1): <gurobi.Constr *Awaiting Model Update*>,\n",
              " (3, 7, 1): <gurobi.Constr *Awaiting Model Update*>,\n",
              " (3, 9, 1): <gurobi.Constr *Awaiting Model Update*>,\n",
              " (4, 1, 1): <gurobi.Constr *Awaiting Model Update*>,\n",
              " (4, 2, 1): <gurobi.Constr *Awaiting Model Update*>,\n",
              " (4, 3, 1): <gurobi.Constr *Awaiting Model Update*>,\n",
              " (4, 5, 1): <gurobi.Constr *Awaiting Model Update*>,\n",
              " (4, 6, 1): <gurobi.Constr *Awaiting Model Update*>,\n",
              " (4, 7, 1): <gurobi.Constr *Awaiting Model Update*>,\n",
              " (4, 9, 1): <gurobi.Constr *Awaiting Model Update*>,\n",
              " (5, 1, 1): <gurobi.Constr *Awaiting Model Update*>,\n",
              " (5, 2, 1): <gurobi.Constr *Awaiting Model Update*>,\n",
              " (5, 3, 1): <gurobi.Constr *Awaiting Model Update*>,\n",
              " (5, 4, 1): <gurobi.Constr *Awaiting Model Update*>,\n",
              " (5, 6, 1): <gurobi.Constr *Awaiting Model Update*>,\n",
              " (5, 7, 1): <gurobi.Constr *Awaiting Model Update*>,\n",
              " (5, 9, 1): <gurobi.Constr *Awaiting Model Update*>,\n",
              " (6, 1, 1): <gurobi.Constr *Awaiting Model Update*>,\n",
              " (6, 2, 1): <gurobi.Constr *Awaiting Model Update*>,\n",
              " (6, 3, 1): <gurobi.Constr *Awaiting Model Update*>,\n",
              " (6, 4, 1): <gurobi.Constr *Awaiting Model Update*>,\n",
              " (6, 5, 1): <gurobi.Constr *Awaiting Model Update*>,\n",
              " (6, 7, 1): <gurobi.Constr *Awaiting Model Update*>,\n",
              " (6, 9, 1): <gurobi.Constr *Awaiting Model Update*>,\n",
              " (7, 1, 1): <gurobi.Constr *Awaiting Model Update*>,\n",
              " (7, 2, 1): <gurobi.Constr *Awaiting Model Update*>,\n",
              " (7, 3, 1): <gurobi.Constr *Awaiting Model Update*>,\n",
              " (7, 4, 1): <gurobi.Constr *Awaiting Model Update*>,\n",
              " (7, 5, 1): <gurobi.Constr *Awaiting Model Update*>,\n",
              " (7, 6, 1): <gurobi.Constr *Awaiting Model Update*>,\n",
              " (7, 9, 1): <gurobi.Constr *Awaiting Model Update*>}"
            ]
          },
          "metadata": {},
          "execution_count": 30
        }
      ]
    },
    {
      "cell_type": "markdown",
      "source": [
        "$\\tilde{t}^{u}_{i} + \\bar{d}_{ij} - (1 - \\sum_{s \\in C_E \\atop s \\neq j} y^{uw}_{ijs}) M \\leq \\tilde{l}^{u}_{j}, \\forall i \\in C_D, \\forall j \\in C, \\forall u \\in U,$ (9)"
      ],
      "metadata": {
        "id": "GqgLEbUOMLuN"
      }
    },
    {
      "cell_type": "code",
      "source": [
        "m.addConstrs((p_u[i, u] + d_u.iloc[i, j] - (1 - gp.quicksum(y[i, j, s, u] for s in A_T[1:] if s != j)) * M <= r_u[j, u] for i in A_U[:-1] for j in A_U[1:] if i != j for u in U), \"UAVArrivalTime\")"
      ],
      "metadata": {
        "id": "47kL1k8tML2t",
        "colab": {
          "base_uri": "https://localhost:8080/"
        },
        "outputId": "ccd1336b-c892-4134-b480-5d3835c15ef4"
      },
      "execution_count": 31,
      "outputs": [
        {
          "output_type": "execute_result",
          "data": {
            "text/plain": [
              "{(0, 1, 1): <gurobi.Constr *Awaiting Model Update*>,\n",
              " (0, 2, 1): <gurobi.Constr *Awaiting Model Update*>,\n",
              " (0, 3, 1): <gurobi.Constr *Awaiting Model Update*>,\n",
              " (0, 4, 1): <gurobi.Constr *Awaiting Model Update*>,\n",
              " (0, 5, 1): <gurobi.Constr *Awaiting Model Update*>,\n",
              " (0, 6, 1): <gurobi.Constr *Awaiting Model Update*>,\n",
              " (0, 7, 1): <gurobi.Constr *Awaiting Model Update*>,\n",
              " (0, 8, 1): <gurobi.Constr *Awaiting Model Update*>,\n",
              " (0, 9, 1): <gurobi.Constr *Awaiting Model Update*>,\n",
              " (1, 2, 1): <gurobi.Constr *Awaiting Model Update*>,\n",
              " (1, 3, 1): <gurobi.Constr *Awaiting Model Update*>,\n",
              " (1, 4, 1): <gurobi.Constr *Awaiting Model Update*>,\n",
              " (1, 5, 1): <gurobi.Constr *Awaiting Model Update*>,\n",
              " (1, 6, 1): <gurobi.Constr *Awaiting Model Update*>,\n",
              " (1, 7, 1): <gurobi.Constr *Awaiting Model Update*>,\n",
              " (1, 8, 1): <gurobi.Constr *Awaiting Model Update*>,\n",
              " (1, 9, 1): <gurobi.Constr *Awaiting Model Update*>,\n",
              " (2, 1, 1): <gurobi.Constr *Awaiting Model Update*>,\n",
              " (2, 3, 1): <gurobi.Constr *Awaiting Model Update*>,\n",
              " (2, 4, 1): <gurobi.Constr *Awaiting Model Update*>,\n",
              " (2, 5, 1): <gurobi.Constr *Awaiting Model Update*>,\n",
              " (2, 6, 1): <gurobi.Constr *Awaiting Model Update*>,\n",
              " (2, 7, 1): <gurobi.Constr *Awaiting Model Update*>,\n",
              " (2, 8, 1): <gurobi.Constr *Awaiting Model Update*>,\n",
              " (2, 9, 1): <gurobi.Constr *Awaiting Model Update*>,\n",
              " (3, 1, 1): <gurobi.Constr *Awaiting Model Update*>,\n",
              " (3, 2, 1): <gurobi.Constr *Awaiting Model Update*>,\n",
              " (3, 4, 1): <gurobi.Constr *Awaiting Model Update*>,\n",
              " (3, 5, 1): <gurobi.Constr *Awaiting Model Update*>,\n",
              " (3, 6, 1): <gurobi.Constr *Awaiting Model Update*>,\n",
              " (3, 7, 1): <gurobi.Constr *Awaiting Model Update*>,\n",
              " (3, 8, 1): <gurobi.Constr *Awaiting Model Update*>,\n",
              " (3, 9, 1): <gurobi.Constr *Awaiting Model Update*>,\n",
              " (4, 1, 1): <gurobi.Constr *Awaiting Model Update*>,\n",
              " (4, 2, 1): <gurobi.Constr *Awaiting Model Update*>,\n",
              " (4, 3, 1): <gurobi.Constr *Awaiting Model Update*>,\n",
              " (4, 5, 1): <gurobi.Constr *Awaiting Model Update*>,\n",
              " (4, 6, 1): <gurobi.Constr *Awaiting Model Update*>,\n",
              " (4, 7, 1): <gurobi.Constr *Awaiting Model Update*>,\n",
              " (4, 8, 1): <gurobi.Constr *Awaiting Model Update*>,\n",
              " (4, 9, 1): <gurobi.Constr *Awaiting Model Update*>,\n",
              " (5, 1, 1): <gurobi.Constr *Awaiting Model Update*>,\n",
              " (5, 2, 1): <gurobi.Constr *Awaiting Model Update*>,\n",
              " (5, 3, 1): <gurobi.Constr *Awaiting Model Update*>,\n",
              " (5, 4, 1): <gurobi.Constr *Awaiting Model Update*>,\n",
              " (5, 6, 1): <gurobi.Constr *Awaiting Model Update*>,\n",
              " (5, 7, 1): <gurobi.Constr *Awaiting Model Update*>,\n",
              " (5, 8, 1): <gurobi.Constr *Awaiting Model Update*>,\n",
              " (5, 9, 1): <gurobi.Constr *Awaiting Model Update*>,\n",
              " (6, 1, 1): <gurobi.Constr *Awaiting Model Update*>,\n",
              " (6, 2, 1): <gurobi.Constr *Awaiting Model Update*>,\n",
              " (6, 3, 1): <gurobi.Constr *Awaiting Model Update*>,\n",
              " (6, 4, 1): <gurobi.Constr *Awaiting Model Update*>,\n",
              " (6, 5, 1): <gurobi.Constr *Awaiting Model Update*>,\n",
              " (6, 7, 1): <gurobi.Constr *Awaiting Model Update*>,\n",
              " (6, 8, 1): <gurobi.Constr *Awaiting Model Update*>,\n",
              " (6, 9, 1): <gurobi.Constr *Awaiting Model Update*>,\n",
              " (7, 1, 1): <gurobi.Constr *Awaiting Model Update*>,\n",
              " (7, 2, 1): <gurobi.Constr *Awaiting Model Update*>,\n",
              " (7, 3, 1): <gurobi.Constr *Awaiting Model Update*>,\n",
              " (7, 4, 1): <gurobi.Constr *Awaiting Model Update*>,\n",
              " (7, 5, 1): <gurobi.Constr *Awaiting Model Update*>,\n",
              " (7, 6, 1): <gurobi.Constr *Awaiting Model Update*>,\n",
              " (7, 8, 1): <gurobi.Constr *Awaiting Model Update*>,\n",
              " (7, 9, 1): <gurobi.Constr *Awaiting Model Update*>,\n",
              " (8, 1, 1): <gurobi.Constr *Awaiting Model Update*>,\n",
              " (8, 2, 1): <gurobi.Constr *Awaiting Model Update*>,\n",
              " (8, 3, 1): <gurobi.Constr *Awaiting Model Update*>,\n",
              " (8, 4, 1): <gurobi.Constr *Awaiting Model Update*>,\n",
              " (8, 5, 1): <gurobi.Constr *Awaiting Model Update*>,\n",
              " (8, 6, 1): <gurobi.Constr *Awaiting Model Update*>,\n",
              " (8, 7, 1): <gurobi.Constr *Awaiting Model Update*>,\n",
              " (8, 9, 1): <gurobi.Constr *Awaiting Model Update*>}"
            ]
          },
          "metadata": {},
          "execution_count": 31
        }
      ]
    },
    {
      "cell_type": "markdown",
      "source": [
        "${p}^{u}_{i} \\leq {r}^{u}_{i}, \\forall i \\in {A}_{U}, \\forall u \\in U,$ (10)"
      ],
      "metadata": {
        "id": "MMbdpq0qNr_K"
      }
    },
    {
      "cell_type": "code",
      "source": [
        "m.addConstrs((r_u[i, t] <= p_u[i, t] for i in A_U[1:-1] for t in T), \"UAVDepartureTime\")"
      ],
      "metadata": {
        "colab": {
          "base_uri": "https://localhost:8080/"
        },
        "id": "f4JssxbnNr2p",
        "outputId": "87845611-624a-4488-c27e-eecbcb56e411"
      },
      "execution_count": 32,
      "outputs": [
        {
          "output_type": "execute_result",
          "data": {
            "text/plain": [
              "{(1, 1): <gurobi.Constr *Awaiting Model Update*>,\n",
              " (2, 1): <gurobi.Constr *Awaiting Model Update*>,\n",
              " (3, 1): <gurobi.Constr *Awaiting Model Update*>,\n",
              " (4, 1): <gurobi.Constr *Awaiting Model Update*>,\n",
              " (5, 1): <gurobi.Constr *Awaiting Model Update*>,\n",
              " (6, 1): <gurobi.Constr *Awaiting Model Update*>,\n",
              " (7, 1): <gurobi.Constr *Awaiting Model Update*>,\n",
              " (8, 1): <gurobi.Constr *Awaiting Model Update*>}"
            ]
          },
          "metadata": {},
          "execution_count": 32
        }
      ]
    },
    {
      "cell_type": "markdown",
      "source": [
        "$p^{t}_{i} \\leq r^{t}_{j}, \\forall i \\in A_T, \\forall t \\in W,$ (11)"
      ],
      "metadata": {
        "id": "w9I4DaY_KPC5"
      }
    },
    {
      "cell_type": "code",
      "source": [
        "m.addConstrs((r_t[i, t] <= p_t[i, t] for i in A_T[1:-1] for t in T), \"TruckDepartureTime\")"
      ],
      "metadata": {
        "colab": {
          "base_uri": "https://localhost:8080/"
        },
        "id": "SbMIoC9CJLZj",
        "outputId": "72b6c857-05ad-480a-81cb-828d01651e77"
      },
      "execution_count": 33,
      "outputs": [
        {
          "output_type": "execute_result",
          "data": {
            "text/plain": [
              "{(1, 1): <gurobi.Constr *Awaiting Model Update*>,\n",
              " (2, 1): <gurobi.Constr *Awaiting Model Update*>,\n",
              " (3, 1): <gurobi.Constr *Awaiting Model Update*>,\n",
              " (4, 1): <gurobi.Constr *Awaiting Model Update*>,\n",
              " (5, 1): <gurobi.Constr *Awaiting Model Update*>,\n",
              " (6, 1): <gurobi.Constr *Awaiting Model Update*>,\n",
              " (7, 1): <gurobi.Constr *Awaiting Model Update*>}"
            ]
          },
          "metadata": {},
          "execution_count": 33
        }
      ]
    },
    {
      "cell_type": "markdown",
      "source": [
        "$\\tilde{t}^{u}_{i} - (1 - \\sum_{j \\in C \\atop j \\neq i} \\sum_{s \\in C_E} y^{uw}_{ijs}) M \\leq l^{w}_{j}, \\forall i \\in C_D, \\forall u \\in U, \\forall w \\in W,$ (12)\n",
        "\n",
        "UAV must depart from node i after truck arrives there"
      ],
      "metadata": {
        "id": "xavf6doGOOzh"
      }
    },
    {
      "cell_type": "code",
      "source": [
        "m.addConstrs((r_t[i, t] - (1 - gp.quicksum(y[i, g, s, t] for g in A_U[1:] if g != i for s in A_T[1:])) * M <= p_u[i, t] for i in A_T[:-1] for t in T), \"UAVReturnTime1\")"
      ],
      "metadata": {
        "colab": {
          "base_uri": "https://localhost:8080/"
        },
        "id": "4NfpSsV1OO64",
        "outputId": "277b7a24-5144-4342-b959-197a3edfb9ba"
      },
      "execution_count": 34,
      "outputs": [
        {
          "output_type": "execute_result",
          "data": {
            "text/plain": [
              "{(0, 1): <gurobi.Constr *Awaiting Model Update*>,\n",
              " (1, 1): <gurobi.Constr *Awaiting Model Update*>,\n",
              " (2, 1): <gurobi.Constr *Awaiting Model Update*>,\n",
              " (3, 1): <gurobi.Constr *Awaiting Model Update*>,\n",
              " (4, 1): <gurobi.Constr *Awaiting Model Update*>,\n",
              " (5, 1): <gurobi.Constr *Awaiting Model Update*>,\n",
              " (6, 1): <gurobi.Constr *Awaiting Model Update*>,\n",
              " (7, 1): <gurobi.Constr *Awaiting Model Update*>}"
            ]
          },
          "metadata": {},
          "execution_count": 34
        }
      ]
    },
    {
      "cell_type": "markdown",
      "source": [
        "$l^{w}_{s} + \\bar{d}_{js} - (1 - \\sum_{i \\in C_D \\atop i \\neq j} y^{uw}_{ijs}) M \\leq \\tilde{t}^{u}_{j}, \\forall j \\in C, \\forall s \\in C_E, \\forall u \\in U, \\forall w \\in W,$ (13)\n",
        "\n",
        "UAV must arrive to the intermeeting point s after it's truck"
      ],
      "metadata": {
        "id": "2CfR9XmjXx8M"
      }
    },
    {
      "cell_type": "code",
      "source": [
        "# m.addConstrs((r_t[s, t] + d_u.iloc[j, s] - (1 - gp.quicksum(y[i, j, s, t] for i in A_U if i != j)) * M <= p_u[j, t] for j in A_U for s in A_T for t in T), \"UAVReturnTime2\")\n"
      ],
      "metadata": {
        "id": "QfbFGvL-XyNa"
      },
      "execution_count": 35,
      "outputs": []
    },
    {
      "cell_type": "code",
      "source": [
        "m.addConstrs((r_t[s, t] - (1 - y[i, s, s, t] ) * M <= p_u[i, t] + d_u.iloc[i, s] for i in A_U[:-1] for s in A_T[1:] for t in T if i != s) , \"UAVReturnTime2\")"
      ],
      "metadata": {
        "colab": {
          "base_uri": "https://localhost:8080/"
        },
        "id": "o642cKAyo4o9",
        "outputId": "5142a968-41e8-4fd6-e7e8-2090359fe1c7"
      },
      "execution_count": 36,
      "outputs": [
        {
          "output_type": "execute_result",
          "data": {
            "text/plain": [
              "{(0, 1, 1): <gurobi.Constr *Awaiting Model Update*>,\n",
              " (0, 2, 1): <gurobi.Constr *Awaiting Model Update*>,\n",
              " (0, 3, 1): <gurobi.Constr *Awaiting Model Update*>,\n",
              " (0, 4, 1): <gurobi.Constr *Awaiting Model Update*>,\n",
              " (0, 5, 1): <gurobi.Constr *Awaiting Model Update*>,\n",
              " (0, 6, 1): <gurobi.Constr *Awaiting Model Update*>,\n",
              " (0, 7, 1): <gurobi.Constr *Awaiting Model Update*>,\n",
              " (0, 9, 1): <gurobi.Constr *Awaiting Model Update*>,\n",
              " (1, 2, 1): <gurobi.Constr *Awaiting Model Update*>,\n",
              " (1, 3, 1): <gurobi.Constr *Awaiting Model Update*>,\n",
              " (1, 4, 1): <gurobi.Constr *Awaiting Model Update*>,\n",
              " (1, 5, 1): <gurobi.Constr *Awaiting Model Update*>,\n",
              " (1, 6, 1): <gurobi.Constr *Awaiting Model Update*>,\n",
              " (1, 7, 1): <gurobi.Constr *Awaiting Model Update*>,\n",
              " (1, 9, 1): <gurobi.Constr *Awaiting Model Update*>,\n",
              " (2, 1, 1): <gurobi.Constr *Awaiting Model Update*>,\n",
              " (2, 3, 1): <gurobi.Constr *Awaiting Model Update*>,\n",
              " (2, 4, 1): <gurobi.Constr *Awaiting Model Update*>,\n",
              " (2, 5, 1): <gurobi.Constr *Awaiting Model Update*>,\n",
              " (2, 6, 1): <gurobi.Constr *Awaiting Model Update*>,\n",
              " (2, 7, 1): <gurobi.Constr *Awaiting Model Update*>,\n",
              " (2, 9, 1): <gurobi.Constr *Awaiting Model Update*>,\n",
              " (3, 1, 1): <gurobi.Constr *Awaiting Model Update*>,\n",
              " (3, 2, 1): <gurobi.Constr *Awaiting Model Update*>,\n",
              " (3, 4, 1): <gurobi.Constr *Awaiting Model Update*>,\n",
              " (3, 5, 1): <gurobi.Constr *Awaiting Model Update*>,\n",
              " (3, 6, 1): <gurobi.Constr *Awaiting Model Update*>,\n",
              " (3, 7, 1): <gurobi.Constr *Awaiting Model Update*>,\n",
              " (3, 9, 1): <gurobi.Constr *Awaiting Model Update*>,\n",
              " (4, 1, 1): <gurobi.Constr *Awaiting Model Update*>,\n",
              " (4, 2, 1): <gurobi.Constr *Awaiting Model Update*>,\n",
              " (4, 3, 1): <gurobi.Constr *Awaiting Model Update*>,\n",
              " (4, 5, 1): <gurobi.Constr *Awaiting Model Update*>,\n",
              " (4, 6, 1): <gurobi.Constr *Awaiting Model Update*>,\n",
              " (4, 7, 1): <gurobi.Constr *Awaiting Model Update*>,\n",
              " (4, 9, 1): <gurobi.Constr *Awaiting Model Update*>,\n",
              " (5, 1, 1): <gurobi.Constr *Awaiting Model Update*>,\n",
              " (5, 2, 1): <gurobi.Constr *Awaiting Model Update*>,\n",
              " (5, 3, 1): <gurobi.Constr *Awaiting Model Update*>,\n",
              " (5, 4, 1): <gurobi.Constr *Awaiting Model Update*>,\n",
              " (5, 6, 1): <gurobi.Constr *Awaiting Model Update*>,\n",
              " (5, 7, 1): <gurobi.Constr *Awaiting Model Update*>,\n",
              " (5, 9, 1): <gurobi.Constr *Awaiting Model Update*>,\n",
              " (6, 1, 1): <gurobi.Constr *Awaiting Model Update*>,\n",
              " (6, 2, 1): <gurobi.Constr *Awaiting Model Update*>,\n",
              " (6, 3, 1): <gurobi.Constr *Awaiting Model Update*>,\n",
              " (6, 4, 1): <gurobi.Constr *Awaiting Model Update*>,\n",
              " (6, 5, 1): <gurobi.Constr *Awaiting Model Update*>,\n",
              " (6, 7, 1): <gurobi.Constr *Awaiting Model Update*>,\n",
              " (6, 9, 1): <gurobi.Constr *Awaiting Model Update*>,\n",
              " (7, 1, 1): <gurobi.Constr *Awaiting Model Update*>,\n",
              " (7, 2, 1): <gurobi.Constr *Awaiting Model Update*>,\n",
              " (7, 3, 1): <gurobi.Constr *Awaiting Model Update*>,\n",
              " (7, 4, 1): <gurobi.Constr *Awaiting Model Update*>,\n",
              " (7, 5, 1): <gurobi.Constr *Awaiting Model Update*>,\n",
              " (7, 6, 1): <gurobi.Constr *Awaiting Model Update*>,\n",
              " (7, 9, 1): <gurobi.Constr *Awaiting Model Update*>,\n",
              " (8, 1, 1): <gurobi.Constr *Awaiting Model Update*>,\n",
              " (8, 2, 1): <gurobi.Constr *Awaiting Model Update*>,\n",
              " (8, 3, 1): <gurobi.Constr *Awaiting Model Update*>,\n",
              " (8, 4, 1): <gurobi.Constr *Awaiting Model Update*>,\n",
              " (8, 5, 1): <gurobi.Constr *Awaiting Model Update*>,\n",
              " (8, 6, 1): <gurobi.Constr *Awaiting Model Update*>,\n",
              " (8, 7, 1): <gurobi.Constr *Awaiting Model Update*>,\n",
              " (8, 9, 1): <gurobi.Constr *Awaiting Model Update*>}"
            ]
          },
          "metadata": {},
          "execution_count": 36
        }
      ]
    },
    {
      "cell_type": "markdown",
      "source": [
        "$t^{w}_{i} - (1 - \\sum_{j \\in C \\atop j \\neq i} \\sum_{s \\in C_E} y^{uw}_{ijs}) M \\leq \\tilde{t}^{u}_{i}, \\forall i \\in C_D, \\forall u \\in U,$ (14)\n",
        "\n",
        "wrong and rep - when truck arives to a node, uav can fly even before truck's departure\n",
        "\n",
        "(14) say uav must fly after truck's departure"
      ],
      "metadata": {
        "id": "dw8N0lV6PTcq"
      }
    },
    {
      "cell_type": "markdown",
      "source": [
        "$\\tilde{t}^{u}_{j} + \\bar{d}_{js} - \\left(2 - \\sum_{i \\in C_D \\atop i \\neq j} y^{uw}_{ijs} - \\sum_{v \\in C \\atop v \\neq s} \\sum_{h \\in C_E \\atop h \\neq j} y^{uw}_{vsh}\\right) M \\leq \\tilde{l}_{su}, \\forall s \\in C_E, \\forall j \\in C, \\forall u \\in U,$ (15)"
      ],
      "metadata": {
        "id": "bUTJVsp3WaE4"
      }
    },
    {
      "cell_type": "code",
      "source": [
        "m.addConstrs((p_u[j, u] + d_u.iloc[j, s] - (1 - y[j, s, s, u]) * M <= r_u[s, u] for s in A_T[1:] for j in A_U[1:-1] for u in U), \"UAVReturnTime4\")"
      ],
      "metadata": {
        "colab": {
          "base_uri": "https://localhost:8080/"
        },
        "id": "bvp6EwnlWaP3",
        "outputId": "9b7ff1c6-aafc-40fb-90a1-e589cd99f262"
      },
      "execution_count": 37,
      "outputs": [
        {
          "output_type": "execute_result",
          "data": {
            "text/plain": [
              "{(1, 1, 1): <gurobi.Constr *Awaiting Model Update*>,\n",
              " (1, 2, 1): <gurobi.Constr *Awaiting Model Update*>,\n",
              " (1, 3, 1): <gurobi.Constr *Awaiting Model Update*>,\n",
              " (1, 4, 1): <gurobi.Constr *Awaiting Model Update*>,\n",
              " (1, 5, 1): <gurobi.Constr *Awaiting Model Update*>,\n",
              " (1, 6, 1): <gurobi.Constr *Awaiting Model Update*>,\n",
              " (1, 7, 1): <gurobi.Constr *Awaiting Model Update*>,\n",
              " (1, 8, 1): <gurobi.Constr *Awaiting Model Update*>,\n",
              " (2, 1, 1): <gurobi.Constr *Awaiting Model Update*>,\n",
              " (2, 2, 1): <gurobi.Constr *Awaiting Model Update*>,\n",
              " (2, 3, 1): <gurobi.Constr *Awaiting Model Update*>,\n",
              " (2, 4, 1): <gurobi.Constr *Awaiting Model Update*>,\n",
              " (2, 5, 1): <gurobi.Constr *Awaiting Model Update*>,\n",
              " (2, 6, 1): <gurobi.Constr *Awaiting Model Update*>,\n",
              " (2, 7, 1): <gurobi.Constr *Awaiting Model Update*>,\n",
              " (2, 8, 1): <gurobi.Constr *Awaiting Model Update*>,\n",
              " (3, 1, 1): <gurobi.Constr *Awaiting Model Update*>,\n",
              " (3, 2, 1): <gurobi.Constr *Awaiting Model Update*>,\n",
              " (3, 3, 1): <gurobi.Constr *Awaiting Model Update*>,\n",
              " (3, 4, 1): <gurobi.Constr *Awaiting Model Update*>,\n",
              " (3, 5, 1): <gurobi.Constr *Awaiting Model Update*>,\n",
              " (3, 6, 1): <gurobi.Constr *Awaiting Model Update*>,\n",
              " (3, 7, 1): <gurobi.Constr *Awaiting Model Update*>,\n",
              " (3, 8, 1): <gurobi.Constr *Awaiting Model Update*>,\n",
              " (4, 1, 1): <gurobi.Constr *Awaiting Model Update*>,\n",
              " (4, 2, 1): <gurobi.Constr *Awaiting Model Update*>,\n",
              " (4, 3, 1): <gurobi.Constr *Awaiting Model Update*>,\n",
              " (4, 4, 1): <gurobi.Constr *Awaiting Model Update*>,\n",
              " (4, 5, 1): <gurobi.Constr *Awaiting Model Update*>,\n",
              " (4, 6, 1): <gurobi.Constr *Awaiting Model Update*>,\n",
              " (4, 7, 1): <gurobi.Constr *Awaiting Model Update*>,\n",
              " (4, 8, 1): <gurobi.Constr *Awaiting Model Update*>,\n",
              " (5, 1, 1): <gurobi.Constr *Awaiting Model Update*>,\n",
              " (5, 2, 1): <gurobi.Constr *Awaiting Model Update*>,\n",
              " (5, 3, 1): <gurobi.Constr *Awaiting Model Update*>,\n",
              " (5, 4, 1): <gurobi.Constr *Awaiting Model Update*>,\n",
              " (5, 5, 1): <gurobi.Constr *Awaiting Model Update*>,\n",
              " (5, 6, 1): <gurobi.Constr *Awaiting Model Update*>,\n",
              " (5, 7, 1): <gurobi.Constr *Awaiting Model Update*>,\n",
              " (5, 8, 1): <gurobi.Constr *Awaiting Model Update*>,\n",
              " (6, 1, 1): <gurobi.Constr *Awaiting Model Update*>,\n",
              " (6, 2, 1): <gurobi.Constr *Awaiting Model Update*>,\n",
              " (6, 3, 1): <gurobi.Constr *Awaiting Model Update*>,\n",
              " (6, 4, 1): <gurobi.Constr *Awaiting Model Update*>,\n",
              " (6, 5, 1): <gurobi.Constr *Awaiting Model Update*>,\n",
              " (6, 6, 1): <gurobi.Constr *Awaiting Model Update*>,\n",
              " (6, 7, 1): <gurobi.Constr *Awaiting Model Update*>,\n",
              " (6, 8, 1): <gurobi.Constr *Awaiting Model Update*>,\n",
              " (7, 1, 1): <gurobi.Constr *Awaiting Model Update*>,\n",
              " (7, 2, 1): <gurobi.Constr *Awaiting Model Update*>,\n",
              " (7, 3, 1): <gurobi.Constr *Awaiting Model Update*>,\n",
              " (7, 4, 1): <gurobi.Constr *Awaiting Model Update*>,\n",
              " (7, 5, 1): <gurobi.Constr *Awaiting Model Update*>,\n",
              " (7, 6, 1): <gurobi.Constr *Awaiting Model Update*>,\n",
              " (7, 7, 1): <gurobi.Constr *Awaiting Model Update*>,\n",
              " (7, 8, 1): <gurobi.Constr *Awaiting Model Update*>,\n",
              " (9, 1, 1): <gurobi.Constr *Awaiting Model Update*>,\n",
              " (9, 2, 1): <gurobi.Constr *Awaiting Model Update*>,\n",
              " (9, 3, 1): <gurobi.Constr *Awaiting Model Update*>,\n",
              " (9, 4, 1): <gurobi.Constr *Awaiting Model Update*>,\n",
              " (9, 5, 1): <gurobi.Constr *Awaiting Model Update*>,\n",
              " (9, 6, 1): <gurobi.Constr *Awaiting Model Update*>,\n",
              " (9, 7, 1): <gurobi.Constr *Awaiting Model Update*>,\n",
              " (9, 8, 1): <gurobi.Constr *Awaiting Model Update*>}"
            ]
          },
          "metadata": {},
          "execution_count": 37
        }
      ]
    },
    {
      "cell_type": "markdown",
      "source": [
        "$\\sum_{j \\in A} y^{uw}_{ijs} \\leq q, \\forall i \\in A, \\forall s \\in A_E,$ (23)"
      ],
      "metadata": {
        "id": "LBeqU_tQQ6Wo"
      }
    },
    {
      "cell_type": "markdown",
      "source": [
        "$x^{w}_{ij}, p^{w}_{ij} \\in \\{0,1\\}, \\forall i \\in V, \\forall j \\in V,$ (24)"
      ],
      "metadata": {
        "id": "QvFe8nEeQ6ZR"
      }
    },
    {
      "cell_type": "code",
      "source": [
        "m.optimize()\n",
        "\n",
        "# Print the variables with values greater than 0\n",
        "print(\"Non-zero values of x:\")\n",
        "for v in x.values():\n",
        "    if v.x > 0:\n",
        "        print(f'{v.varName}: {v.x}')\n",
        "\n",
        "\n",
        "print(\"\\nNon-zero values of y:\")\n",
        "for v in y.values():\n",
        "    if v.x > 0:\n",
        "        print(f'{v.varName}: {v.x}')\n",
        "\n",
        "\n",
        "# if m.status == GRB.INFEASIBLE:\n",
        "#     print(\"Model is infeasible, computing IIS...\")\n",
        "#     m.computeIIS()\n",
        "#     m.write(\"model.ilp\")\n",
        "\n",
        "\n",
        "# m.computeIIS()\n",
        "# m.write(\"model.ilp\")\n",
        "\n",
        "\n",
        "# import os\n",
        "# os.listdir()\n",
        "\n",
        "\n",
        "# from google.colab import files\n",
        "# files.download('model.ilp')\n"
      ],
      "metadata": {
        "colab": {
          "base_uri": "https://localhost:8080/"
        },
        "id": "s1sLsU1hLUOJ",
        "outputId": "8e42104a-aae2-4cdb-c09c-1af62f76b133"
      },
      "execution_count": 38,
      "outputs": [
        {
          "output_type": "stream",
          "name": "stdout",
          "text": [
            "Gurobi Optimizer version 11.0.3 build v11.0.3rc0 (linux64 - \"Ubuntu 22.04.3 LTS\")\n",
            "\n",
            "CPU model: Intel(R) Xeon(R) CPU @ 2.20GHz, instruction set [SSE2|AVX|AVX2]\n",
            "Thread count: 1 physical cores, 2 logical processors, using up to 2 threads\n",
            "\n",
            "Academic license 2536865 - for non-commercial use only - registered to rt___@stevens.edu\n",
            "Optimize a model with 937 rows, 766 columns and 6505 nonzeros\n",
            "Model fingerprint: 0x398e2c7b\n",
            "Variable types: 39 continuous, 727 integer (712 binary)\n",
            "Coefficient statistics:\n",
            "  Matrix range     [1e+00, 1e+05]\n",
            "  Objective range  [1e+00, 1e+00]\n",
            "  Bounds range     [1e+00, 9e+00]\n",
            "  RHS range        [1e+00, 1e+05]\n",
            "Presolve removed 263 rows and 276 columns\n",
            "Presolve time: 0.05s\n",
            "Presolved: 674 rows, 490 columns, 4361 nonzeros\n",
            "Variable types: 26 continuous, 464 integer (449 binary)\n",
            "Found heuristic solution: objective 407.1843054\n",
            "\n",
            "Root relaxation: objective 4.544511e+00, 108 iterations, 0.00 seconds (0.00 work units)\n",
            "\n",
            "    Nodes    |    Current Node    |     Objective Bounds      |     Work\n",
            " Expl Unexpl |  Obj  Depth IntInf | Incumbent    BestBd   Gap | It/Node Time\n",
            "\n",
            "     0     0    4.54451    0   26  407.18431    4.54451  98.9%     -    0s\n",
            "H    0     0                     373.7303826    4.54451  98.8%     -    0s\n",
            "     0     0    6.52234    0   67  373.73038    6.52234  98.3%     -    0s\n",
            "     0     0    6.52234    0   50  373.73038    6.52234  98.3%     -    0s\n",
            "     0     0    9.74207    0   57  373.73038    9.74207  97.4%     -    0s\n",
            "     0     0    9.83959    0   52  373.73038    9.83959  97.4%     -    0s\n",
            "     0     0    9.83959    0   56  373.73038    9.83959  97.4%     -    0s\n",
            "     0     0   12.80336    0   78  373.73038   12.80336  96.6%     -    0s\n",
            "     0     0   12.80336    0   56  373.73038   12.80336  96.6%     -    0s\n",
            "     0     0   14.08039    0   58  373.73038   14.08039  96.2%     -    0s\n",
            "     0     0   19.44540    0   51  373.73038   19.44540  94.8%     -    0s\n",
            "     0     0   19.44540    0   44  373.73038   19.44540  94.8%     -    0s\n",
            "     0     0   19.44540    0   65  373.73038   19.44540  94.8%     -    0s\n",
            "     0     0   19.44540    0   48  373.73038   19.44540  94.8%     -    0s\n",
            "     0     0   19.44540    0   40  373.73038   19.44540  94.8%     -    0s\n",
            "     0     0   19.44540    0   21  373.73038   19.44540  94.8%     -    0s\n",
            "     0     0   19.44540    0   43  373.73038   19.44540  94.8%     -    0s\n",
            "     0     0   19.44547    0   40  373.73038   19.44547  94.8%     -    0s\n",
            "     0     0   19.96384    0   52  373.73038   19.96384  94.7%     -    0s\n",
            "     0     0   19.96384    0   56  373.73038   19.96384  94.7%     -    0s\n",
            "     0     0   19.98666    0   54  373.73038   19.98666  94.7%     -    0s\n",
            "     0     0   20.10749    0   57  373.73038   20.10749  94.6%     -    0s\n",
            "     0     0   20.10749    0   57  373.73038   20.10749  94.6%     -    0s\n",
            "     0     0   20.10749    0   56  373.73038   20.10749  94.6%     -    0s\n",
            "     0     0   22.95909    0   52  373.73038   22.95909  93.9%     -    0s\n",
            "     0     0   22.95909    0   53  373.73038   22.95909  93.9%     -    0s\n",
            "     0     0   23.54471    0   42  373.73038   23.54471  93.7%     -    0s\n",
            "     0     0   24.36457    0   47  373.73038   24.36457  93.5%     -    0s\n",
            "     0     0   27.13003    0   23  373.73038   27.13003  92.7%     -    0s\n",
            "     0     0   27.13003    0   38  373.73038   27.13003  92.7%     -    0s\n",
            "     0     0   31.73911    0   38  373.73038   31.73911  91.5%     -    0s\n",
            "     0     0   35.03233    0   47  373.73038   35.03233  90.6%     -    0s\n",
            "     0     0   35.03233    0   45  373.73038   35.03233  90.6%     -    0s\n",
            "     0     0   35.03233    0   41  373.73038   35.03233  90.6%     -    0s\n",
            "     0     0   35.03233    0   43  373.73038   35.03233  90.6%     -    0s\n",
            "     0     0   35.03233    0   43  373.73038   35.03233  90.6%     -    0s\n",
            "     0     0   39.45202    0   45  373.73038   39.45202  89.4%     -    0s\n",
            "     0     0   43.45687    0   43  373.73038   43.45687  88.4%     -    0s\n",
            "     0     0   46.31165    0   33  373.73038   46.31165  87.6%     -    0s\n",
            "     0     0   46.31165    0   39  373.73038   46.31165  87.6%     -    0s\n",
            "     0     0   60.14627    0   57  373.73038   60.14627  83.9%     -    0s\n",
            "     0     0   61.95538    0   57  373.73038   61.95538  83.4%     -    0s\n",
            "     0     0   62.65581    0   55  373.73038   62.65581  83.2%     -    0s\n",
            "     0     0   62.65581    0   58  373.73038   62.65581  83.2%     -    0s\n",
            "     0     0   72.97657    0   69  373.73038   72.97657  80.5%     -    0s\n",
            "     0     0   72.97657    0   63  373.73038   72.97657  80.5%     -    0s\n",
            "     0     0   76.18135    0   47  373.73038   76.18135  79.6%     -    0s\n",
            "     0     0   77.15421    0   24  373.73038   77.15421  79.4%     -    0s\n",
            "     0     0   77.68615    0   48  373.73038   77.68615  79.2%     -    0s\n",
            "     0     0   77.68615    0   49  373.73038   77.68615  79.2%     -    0s\n",
            "     0     0   77.68615    0   52  373.73038   77.68615  79.2%     -    0s\n",
            "     0     0   78.67418    0   57  373.73038   78.67418  78.9%     -    0s\n",
            "     0     0   85.02582    0   25  373.73038   85.02582  77.2%     -    0s\n",
            "     0     0   87.83469    0   14  373.73038   87.83469  76.5%     -    0s\n",
            "H    0     0                     348.6986417   87.83469  74.8%     -    0s\n",
            "     0     0   87.83469    0   20  348.69864   87.83469  74.8%     -    0s\n",
            "     0     0   91.13836    0   26  348.69864   91.13836  73.9%     -    0s\n",
            "     0     0   91.13836    0   11  348.69864   91.13836  73.9%     -    0s\n",
            "     0     0   91.13987    0   49  348.69864   91.13987  73.9%     -    0s\n",
            "     0     0   91.62791    0   47  348.69864   91.62791  73.7%     -    0s\n",
            "     0     0   91.62791    0   47  348.69864   91.62791  73.7%     -    0s\n",
            "     0     0   92.34589    0   21  348.69864   92.34589  73.5%     -    0s\n",
            "H    0     0                     301.9846264   92.34589  69.4%     -    0s\n",
            "     0     0   92.34589    0   35  301.98463   92.34589  69.4%     -    1s\n",
            "     0     0   92.34589    0   47  301.98463   92.34589  69.4%     -    1s\n",
            "     0     0   93.70918    0   30  301.98463   93.70918  69.0%     -    1s\n",
            "     0     0   93.70918    0   21  301.98463   93.70918  69.0%     -    1s\n",
            "     0     0   94.03662    0   21  301.98463   94.03662  68.9%     -    1s\n",
            "     0     0   94.03662    0   20  301.98463   94.03662  68.9%     -    1s\n",
            "     0     0   94.03662    0   22  301.98463   94.03662  68.9%     -    1s\n",
            "     0     0   94.03662    0   31  301.98463   94.03662  68.9%     -    1s\n",
            "     0     0   94.03662    0   16  301.98463   94.03662  68.9%     -    1s\n",
            "     0     0   94.03662    0   34  301.98463   94.03662  68.9%     -    1s\n",
            "     0     0   94.03662    0   34  301.98463   94.03662  68.9%     -    1s\n",
            "     0     0   94.03662    0   12  301.98463   94.03662  68.9%     -    1s\n",
            "     0     0   95.01892    0   14  301.98463   95.01892  68.5%     -    1s\n",
            "     0     0   98.94812    0   15  301.98463   98.94812  67.2%     -    1s\n",
            "     0     0   98.94812    0   20  301.98463   98.94812  67.2%     -    1s\n",
            "     0     0   98.98703    0   27  301.98463   98.98703  67.2%     -    1s\n",
            "     0     0  104.04802    0   17  301.98463  104.04802  65.5%     -    1s\n",
            "     0     0  104.15667    0   24  301.98463  104.15667  65.5%     -    1s\n",
            "     0     0  104.17802    0   23  301.98463  104.17802  65.5%     -    1s\n",
            "     0     0  104.21338    0   23  301.98463  104.21338  65.5%     -    1s\n",
            "     0     0  104.21338    0   22  301.98463  104.21338  65.5%     -    1s\n",
            "     0     0  108.72848    0   20  301.98463  108.72848  64.0%     -    1s\n",
            "     0     0  108.72848    0   25  301.98463  108.72848  64.0%     -    1s\n",
            "     0     0  108.79359    0   24  301.98463  108.79359  64.0%     -    1s\n",
            "     0     0  108.79359    0   27  301.98463  108.79359  64.0%     -    1s\n",
            "     0     0  110.58375    0   23  301.98463  110.58375  63.4%     -    1s\n",
            "     0     0  110.58375    0   20  301.98463  110.58375  63.4%     -    1s\n",
            "     0     0  110.58375    0   24  301.98463  110.58375  63.4%     -    1s\n",
            "     0     0  110.58375    0   22  301.98463  110.58375  63.4%     -    1s\n",
            "     0     0  110.58375    0   17  301.98463  110.58375  63.4%     -    1s\n",
            "     0     0  110.58375    0   14  301.98463  110.58375  63.4%     -    1s\n",
            "     0     0  110.58375    0   15  301.98463  110.58375  63.4%     -    1s\n",
            "     0     0  110.58375    0   17  301.98463  110.58375  63.4%     -    1s\n",
            "     0     0  110.58375    0   12  301.98463  110.58375  63.4%     -    1s\n",
            "     0     0  110.58375    0    6  301.98463  110.58375  63.4%     -    1s\n",
            "     0     0  110.58375    0   11  301.98463  110.58375  63.4%     -    1s\n",
            "     0     0  110.58375    0   11  301.98463  110.58375  63.4%     -    1s\n",
            "     0     2  110.58375    0   10  301.98463  110.58375  63.4%     -    1s\n",
            "H   27    15                     274.5258485  110.58375  59.7%  11.3    1s\n",
            "H  745   176                     264.5130093  114.26360  56.8%   8.7    1s\n",
            "\n",
            "Cutting planes:\n",
            "  Learned: 18\n",
            "  Cover: 11\n",
            "  Implied bound: 33\n",
            "  MIR: 83\n",
            "  Inf proof: 35\n",
            "  Mod-K: 1\n",
            "  RLT: 12\n",
            "  Relax-and-lift: 14\n",
            "  BQP: 4\n",
            "\n",
            "Explored 2178 nodes (24414 simplex iterations) in 2.09 seconds (0.82 work units)\n",
            "Thread count was 2 (of 2 available processors)\n",
            "\n",
            "Solution count 7: 264.513 274.526 301.985 ... 407.184\n",
            "\n",
            "Optimal solution found (tolerance 1.00e-04)\n",
            "Best objective 2.645130092898e+02, best bound 2.645130092898e+02, gap 0.0000%\n",
            "Non-zero values of x:\n",
            "Truck[0,6,1]: 1.0\n",
            "Truck[1,5,1]: 1.0\n",
            "Truck[2,1,1]: 1.0\n",
            "Truck[3,2,1]: 1.0\n",
            "Truck[4,7,1]: 1.0\n",
            "Truck[5,4,1]: 1.0\n",
            "Truck[6,3,1]: 1.0\n",
            "Truck[7,9,1]: 1.0\n",
            "\n",
            "Non-zero values of y:\n",
            "UAV[0,8,9,1]: 1.0\n",
            "UAV[8,9,9,1]: 1.0\n"
          ]
        }
      ]
    },
    {
      "cell_type": "code",
      "source": [
        "r_u,r_t"
      ],
      "metadata": {
        "colab": {
          "base_uri": "https://localhost:8080/"
        },
        "id": "7RY0zgMmFtz6",
        "outputId": "b55c0530-0928-4397-f302-1f8a0d60700a"
      },
      "execution_count": 40,
      "outputs": [
        {
          "output_type": "execute_result",
          "data": {
            "text/plain": [
              "({(0, 1): <gurobi.Var arrival time uav[0,1] (value 0.0)>,\n",
              "  (1, 1): <gurobi.Var arrival time uav[1,1] (value 54.14819517226715)>,\n",
              "  (2, 1): <gurobi.Var arrival time uav[2,1] (value 54.14819517226715)>,\n",
              "  (3, 1): <gurobi.Var arrival time uav[3,1] (value 54.14819517226715)>,\n",
              "  (4, 1): <gurobi.Var arrival time uav[4,1] (value 54.14819517226715)>,\n",
              "  (5, 1): <gurobi.Var arrival time uav[5,1] (value 54.14819517226715)>,\n",
              "  (6, 1): <gurobi.Var arrival time uav[6,1] (value 54.14819517226715)>,\n",
              "  (7, 1): <gurobi.Var arrival time uav[7,1] (value 0.0)>,\n",
              "  (8, 1): <gurobi.Var arrival time uav[8,1] (value 264.513009289818)>,\n",
              "  (9, 1): <gurobi.Var arrival time uav[9,1] (value 413.0)>},\n",
              " {(0, 1): <gurobi.Var arrival time truck[0,1] (value 0.0)>,\n",
              "  (1, 1): <gurobi.Var arrival time truck[1,1] (value 93.38501228703532)>,\n",
              "  (2, 1): <gurobi.Var arrival time truck[2,1] (value 65.37306160679141)>,\n",
              "  (3, 1): <gurobi.Var arrival time truck[3,1] (value 39.39193164286547)>,\n",
              "  (4, 1): <gurobi.Var arrival time truck[4,1] (value 145.6191171470855)>,\n",
              "  (5, 1): <gurobi.Var arrival time truck[5,1] (value 113.8800048125413)>,\n",
              "  (6, 1): <gurobi.Var arrival time truck[6,1] (value 22.96383290868829)>,\n",
              "  (7, 1): <gurobi.Var arrival time truck[7,1] (value 264.513009289818)>,\n",
              "  (9, 1): <gurobi.Var arrival time truck[9,1] (value 412.5683776552588)>})"
            ]
          },
          "metadata": {},
          "execution_count": 40
        }
      ]
    },
    {
      "cell_type": "markdown",
      "source": [
        "$y^{uw}_{ijs} \\in \\{0,1\\}, \\forall i \\in V, \\forall j \\in V, \\forall s \\in V, \\forall u \\in U,$ (25)"
      ],
      "metadata": {
        "id": "BNRoxCMLQ6bg"
      }
    },
    {
      "cell_type": "markdown",
      "source": [
        "$1 \\leq z^{w}_{i} \\leq (a + 2), \\forall i \\in A_T,$ (26)"
      ],
      "metadata": {
        "id": "LtvI2PFlQ6d2"
      }
    },
    {
      "cell_type": "markdown",
      "source": [
        "$t^{w}_{i}, l^{w}_{j} \\geq 0, \\forall i \\in V$ (27)"
      ],
      "metadata": {
        "id": "S4keV2ZcRPl4"
      }
    },
    {
      "cell_type": "markdown",
      "source": [
        "$t^{u}_{i}, l^{u}_{i} \\geq 0, \\forall i \\in V, \\forall u \\in U.$ (28)"
      ],
      "metadata": {
        "id": "nAYjQhwLRRxh"
      }
    },
    {
      "cell_type": "markdown",
      "source": [
        "# Optimization"
      ],
      "metadata": {
        "id": "imTuIba4t0WV"
      }
    },
    {
      "cell_type": "code",
      "source": [
        "m.optimize()\n",
        "\n",
        "# Print the variables with values greater than 0\n",
        "print(\"Non-zero values of x:\")\n",
        "for v in x.values():\n",
        "    if v.x > 0:\n",
        "        print(f'{v.varName}: {v.x}')\n",
        "\n",
        "\n",
        "print(\"\\nNon-zero values of y:\")\n",
        "for v in y.values():\n",
        "    if v.x > 0:\n",
        "        print(f'{v.varName}: {v.x}')"
      ],
      "metadata": {
        "colab": {
          "base_uri": "https://localhost:8080/",
          "height": 749
        },
        "id": "_gI-El4Ot0g2",
        "outputId": "d0bc56e3-17b5-45e8-d0d9-11e1d2de4f26"
      },
      "execution_count": null,
      "outputs": [
        {
          "output_type": "stream",
          "name": "stdout",
          "text": [
            "Gurobi Optimizer version 11.0.3 build v11.0.3rc0 (linux64 - \"Ubuntu 22.04.3 LTS\")\n",
            "\n",
            "CPU model: Intel(R) Xeon(R) CPU @ 2.20GHz, instruction set [SSE2|AVX|AVX2]\n",
            "Thread count: 1 physical cores, 2 logical processors, using up to 2 threads\n",
            "\n",
            "Academic license 2536865 - for non-commercial use only - registered to rt___@stevens.edu\n",
            "Optimize a model with 245 rows, 193 columns and 1310 nonzeros\n",
            "Model fingerprint: 0x00a77182\n",
            "Variable types: 25 continuous, 168 integer (160 binary)\n",
            "Coefficient statistics:\n",
            "  Matrix range     [1e+00, 1e+05]\n",
            "  Objective range  [1e+00, 1e+00]\n",
            "  Bounds range     [1e+00, 6e+00]\n",
            "  RHS range        [1e+00, 1e+05]\n",
            "Presolve removed 119 rows and 128 columns\n",
            "Presolve time: 0.01s\n",
            "\n",
            "Explored 0 nodes (0 simplex iterations) in 0.04 seconds (0.00 work units)\n",
            "Thread count was 1 (of 2 available processors)\n",
            "\n",
            "Solution count 0\n",
            "\n",
            "Model is infeasible\n",
            "Best objective -, best bound -, gap -\n",
            "Non-zero values of x:\n"
          ]
        },
        {
          "output_type": "error",
          "ename": "AttributeError",
          "evalue": "Unable to retrieve attribute 'x'",
          "traceback": [
            "\u001b[0;31m---------------------------------------------------------------------------\u001b[0m",
            "\u001b[0;31mAttributeError\u001b[0m                            Traceback (most recent call last)",
            "\u001b[0;32m<ipython-input-88-bbd4759b5506>\u001b[0m in \u001b[0;36m<cell line: 5>\u001b[0;34m()\u001b[0m\n\u001b[1;32m      4\u001b[0m \u001b[0mprint\u001b[0m\u001b[0;34m(\u001b[0m\u001b[0;34m\"Non-zero values of x:\"\u001b[0m\u001b[0;34m)\u001b[0m\u001b[0;34m\u001b[0m\u001b[0;34m\u001b[0m\u001b[0m\n\u001b[1;32m      5\u001b[0m \u001b[0;32mfor\u001b[0m \u001b[0mv\u001b[0m \u001b[0;32min\u001b[0m \u001b[0mx\u001b[0m\u001b[0;34m.\u001b[0m\u001b[0mvalues\u001b[0m\u001b[0;34m(\u001b[0m\u001b[0;34m)\u001b[0m\u001b[0;34m:\u001b[0m\u001b[0;34m\u001b[0m\u001b[0;34m\u001b[0m\u001b[0m\n\u001b[0;32m----> 6\u001b[0;31m     \u001b[0;32mif\u001b[0m \u001b[0mv\u001b[0m\u001b[0;34m.\u001b[0m\u001b[0mx\u001b[0m \u001b[0;34m>\u001b[0m \u001b[0;36m0\u001b[0m\u001b[0;34m:\u001b[0m\u001b[0;34m\u001b[0m\u001b[0;34m\u001b[0m\u001b[0m\n\u001b[0m\u001b[1;32m      7\u001b[0m         \u001b[0mprint\u001b[0m\u001b[0;34m(\u001b[0m\u001b[0;34mf'{v.varName}: {v.x}'\u001b[0m\u001b[0;34m)\u001b[0m\u001b[0;34m\u001b[0m\u001b[0;34m\u001b[0m\u001b[0m\n\u001b[1;32m      8\u001b[0m \u001b[0;34m\u001b[0m\u001b[0m\n",
            "\u001b[0;32msrc/gurobipy/var.pxi\u001b[0m in \u001b[0;36mgurobipy.Var.__getattr__\u001b[0;34m()\u001b[0m\n",
            "\u001b[0;32msrc/gurobipy/var.pxi\u001b[0m in \u001b[0;36mgurobipy.Var.getAttr\u001b[0;34m()\u001b[0m\n",
            "\u001b[0;32msrc/gurobipy/attrutil.pxi\u001b[0m in \u001b[0;36mgurobipy._getattr\u001b[0;34m()\u001b[0m\n",
            "\u001b[0;31mAttributeError\u001b[0m: Unable to retrieve attribute 'x'"
          ]
        }
      ]
    },
    {
      "cell_type": "markdown",
      "source": [],
      "metadata": {
        "id": "ua2KVavlt0uN"
      }
    },
    {
      "cell_type": "markdown",
      "source": [],
      "metadata": {
        "id": "CSxNsyHRt076"
      }
    },
    {
      "cell_type": "code",
      "source": [
        "y"
      ],
      "metadata": {
        "id": "lBFzS-04t1zp",
        "colab": {
          "base_uri": "https://localhost:8080/"
        },
        "outputId": "e7dc9c96-58cd-4a0f-f5e1-02936e80138b"
      },
      "execution_count": null,
      "outputs": [
        {
          "output_type": "execute_result",
          "data": {
            "text/plain": [
              "{(0, 1, 1, 1): <gurobi.Var UAV[0,1,1,1]>,\n",
              " (0, 1, 2, 1): <gurobi.Var UAV[0,1,2,1]>,\n",
              " (0, 1, 3, 1): <gurobi.Var UAV[0,1,3,1]>,\n",
              " (0, 1, 6, 1): <gurobi.Var UAV[0,1,6,1]>,\n",
              " (0, 2, 1, 1): <gurobi.Var UAV[0,2,1,1]>,\n",
              " (0, 2, 2, 1): <gurobi.Var UAV[0,2,2,1]>,\n",
              " (0, 2, 3, 1): <gurobi.Var UAV[0,2,3,1]>,\n",
              " (0, 2, 6, 1): <gurobi.Var UAV[0,2,6,1]>,\n",
              " (0, 3, 1, 1): <gurobi.Var UAV[0,3,1,1]>,\n",
              " (0, 3, 2, 1): <gurobi.Var UAV[0,3,2,1]>,\n",
              " (0, 3, 3, 1): <gurobi.Var UAV[0,3,3,1]>,\n",
              " (0, 3, 6, 1): <gurobi.Var UAV[0,3,6,1]>,\n",
              " (0, 4, 1, 1): <gurobi.Var UAV[0,4,1,1]>,\n",
              " (0, 4, 2, 1): <gurobi.Var UAV[0,4,2,1]>,\n",
              " (0, 4, 3, 1): <gurobi.Var UAV[0,4,3,1]>,\n",
              " (0, 4, 6, 1): <gurobi.Var UAV[0,4,6,1]>,\n",
              " (0, 5, 1, 1): <gurobi.Var UAV[0,5,1,1]>,\n",
              " (0, 5, 2, 1): <gurobi.Var UAV[0,5,2,1]>,\n",
              " (0, 5, 3, 1): <gurobi.Var UAV[0,5,3,1]>,\n",
              " (0, 5, 6, 1): <gurobi.Var UAV[0,5,6,1]>,\n",
              " (0, 6, 1, 1): <gurobi.Var UAV[0,6,1,1]>,\n",
              " (0, 6, 2, 1): <gurobi.Var UAV[0,6,2,1]>,\n",
              " (0, 6, 3, 1): <gurobi.Var UAV[0,6,3,1]>,\n",
              " (0, 6, 6, 1): <gurobi.Var UAV[0,6,6,1]>,\n",
              " (1, 1, 1, 1): <gurobi.Var UAV[1,1,1,1]>,\n",
              " (1, 1, 2, 1): <gurobi.Var UAV[1,1,2,1]>,\n",
              " (1, 1, 3, 1): <gurobi.Var UAV[1,1,3,1]>,\n",
              " (1, 1, 6, 1): <gurobi.Var UAV[1,1,6,1]>,\n",
              " (1, 2, 1, 1): <gurobi.Var UAV[1,2,1,1]>,\n",
              " (1, 2, 2, 1): <gurobi.Var UAV[1,2,2,1]>,\n",
              " (1, 2, 3, 1): <gurobi.Var UAV[1,2,3,1]>,\n",
              " (1, 2, 6, 1): <gurobi.Var UAV[1,2,6,1]>,\n",
              " (1, 3, 1, 1): <gurobi.Var UAV[1,3,1,1]>,\n",
              " (1, 3, 2, 1): <gurobi.Var UAV[1,3,2,1]>,\n",
              " (1, 3, 3, 1): <gurobi.Var UAV[1,3,3,1]>,\n",
              " (1, 3, 6, 1): <gurobi.Var UAV[1,3,6,1]>,\n",
              " (1, 4, 1, 1): <gurobi.Var UAV[1,4,1,1]>,\n",
              " (1, 4, 2, 1): <gurobi.Var UAV[1,4,2,1]>,\n",
              " (1, 4, 3, 1): <gurobi.Var UAV[1,4,3,1]>,\n",
              " (1, 4, 6, 1): <gurobi.Var UAV[1,4,6,1]>,\n",
              " (1, 5, 1, 1): <gurobi.Var UAV[1,5,1,1]>,\n",
              " (1, 5, 2, 1): <gurobi.Var UAV[1,5,2,1]>,\n",
              " (1, 5, 3, 1): <gurobi.Var UAV[1,5,3,1]>,\n",
              " (1, 5, 6, 1): <gurobi.Var UAV[1,5,6,1]>,\n",
              " (1, 6, 1, 1): <gurobi.Var UAV[1,6,1,1]>,\n",
              " (1, 6, 2, 1): <gurobi.Var UAV[1,6,2,1]>,\n",
              " (1, 6, 3, 1): <gurobi.Var UAV[1,6,3,1]>,\n",
              " (1, 6, 6, 1): <gurobi.Var UAV[1,6,6,1]>,\n",
              " (2, 1, 1, 1): <gurobi.Var UAV[2,1,1,1]>,\n",
              " (2, 1, 2, 1): <gurobi.Var UAV[2,1,2,1]>,\n",
              " (2, 1, 3, 1): <gurobi.Var UAV[2,1,3,1]>,\n",
              " (2, 1, 6, 1): <gurobi.Var UAV[2,1,6,1]>,\n",
              " (2, 2, 1, 1): <gurobi.Var UAV[2,2,1,1]>,\n",
              " (2, 2, 2, 1): <gurobi.Var UAV[2,2,2,1]>,\n",
              " (2, 2, 3, 1): <gurobi.Var UAV[2,2,3,1]>,\n",
              " (2, 2, 6, 1): <gurobi.Var UAV[2,2,6,1]>,\n",
              " (2, 3, 1, 1): <gurobi.Var UAV[2,3,1,1]>,\n",
              " (2, 3, 2, 1): <gurobi.Var UAV[2,3,2,1]>,\n",
              " (2, 3, 3, 1): <gurobi.Var UAV[2,3,3,1]>,\n",
              " (2, 3, 6, 1): <gurobi.Var UAV[2,3,6,1]>,\n",
              " (2, 4, 1, 1): <gurobi.Var UAV[2,4,1,1]>,\n",
              " (2, 4, 2, 1): <gurobi.Var UAV[2,4,2,1]>,\n",
              " (2, 4, 3, 1): <gurobi.Var UAV[2,4,3,1]>,\n",
              " (2, 4, 6, 1): <gurobi.Var UAV[2,4,6,1]>,\n",
              " (2, 5, 1, 1): <gurobi.Var UAV[2,5,1,1]>,\n",
              " (2, 5, 2, 1): <gurobi.Var UAV[2,5,2,1]>,\n",
              " (2, 5, 3, 1): <gurobi.Var UAV[2,5,3,1]>,\n",
              " (2, 5, 6, 1): <gurobi.Var UAV[2,5,6,1]>,\n",
              " (2, 6, 1, 1): <gurobi.Var UAV[2,6,1,1]>,\n",
              " (2, 6, 2, 1): <gurobi.Var UAV[2,6,2,1]>,\n",
              " (2, 6, 3, 1): <gurobi.Var UAV[2,6,3,1]>,\n",
              " (2, 6, 6, 1): <gurobi.Var UAV[2,6,6,1]>,\n",
              " (3, 1, 1, 1): <gurobi.Var UAV[3,1,1,1]>,\n",
              " (3, 1, 2, 1): <gurobi.Var UAV[3,1,2,1]>,\n",
              " (3, 1, 3, 1): <gurobi.Var UAV[3,1,3,1]>,\n",
              " (3, 1, 6, 1): <gurobi.Var UAV[3,1,6,1]>,\n",
              " (3, 2, 1, 1): <gurobi.Var UAV[3,2,1,1]>,\n",
              " (3, 2, 2, 1): <gurobi.Var UAV[3,2,2,1]>,\n",
              " (3, 2, 3, 1): <gurobi.Var UAV[3,2,3,1]>,\n",
              " (3, 2, 6, 1): <gurobi.Var UAV[3,2,6,1]>,\n",
              " (3, 3, 1, 1): <gurobi.Var UAV[3,3,1,1]>,\n",
              " (3, 3, 2, 1): <gurobi.Var UAV[3,3,2,1]>,\n",
              " (3, 3, 3, 1): <gurobi.Var UAV[3,3,3,1]>,\n",
              " (3, 3, 6, 1): <gurobi.Var UAV[3,3,6,1]>,\n",
              " (3, 4, 1, 1): <gurobi.Var UAV[3,4,1,1]>,\n",
              " (3, 4, 2, 1): <gurobi.Var UAV[3,4,2,1]>,\n",
              " (3, 4, 3, 1): <gurobi.Var UAV[3,4,3,1]>,\n",
              " (3, 4, 6, 1): <gurobi.Var UAV[3,4,6,1]>,\n",
              " (3, 5, 1, 1): <gurobi.Var UAV[3,5,1,1]>,\n",
              " (3, 5, 2, 1): <gurobi.Var UAV[3,5,2,1]>,\n",
              " (3, 5, 3, 1): <gurobi.Var UAV[3,5,3,1]>,\n",
              " (3, 5, 6, 1): <gurobi.Var UAV[3,5,6,1]>,\n",
              " (3, 6, 1, 1): <gurobi.Var UAV[3,6,1,1]>,\n",
              " (3, 6, 2, 1): <gurobi.Var UAV[3,6,2,1]>,\n",
              " (3, 6, 3, 1): <gurobi.Var UAV[3,6,3,1]>,\n",
              " (3, 6, 6, 1): <gurobi.Var UAV[3,6,6,1]>,\n",
              " (4, 1, 1, 1): <gurobi.Var UAV[4,1,1,1]>,\n",
              " (4, 1, 2, 1): <gurobi.Var UAV[4,1,2,1]>,\n",
              " (4, 1, 3, 1): <gurobi.Var UAV[4,1,3,1]>,\n",
              " (4, 1, 6, 1): <gurobi.Var UAV[4,1,6,1]>,\n",
              " (4, 2, 1, 1): <gurobi.Var UAV[4,2,1,1]>,\n",
              " (4, 2, 2, 1): <gurobi.Var UAV[4,2,2,1]>,\n",
              " (4, 2, 3, 1): <gurobi.Var UAV[4,2,3,1]>,\n",
              " (4, 2, 6, 1): <gurobi.Var UAV[4,2,6,1]>,\n",
              " (4, 3, 1, 1): <gurobi.Var UAV[4,3,1,1]>,\n",
              " (4, 3, 2, 1): <gurobi.Var UAV[4,3,2,1]>,\n",
              " (4, 3, 3, 1): <gurobi.Var UAV[4,3,3,1]>,\n",
              " (4, 3, 6, 1): <gurobi.Var UAV[4,3,6,1]>,\n",
              " (4, 4, 1, 1): <gurobi.Var UAV[4,4,1,1]>,\n",
              " (4, 4, 2, 1): <gurobi.Var UAV[4,4,2,1]>,\n",
              " (4, 4, 3, 1): <gurobi.Var UAV[4,4,3,1]>,\n",
              " (4, 4, 6, 1): <gurobi.Var UAV[4,4,6,1]>,\n",
              " (4, 5, 1, 1): <gurobi.Var UAV[4,5,1,1]>,\n",
              " (4, 5, 2, 1): <gurobi.Var UAV[4,5,2,1]>,\n",
              " (4, 5, 3, 1): <gurobi.Var UAV[4,5,3,1]>,\n",
              " (4, 5, 6, 1): <gurobi.Var UAV[4,5,6,1]>,\n",
              " (4, 6, 1, 1): <gurobi.Var UAV[4,6,1,1]>,\n",
              " (4, 6, 2, 1): <gurobi.Var UAV[4,6,2,1]>,\n",
              " (4, 6, 3, 1): <gurobi.Var UAV[4,6,3,1]>,\n",
              " (4, 6, 6, 1): <gurobi.Var UAV[4,6,6,1]>,\n",
              " (5, 1, 1, 1): <gurobi.Var UAV[5,1,1,1]>,\n",
              " (5, 1, 2, 1): <gurobi.Var UAV[5,1,2,1]>,\n",
              " (5, 1, 3, 1): <gurobi.Var UAV[5,1,3,1]>,\n",
              " (5, 1, 6, 1): <gurobi.Var UAV[5,1,6,1]>,\n",
              " (5, 2, 1, 1): <gurobi.Var UAV[5,2,1,1]>,\n",
              " (5, 2, 2, 1): <gurobi.Var UAV[5,2,2,1]>,\n",
              " (5, 2, 3, 1): <gurobi.Var UAV[5,2,3,1]>,\n",
              " (5, 2, 6, 1): <gurobi.Var UAV[5,2,6,1]>,\n",
              " (5, 3, 1, 1): <gurobi.Var UAV[5,3,1,1]>,\n",
              " (5, 3, 2, 1): <gurobi.Var UAV[5,3,2,1]>,\n",
              " (5, 3, 3, 1): <gurobi.Var UAV[5,3,3,1]>,\n",
              " (5, 3, 6, 1): <gurobi.Var UAV[5,3,6,1]>,\n",
              " (5, 4, 1, 1): <gurobi.Var UAV[5,4,1,1]>,\n",
              " (5, 4, 2, 1): <gurobi.Var UAV[5,4,2,1]>,\n",
              " (5, 4, 3, 1): <gurobi.Var UAV[5,4,3,1]>,\n",
              " (5, 4, 6, 1): <gurobi.Var UAV[5,4,6,1]>,\n",
              " (5, 5, 1, 1): <gurobi.Var UAV[5,5,1,1]>,\n",
              " (5, 5, 2, 1): <gurobi.Var UAV[5,5,2,1]>,\n",
              " (5, 5, 3, 1): <gurobi.Var UAV[5,5,3,1]>,\n",
              " (5, 5, 6, 1): <gurobi.Var UAV[5,5,6,1]>,\n",
              " (5, 6, 1, 1): <gurobi.Var UAV[5,6,1,1]>,\n",
              " (5, 6, 2, 1): <gurobi.Var UAV[5,6,2,1]>,\n",
              " (5, 6, 3, 1): <gurobi.Var UAV[5,6,3,1]>,\n",
              " (5, 6, 6, 1): <gurobi.Var UAV[5,6,6,1]>}"
            ]
          },
          "metadata": {},
          "execution_count": 89
        }
      ]
    },
    {
      "cell_type": "markdown",
      "source": [
        "House prediction"
      ],
      "metadata": {
        "id": "TCAlWh4Pt15R"
      }
    },
    {
      "cell_type": "code",
      "source": [
        "import pandas as pd\n",
        "from sklearn.model_selection import train_test_split\n",
        "from sklearn.linear_model import LinearRegression\n",
        "from sklearn.metrics import mean_squared_error, r2_score\n",
        "\n",
        "# Create the dataset\n",
        "data = {\n",
        "    'm2': [50, 65, 38, 57, 58, 58, 45, 50, 58, 52, 55, 50, 55, 55, 57, 55, 45, 45],\n",
        "    'year': [85, 85, 85, 88, 92, 85, 89, 97, 87, 87, 96, 83, 88, 79, 82, 95, 95, 90],\n",
        "    'down': [300, 650, 300, 800, 200, 750, 450, 700, 750, 300, 300, 200, 100, 200, 400, 750, 200, 200],\n",
        "    'rent': [7.5, 6, 6, 0, 17, 0, 6, 0, 0, 9.5, 15.5, 15, 20, 13, 9, 0, 15, 16],\n",
        "    'parking': [1, 1, 1, 1, 1, 1, 1, 1, 1, 1, 1, 1, 0, 0, 1, 1, 1, 1],\n",
        "    'elevator': [1, 1, 1, 0, 1, 0, 1, 1, 0, 0, 1, 1, 0, 0, 0, 1, 1, 1],\n",
        "    'warehouse': [1, 1, 1, 1, 1, 1, 1, 1, 1, 1, 1, 1, 1, 1, 1, 0, 1, 1]\n",
        "}\n",
        "\n",
        "# Create a DataFrame\n",
        "df = pd.DataFrame(data)\n",
        "\n",
        "# Define features and targets for 'down' and 'rent'\n",
        "features = ['m2', 'year', 'parking', 'elevator', 'warehouse']\n",
        "X = df[features]\n",
        "y_down = df['down']\n",
        "y_rent = df['rent']\n",
        "\n",
        "# Split the data into training and testing sets for both targets\n",
        "X_train_down, X_test_down, y_train_down, y_test_down = train_test_split(X, y_down, test_size=0.2, random_state=42)\n",
        "X_train_rent, X_test_rent, y_train_rent, y_test_rent = train_test_split(X, y_rent, test_size=0.2, random_state=42)\n",
        "\n",
        "# Initialize and train the models\n",
        "model_down = LinearRegression()\n",
        "model_rent = LinearRegression()\n",
        "\n",
        "model_down.fit(X_train_down, y_train_down)\n",
        "model_rent.fit(X_train_rent, y_train_rent)\n",
        "\n",
        "# Function to predict 'down' and 'rent'\n",
        "def predict_down_rent(details):\n",
        "    down = model_down.predict([details])\n",
        "    rent = model_rent.predict([details])\n",
        "    return down[0], rent[0]\n",
        "\n",
        "# Example prediction\n",
        "example_house = [54, 92, 1, 1, 1]\n",
        "predicted_down, predicted_rent = predict_down_rent(example_house)\n",
        "print(f\"Predicted down payment: {predicted_down}\")\n",
        "print(f\"Predicted rent: {predicted_rent}\")\n"
      ],
      "metadata": {
        "id": "uZhu41YAYj4p",
        "colab": {
          "base_uri": "https://localhost:8080/"
        },
        "outputId": "0155ec61-3c40-4c49-ec93-be066ab422e0"
      },
      "execution_count": null,
      "outputs": [
        {
          "output_type": "stream",
          "name": "stdout",
          "text": [
            "Predicted down payment: 324.67676788439763\n",
            "Predicted rent: 13.301497453712019\n"
          ]
        },
        {
          "output_type": "stream",
          "name": "stderr",
          "text": [
            "/usr/local/lib/python3.10/dist-packages/sklearn/base.py:493: UserWarning: X does not have valid feature names, but LinearRegression was fitted with feature names\n",
            "  warnings.warn(\n",
            "/usr/local/lib/python3.10/dist-packages/sklearn/base.py:493: UserWarning: X does not have valid feature names, but LinearRegression was fitted with feature names\n",
            "  warnings.warn(\n"
          ]
        }
      ]
    },
    {
      "cell_type": "code",
      "source": [
        "import pandas as pd\n",
        "from sklearn.model_selection import train_test_split\n",
        "from sklearn.linear_model import LinearRegression\n",
        "from sklearn.metrics import mean_squared_error, r2_score\n",
        "\n",
        "# Create the dataset\n",
        "data = {\n",
        "    'm2': [50, 65, 38, 57, 58, 58, 45, 50, 58, 52, 55, 50, 55, 55, 57, 55, 45, 45],\n",
        "    'year': [85, 85, 85, 88, 92, 85, 89, 97, 87, 87, 96, 83, 88, 79, 82, 95, 95, 90],\n",
        "    'down': [300, 650, 300, 800, 200, 750, 450, 700, 750, 300, 300, 200, 100, 200, 400, 750, 200, 200],\n",
        "    'rent': [7.5, 6, 6, 0, 17, 0, 6, 0, 0, 9.5, 15.5, 15, 20, 13, 9, 0, 15, 16],\n",
        "    'parking': [1, 1, 1, 1, 1, 1, 1, 1, 1, 1, 1, 1, 0, 0, 1, 1, 1, 1],\n",
        "    'elevator': [1, 1, 1, 0, 1, 0, 1, 1, 0, 0, 1, 1, 0, 0, 0, 1, 1, 1],\n",
        "    'warehouse': [1, 1, 1, 1, 1, 1, 1, 1, 1, 1, 1, 1, 1, 1, 1, 0, 1, 1]\n",
        "}\n",
        "\n",
        "# Create a DataFrame\n",
        "df = pd.DataFrame(data)\n",
        "\n",
        "# Define features and targets for 'down' and 'rent'\n",
        "features = ['m2', 'year', 'parking', 'elevator', 'warehouse']\n",
        "X = df[features]\n",
        "y_down = df['down']\n",
        "y_rent = df['rent']\n",
        "\n",
        "# Split the data into training and testing sets for both targets\n",
        "X_train_down, X_test_down, y_train_down, y_test_down = train_test_split(X, y_down, test_size=0.2, random_state=42)\n",
        "X_train_rent, X_test_rent, y_train_rent, y_test_rent = train_test_split(X, y_rent, test_size=0.2, random_state=42)\n",
        "\n",
        "# Initialize and train the models\n",
        "model_down = LinearRegression()\n",
        "model_rent = LinearRegression()\n",
        "\n",
        "model_down.fit(X_train_down, y_train_down)\n",
        "model_rent.fit(X_train_rent, y_train_rent)\n",
        "\n",
        "# Function to predict 'down' and 'rent' with minimum down payment constraint\n",
        "def predict_down_rent(details, min_down=450):\n",
        "    down = model_down.predict([details])\n",
        "    rent = model_rent.predict([details])\n",
        "    # Ensure down payment is at least the minimum value\n",
        "    if down[0] < min_down:\n",
        "        down[0] = min_down\n",
        "    return down[0], rent[0]\n",
        "\n",
        "# Example prediction\n",
        "example_house = [54, 92, 1, 1, 1]\n",
        "predicted_down, predicted_rent = predict_down_rent(example_house)\n",
        "print(f\"Predicted down payment: {predicted_down}\")\n",
        "print(f\"Predicted rent: {predicted_rent}\")\n"
      ],
      "metadata": {
        "colab": {
          "base_uri": "https://localhost:8080/"
        },
        "id": "RpPxO3How_S5",
        "outputId": "5a5025a2-eed3-4ecf-b84f-41e6c68ac589"
      },
      "execution_count": null,
      "outputs": [
        {
          "output_type": "stream",
          "name": "stdout",
          "text": [
            "Predicted down payment: 450.0\n",
            "Predicted rent: 13.301497453712019\n"
          ]
        },
        {
          "output_type": "stream",
          "name": "stderr",
          "text": [
            "/usr/local/lib/python3.10/dist-packages/sklearn/base.py:493: UserWarning: X does not have valid feature names, but LinearRegression was fitted with feature names\n",
            "  warnings.warn(\n",
            "/usr/local/lib/python3.10/dist-packages/sklearn/base.py:493: UserWarning: X does not have valid feature names, but LinearRegression was fitted with feature names\n",
            "  warnings.warn(\n"
          ]
        }
      ]
    },
    {
      "cell_type": "code",
      "source": [
        "import numpy as np\n",
        "import pandas as pd\n",
        "from sklearn.model_selection import train_test_split\n",
        "from sklearn.linear_model import LinearRegression\n",
        "\n",
        "# Create the DataFrame\n",
        "data = {\n",
        "    'm2': [50, 65, 38, 57, 58, 58, 45, 50, 58, 52, 55, 50, 55, 55, 57, 55, 45, 45],\n",
        "    'year': [85, 85, 85, 88, 92, 85, 89, 97, 87, 87, 96, 83, 88, 79, 82, 95, 95, 90],\n",
        "    'down': [300, 650, 300, 800, 200, 750, 450, 700, 750, 300, 300, 200, 100, 200, 400, 750, 200, 200],\n",
        "    'rent': [7.5, 6, 6, 0, 17, 0, 6, 0, 0, 9.5, 15.5, 15, 20, 13, 9, 0, 15, 16],\n",
        "    'parking': [1, 1, 1, 1, 1, 1, 1, 1, 1, 1, 1, 1, 0, 0, 1, 1, 1, 1],\n",
        "    'elevator': [1, 1, 1, 0, 1, 0, 1, 1, 0, 0, 1, 1, 0, 0, 0, 1, 1, 1],\n",
        "    'warehouse': [1, 1, 1, 1, 1, 1, 1, 1, 1, 1, 1, 1, 1, 1, 1, 0, 1, 1]\n",
        "}\n",
        "\n",
        "df = pd.DataFrame(data)\n",
        "\n",
        "# Prepare Features and Target\n",
        "X = df[['m2', 'year', 'down', 'parking', 'elevator', 'warehouse']]\n",
        "y = df['rent']\n",
        "\n",
        "# Split the Data\n",
        "X_train, X_test, y_train, y_test = train_test_split(X, y, test_size=0.2, random_state=42)\n",
        "\n",
        "# Train the Model\n",
        "model = LinearRegression()\n",
        "model.fit(X_train, y_train)\n",
        "\n",
        "# Make Predictions\n",
        "new_house = np.array([[54, 92, 450, 1, 1, 1]])\n",
        "predicted_rent = model.predict(new_house)\n",
        "print(f\"Predicted rent for the house: {predicted_rent[0]}\")\n"
      ],
      "metadata": {
        "colab": {
          "base_uri": "https://localhost:8080/"
        },
        "id": "s_A52_AzyIJZ",
        "outputId": "82b0bf52-3990-41e5-ec57-6376a2e2c0f5"
      },
      "execution_count": null,
      "outputs": [
        {
          "output_type": "stream",
          "name": "stdout",
          "text": [
            "Predicted rent for the house: 9.49923989984794\n"
          ]
        },
        {
          "output_type": "stream",
          "name": "stderr",
          "text": [
            "/usr/local/lib/python3.10/dist-packages/sklearn/base.py:465: UserWarning: X does not have valid feature names, but LinearRegression was fitted with feature names\n",
            "  warnings.warn(\n"
          ]
        }
      ]
    },
    {
      "cell_type": "code",
      "source": [
        "5*30"
      ],
      "metadata": {
        "colab": {
          "base_uri": "https://localhost:8080/"
        },
        "id": "vn3fkIYEyYuQ",
        "outputId": "65234774-551e-4521-8bc9-db1c3a19ea1c"
      },
      "execution_count": null,
      "outputs": [
        {
          "output_type": "execute_result",
          "data": {
            "text/plain": [
              "150"
            ]
          },
          "metadata": {},
          "execution_count": 12
        }
      ]
    },
    {
      "cell_type": "code",
      "source": [
        "600,4.5"
      ],
      "metadata": {
        "colab": {
          "base_uri": "https://localhost:8080/"
        },
        "id": "Iy6u8bBX1Qzz",
        "outputId": "0631fb48-ca01-410c-f881-843c6fe223c1"
      },
      "execution_count": null,
      "outputs": [
        {
          "output_type": "execute_result",
          "data": {
            "text/plain": [
              "(600, 4.5)"
            ]
          },
          "metadata": {},
          "execution_count": 13
        }
      ]
    },
    {
      "cell_type": "code",
      "source": [
        "450+120,4.5"
      ],
      "metadata": {
        "colab": {
          "base_uri": "https://localhost:8080/"
        },
        "id": "YjqJsWKw1qWM",
        "outputId": "a0c53fa6-1650-4f1f-becd-4f5d5a361f85"
      },
      "execution_count": null,
      "outputs": [
        {
          "output_type": "execute_result",
          "data": {
            "text/plain": [
              "(570, 4.5)"
            ]
          },
          "metadata": {},
          "execution_count": 15
        }
      ]
    },
    {
      "cell_type": "code",
      "source": [
        "450,4.5+120/30"
      ],
      "metadata": {
        "colab": {
          "base_uri": "https://localhost:8080/"
        },
        "id": "ipIfo_gW1vSz",
        "outputId": "8998254f-9ece-4355-fbf7-8fa89330d90c"
      },
      "execution_count": null,
      "outputs": [
        {
          "output_type": "execute_result",
          "data": {
            "text/plain": [
              "(450, 8.5)"
            ]
          },
          "metadata": {},
          "execution_count": 16
        }
      ]
    },
    {
      "cell_type": "code",
      "source": [
        "500, 4.5+70/30"
      ],
      "metadata": {
        "colab": {
          "base_uri": "https://localhost:8080/"
        },
        "id": "xt4JjRSa152L",
        "outputId": "72a2172a-bbf3-49d4-97f8-78045c9b54e0"
      },
      "execution_count": null,
      "outputs": [
        {
          "output_type": "execute_result",
          "data": {
            "text/plain": [
              "(500, 6.833333333333334)"
            ]
          },
          "metadata": {},
          "execution_count": 17
        }
      ]
    },
    {
      "cell_type": "code",
      "source": [],
      "metadata": {
        "id": "c57TuVfe2Bb-"
      },
      "execution_count": null,
      "outputs": []
    }
  ]
}