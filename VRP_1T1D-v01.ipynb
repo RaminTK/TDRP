{
  "nbformat": 4,
  "nbformat_minor": 0,
  "metadata": {
    "colab": {
      "provenance": [],
      "authorship_tag": "ABX9TyPX/a9CvYk5YfTTHLbVoBIC",
      "include_colab_link": true
    },
    "kernelspec": {
      "name": "python3",
      "display_name": "Python 3"
    },
    "language_info": {
      "name": "python"
    }
  },
  "cells": [
    {
      "cell_type": "markdown",
      "metadata": {
        "id": "view-in-github",
        "colab_type": "text"
      },
      "source": [
        "<a href=\"https://colab.research.google.com/github/RaminTK/TDRP/blob/main/VRP_1T1D-v01.ipynb\" target=\"_parent\"><img src=\"https://colab.research.google.com/assets/colab-badge.svg\" alt=\"Open In Colab\"/></a>"
      ]
    },
    {
      "cell_type": "code",
      "source": [
        "!pip install gurobipy"
      ],
      "metadata": {
        "colab": {
          "base_uri": "https://localhost:8080/"
        },
        "id": "5xkeVfY1qXW1",
        "outputId": "067cb756-acb5-4b89-b347-dd44fecbb96f"
      },
      "execution_count": 1,
      "outputs": [
        {
          "output_type": "stream",
          "name": "stdout",
          "text": [
            "Collecting gurobipy\n",
            "  Downloading gurobipy-11.0.3-cp310-cp310-manylinux2014_x86_64.manylinux_2_17_x86_64.whl.metadata (15 kB)\n",
            "Downloading gurobipy-11.0.3-cp310-cp310-manylinux2014_x86_64.manylinux_2_17_x86_64.whl (13.4 MB)\n",
            "\u001b[2K   \u001b[90m━━━━━━━━━━━━━━━━━━━━━━━━━━━━━━━━━━━━━━━━\u001b[0m \u001b[32m13.4/13.4 MB\u001b[0m \u001b[31m37.1 MB/s\u001b[0m eta \u001b[36m0:00:00\u001b[0m\n",
            "\u001b[?25hInstalling collected packages: gurobipy\n",
            "Successfully installed gurobipy-11.0.3\n"
          ]
        }
      ]
    },
    {
      "cell_type": "code",
      "source": [],
      "metadata": {
        "id": "BmL1ZH3x_vbf"
      },
      "execution_count": null,
      "outputs": []
    },
    {
      "cell_type": "markdown",
      "source": [
        "# Libraries"
      ],
      "metadata": {
        "id": "cHRYm6ZOrbdX"
      }
    },
    {
      "cell_type": "code",
      "source": [
        "import gurobipy as gp\n",
        "from gurobipy import GRB\n",
        "import numpy as np\n",
        "import pandas as pd\n",
        "from scipy.spatial import distance_matrix\n",
        "import matplotlib.pyplot as plt"
      ],
      "metadata": {
        "id": "M0ERIaWlqmr8"
      },
      "execution_count": 2,
      "outputs": []
    },
    {
      "cell_type": "code",
      "source": [
        "# Create an environment with your WLS license\n",
        "params = {\n",
        "\"WLSACCESSID\": 'c5c6ef9a-d24b-4e09-99ba-a30fae3c2de1',\n",
        "\"WLSSECRET\": '3809b277-8064-4385-8804-9971d3dc9938',\n",
        "\"LICENSEID\": 2536865,\n",
        "}\n",
        "\n",
        "# env = gp.Env(params=params)\n",
        "\n",
        "# # Create the model within the Gurobi environment\n",
        "# model = gp.Model(env=env)"
      ],
      "metadata": {
        "id": "hlFg4ZJVWMmt"
      },
      "execution_count": 3,
      "outputs": []
    },
    {
      "cell_type": "markdown",
      "source": [
        "# Parameters"
      ],
      "metadata": {
        "id": "0Cb1h78brjFQ"
      }
    },
    {
      "cell_type": "markdown",
      "source": [
        "$d^{t}_{ij}$ Travel time between node $i$ and $j$ by truck, $(i,j) \\in A^t$.\n",
        "\n",
        "$d^{u}_{ij}$ Travel time between node $i$ and $j$ by UAV, $(i,j) \\in A^u$.\n",
        "\n",
        "$M$ A sufficiently large number.\n",
        "\n",
        "<!-- $L$ & Battery life limit of UAV. -->\n",
        "\n",
        "$N$ Number of aid recipients.\n",
        "\n",
        "$L$ Number of aid recipients accessible by truck.\n",
        "\n",
        "$R$ Number of Trucks.\n",
        "\n",
        "$V$ Number of UAVs.\n",
        "\n",
        "<!-- $q$ Relief item capacity limit of UAVs. (unlimited) -->"
      ],
      "metadata": {
        "id": "0Lcdp_oTsAru"
      }
    },
    {
      "cell_type": "code",
      "source": [
        "N = 6\n",
        "L = 3\n",
        "R = 1\n",
        "V = 1\n",
        "M = 100000  # A large number\n",
        "a = L + 1\n",
        "b = N + 1"
      ],
      "metadata": {
        "id": "d2h7rxwSrb6y"
      },
      "execution_count": 4,
      "outputs": []
    },
    {
      "cell_type": "markdown",
      "source": [
        "# Sets"
      ],
      "metadata": {
        "id": "22KInr9IsMJb"
      }
    },
    {
      "cell_type": "markdown",
      "source": [
        "\n",
        "$A^t$  Set of aid recipients served by trucks and depot. $A^t \\subset A_U$.\n",
        "\n",
        "$A^u$  Set of aid recipients served by UAVs and depote (all nodes). $A^u$.\n",
        "\n",
        "$U$  Set of UAVs. $|U|= V$.\n",
        "\n",
        "$T$  Set of trucks. $|T| = R$."
      ],
      "metadata": {
        "id": "JrY1jphCsN_3"
      }
    },
    {
      "cell_type": "code",
      "source": [
        "A_T = (list(range(L+1)))+[N+1]  # Set of nodes for trucks\n",
        "A_U = list(range(N+2))# Set of nodes for UAVs\n",
        "\n",
        "T = list(range(1,R+1))      # Set of trucks"
      ],
      "metadata": {
        "id": "A8CLQlefrjej"
      },
      "execution_count": 5,
      "outputs": []
    },
    {
      "cell_type": "code",
      "source": [
        "A_T,T,A_U"
      ],
      "metadata": {
        "colab": {
          "base_uri": "https://localhost:8080/"
        },
        "id": "e5p7FH-WsQjV",
        "outputId": "c785b3b3-c030-43c1-e0eb-52ecce2644c6"
      },
      "execution_count": 6,
      "outputs": [
        {
          "output_type": "execute_result",
          "data": {
            "text/plain": [
              "([0, 1, 2, 3, 7], [1], [0, 1, 2, 3, 4, 5, 6, 7])"
            ]
          },
          "metadata": {},
          "execution_count": 6
        }
      ]
    },
    {
      "cell_type": "markdown",
      "source": [
        "## Generate random coordinates for the nodes"
      ],
      "metadata": {
        "id": "EVQNkUDwsVKp"
      }
    },
    {
      "cell_type": "code",
      "source": [
        "# Number of nodes\n",
        "N += 1\n",
        "\n",
        "np.random.seed(0)  # For reproducibility\n",
        "coordinates = np.random.rand(N, 2) * 100  # Generate random coordinates in a 100x100 area"
      ],
      "metadata": {
        "id": "6Dd6GW_3sSxd"
      },
      "execution_count": 7,
      "outputs": []
    },
    {
      "cell_type": "code",
      "source": [
        "coordinates = np.vstack([coordinates, coordinates[0]])"
      ],
      "metadata": {
        "id": "F7VW5VvasXPg"
      },
      "execution_count": 8,
      "outputs": []
    },
    {
      "cell_type": "code",
      "source": [
        "coordinates"
      ],
      "metadata": {
        "colab": {
          "base_uri": "https://localhost:8080/"
        },
        "id": "1an_SKROc1ef",
        "outputId": "33965311-e545-420f-92fa-229f4da41946"
      },
      "execution_count": 9,
      "outputs": [
        {
          "output_type": "execute_result",
          "data": {
            "text/plain": [
              "array([[54.88135039, 71.51893664],\n",
              "       [60.27633761, 54.4883183 ],\n",
              "       [42.36547993, 64.58941131],\n",
              "       [43.75872113, 89.17730008],\n",
              "       [96.36627605, 38.34415188],\n",
              "       [79.17250381, 52.88949198],\n",
              "       [56.80445611, 92.55966383],\n",
              "       [54.88135039, 71.51893664]])"
            ]
          },
          "metadata": {},
          "execution_count": 9
        }
      ]
    },
    {
      "cell_type": "code",
      "source": [
        "N += 1"
      ],
      "metadata": {
        "id": "hhRrH_yfcMnm"
      },
      "execution_count": 10,
      "outputs": []
    },
    {
      "cell_type": "markdown",
      "source": [
        "## Distance Matrix\n"
      ],
      "metadata": {
        "id": "FyRuSDs5saGK"
      }
    },
    {
      "cell_type": "code",
      "source": [
        "euclidean_dist_matrix = distance_matrix(coordinates, coordinates)\n",
        "manhattan_dist_matrix = distance_matrix(coordinates, coordinates, p=1)"
      ],
      "metadata": {
        "id": "8CzdgsFnsYpN"
      },
      "execution_count": 11,
      "outputs": []
    },
    {
      "cell_type": "code",
      "source": [
        "euclidean_df = pd.DataFrame(euclidean_dist_matrix, columns=[f'Node {i}' for i in range(N)], index=[f'Node {i}' for i in range(N)])\n",
        "manhattan_df = pd.DataFrame(manhattan_dist_matrix, columns=[f'Node {i}' for i in range(N)], index=[f'Node {i}' for i in range(N)])"
      ],
      "metadata": {
        "id": "DQ-79jNtc4PA"
      },
      "execution_count": 12,
      "outputs": []
    },
    {
      "cell_type": "code",
      "source": [
        "euclidean_df"
      ],
      "metadata": {
        "colab": {
          "base_uri": "https://localhost:8080/",
          "height": 300
        },
        "id": "oTyIAWR7blL_",
        "outputId": "c6928e74-6f5a-42a0-fed3-72aa3fd210b7"
      },
      "execution_count": 13,
      "outputs": [
        {
          "output_type": "execute_result",
          "data": {
            "text/plain": [
              "           Node 0     Node 1     Node 2     Node 3     Node 4     Node 5  \\\n",
              "Node 0   0.000000  17.864710  14.306129  20.869372  53.118409  30.612356   \n",
              "Node 1  17.864710   0.000000  20.562852  38.420790  39.536284  18.963685   \n",
              "Node 2  14.306129  20.562852   0.000000  24.627330  60.040816  38.621822   \n",
              "Node 3  20.869372  38.420790  24.627330   0.000000  73.154383  50.704448   \n",
              "Node 4  53.118409  39.536284  60.040816  73.154383   0.000000  22.520940   \n",
              "Node 5  30.612356  18.963685  38.621822  50.704448  22.520940   0.000000   \n",
              "Node 6  21.128430  38.229325  31.477278  13.477076  67.115269  45.541762   \n",
              "Node 7   0.000000  17.864710  14.306129  20.869372  53.118409  30.612356   \n",
              "\n",
              "           Node 6     Node 7  \n",
              "Node 0  21.128430   0.000000  \n",
              "Node 1  38.229325  17.864710  \n",
              "Node 2  31.477278  14.306129  \n",
              "Node 3  13.477076  20.869372  \n",
              "Node 4  67.115269  53.118409  \n",
              "Node 5  45.541762  30.612356  \n",
              "Node 6   0.000000  21.128430  \n",
              "Node 7  21.128430   0.000000  "
            ],
            "text/html": [
              "\n",
              "  <div id=\"df-0bd1566d-1019-4ffb-a103-b9153100c1e4\" class=\"colab-df-container\">\n",
              "    <div>\n",
              "<style scoped>\n",
              "    .dataframe tbody tr th:only-of-type {\n",
              "        vertical-align: middle;\n",
              "    }\n",
              "\n",
              "    .dataframe tbody tr th {\n",
              "        vertical-align: top;\n",
              "    }\n",
              "\n",
              "    .dataframe thead th {\n",
              "        text-align: right;\n",
              "    }\n",
              "</style>\n",
              "<table border=\"1\" class=\"dataframe\">\n",
              "  <thead>\n",
              "    <tr style=\"text-align: right;\">\n",
              "      <th></th>\n",
              "      <th>Node 0</th>\n",
              "      <th>Node 1</th>\n",
              "      <th>Node 2</th>\n",
              "      <th>Node 3</th>\n",
              "      <th>Node 4</th>\n",
              "      <th>Node 5</th>\n",
              "      <th>Node 6</th>\n",
              "      <th>Node 7</th>\n",
              "    </tr>\n",
              "  </thead>\n",
              "  <tbody>\n",
              "    <tr>\n",
              "      <th>Node 0</th>\n",
              "      <td>0.000000</td>\n",
              "      <td>17.864710</td>\n",
              "      <td>14.306129</td>\n",
              "      <td>20.869372</td>\n",
              "      <td>53.118409</td>\n",
              "      <td>30.612356</td>\n",
              "      <td>21.128430</td>\n",
              "      <td>0.000000</td>\n",
              "    </tr>\n",
              "    <tr>\n",
              "      <th>Node 1</th>\n",
              "      <td>17.864710</td>\n",
              "      <td>0.000000</td>\n",
              "      <td>20.562852</td>\n",
              "      <td>38.420790</td>\n",
              "      <td>39.536284</td>\n",
              "      <td>18.963685</td>\n",
              "      <td>38.229325</td>\n",
              "      <td>17.864710</td>\n",
              "    </tr>\n",
              "    <tr>\n",
              "      <th>Node 2</th>\n",
              "      <td>14.306129</td>\n",
              "      <td>20.562852</td>\n",
              "      <td>0.000000</td>\n",
              "      <td>24.627330</td>\n",
              "      <td>60.040816</td>\n",
              "      <td>38.621822</td>\n",
              "      <td>31.477278</td>\n",
              "      <td>14.306129</td>\n",
              "    </tr>\n",
              "    <tr>\n",
              "      <th>Node 3</th>\n",
              "      <td>20.869372</td>\n",
              "      <td>38.420790</td>\n",
              "      <td>24.627330</td>\n",
              "      <td>0.000000</td>\n",
              "      <td>73.154383</td>\n",
              "      <td>50.704448</td>\n",
              "      <td>13.477076</td>\n",
              "      <td>20.869372</td>\n",
              "    </tr>\n",
              "    <tr>\n",
              "      <th>Node 4</th>\n",
              "      <td>53.118409</td>\n",
              "      <td>39.536284</td>\n",
              "      <td>60.040816</td>\n",
              "      <td>73.154383</td>\n",
              "      <td>0.000000</td>\n",
              "      <td>22.520940</td>\n",
              "      <td>67.115269</td>\n",
              "      <td>53.118409</td>\n",
              "    </tr>\n",
              "    <tr>\n",
              "      <th>Node 5</th>\n",
              "      <td>30.612356</td>\n",
              "      <td>18.963685</td>\n",
              "      <td>38.621822</td>\n",
              "      <td>50.704448</td>\n",
              "      <td>22.520940</td>\n",
              "      <td>0.000000</td>\n",
              "      <td>45.541762</td>\n",
              "      <td>30.612356</td>\n",
              "    </tr>\n",
              "    <tr>\n",
              "      <th>Node 6</th>\n",
              "      <td>21.128430</td>\n",
              "      <td>38.229325</td>\n",
              "      <td>31.477278</td>\n",
              "      <td>13.477076</td>\n",
              "      <td>67.115269</td>\n",
              "      <td>45.541762</td>\n",
              "      <td>0.000000</td>\n",
              "      <td>21.128430</td>\n",
              "    </tr>\n",
              "    <tr>\n",
              "      <th>Node 7</th>\n",
              "      <td>0.000000</td>\n",
              "      <td>17.864710</td>\n",
              "      <td>14.306129</td>\n",
              "      <td>20.869372</td>\n",
              "      <td>53.118409</td>\n",
              "      <td>30.612356</td>\n",
              "      <td>21.128430</td>\n",
              "      <td>0.000000</td>\n",
              "    </tr>\n",
              "  </tbody>\n",
              "</table>\n",
              "</div>\n",
              "    <div class=\"colab-df-buttons\">\n",
              "\n",
              "  <div class=\"colab-df-container\">\n",
              "    <button class=\"colab-df-convert\" onclick=\"convertToInteractive('df-0bd1566d-1019-4ffb-a103-b9153100c1e4')\"\n",
              "            title=\"Convert this dataframe to an interactive table.\"\n",
              "            style=\"display:none;\">\n",
              "\n",
              "  <svg xmlns=\"http://www.w3.org/2000/svg\" height=\"24px\" viewBox=\"0 -960 960 960\">\n",
              "    <path d=\"M120-120v-720h720v720H120Zm60-500h600v-160H180v160Zm220 220h160v-160H400v160Zm0 220h160v-160H400v160ZM180-400h160v-160H180v160Zm440 0h160v-160H620v160ZM180-180h160v-160H180v160Zm440 0h160v-160H620v160Z\"/>\n",
              "  </svg>\n",
              "    </button>\n",
              "\n",
              "  <style>\n",
              "    .colab-df-container {\n",
              "      display:flex;\n",
              "      gap: 12px;\n",
              "    }\n",
              "\n",
              "    .colab-df-convert {\n",
              "      background-color: #E8F0FE;\n",
              "      border: none;\n",
              "      border-radius: 50%;\n",
              "      cursor: pointer;\n",
              "      display: none;\n",
              "      fill: #1967D2;\n",
              "      height: 32px;\n",
              "      padding: 0 0 0 0;\n",
              "      width: 32px;\n",
              "    }\n",
              "\n",
              "    .colab-df-convert:hover {\n",
              "      background-color: #E2EBFA;\n",
              "      box-shadow: 0px 1px 2px rgba(60, 64, 67, 0.3), 0px 1px 3px 1px rgba(60, 64, 67, 0.15);\n",
              "      fill: #174EA6;\n",
              "    }\n",
              "\n",
              "    .colab-df-buttons div {\n",
              "      margin-bottom: 4px;\n",
              "    }\n",
              "\n",
              "    [theme=dark] .colab-df-convert {\n",
              "      background-color: #3B4455;\n",
              "      fill: #D2E3FC;\n",
              "    }\n",
              "\n",
              "    [theme=dark] .colab-df-convert:hover {\n",
              "      background-color: #434B5C;\n",
              "      box-shadow: 0px 1px 3px 1px rgba(0, 0, 0, 0.15);\n",
              "      filter: drop-shadow(0px 1px 2px rgba(0, 0, 0, 0.3));\n",
              "      fill: #FFFFFF;\n",
              "    }\n",
              "  </style>\n",
              "\n",
              "    <script>\n",
              "      const buttonEl =\n",
              "        document.querySelector('#df-0bd1566d-1019-4ffb-a103-b9153100c1e4 button.colab-df-convert');\n",
              "      buttonEl.style.display =\n",
              "        google.colab.kernel.accessAllowed ? 'block' : 'none';\n",
              "\n",
              "      async function convertToInteractive(key) {\n",
              "        const element = document.querySelector('#df-0bd1566d-1019-4ffb-a103-b9153100c1e4');\n",
              "        const dataTable =\n",
              "          await google.colab.kernel.invokeFunction('convertToInteractive',\n",
              "                                                    [key], {});\n",
              "        if (!dataTable) return;\n",
              "\n",
              "        const docLinkHtml = 'Like what you see? Visit the ' +\n",
              "          '<a target=\"_blank\" href=https://colab.research.google.com/notebooks/data_table.ipynb>data table notebook</a>'\n",
              "          + ' to learn more about interactive tables.';\n",
              "        element.innerHTML = '';\n",
              "        dataTable['output_type'] = 'display_data';\n",
              "        await google.colab.output.renderOutput(dataTable, element);\n",
              "        const docLink = document.createElement('div');\n",
              "        docLink.innerHTML = docLinkHtml;\n",
              "        element.appendChild(docLink);\n",
              "      }\n",
              "    </script>\n",
              "  </div>\n",
              "\n",
              "\n",
              "<div id=\"df-67d9c0dd-ad71-486f-8ebc-050b55302c55\">\n",
              "  <button class=\"colab-df-quickchart\" onclick=\"quickchart('df-67d9c0dd-ad71-486f-8ebc-050b55302c55')\"\n",
              "            title=\"Suggest charts\"\n",
              "            style=\"display:none;\">\n",
              "\n",
              "<svg xmlns=\"http://www.w3.org/2000/svg\" height=\"24px\"viewBox=\"0 0 24 24\"\n",
              "     width=\"24px\">\n",
              "    <g>\n",
              "        <path d=\"M19 3H5c-1.1 0-2 .9-2 2v14c0 1.1.9 2 2 2h14c1.1 0 2-.9 2-2V5c0-1.1-.9-2-2-2zM9 17H7v-7h2v7zm4 0h-2V7h2v10zm4 0h-2v-4h2v4z\"/>\n",
              "    </g>\n",
              "</svg>\n",
              "  </button>\n",
              "\n",
              "<style>\n",
              "  .colab-df-quickchart {\n",
              "      --bg-color: #E8F0FE;\n",
              "      --fill-color: #1967D2;\n",
              "      --hover-bg-color: #E2EBFA;\n",
              "      --hover-fill-color: #174EA6;\n",
              "      --disabled-fill-color: #AAA;\n",
              "      --disabled-bg-color: #DDD;\n",
              "  }\n",
              "\n",
              "  [theme=dark] .colab-df-quickchart {\n",
              "      --bg-color: #3B4455;\n",
              "      --fill-color: #D2E3FC;\n",
              "      --hover-bg-color: #434B5C;\n",
              "      --hover-fill-color: #FFFFFF;\n",
              "      --disabled-bg-color: #3B4455;\n",
              "      --disabled-fill-color: #666;\n",
              "  }\n",
              "\n",
              "  .colab-df-quickchart {\n",
              "    background-color: var(--bg-color);\n",
              "    border: none;\n",
              "    border-radius: 50%;\n",
              "    cursor: pointer;\n",
              "    display: none;\n",
              "    fill: var(--fill-color);\n",
              "    height: 32px;\n",
              "    padding: 0;\n",
              "    width: 32px;\n",
              "  }\n",
              "\n",
              "  .colab-df-quickchart:hover {\n",
              "    background-color: var(--hover-bg-color);\n",
              "    box-shadow: 0 1px 2px rgba(60, 64, 67, 0.3), 0 1px 3px 1px rgba(60, 64, 67, 0.15);\n",
              "    fill: var(--button-hover-fill-color);\n",
              "  }\n",
              "\n",
              "  .colab-df-quickchart-complete:disabled,\n",
              "  .colab-df-quickchart-complete:disabled:hover {\n",
              "    background-color: var(--disabled-bg-color);\n",
              "    fill: var(--disabled-fill-color);\n",
              "    box-shadow: none;\n",
              "  }\n",
              "\n",
              "  .colab-df-spinner {\n",
              "    border: 2px solid var(--fill-color);\n",
              "    border-color: transparent;\n",
              "    border-bottom-color: var(--fill-color);\n",
              "    animation:\n",
              "      spin 1s steps(1) infinite;\n",
              "  }\n",
              "\n",
              "  @keyframes spin {\n",
              "    0% {\n",
              "      border-color: transparent;\n",
              "      border-bottom-color: var(--fill-color);\n",
              "      border-left-color: var(--fill-color);\n",
              "    }\n",
              "    20% {\n",
              "      border-color: transparent;\n",
              "      border-left-color: var(--fill-color);\n",
              "      border-top-color: var(--fill-color);\n",
              "    }\n",
              "    30% {\n",
              "      border-color: transparent;\n",
              "      border-left-color: var(--fill-color);\n",
              "      border-top-color: var(--fill-color);\n",
              "      border-right-color: var(--fill-color);\n",
              "    }\n",
              "    40% {\n",
              "      border-color: transparent;\n",
              "      border-right-color: var(--fill-color);\n",
              "      border-top-color: var(--fill-color);\n",
              "    }\n",
              "    60% {\n",
              "      border-color: transparent;\n",
              "      border-right-color: var(--fill-color);\n",
              "    }\n",
              "    80% {\n",
              "      border-color: transparent;\n",
              "      border-right-color: var(--fill-color);\n",
              "      border-bottom-color: var(--fill-color);\n",
              "    }\n",
              "    90% {\n",
              "      border-color: transparent;\n",
              "      border-bottom-color: var(--fill-color);\n",
              "    }\n",
              "  }\n",
              "</style>\n",
              "\n",
              "  <script>\n",
              "    async function quickchart(key) {\n",
              "      const quickchartButtonEl =\n",
              "        document.querySelector('#' + key + ' button');\n",
              "      quickchartButtonEl.disabled = true;  // To prevent multiple clicks.\n",
              "      quickchartButtonEl.classList.add('colab-df-spinner');\n",
              "      try {\n",
              "        const charts = await google.colab.kernel.invokeFunction(\n",
              "            'suggestCharts', [key], {});\n",
              "      } catch (error) {\n",
              "        console.error('Error during call to suggestCharts:', error);\n",
              "      }\n",
              "      quickchartButtonEl.classList.remove('colab-df-spinner');\n",
              "      quickchartButtonEl.classList.add('colab-df-quickchart-complete');\n",
              "    }\n",
              "    (() => {\n",
              "      let quickchartButtonEl =\n",
              "        document.querySelector('#df-67d9c0dd-ad71-486f-8ebc-050b55302c55 button');\n",
              "      quickchartButtonEl.style.display =\n",
              "        google.colab.kernel.accessAllowed ? 'block' : 'none';\n",
              "    })();\n",
              "  </script>\n",
              "</div>\n",
              "\n",
              "  <div id=\"id_d0458685-4c06-4b20-abd2-e584294ab0d2\">\n",
              "    <style>\n",
              "      .colab-df-generate {\n",
              "        background-color: #E8F0FE;\n",
              "        border: none;\n",
              "        border-radius: 50%;\n",
              "        cursor: pointer;\n",
              "        display: none;\n",
              "        fill: #1967D2;\n",
              "        height: 32px;\n",
              "        padding: 0 0 0 0;\n",
              "        width: 32px;\n",
              "      }\n",
              "\n",
              "      .colab-df-generate:hover {\n",
              "        background-color: #E2EBFA;\n",
              "        box-shadow: 0px 1px 2px rgba(60, 64, 67, 0.3), 0px 1px 3px 1px rgba(60, 64, 67, 0.15);\n",
              "        fill: #174EA6;\n",
              "      }\n",
              "\n",
              "      [theme=dark] .colab-df-generate {\n",
              "        background-color: #3B4455;\n",
              "        fill: #D2E3FC;\n",
              "      }\n",
              "\n",
              "      [theme=dark] .colab-df-generate:hover {\n",
              "        background-color: #434B5C;\n",
              "        box-shadow: 0px 1px 3px 1px rgba(0, 0, 0, 0.15);\n",
              "        filter: drop-shadow(0px 1px 2px rgba(0, 0, 0, 0.3));\n",
              "        fill: #FFFFFF;\n",
              "      }\n",
              "    </style>\n",
              "    <button class=\"colab-df-generate\" onclick=\"generateWithVariable('euclidean_df')\"\n",
              "            title=\"Generate code using this dataframe.\"\n",
              "            style=\"display:none;\">\n",
              "\n",
              "  <svg xmlns=\"http://www.w3.org/2000/svg\" height=\"24px\"viewBox=\"0 0 24 24\"\n",
              "       width=\"24px\">\n",
              "    <path d=\"M7,19H8.4L18.45,9,17,7.55,7,17.6ZM5,21V16.75L18.45,3.32a2,2,0,0,1,2.83,0l1.4,1.43a1.91,1.91,0,0,1,.58,1.4,1.91,1.91,0,0,1-.58,1.4L9.25,21ZM18.45,9,17,7.55Zm-12,3A5.31,5.31,0,0,0,4.9,8.1,5.31,5.31,0,0,0,1,6.5,5.31,5.31,0,0,0,4.9,4.9,5.31,5.31,0,0,0,6.5,1,5.31,5.31,0,0,0,8.1,4.9,5.31,5.31,0,0,0,12,6.5,5.46,5.46,0,0,0,6.5,12Z\"/>\n",
              "  </svg>\n",
              "    </button>\n",
              "    <script>\n",
              "      (() => {\n",
              "      const buttonEl =\n",
              "        document.querySelector('#id_d0458685-4c06-4b20-abd2-e584294ab0d2 button.colab-df-generate');\n",
              "      buttonEl.style.display =\n",
              "        google.colab.kernel.accessAllowed ? 'block' : 'none';\n",
              "\n",
              "      buttonEl.onclick = () => {\n",
              "        google.colab.notebook.generateWithVariable('euclidean_df');\n",
              "      }\n",
              "      })();\n",
              "    </script>\n",
              "  </div>\n",
              "\n",
              "    </div>\n",
              "  </div>\n"
            ],
            "application/vnd.google.colaboratory.intrinsic+json": {
              "type": "dataframe",
              "variable_name": "euclidean_df",
              "summary": "{\n  \"name\": \"euclidean_df\",\n  \"rows\": 8,\n  \"fields\": [\n    {\n      \"column\": \"Node 0\",\n      \"properties\": {\n        \"dtype\": \"number\",\n        \"std\": 17.104336790163256,\n        \"min\": 0.0,\n        \"max\": 53.118409241202365,\n        \"num_unique_values\": 7,\n        \"samples\": [\n          0.0,\n          17.864709569518762,\n          30.6123560457166\n        ],\n        \"semantic_type\": \"\",\n        \"description\": \"\"\n      }\n    },\n    {\n      \"column\": \"Node 1\",\n      \"properties\": {\n        \"dtype\": \"number\",\n        \"std\": 13.836969995148067,\n        \"min\": 0.0,\n        \"max\": 39.53628417186544,\n        \"num_unique_values\": 7,\n        \"samples\": [\n          17.864709569518762,\n          0.0,\n          18.963684840116496\n        ],\n        \"semantic_type\": \"\",\n        \"description\": \"\"\n      }\n    },\n    {\n      \"column\": \"Node 2\",\n      \"properties\": {\n        \"dtype\": \"number\",\n        \"std\": 18.232506696757895,\n        \"min\": 0.0,\n        \"max\": 60.040816312092375,\n        \"num_unique_values\": 7,\n        \"samples\": [\n          14.306129268590196,\n          20.562852490057235,\n          38.62182179609825\n        ],\n        \"semantic_type\": \"\",\n        \"description\": \"\"\n      }\n    },\n    {\n      \"column\": \"Node 3\",\n      \"properties\": {\n        \"dtype\": \"number\",\n        \"std\": 23.083484249260206,\n        \"min\": 0.0,\n        \"max\": 73.15438326268003,\n        \"num_unique_values\": 7,\n        \"samples\": [\n          20.86937184518091,\n          38.42079008870474,\n          50.70444774141507\n        ],\n        \"semantic_type\": \"\",\n        \"description\": \"\"\n      }\n    },\n    {\n      \"column\": \"Node 4\",\n      \"properties\": {\n        \"dtype\": \"number\",\n        \"std\": 24.46777284704637,\n        \"min\": 0.0,\n        \"max\": 73.15438326268003,\n        \"num_unique_values\": 7,\n        \"samples\": [\n          53.118409241202365,\n          39.53628417186544,\n          22.52093964107229\n        ],\n        \"semantic_type\": \"\",\n        \"description\": \"\"\n      }\n    },\n    {\n      \"column\": \"Node 5\",\n      \"properties\": {\n        \"dtype\": \"number\",\n        \"std\": 16.134741790920383,\n        \"min\": 0.0,\n        \"max\": 50.70444774141507,\n        \"num_unique_values\": 7,\n        \"samples\": [\n          30.6123560457166,\n          18.963684840116496,\n          0.0\n        ],\n        \"semantic_type\": \"\",\n        \"description\": \"\"\n      }\n    },\n    {\n      \"column\": \"Node 6\",\n      \"properties\": {\n        \"dtype\": \"number\",\n        \"std\": 20.767274508063316,\n        \"min\": 0.0,\n        \"max\": 67.11526899791612,\n        \"num_unique_values\": 7,\n        \"samples\": [\n          21.12842957644126,\n          38.22932528265394,\n          45.541762073760715\n        ],\n        \"semantic_type\": \"\",\n        \"description\": \"\"\n      }\n    },\n    {\n      \"column\": \"Node 7\",\n      \"properties\": {\n        \"dtype\": \"number\",\n        \"std\": 17.104336790163256,\n        \"min\": 0.0,\n        \"max\": 53.118409241202365,\n        \"num_unique_values\": 7,\n        \"samples\": [\n          0.0,\n          17.864709569518762,\n          30.6123560457166\n        ],\n        \"semantic_type\": \"\",\n        \"description\": \"\"\n      }\n    }\n  ]\n}"
            }
          },
          "metadata": {},
          "execution_count": 13
        }
      ]
    },
    {
      "cell_type": "code",
      "source": [
        "manhattan_df"
      ],
      "metadata": {
        "colab": {
          "base_uri": "https://localhost:8080/",
          "height": 300
        },
        "id": "W1HpDJ-mbmg5",
        "outputId": "a735ef8b-084d-4eae-8b7b-1c95082100e4"
      },
      "execution_count": 14,
      "outputs": [
        {
          "output_type": "execute_result",
          "data": {
            "text/plain": [
              "           Node 0     Node 1     Node 2      Node 3      Node 4     Node 5  \\\n",
              "Node 0   0.000000  22.425606  19.445396   28.780993   74.659710  42.920598   \n",
              "Node 1  22.425606   0.000000  28.011951   51.206598   52.234105  20.494993   \n",
              "Node 2  19.445396  28.011951   0.000000   25.981130   80.246056  48.506943   \n",
              "Node 3  28.780993  51.206598  25.981130    0.000000  103.440703  71.701591   \n",
              "Node 4  74.659710  52.234105  80.246056  103.440703    0.000000  31.739112   \n",
              "Node 5  42.920598  20.494993  48.506943   71.701591   31.739112   0.000000   \n",
              "Node 6  22.963833  41.543227  42.409229   16.428099   93.777332  62.038220   \n",
              "Node 7   0.000000  22.425606  19.445396   28.780993   74.659710  42.920598   \n",
              "\n",
              "           Node 6     Node 7  \n",
              "Node 0  22.963833   0.000000  \n",
              "Node 1  41.543227  22.425606  \n",
              "Node 2  42.409229  19.445396  \n",
              "Node 3  16.428099  28.780993  \n",
              "Node 4  93.777332  74.659710  \n",
              "Node 5  62.038220  42.920598  \n",
              "Node 6   0.000000  22.963833  \n",
              "Node 7  22.963833   0.000000  "
            ],
            "text/html": [
              "\n",
              "  <div id=\"df-6bee4c8a-de06-4bcf-acf4-e05ef5f7118a\" class=\"colab-df-container\">\n",
              "    <div>\n",
              "<style scoped>\n",
              "    .dataframe tbody tr th:only-of-type {\n",
              "        vertical-align: middle;\n",
              "    }\n",
              "\n",
              "    .dataframe tbody tr th {\n",
              "        vertical-align: top;\n",
              "    }\n",
              "\n",
              "    .dataframe thead th {\n",
              "        text-align: right;\n",
              "    }\n",
              "</style>\n",
              "<table border=\"1\" class=\"dataframe\">\n",
              "  <thead>\n",
              "    <tr style=\"text-align: right;\">\n",
              "      <th></th>\n",
              "      <th>Node 0</th>\n",
              "      <th>Node 1</th>\n",
              "      <th>Node 2</th>\n",
              "      <th>Node 3</th>\n",
              "      <th>Node 4</th>\n",
              "      <th>Node 5</th>\n",
              "      <th>Node 6</th>\n",
              "      <th>Node 7</th>\n",
              "    </tr>\n",
              "  </thead>\n",
              "  <tbody>\n",
              "    <tr>\n",
              "      <th>Node 0</th>\n",
              "      <td>0.000000</td>\n",
              "      <td>22.425606</td>\n",
              "      <td>19.445396</td>\n",
              "      <td>28.780993</td>\n",
              "      <td>74.659710</td>\n",
              "      <td>42.920598</td>\n",
              "      <td>22.963833</td>\n",
              "      <td>0.000000</td>\n",
              "    </tr>\n",
              "    <tr>\n",
              "      <th>Node 1</th>\n",
              "      <td>22.425606</td>\n",
              "      <td>0.000000</td>\n",
              "      <td>28.011951</td>\n",
              "      <td>51.206598</td>\n",
              "      <td>52.234105</td>\n",
              "      <td>20.494993</td>\n",
              "      <td>41.543227</td>\n",
              "      <td>22.425606</td>\n",
              "    </tr>\n",
              "    <tr>\n",
              "      <th>Node 2</th>\n",
              "      <td>19.445396</td>\n",
              "      <td>28.011951</td>\n",
              "      <td>0.000000</td>\n",
              "      <td>25.981130</td>\n",
              "      <td>80.246056</td>\n",
              "      <td>48.506943</td>\n",
              "      <td>42.409229</td>\n",
              "      <td>19.445396</td>\n",
              "    </tr>\n",
              "    <tr>\n",
              "      <th>Node 3</th>\n",
              "      <td>28.780993</td>\n",
              "      <td>51.206598</td>\n",
              "      <td>25.981130</td>\n",
              "      <td>0.000000</td>\n",
              "      <td>103.440703</td>\n",
              "      <td>71.701591</td>\n",
              "      <td>16.428099</td>\n",
              "      <td>28.780993</td>\n",
              "    </tr>\n",
              "    <tr>\n",
              "      <th>Node 4</th>\n",
              "      <td>74.659710</td>\n",
              "      <td>52.234105</td>\n",
              "      <td>80.246056</td>\n",
              "      <td>103.440703</td>\n",
              "      <td>0.000000</td>\n",
              "      <td>31.739112</td>\n",
              "      <td>93.777332</td>\n",
              "      <td>74.659710</td>\n",
              "    </tr>\n",
              "    <tr>\n",
              "      <th>Node 5</th>\n",
              "      <td>42.920598</td>\n",
              "      <td>20.494993</td>\n",
              "      <td>48.506943</td>\n",
              "      <td>71.701591</td>\n",
              "      <td>31.739112</td>\n",
              "      <td>0.000000</td>\n",
              "      <td>62.038220</td>\n",
              "      <td>42.920598</td>\n",
              "    </tr>\n",
              "    <tr>\n",
              "      <th>Node 6</th>\n",
              "      <td>22.963833</td>\n",
              "      <td>41.543227</td>\n",
              "      <td>42.409229</td>\n",
              "      <td>16.428099</td>\n",
              "      <td>93.777332</td>\n",
              "      <td>62.038220</td>\n",
              "      <td>0.000000</td>\n",
              "      <td>22.963833</td>\n",
              "    </tr>\n",
              "    <tr>\n",
              "      <th>Node 7</th>\n",
              "      <td>0.000000</td>\n",
              "      <td>22.425606</td>\n",
              "      <td>19.445396</td>\n",
              "      <td>28.780993</td>\n",
              "      <td>74.659710</td>\n",
              "      <td>42.920598</td>\n",
              "      <td>22.963833</td>\n",
              "      <td>0.000000</td>\n",
              "    </tr>\n",
              "  </tbody>\n",
              "</table>\n",
              "</div>\n",
              "    <div class=\"colab-df-buttons\">\n",
              "\n",
              "  <div class=\"colab-df-container\">\n",
              "    <button class=\"colab-df-convert\" onclick=\"convertToInteractive('df-6bee4c8a-de06-4bcf-acf4-e05ef5f7118a')\"\n",
              "            title=\"Convert this dataframe to an interactive table.\"\n",
              "            style=\"display:none;\">\n",
              "\n",
              "  <svg xmlns=\"http://www.w3.org/2000/svg\" height=\"24px\" viewBox=\"0 -960 960 960\">\n",
              "    <path d=\"M120-120v-720h720v720H120Zm60-500h600v-160H180v160Zm220 220h160v-160H400v160Zm0 220h160v-160H400v160ZM180-400h160v-160H180v160Zm440 0h160v-160H620v160ZM180-180h160v-160H180v160Zm440 0h160v-160H620v160Z\"/>\n",
              "  </svg>\n",
              "    </button>\n",
              "\n",
              "  <style>\n",
              "    .colab-df-container {\n",
              "      display:flex;\n",
              "      gap: 12px;\n",
              "    }\n",
              "\n",
              "    .colab-df-convert {\n",
              "      background-color: #E8F0FE;\n",
              "      border: none;\n",
              "      border-radius: 50%;\n",
              "      cursor: pointer;\n",
              "      display: none;\n",
              "      fill: #1967D2;\n",
              "      height: 32px;\n",
              "      padding: 0 0 0 0;\n",
              "      width: 32px;\n",
              "    }\n",
              "\n",
              "    .colab-df-convert:hover {\n",
              "      background-color: #E2EBFA;\n",
              "      box-shadow: 0px 1px 2px rgba(60, 64, 67, 0.3), 0px 1px 3px 1px rgba(60, 64, 67, 0.15);\n",
              "      fill: #174EA6;\n",
              "    }\n",
              "\n",
              "    .colab-df-buttons div {\n",
              "      margin-bottom: 4px;\n",
              "    }\n",
              "\n",
              "    [theme=dark] .colab-df-convert {\n",
              "      background-color: #3B4455;\n",
              "      fill: #D2E3FC;\n",
              "    }\n",
              "\n",
              "    [theme=dark] .colab-df-convert:hover {\n",
              "      background-color: #434B5C;\n",
              "      box-shadow: 0px 1px 3px 1px rgba(0, 0, 0, 0.15);\n",
              "      filter: drop-shadow(0px 1px 2px rgba(0, 0, 0, 0.3));\n",
              "      fill: #FFFFFF;\n",
              "    }\n",
              "  </style>\n",
              "\n",
              "    <script>\n",
              "      const buttonEl =\n",
              "        document.querySelector('#df-6bee4c8a-de06-4bcf-acf4-e05ef5f7118a button.colab-df-convert');\n",
              "      buttonEl.style.display =\n",
              "        google.colab.kernel.accessAllowed ? 'block' : 'none';\n",
              "\n",
              "      async function convertToInteractive(key) {\n",
              "        const element = document.querySelector('#df-6bee4c8a-de06-4bcf-acf4-e05ef5f7118a');\n",
              "        const dataTable =\n",
              "          await google.colab.kernel.invokeFunction('convertToInteractive',\n",
              "                                                    [key], {});\n",
              "        if (!dataTable) return;\n",
              "\n",
              "        const docLinkHtml = 'Like what you see? Visit the ' +\n",
              "          '<a target=\"_blank\" href=https://colab.research.google.com/notebooks/data_table.ipynb>data table notebook</a>'\n",
              "          + ' to learn more about interactive tables.';\n",
              "        element.innerHTML = '';\n",
              "        dataTable['output_type'] = 'display_data';\n",
              "        await google.colab.output.renderOutput(dataTable, element);\n",
              "        const docLink = document.createElement('div');\n",
              "        docLink.innerHTML = docLinkHtml;\n",
              "        element.appendChild(docLink);\n",
              "      }\n",
              "    </script>\n",
              "  </div>\n",
              "\n",
              "\n",
              "<div id=\"df-eacae148-ba13-4e97-b2ce-f2fb553825b8\">\n",
              "  <button class=\"colab-df-quickchart\" onclick=\"quickchart('df-eacae148-ba13-4e97-b2ce-f2fb553825b8')\"\n",
              "            title=\"Suggest charts\"\n",
              "            style=\"display:none;\">\n",
              "\n",
              "<svg xmlns=\"http://www.w3.org/2000/svg\" height=\"24px\"viewBox=\"0 0 24 24\"\n",
              "     width=\"24px\">\n",
              "    <g>\n",
              "        <path d=\"M19 3H5c-1.1 0-2 .9-2 2v14c0 1.1.9 2 2 2h14c1.1 0 2-.9 2-2V5c0-1.1-.9-2-2-2zM9 17H7v-7h2v7zm4 0h-2V7h2v10zm4 0h-2v-4h2v4z\"/>\n",
              "    </g>\n",
              "</svg>\n",
              "  </button>\n",
              "\n",
              "<style>\n",
              "  .colab-df-quickchart {\n",
              "      --bg-color: #E8F0FE;\n",
              "      --fill-color: #1967D2;\n",
              "      --hover-bg-color: #E2EBFA;\n",
              "      --hover-fill-color: #174EA6;\n",
              "      --disabled-fill-color: #AAA;\n",
              "      --disabled-bg-color: #DDD;\n",
              "  }\n",
              "\n",
              "  [theme=dark] .colab-df-quickchart {\n",
              "      --bg-color: #3B4455;\n",
              "      --fill-color: #D2E3FC;\n",
              "      --hover-bg-color: #434B5C;\n",
              "      --hover-fill-color: #FFFFFF;\n",
              "      --disabled-bg-color: #3B4455;\n",
              "      --disabled-fill-color: #666;\n",
              "  }\n",
              "\n",
              "  .colab-df-quickchart {\n",
              "    background-color: var(--bg-color);\n",
              "    border: none;\n",
              "    border-radius: 50%;\n",
              "    cursor: pointer;\n",
              "    display: none;\n",
              "    fill: var(--fill-color);\n",
              "    height: 32px;\n",
              "    padding: 0;\n",
              "    width: 32px;\n",
              "  }\n",
              "\n",
              "  .colab-df-quickchart:hover {\n",
              "    background-color: var(--hover-bg-color);\n",
              "    box-shadow: 0 1px 2px rgba(60, 64, 67, 0.3), 0 1px 3px 1px rgba(60, 64, 67, 0.15);\n",
              "    fill: var(--button-hover-fill-color);\n",
              "  }\n",
              "\n",
              "  .colab-df-quickchart-complete:disabled,\n",
              "  .colab-df-quickchart-complete:disabled:hover {\n",
              "    background-color: var(--disabled-bg-color);\n",
              "    fill: var(--disabled-fill-color);\n",
              "    box-shadow: none;\n",
              "  }\n",
              "\n",
              "  .colab-df-spinner {\n",
              "    border: 2px solid var(--fill-color);\n",
              "    border-color: transparent;\n",
              "    border-bottom-color: var(--fill-color);\n",
              "    animation:\n",
              "      spin 1s steps(1) infinite;\n",
              "  }\n",
              "\n",
              "  @keyframes spin {\n",
              "    0% {\n",
              "      border-color: transparent;\n",
              "      border-bottom-color: var(--fill-color);\n",
              "      border-left-color: var(--fill-color);\n",
              "    }\n",
              "    20% {\n",
              "      border-color: transparent;\n",
              "      border-left-color: var(--fill-color);\n",
              "      border-top-color: var(--fill-color);\n",
              "    }\n",
              "    30% {\n",
              "      border-color: transparent;\n",
              "      border-left-color: var(--fill-color);\n",
              "      border-top-color: var(--fill-color);\n",
              "      border-right-color: var(--fill-color);\n",
              "    }\n",
              "    40% {\n",
              "      border-color: transparent;\n",
              "      border-right-color: var(--fill-color);\n",
              "      border-top-color: var(--fill-color);\n",
              "    }\n",
              "    60% {\n",
              "      border-color: transparent;\n",
              "      border-right-color: var(--fill-color);\n",
              "    }\n",
              "    80% {\n",
              "      border-color: transparent;\n",
              "      border-right-color: var(--fill-color);\n",
              "      border-bottom-color: var(--fill-color);\n",
              "    }\n",
              "    90% {\n",
              "      border-color: transparent;\n",
              "      border-bottom-color: var(--fill-color);\n",
              "    }\n",
              "  }\n",
              "</style>\n",
              "\n",
              "  <script>\n",
              "    async function quickchart(key) {\n",
              "      const quickchartButtonEl =\n",
              "        document.querySelector('#' + key + ' button');\n",
              "      quickchartButtonEl.disabled = true;  // To prevent multiple clicks.\n",
              "      quickchartButtonEl.classList.add('colab-df-spinner');\n",
              "      try {\n",
              "        const charts = await google.colab.kernel.invokeFunction(\n",
              "            'suggestCharts', [key], {});\n",
              "      } catch (error) {\n",
              "        console.error('Error during call to suggestCharts:', error);\n",
              "      }\n",
              "      quickchartButtonEl.classList.remove('colab-df-spinner');\n",
              "      quickchartButtonEl.classList.add('colab-df-quickchart-complete');\n",
              "    }\n",
              "    (() => {\n",
              "      let quickchartButtonEl =\n",
              "        document.querySelector('#df-eacae148-ba13-4e97-b2ce-f2fb553825b8 button');\n",
              "      quickchartButtonEl.style.display =\n",
              "        google.colab.kernel.accessAllowed ? 'block' : 'none';\n",
              "    })();\n",
              "  </script>\n",
              "</div>\n",
              "\n",
              "  <div id=\"id_75ddf12a-0896-4a0a-9cb3-205760886363\">\n",
              "    <style>\n",
              "      .colab-df-generate {\n",
              "        background-color: #E8F0FE;\n",
              "        border: none;\n",
              "        border-radius: 50%;\n",
              "        cursor: pointer;\n",
              "        display: none;\n",
              "        fill: #1967D2;\n",
              "        height: 32px;\n",
              "        padding: 0 0 0 0;\n",
              "        width: 32px;\n",
              "      }\n",
              "\n",
              "      .colab-df-generate:hover {\n",
              "        background-color: #E2EBFA;\n",
              "        box-shadow: 0px 1px 2px rgba(60, 64, 67, 0.3), 0px 1px 3px 1px rgba(60, 64, 67, 0.15);\n",
              "        fill: #174EA6;\n",
              "      }\n",
              "\n",
              "      [theme=dark] .colab-df-generate {\n",
              "        background-color: #3B4455;\n",
              "        fill: #D2E3FC;\n",
              "      }\n",
              "\n",
              "      [theme=dark] .colab-df-generate:hover {\n",
              "        background-color: #434B5C;\n",
              "        box-shadow: 0px 1px 3px 1px rgba(0, 0, 0, 0.15);\n",
              "        filter: drop-shadow(0px 1px 2px rgba(0, 0, 0, 0.3));\n",
              "        fill: #FFFFFF;\n",
              "      }\n",
              "    </style>\n",
              "    <button class=\"colab-df-generate\" onclick=\"generateWithVariable('manhattan_df')\"\n",
              "            title=\"Generate code using this dataframe.\"\n",
              "            style=\"display:none;\">\n",
              "\n",
              "  <svg xmlns=\"http://www.w3.org/2000/svg\" height=\"24px\"viewBox=\"0 0 24 24\"\n",
              "       width=\"24px\">\n",
              "    <path d=\"M7,19H8.4L18.45,9,17,7.55,7,17.6ZM5,21V16.75L18.45,3.32a2,2,0,0,1,2.83,0l1.4,1.43a1.91,1.91,0,0,1,.58,1.4,1.91,1.91,0,0,1-.58,1.4L9.25,21ZM18.45,9,17,7.55Zm-12,3A5.31,5.31,0,0,0,4.9,8.1,5.31,5.31,0,0,0,1,6.5,5.31,5.31,0,0,0,4.9,4.9,5.31,5.31,0,0,0,6.5,1,5.31,5.31,0,0,0,8.1,4.9,5.31,5.31,0,0,0,12,6.5,5.46,5.46,0,0,0,6.5,12Z\"/>\n",
              "  </svg>\n",
              "    </button>\n",
              "    <script>\n",
              "      (() => {\n",
              "      const buttonEl =\n",
              "        document.querySelector('#id_75ddf12a-0896-4a0a-9cb3-205760886363 button.colab-df-generate');\n",
              "      buttonEl.style.display =\n",
              "        google.colab.kernel.accessAllowed ? 'block' : 'none';\n",
              "\n",
              "      buttonEl.onclick = () => {\n",
              "        google.colab.notebook.generateWithVariable('manhattan_df');\n",
              "      }\n",
              "      })();\n",
              "    </script>\n",
              "  </div>\n",
              "\n",
              "    </div>\n",
              "  </div>\n"
            ],
            "application/vnd.google.colaboratory.intrinsic+json": {
              "type": "dataframe",
              "variable_name": "manhattan_df",
              "summary": "{\n  \"name\": \"manhattan_df\",\n  \"rows\": 8,\n  \"fields\": [\n    {\n      \"column\": \"Node 0\",\n      \"properties\": {\n        \"dtype\": \"number\",\n        \"std\": 24.135002765784392,\n        \"min\": 0.0,\n        \"max\": 74.65971041203463,\n        \"num_unique_values\": 7,\n        \"samples\": [\n          0.0,\n          22.425605551984177,\n          42.92059807748549\n        ],\n        \"semantic_type\": \"\",\n        \"description\": \"\"\n      }\n    },\n    {\n      \"column\": \"Node 1\",\n      \"properties\": {\n        \"dtype\": \"number\",\n        \"std\": 17.67168090910024,\n        \"min\": 0.0,\n        \"max\": 52.23410486005046,\n        \"num_unique_values\": 7,\n        \"samples\": [\n          22.425605551984177,\n          0.0,\n          20.49499252550131\n        ],\n        \"semantic_type\": \"\",\n        \"description\": \"\"\n      }\n    },\n    {\n      \"column\": \"Node 2\",\n      \"properties\": {\n        \"dtype\": \"number\",\n        \"std\": 24.177286075866416,\n        \"min\": 0.0,\n        \"max\": 80.24605554030029,\n        \"num_unique_values\": 7,\n        \"samples\": [\n          19.445395789418342,\n          28.01195068024984,\n          48.50694320575115\n        ],\n        \"semantic_type\": \"\",\n        \"description\": \"\"\n      }\n    },\n    {\n      \"column\": \"Node 3\",\n      \"properties\": {\n        \"dtype\": \"number\",\n        \"std\": 33.28277985224448,\n        \"min\": 0.0,\n        \"max\": 103.44070311946388,\n        \"num_unique_values\": 7,\n        \"samples\": [\n          28.78099270742925,\n          51.206598259413425,\n          71.70159078491474\n        ],\n        \"semantic_type\": \"\",\n        \"description\": \"\"\n      }\n    },\n    {\n      \"column\": \"Node 4\",\n      \"properties\": {\n        \"dtype\": \"number\",\n        \"std\": 34.243789166942555,\n        \"min\": 0.0,\n        \"max\": 103.44070311946388,\n        \"num_unique_values\": 7,\n        \"samples\": [\n          74.65971041203463,\n          52.23410486005046,\n          31.739112334549148\n        ],\n        \"semantic_type\": \"\",\n        \"description\": \"\"\n      }\n    },\n    {\n      \"column\": \"Node 5\",\n      \"properties\": {\n        \"dtype\": \"number\",\n        \"std\": 22.7683253196477,\n        \"min\": 0.0,\n        \"max\": 71.70159078491474,\n        \"num_unique_values\": 7,\n        \"samples\": [\n          42.92059807748549,\n          20.49499252550131,\n          0.0\n        ],\n        \"semantic_type\": \"\",\n        \"description\": \"\"\n      }\n    },\n    {\n      \"column\": \"Node 6\",\n      \"properties\": {\n        \"dtype\": \"number\",\n        \"std\": 29.476436216007194,\n        \"min\": 0.0,\n        \"max\": 93.77733188739802,\n        \"num_unique_values\": 7,\n        \"samples\": [\n          22.963832908684907,\n          41.54322702734757,\n          62.03821955284888\n        ],\n        \"semantic_type\": \"\",\n        \"description\": \"\"\n      }\n    },\n    {\n      \"column\": \"Node 7\",\n      \"properties\": {\n        \"dtype\": \"number\",\n        \"std\": 24.135002765784392,\n        \"min\": 0.0,\n        \"max\": 74.65971041203463,\n        \"num_unique_values\": 7,\n        \"samples\": [\n          0.0,\n          22.425605551984177,\n          42.92059807748549\n        ],\n        \"semantic_type\": \"\",\n        \"description\": \"\"\n      }\n    }\n  ]\n}"
            }
          },
          "metadata": {},
          "execution_count": 14
        }
      ]
    },
    {
      "cell_type": "markdown",
      "source": [
        "## Plot the nodes"
      ],
      "metadata": {
        "id": "tXIMqXwrsdoK"
      }
    },
    {
      "cell_type": "code",
      "source": [
        "plt.figure(figsize=(10, 10))\n",
        "plt.scatter(coordinates[:, 0], coordinates[:, 1], color='red')\n",
        "\n",
        "# Annotate the nodes\n",
        "for i, (x, y) in enumerate(coordinates):\n",
        "    plt.text(x, y, f'Node {i}', fontsize=12, ha='right')\n",
        "\n",
        "# Draw lines between nodes for Euclidean distances\n",
        "for i in range(N):\n",
        "    for j in range(i + 1, N):\n",
        "        plt.plot([coordinates[i, 0], coordinates[j, 0]], [coordinates[i, 1], coordinates[j, 1]], 'gray', linestyle='--', linewidth=0.5)\n",
        "\n",
        "plt.title('Nodes and Euclidean Distances')\n",
        "plt.xlabel('X Coordinate')\n",
        "plt.ylabel('Y Coordinate')\n",
        "plt.grid(True)\n",
        "plt.show()"
      ],
      "metadata": {
        "colab": {
          "base_uri": "https://localhost:8080/",
          "height": 872
        },
        "id": "DXe8sq8ysbj_",
        "outputId": "4cfcc42c-45ba-4f61-f416-8c1f512de7f2"
      },
      "execution_count": 15,
      "outputs": [
        {
          "output_type": "display_data",
          "data": {
            "text/plain": [
              "<Figure size 1000x1000 with 1 Axes>"
            ],
            "image/png": "[encoded data removed]"
          },
          "metadata": {}
        }
      ]
    },
    {
      "cell_type": "code",
      "source": [
        "euclidean_df"
      ],
      "metadata": {
        "colab": {
          "base_uri": "https://localhost:8080/",
          "height": 300
        },
        "id": "5lEohVvssjjD",
        "outputId": "cf6f193b-88ca-49e8-c370-06e9368467cc"
      },
      "execution_count": 16,
      "outputs": [
        {
          "output_type": "execute_result",
          "data": {
            "text/plain": [
              "           Node 0     Node 1     Node 2     Node 3     Node 4     Node 5  \\\n",
              "Node 0   0.000000  17.864710  14.306129  20.869372  53.118409  30.612356   \n",
              "Node 1  17.864710   0.000000  20.562852  38.420790  39.536284  18.963685   \n",
              "Node 2  14.306129  20.562852   0.000000  24.627330  60.040816  38.621822   \n",
              "Node 3  20.869372  38.420790  24.627330   0.000000  73.154383  50.704448   \n",
              "Node 4  53.118409  39.536284  60.040816  73.154383   0.000000  22.520940   \n",
              "Node 5  30.612356  18.963685  38.621822  50.704448  22.520940   0.000000   \n",
              "Node 6  21.128430  38.229325  31.477278  13.477076  67.115269  45.541762   \n",
              "Node 7   0.000000  17.864710  14.306129  20.869372  53.118409  30.612356   \n",
              "\n",
              "           Node 6     Node 7  \n",
              "Node 0  21.128430   0.000000  \n",
              "Node 1  38.229325  17.864710  \n",
              "Node 2  31.477278  14.306129  \n",
              "Node 3  13.477076  20.869372  \n",
              "Node 4  67.115269  53.118409  \n",
              "Node 5  45.541762  30.612356  \n",
              "Node 6   0.000000  21.128430  \n",
              "Node 7  21.128430   0.000000  "
            ],
            "text/html": [
              "\n",
              "  <div id=\"df-b7f445b0-b731-43d4-a3db-d1dc53f489b7\" class=\"colab-df-container\">\n",
              "    <div>\n",
              "<style scoped>\n",
              "    .dataframe tbody tr th:only-of-type {\n",
              "        vertical-align: middle;\n",
              "    }\n",
              "\n",
              "    .dataframe tbody tr th {\n",
              "        vertical-align: top;\n",
              "    }\n",
              "\n",
              "    .dataframe thead th {\n",
              "        text-align: right;\n",
              "    }\n",
              "</style>\n",
              "<table border=\"1\" class=\"dataframe\">\n",
              "  <thead>\n",
              "    <tr style=\"text-align: right;\">\n",
              "      <th></th>\n",
              "      <th>Node 0</th>\n",
              "      <th>Node 1</th>\n",
              "      <th>Node 2</th>\n",
              "      <th>Node 3</th>\n",
              "      <th>Node 4</th>\n",
              "      <th>Node 5</th>\n",
              "      <th>Node 6</th>\n",
              "      <th>Node 7</th>\n",
              "    </tr>\n",
              "  </thead>\n",
              "  <tbody>\n",
              "    <tr>\n",
              "      <th>Node 0</th>\n",
              "      <td>0.000000</td>\n",
              "      <td>17.864710</td>\n",
              "      <td>14.306129</td>\n",
              "      <td>20.869372</td>\n",
              "      <td>53.118409</td>\n",
              "      <td>30.612356</td>\n",
              "      <td>21.128430</td>\n",
              "      <td>0.000000</td>\n",
              "    </tr>\n",
              "    <tr>\n",
              "      <th>Node 1</th>\n",
              "      <td>17.864710</td>\n",
              "      <td>0.000000</td>\n",
              "      <td>20.562852</td>\n",
              "      <td>38.420790</td>\n",
              "      <td>39.536284</td>\n",
              "      <td>18.963685</td>\n",
              "      <td>38.229325</td>\n",
              "      <td>17.864710</td>\n",
              "    </tr>\n",
              "    <tr>\n",
              "      <th>Node 2</th>\n",
              "      <td>14.306129</td>\n",
              "      <td>20.562852</td>\n",
              "      <td>0.000000</td>\n",
              "      <td>24.627330</td>\n",
              "      <td>60.040816</td>\n",
              "      <td>38.621822</td>\n",
              "      <td>31.477278</td>\n",
              "      <td>14.306129</td>\n",
              "    </tr>\n",
              "    <tr>\n",
              "      <th>Node 3</th>\n",
              "      <td>20.869372</td>\n",
              "      <td>38.420790</td>\n",
              "      <td>24.627330</td>\n",
              "      <td>0.000000</td>\n",
              "      <td>73.154383</td>\n",
              "      <td>50.704448</td>\n",
              "      <td>13.477076</td>\n",
              "      <td>20.869372</td>\n",
              "    </tr>\n",
              "    <tr>\n",
              "      <th>Node 4</th>\n",
              "      <td>53.118409</td>\n",
              "      <td>39.536284</td>\n",
              "      <td>60.040816</td>\n",
              "      <td>73.154383</td>\n",
              "      <td>0.000000</td>\n",
              "      <td>22.520940</td>\n",
              "      <td>67.115269</td>\n",
              "      <td>53.118409</td>\n",
              "    </tr>\n",
              "    <tr>\n",
              "      <th>Node 5</th>\n",
              "      <td>30.612356</td>\n",
              "      <td>18.963685</td>\n",
              "      <td>38.621822</td>\n",
              "      <td>50.704448</td>\n",
              "      <td>22.520940</td>\n",
              "      <td>0.000000</td>\n",
              "      <td>45.541762</td>\n",
              "      <td>30.612356</td>\n",
              "    </tr>\n",
              "    <tr>\n",
              "      <th>Node 6</th>\n",
              "      <td>21.128430</td>\n",
              "      <td>38.229325</td>\n",
              "      <td>31.477278</td>\n",
              "      <td>13.477076</td>\n",
              "      <td>67.115269</td>\n",
              "      <td>45.541762</td>\n",
              "      <td>0.000000</td>\n",
              "      <td>21.128430</td>\n",
              "    </tr>\n",
              "    <tr>\n",
              "      <th>Node 7</th>\n",
              "      <td>0.000000</td>\n",
              "      <td>17.864710</td>\n",
              "      <td>14.306129</td>\n",
              "      <td>20.869372</td>\n",
              "      <td>53.118409</td>\n",
              "      <td>30.612356</td>\n",
              "      <td>21.128430</td>\n",
              "      <td>0.000000</td>\n",
              "    </tr>\n",
              "  </tbody>\n",
              "</table>\n",
              "</div>\n",
              "    <div class=\"colab-df-buttons\">\n",
              "\n",
              "  <div class=\"colab-df-container\">\n",
              "    <button class=\"colab-df-convert\" onclick=\"convertToInteractive('df-b7f445b0-b731-43d4-a3db-d1dc53f489b7')\"\n",
              "            title=\"Convert this dataframe to an interactive table.\"\n",
              "            style=\"display:none;\">\n",
              "\n",
              "  <svg xmlns=\"http://www.w3.org/2000/svg\" height=\"24px\" viewBox=\"0 -960 960 960\">\n",
              "    <path d=\"M120-120v-720h720v720H120Zm60-500h600v-160H180v160Zm220 220h160v-160H400v160Zm0 220h160v-160H400v160ZM180-400h160v-160H180v160Zm440 0h160v-160H620v160ZM180-180h160v-160H180v160Zm440 0h160v-160H620v160Z\"/>\n",
              "  </svg>\n",
              "    </button>\n",
              "\n",
              "  <style>\n",
              "    .colab-df-container {\n",
              "      display:flex;\n",
              "      gap: 12px;\n",
              "    }\n",
              "\n",
              "    .colab-df-convert {\n",
              "      background-color: #E8F0FE;\n",
              "      border: none;\n",
              "      border-radius: 50%;\n",
              "      cursor: pointer;\n",
              "      display: none;\n",
              "      fill: #1967D2;\n",
              "      height: 32px;\n",
              "      padding: 0 0 0 0;\n",
              "      width: 32px;\n",
              "    }\n",
              "\n",
              "    .colab-df-convert:hover {\n",
              "      background-color: #E2EBFA;\n",
              "      box-shadow: 0px 1px 2px rgba(60, 64, 67, 0.3), 0px 1px 3px 1px rgba(60, 64, 67, 0.15);\n",
              "      fill: #174EA6;\n",
              "    }\n",
              "\n",
              "    .colab-df-buttons div {\n",
              "      margin-bottom: 4px;\n",
              "    }\n",
              "\n",
              "    [theme=dark] .colab-df-convert {\n",
              "      background-color: #3B4455;\n",
              "      fill: #D2E3FC;\n",
              "    }\n",
              "\n",
              "    [theme=dark] .colab-df-convert:hover {\n",
              "      background-color: #434B5C;\n",
              "      box-shadow: 0px 1px 3px 1px rgba(0, 0, 0, 0.15);\n",
              "      filter: drop-shadow(0px 1px 2px rgba(0, 0, 0, 0.3));\n",
              "      fill: #FFFFFF;\n",
              "    }\n",
              "  </style>\n",
              "\n",
              "    <script>\n",
              "      const buttonEl =\n",
              "        document.querySelector('#df-b7f445b0-b731-43d4-a3db-d1dc53f489b7 button.colab-df-convert');\n",
              "      buttonEl.style.display =\n",
              "        google.colab.kernel.accessAllowed ? 'block' : 'none';\n",
              "\n",
              "      async function convertToInteractive(key) {\n",
              "        const element = document.querySelector('#df-b7f445b0-b731-43d4-a3db-d1dc53f489b7');\n",
              "        const dataTable =\n",
              "          await google.colab.kernel.invokeFunction('convertToInteractive',\n",
              "                                                    [key], {});\n",
              "        if (!dataTable) return;\n",
              "\n",
              "        const docLinkHtml = 'Like what you see? Visit the ' +\n",
              "          '<a target=\"_blank\" href=https://colab.research.google.com/notebooks/data_table.ipynb>data table notebook</a>'\n",
              "          + ' to learn more about interactive tables.';\n",
              "        element.innerHTML = '';\n",
              "        dataTable['output_type'] = 'display_data';\n",
              "        await google.colab.output.renderOutput(dataTable, element);\n",
              "        const docLink = document.createElement('div');\n",
              "        docLink.innerHTML = docLinkHtml;\n",
              "        element.appendChild(docLink);\n",
              "      }\n",
              "    </script>\n",
              "  </div>\n",
              "\n",
              "\n",
              "<div id=\"df-09232cf2-f700-48ab-910d-518630dfdf7a\">\n",
              "  <button class=\"colab-df-quickchart\" onclick=\"quickchart('df-09232cf2-f700-48ab-910d-518630dfdf7a')\"\n",
              "            title=\"Suggest charts\"\n",
              "            style=\"display:none;\">\n",
              "\n",
              "<svg xmlns=\"http://www.w3.org/2000/svg\" height=\"24px\"viewBox=\"0 0 24 24\"\n",
              "     width=\"24px\">\n",
              "    <g>\n",
              "        <path d=\"M19 3H5c-1.1 0-2 .9-2 2v14c0 1.1.9 2 2 2h14c1.1 0 2-.9 2-2V5c0-1.1-.9-2-2-2zM9 17H7v-7h2v7zm4 0h-2V7h2v10zm4 0h-2v-4h2v4z\"/>\n",
              "    </g>\n",
              "</svg>\n",
              "  </button>\n",
              "\n",
              "<style>\n",
              "  .colab-df-quickchart {\n",
              "      --bg-color: #E8F0FE;\n",
              "      --fill-color: #1967D2;\n",
              "      --hover-bg-color: #E2EBFA;\n",
              "      --hover-fill-color: #174EA6;\n",
              "      --disabled-fill-color: #AAA;\n",
              "      --disabled-bg-color: #DDD;\n",
              "  }\n",
              "\n",
              "  [theme=dark] .colab-df-quickchart {\n",
              "      --bg-color: #3B4455;\n",
              "      --fill-color: #D2E3FC;\n",
              "      --hover-bg-color: #434B5C;\n",
              "      --hover-fill-color: #FFFFFF;\n",
              "      --disabled-bg-color: #3B4455;\n",
              "      --disabled-fill-color: #666;\n",
              "  }\n",
              "\n",
              "  .colab-df-quickchart {\n",
              "    background-color: var(--bg-color);\n",
              "    border: none;\n",
              "    border-radius: 50%;\n",
              "    cursor: pointer;\n",
              "    display: none;\n",
              "    fill: var(--fill-color);\n",
              "    height: 32px;\n",
              "    padding: 0;\n",
              "    width: 32px;\n",
              "  }\n",
              "\n",
              "  .colab-df-quickchart:hover {\n",
              "    background-color: var(--hover-bg-color);\n",
              "    box-shadow: 0 1px 2px rgba(60, 64, 67, 0.3), 0 1px 3px 1px rgba(60, 64, 67, 0.15);\n",
              "    fill: var(--button-hover-fill-color);\n",
              "  }\n",
              "\n",
              "  .colab-df-quickchart-complete:disabled,\n",
              "  .colab-df-quickchart-complete:disabled:hover {\n",
              "    background-color: var(--disabled-bg-color);\n",
              "    fill: var(--disabled-fill-color);\n",
              "    box-shadow: none;\n",
              "  }\n",
              "\n",
              "  .colab-df-spinner {\n",
              "    border: 2px solid var(--fill-color);\n",
              "    border-color: transparent;\n",
              "    border-bottom-color: var(--fill-color);\n",
              "    animation:\n",
              "      spin 1s steps(1) infinite;\n",
              "  }\n",
              "\n",
              "  @keyframes spin {\n",
              "    0% {\n",
              "      border-color: transparent;\n",
              "      border-bottom-color: var(--fill-color);\n",
              "      border-left-color: var(--fill-color);\n",
              "    }\n",
              "    20% {\n",
              "      border-color: transparent;\n",
              "      border-left-color: var(--fill-color);\n",
              "      border-top-color: var(--fill-color);\n",
              "    }\n",
              "    30% {\n",
              "      border-color: transparent;\n",
              "      border-left-color: var(--fill-color);\n",
              "      border-top-color: var(--fill-color);\n",
              "      border-right-color: var(--fill-color);\n",
              "    }\n",
              "    40% {\n",
              "      border-color: transparent;\n",
              "      border-right-color: var(--fill-color);\n",
              "      border-top-color: var(--fill-color);\n",
              "    }\n",
              "    60% {\n",
              "      border-color: transparent;\n",
              "      border-right-color: var(--fill-color);\n",
              "    }\n",
              "    80% {\n",
              "      border-color: transparent;\n",
              "      border-right-color: var(--fill-color);\n",
              "      border-bottom-color: var(--fill-color);\n",
              "    }\n",
              "    90% {\n",
              "      border-color: transparent;\n",
              "      border-bottom-color: var(--fill-color);\n",
              "    }\n",
              "  }\n",
              "</style>\n",
              "\n",
              "  <script>\n",
              "    async function quickchart(key) {\n",
              "      const quickchartButtonEl =\n",
              "        document.querySelector('#' + key + ' button');\n",
              "      quickchartButtonEl.disabled = true;  // To prevent multiple clicks.\n",
              "      quickchartButtonEl.classList.add('colab-df-spinner');\n",
              "      try {\n",
              "        const charts = await google.colab.kernel.invokeFunction(\n",
              "            'suggestCharts', [key], {});\n",
              "      } catch (error) {\n",
              "        console.error('Error during call to suggestCharts:', error);\n",
              "      }\n",
              "      quickchartButtonEl.classList.remove('colab-df-spinner');\n",
              "      quickchartButtonEl.classList.add('colab-df-quickchart-complete');\n",
              "    }\n",
              "    (() => {\n",
              "      let quickchartButtonEl =\n",
              "        document.querySelector('#df-09232cf2-f700-48ab-910d-518630dfdf7a button');\n",
              "      quickchartButtonEl.style.display =\n",
              "        google.colab.kernel.accessAllowed ? 'block' : 'none';\n",
              "    })();\n",
              "  </script>\n",
              "</div>\n",
              "\n",
              "  <div id=\"id_d34baa0f-2a83-45a0-842c-11707735b5da\">\n",
              "    <style>\n",
              "      .colab-df-generate {\n",
              "        background-color: #E8F0FE;\n",
              "        border: none;\n",
              "        border-radius: 50%;\n",
              "        cursor: pointer;\n",
              "        display: none;\n",
              "        fill: #1967D2;\n",
              "        height: 32px;\n",
              "        padding: 0 0 0 0;\n",
              "        width: 32px;\n",
              "      }\n",
              "\n",
              "      .colab-df-generate:hover {\n",
              "        background-color: #E2EBFA;\n",
              "        box-shadow: 0px 1px 2px rgba(60, 64, 67, 0.3), 0px 1px 3px 1px rgba(60, 64, 67, 0.15);\n",
              "        fill: #174EA6;\n",
              "      }\n",
              "\n",
              "      [theme=dark] .colab-df-generate {\n",
              "        background-color: #3B4455;\n",
              "        fill: #D2E3FC;\n",
              "      }\n",
              "\n",
              "      [theme=dark] .colab-df-generate:hover {\n",
              "        background-color: #434B5C;\n",
              "        box-shadow: 0px 1px 3px 1px rgba(0, 0, 0, 0.15);\n",
              "        filter: drop-shadow(0px 1px 2px rgba(0, 0, 0, 0.3));\n",
              "        fill: #FFFFFF;\n",
              "      }\n",
              "    </style>\n",
              "    <button class=\"colab-df-generate\" onclick=\"generateWithVariable('euclidean_df')\"\n",
              "            title=\"Generate code using this dataframe.\"\n",
              "            style=\"display:none;\">\n",
              "\n",
              "  <svg xmlns=\"http://www.w3.org/2000/svg\" height=\"24px\"viewBox=\"0 0 24 24\"\n",
              "       width=\"24px\">\n",
              "    <path d=\"M7,19H8.4L18.45,9,17,7.55,7,17.6ZM5,21V16.75L18.45,3.32a2,2,0,0,1,2.83,0l1.4,1.43a1.91,1.91,0,0,1,.58,1.4,1.91,1.91,0,0,1-.58,1.4L9.25,21ZM18.45,9,17,7.55Zm-12,3A5.31,5.31,0,0,0,4.9,8.1,5.31,5.31,0,0,0,1,6.5,5.31,5.31,0,0,0,4.9,4.9,5.31,5.31,0,0,0,6.5,1,5.31,5.31,0,0,0,8.1,4.9,5.31,5.31,0,0,0,12,6.5,5.46,5.46,0,0,0,6.5,12Z\"/>\n",
              "  </svg>\n",
              "    </button>\n",
              "    <script>\n",
              "      (() => {\n",
              "      const buttonEl =\n",
              "        document.querySelector('#id_d34baa0f-2a83-45a0-842c-11707735b5da button.colab-df-generate');\n",
              "      buttonEl.style.display =\n",
              "        google.colab.kernel.accessAllowed ? 'block' : 'none';\n",
              "\n",
              "      buttonEl.onclick = () => {\n",
              "        google.colab.notebook.generateWithVariable('euclidean_df');\n",
              "      }\n",
              "      })();\n",
              "    </script>\n",
              "  </div>\n",
              "\n",
              "    </div>\n",
              "  </div>\n"
            ],
            "application/vnd.google.colaboratory.intrinsic+json": {
              "type": "dataframe",
              "variable_name": "euclidean_df",
              "summary": "{\n  \"name\": \"euclidean_df\",\n  \"rows\": 8,\n  \"fields\": [\n    {\n      \"column\": \"Node 0\",\n      \"properties\": {\n        \"dtype\": \"number\",\n        \"std\": 17.104336790163256,\n        \"min\": 0.0,\n        \"max\": 53.118409241202365,\n        \"num_unique_values\": 7,\n        \"samples\": [\n          0.0,\n          17.864709569518762,\n          30.6123560457166\n        ],\n        \"semantic_type\": \"\",\n        \"description\": \"\"\n      }\n    },\n    {\n      \"column\": \"Node 1\",\n      \"properties\": {\n        \"dtype\": \"number\",\n        \"std\": 13.836969995148067,\n        \"min\": 0.0,\n        \"max\": 39.53628417186544,\n        \"num_unique_values\": 7,\n        \"samples\": [\n          17.864709569518762,\n          0.0,\n          18.963684840116496\n        ],\n        \"semantic_type\": \"\",\n        \"description\": \"\"\n      }\n    },\n    {\n      \"column\": \"Node 2\",\n      \"properties\": {\n        \"dtype\": \"number\",\n        \"std\": 18.232506696757895,\n        \"min\": 0.0,\n        \"max\": 60.040816312092375,\n        \"num_unique_values\": 7,\n        \"samples\": [\n          14.306129268590196,\n          20.562852490057235,\n          38.62182179609825\n        ],\n        \"semantic_type\": \"\",\n        \"description\": \"\"\n      }\n    },\n    {\n      \"column\": \"Node 3\",\n      \"properties\": {\n        \"dtype\": \"number\",\n        \"std\": 23.083484249260206,\n        \"min\": 0.0,\n        \"max\": 73.15438326268003,\n        \"num_unique_values\": 7,\n        \"samples\": [\n          20.86937184518091,\n          38.42079008870474,\n          50.70444774141507\n        ],\n        \"semantic_type\": \"\",\n        \"description\": \"\"\n      }\n    },\n    {\n      \"column\": \"Node 4\",\n      \"properties\": {\n        \"dtype\": \"number\",\n        \"std\": 24.46777284704637,\n        \"min\": 0.0,\n        \"max\": 73.15438326268003,\n        \"num_unique_values\": 7,\n        \"samples\": [\n          53.118409241202365,\n          39.53628417186544,\n          22.52093964107229\n        ],\n        \"semantic_type\": \"\",\n        \"description\": \"\"\n      }\n    },\n    {\n      \"column\": \"Node 5\",\n      \"properties\": {\n        \"dtype\": \"number\",\n        \"std\": 16.134741790920383,\n        \"min\": 0.0,\n        \"max\": 50.70444774141507,\n        \"num_unique_values\": 7,\n        \"samples\": [\n          30.6123560457166,\n          18.963684840116496,\n          0.0\n        ],\n        \"semantic_type\": \"\",\n        \"description\": \"\"\n      }\n    },\n    {\n      \"column\": \"Node 6\",\n      \"properties\": {\n        \"dtype\": \"number\",\n        \"std\": 20.767274508063316,\n        \"min\": 0.0,\n        \"max\": 67.11526899791612,\n        \"num_unique_values\": 7,\n        \"samples\": [\n          21.12842957644126,\n          38.22932528265394,\n          45.541762073760715\n        ],\n        \"semantic_type\": \"\",\n        \"description\": \"\"\n      }\n    },\n    {\n      \"column\": \"Node 7\",\n      \"properties\": {\n        \"dtype\": \"number\",\n        \"std\": 17.104336790163256,\n        \"min\": 0.0,\n        \"max\": 53.118409241202365,\n        \"num_unique_values\": 7,\n        \"samples\": [\n          0.0,\n          17.864709569518762,\n          30.6123560457166\n        ],\n        \"semantic_type\": \"\",\n        \"description\": \"\"\n      }\n    }\n  ]\n}"
            }
          },
          "metadata": {},
          "execution_count": 16
        }
      ]
    },
    {
      "cell_type": "code",
      "source": [
        "manhattan_df"
      ],
      "metadata": {
        "colab": {
          "base_uri": "https://localhost:8080/",
          "height": 300
        },
        "id": "knayACMWslSq",
        "outputId": "fd29a1f5-b8b8-4bdf-dd5c-c45c765e009d"
      },
      "execution_count": 17,
      "outputs": [
        {
          "output_type": "execute_result",
          "data": {
            "text/plain": [
              "           Node 0     Node 1     Node 2      Node 3      Node 4     Node 5  \\\n",
              "Node 0   0.000000  22.425606  19.445396   28.780993   74.659710  42.920598   \n",
              "Node 1  22.425606   0.000000  28.011951   51.206598   52.234105  20.494993   \n",
              "Node 2  19.445396  28.011951   0.000000   25.981130   80.246056  48.506943   \n",
              "Node 3  28.780993  51.206598  25.981130    0.000000  103.440703  71.701591   \n",
              "Node 4  74.659710  52.234105  80.246056  103.440703    0.000000  31.739112   \n",
              "Node 5  42.920598  20.494993  48.506943   71.701591   31.739112   0.000000   \n",
              "Node 6  22.963833  41.543227  42.409229   16.428099   93.777332  62.038220   \n",
              "Node 7   0.000000  22.425606  19.445396   28.780993   74.659710  42.920598   \n",
              "\n",
              "           Node 6     Node 7  \n",
              "Node 0  22.963833   0.000000  \n",
              "Node 1  41.543227  22.425606  \n",
              "Node 2  42.409229  19.445396  \n",
              "Node 3  16.428099  28.780993  \n",
              "Node 4  93.777332  74.659710  \n",
              "Node 5  62.038220  42.920598  \n",
              "Node 6   0.000000  22.963833  \n",
              "Node 7  22.963833   0.000000  "
            ],
            "text/html": [
              "\n",
              "  <div id=\"df-e2ae6bc7-7d7c-45d2-bf23-f2ad8fb46985\" class=\"colab-df-container\">\n",
              "    <div>\n",
              "<style scoped>\n",
              "    .dataframe tbody tr th:only-of-type {\n",
              "        vertical-align: middle;\n",
              "    }\n",
              "\n",
              "    .dataframe tbody tr th {\n",
              "        vertical-align: top;\n",
              "    }\n",
              "\n",
              "    .dataframe thead th {\n",
              "        text-align: right;\n",
              "    }\n",
              "</style>\n",
              "<table border=\"1\" class=\"dataframe\">\n",
              "  <thead>\n",
              "    <tr style=\"text-align: right;\">\n",
              "      <th></th>\n",
              "      <th>Node 0</th>\n",
              "      <th>Node 1</th>\n",
              "      <th>Node 2</th>\n",
              "      <th>Node 3</th>\n",
              "      <th>Node 4</th>\n",
              "      <th>Node 5</th>\n",
              "      <th>Node 6</th>\n",
              "      <th>Node 7</th>\n",
              "    </tr>\n",
              "  </thead>\n",
              "  <tbody>\n",
              "    <tr>\n",
              "      <th>Node 0</th>\n",
              "      <td>0.000000</td>\n",
              "      <td>22.425606</td>\n",
              "      <td>19.445396</td>\n",
              "      <td>28.780993</td>\n",
              "      <td>74.659710</td>\n",
              "      <td>42.920598</td>\n",
              "      <td>22.963833</td>\n",
              "      <td>0.000000</td>\n",
              "    </tr>\n",
              "    <tr>\n",
              "      <th>Node 1</th>\n",
              "      <td>22.425606</td>\n",
              "      <td>0.000000</td>\n",
              "      <td>28.011951</td>\n",
              "      <td>51.206598</td>\n",
              "      <td>52.234105</td>\n",
              "      <td>20.494993</td>\n",
              "      <td>41.543227</td>\n",
              "      <td>22.425606</td>\n",
              "    </tr>\n",
              "    <tr>\n",
              "      <th>Node 2</th>\n",
              "      <td>19.445396</td>\n",
              "      <td>28.011951</td>\n",
              "      <td>0.000000</td>\n",
              "      <td>25.981130</td>\n",
              "      <td>80.246056</td>\n",
              "      <td>48.506943</td>\n",
              "      <td>42.409229</td>\n",
              "      <td>19.445396</td>\n",
              "    </tr>\n",
              "    <tr>\n",
              "      <th>Node 3</th>\n",
              "      <td>28.780993</td>\n",
              "      <td>51.206598</td>\n",
              "      <td>25.981130</td>\n",
              "      <td>0.000000</td>\n",
              "      <td>103.440703</td>\n",
              "      <td>71.701591</td>\n",
              "      <td>16.428099</td>\n",
              "      <td>28.780993</td>\n",
              "    </tr>\n",
              "    <tr>\n",
              "      <th>Node 4</th>\n",
              "      <td>74.659710</td>\n",
              "      <td>52.234105</td>\n",
              "      <td>80.246056</td>\n",
              "      <td>103.440703</td>\n",
              "      <td>0.000000</td>\n",
              "      <td>31.739112</td>\n",
              "      <td>93.777332</td>\n",
              "      <td>74.659710</td>\n",
              "    </tr>\n",
              "    <tr>\n",
              "      <th>Node 5</th>\n",
              "      <td>42.920598</td>\n",
              "      <td>20.494993</td>\n",
              "      <td>48.506943</td>\n",
              "      <td>71.701591</td>\n",
              "      <td>31.739112</td>\n",
              "      <td>0.000000</td>\n",
              "      <td>62.038220</td>\n",
              "      <td>42.920598</td>\n",
              "    </tr>\n",
              "    <tr>\n",
              "      <th>Node 6</th>\n",
              "      <td>22.963833</td>\n",
              "      <td>41.543227</td>\n",
              "      <td>42.409229</td>\n",
              "      <td>16.428099</td>\n",
              "      <td>93.777332</td>\n",
              "      <td>62.038220</td>\n",
              "      <td>0.000000</td>\n",
              "      <td>22.963833</td>\n",
              "    </tr>\n",
              "    <tr>\n",
              "      <th>Node 7</th>\n",
              "      <td>0.000000</td>\n",
              "      <td>22.425606</td>\n",
              "      <td>19.445396</td>\n",
              "      <td>28.780993</td>\n",
              "      <td>74.659710</td>\n",
              "      <td>42.920598</td>\n",
              "      <td>22.963833</td>\n",
              "      <td>0.000000</td>\n",
              "    </tr>\n",
              "  </tbody>\n",
              "</table>\n",
              "</div>\n",
              "    <div class=\"colab-df-buttons\">\n",
              "\n",
              "  <div class=\"colab-df-container\">\n",
              "    <button class=\"colab-df-convert\" onclick=\"convertToInteractive('df-e2ae6bc7-7d7c-45d2-bf23-f2ad8fb46985')\"\n",
              "            title=\"Convert this dataframe to an interactive table.\"\n",
              "            style=\"display:none;\">\n",
              "\n",
              "  <svg xmlns=\"http://www.w3.org/2000/svg\" height=\"24px\" viewBox=\"0 -960 960 960\">\n",
              "    <path d=\"M120-120v-720h720v720H120Zm60-500h600v-160H180v160Zm220 220h160v-160H400v160Zm0 220h160v-160H400v160ZM180-400h160v-160H180v160Zm440 0h160v-160H620v160ZM180-180h160v-160H180v160Zm440 0h160v-160H620v160Z\"/>\n",
              "  </svg>\n",
              "    </button>\n",
              "\n",
              "  <style>\n",
              "    .colab-df-container {\n",
              "      display:flex;\n",
              "      gap: 12px;\n",
              "    }\n",
              "\n",
              "    .colab-df-convert {\n",
              "      background-color: #E8F0FE;\n",
              "      border: none;\n",
              "      border-radius: 50%;\n",
              "      cursor: pointer;\n",
              "      display: none;\n",
              "      fill: #1967D2;\n",
              "      height: 32px;\n",
              "      padding: 0 0 0 0;\n",
              "      width: 32px;\n",
              "    }\n",
              "\n",
              "    .colab-df-convert:hover {\n",
              "      background-color: #E2EBFA;\n",
              "      box-shadow: 0px 1px 2px rgba(60, 64, 67, 0.3), 0px 1px 3px 1px rgba(60, 64, 67, 0.15);\n",
              "      fill: #174EA6;\n",
              "    }\n",
              "\n",
              "    .colab-df-buttons div {\n",
              "      margin-bottom: 4px;\n",
              "    }\n",
              "\n",
              "    [theme=dark] .colab-df-convert {\n",
              "      background-color: #3B4455;\n",
              "      fill: #D2E3FC;\n",
              "    }\n",
              "\n",
              "    [theme=dark] .colab-df-convert:hover {\n",
              "      background-color: #434B5C;\n",
              "      box-shadow: 0px 1px 3px 1px rgba(0, 0, 0, 0.15);\n",
              "      filter: drop-shadow(0px 1px 2px rgba(0, 0, 0, 0.3));\n",
              "      fill: #FFFFFF;\n",
              "    }\n",
              "  </style>\n",
              "\n",
              "    <script>\n",
              "      const buttonEl =\n",
              "        document.querySelector('#df-e2ae6bc7-7d7c-45d2-bf23-f2ad8fb46985 button.colab-df-convert');\n",
              "      buttonEl.style.display =\n",
              "        google.colab.kernel.accessAllowed ? 'block' : 'none';\n",
              "\n",
              "      async function convertToInteractive(key) {\n",
              "        const element = document.querySelector('#df-e2ae6bc7-7d7c-45d2-bf23-f2ad8fb46985');\n",
              "        const dataTable =\n",
              "          await google.colab.kernel.invokeFunction('convertToInteractive',\n",
              "                                                    [key], {});\n",
              "        if (!dataTable) return;\n",
              "\n",
              "        const docLinkHtml = 'Like what you see? Visit the ' +\n",
              "          '<a target=\"_blank\" href=https://colab.research.google.com/notebooks/data_table.ipynb>data table notebook</a>'\n",
              "          + ' to learn more about interactive tables.';\n",
              "        element.innerHTML = '';\n",
              "        dataTable['output_type'] = 'display_data';\n",
              "        await google.colab.output.renderOutput(dataTable, element);\n",
              "        const docLink = document.createElement('div');\n",
              "        docLink.innerHTML = docLinkHtml;\n",
              "        element.appendChild(docLink);\n",
              "      }\n",
              "    </script>\n",
              "  </div>\n",
              "\n",
              "\n",
              "<div id=\"df-e2bbe763-3d5a-443c-9c23-73f0ecd3382f\">\n",
              "  <button class=\"colab-df-quickchart\" onclick=\"quickchart('df-e2bbe763-3d5a-443c-9c23-73f0ecd3382f')\"\n",
              "            title=\"Suggest charts\"\n",
              "            style=\"display:none;\">\n",
              "\n",
              "<svg xmlns=\"http://www.w3.org/2000/svg\" height=\"24px\"viewBox=\"0 0 24 24\"\n",
              "     width=\"24px\">\n",
              "    <g>\n",
              "        <path d=\"M19 3H5c-1.1 0-2 .9-2 2v14c0 1.1.9 2 2 2h14c1.1 0 2-.9 2-2V5c0-1.1-.9-2-2-2zM9 17H7v-7h2v7zm4 0h-2V7h2v10zm4 0h-2v-4h2v4z\"/>\n",
              "    </g>\n",
              "</svg>\n",
              "  </button>\n",
              "\n",
              "<style>\n",
              "  .colab-df-quickchart {\n",
              "      --bg-color: #E8F0FE;\n",
              "      --fill-color: #1967D2;\n",
              "      --hover-bg-color: #E2EBFA;\n",
              "      --hover-fill-color: #174EA6;\n",
              "      --disabled-fill-color: #AAA;\n",
              "      --disabled-bg-color: #DDD;\n",
              "  }\n",
              "\n",
              "  [theme=dark] .colab-df-quickchart {\n",
              "      --bg-color: #3B4455;\n",
              "      --fill-color: #D2E3FC;\n",
              "      --hover-bg-color: #434B5C;\n",
              "      --hover-fill-color: #FFFFFF;\n",
              "      --disabled-bg-color: #3B4455;\n",
              "      --disabled-fill-color: #666;\n",
              "  }\n",
              "\n",
              "  .colab-df-quickchart {\n",
              "    background-color: var(--bg-color);\n",
              "    border: none;\n",
              "    border-radius: 50%;\n",
              "    cursor: pointer;\n",
              "    display: none;\n",
              "    fill: var(--fill-color);\n",
              "    height: 32px;\n",
              "    padding: 0;\n",
              "    width: 32px;\n",
              "  }\n",
              "\n",
              "  .colab-df-quickchart:hover {\n",
              "    background-color: var(--hover-bg-color);\n",
              "    box-shadow: 0 1px 2px rgba(60, 64, 67, 0.3), 0 1px 3px 1px rgba(60, 64, 67, 0.15);\n",
              "    fill: var(--button-hover-fill-color);\n",
              "  }\n",
              "\n",
              "  .colab-df-quickchart-complete:disabled,\n",
              "  .colab-df-quickchart-complete:disabled:hover {\n",
              "    background-color: var(--disabled-bg-color);\n",
              "    fill: var(--disabled-fill-color);\n",
              "    box-shadow: none;\n",
              "  }\n",
              "\n",
              "  .colab-df-spinner {\n",
              "    border: 2px solid var(--fill-color);\n",
              "    border-color: transparent;\n",
              "    border-bottom-color: var(--fill-color);\n",
              "    animation:\n",
              "      spin 1s steps(1) infinite;\n",
              "  }\n",
              "\n",
              "  @keyframes spin {\n",
              "    0% {\n",
              "      border-color: transparent;\n",
              "      border-bottom-color: var(--fill-color);\n",
              "      border-left-color: var(--fill-color);\n",
              "    }\n",
              "    20% {\n",
              "      border-color: transparent;\n",
              "      border-left-color: var(--fill-color);\n",
              "      border-top-color: var(--fill-color);\n",
              "    }\n",
              "    30% {\n",
              "      border-color: transparent;\n",
              "      border-left-color: var(--fill-color);\n",
              "      border-top-color: var(--fill-color);\n",
              "      border-right-color: var(--fill-color);\n",
              "    }\n",
              "    40% {\n",
              "      border-color: transparent;\n",
              "      border-right-color: var(--fill-color);\n",
              "      border-top-color: var(--fill-color);\n",
              "    }\n",
              "    60% {\n",
              "      border-color: transparent;\n",
              "      border-right-color: var(--fill-color);\n",
              "    }\n",
              "    80% {\n",
              "      border-color: transparent;\n",
              "      border-right-color: var(--fill-color);\n",
              "      border-bottom-color: var(--fill-color);\n",
              "    }\n",
              "    90% {\n",
              "      border-color: transparent;\n",
              "      border-bottom-color: var(--fill-color);\n",
              "    }\n",
              "  }\n",
              "</style>\n",
              "\n",
              "  <script>\n",
              "    async function quickchart(key) {\n",
              "      const quickchartButtonEl =\n",
              "        document.querySelector('#' + key + ' button');\n",
              "      quickchartButtonEl.disabled = true;  // To prevent multiple clicks.\n",
              "      quickchartButtonEl.classList.add('colab-df-spinner');\n",
              "      try {\n",
              "        const charts = await google.colab.kernel.invokeFunction(\n",
              "            'suggestCharts', [key], {});\n",
              "      } catch (error) {\n",
              "        console.error('Error during call to suggestCharts:', error);\n",
              "      }\n",
              "      quickchartButtonEl.classList.remove('colab-df-spinner');\n",
              "      quickchartButtonEl.classList.add('colab-df-quickchart-complete');\n",
              "    }\n",
              "    (() => {\n",
              "      let quickchartButtonEl =\n",
              "        document.querySelector('#df-e2bbe763-3d5a-443c-9c23-73f0ecd3382f button');\n",
              "      quickchartButtonEl.style.display =\n",
              "        google.colab.kernel.accessAllowed ? 'block' : 'none';\n",
              "    })();\n",
              "  </script>\n",
              "</div>\n",
              "\n",
              "  <div id=\"id_69b7fa48-5c4f-4c19-b737-a0d05a836ecc\">\n",
              "    <style>\n",
              "      .colab-df-generate {\n",
              "        background-color: #E8F0FE;\n",
              "        border: none;\n",
              "        border-radius: 50%;\n",
              "        cursor: pointer;\n",
              "        display: none;\n",
              "        fill: #1967D2;\n",
              "        height: 32px;\n",
              "        padding: 0 0 0 0;\n",
              "        width: 32px;\n",
              "      }\n",
              "\n",
              "      .colab-df-generate:hover {\n",
              "        background-color: #E2EBFA;\n",
              "        box-shadow: 0px 1px 2px rgba(60, 64, 67, 0.3), 0px 1px 3px 1px rgba(60, 64, 67, 0.15);\n",
              "        fill: #174EA6;\n",
              "      }\n",
              "\n",
              "      [theme=dark] .colab-df-generate {\n",
              "        background-color: #3B4455;\n",
              "        fill: #D2E3FC;\n",
              "      }\n",
              "\n",
              "      [theme=dark] .colab-df-generate:hover {\n",
              "        background-color: #434B5C;\n",
              "        box-shadow: 0px 1px 3px 1px rgba(0, 0, 0, 0.15);\n",
              "        filter: drop-shadow(0px 1px 2px rgba(0, 0, 0, 0.3));\n",
              "        fill: #FFFFFF;\n",
              "      }\n",
              "    </style>\n",
              "    <button class=\"colab-df-generate\" onclick=\"generateWithVariable('manhattan_df')\"\n",
              "            title=\"Generate code using this dataframe.\"\n",
              "            style=\"display:none;\">\n",
              "\n",
              "  <svg xmlns=\"http://www.w3.org/2000/svg\" height=\"24px\"viewBox=\"0 0 24 24\"\n",
              "       width=\"24px\">\n",
              "    <path d=\"M7,19H8.4L18.45,9,17,7.55,7,17.6ZM5,21V16.75L18.45,3.32a2,2,0,0,1,2.83,0l1.4,1.43a1.91,1.91,0,0,1,.58,1.4,1.91,1.91,0,0,1-.58,1.4L9.25,21ZM18.45,9,17,7.55Zm-12,3A5.31,5.31,0,0,0,4.9,8.1,5.31,5.31,0,0,0,1,6.5,5.31,5.31,0,0,0,4.9,4.9,5.31,5.31,0,0,0,6.5,1,5.31,5.31,0,0,0,8.1,4.9,5.31,5.31,0,0,0,12,6.5,5.46,5.46,0,0,0,6.5,12Z\"/>\n",
              "  </svg>\n",
              "    </button>\n",
              "    <script>\n",
              "      (() => {\n",
              "      const buttonEl =\n",
              "        document.querySelector('#id_69b7fa48-5c4f-4c19-b737-a0d05a836ecc button.colab-df-generate');\n",
              "      buttonEl.style.display =\n",
              "        google.colab.kernel.accessAllowed ? 'block' : 'none';\n",
              "\n",
              "      buttonEl.onclick = () => {\n",
              "        google.colab.notebook.generateWithVariable('manhattan_df');\n",
              "      }\n",
              "      })();\n",
              "    </script>\n",
              "  </div>\n",
              "\n",
              "    </div>\n",
              "  </div>\n"
            ],
            "application/vnd.google.colaboratory.intrinsic+json": {
              "type": "dataframe",
              "variable_name": "manhattan_df",
              "summary": "{\n  \"name\": \"manhattan_df\",\n  \"rows\": 8,\n  \"fields\": [\n    {\n      \"column\": \"Node 0\",\n      \"properties\": {\n        \"dtype\": \"number\",\n        \"std\": 24.135002765784392,\n        \"min\": 0.0,\n        \"max\": 74.65971041203463,\n        \"num_unique_values\": 7,\n        \"samples\": [\n          0.0,\n          22.425605551984177,\n          42.92059807748549\n        ],\n        \"semantic_type\": \"\",\n        \"description\": \"\"\n      }\n    },\n    {\n      \"column\": \"Node 1\",\n      \"properties\": {\n        \"dtype\": \"number\",\n        \"std\": 17.67168090910024,\n        \"min\": 0.0,\n        \"max\": 52.23410486005046,\n        \"num_unique_values\": 7,\n        \"samples\": [\n          22.425605551984177,\n          0.0,\n          20.49499252550131\n        ],\n        \"semantic_type\": \"\",\n        \"description\": \"\"\n      }\n    },\n    {\n      \"column\": \"Node 2\",\n      \"properties\": {\n        \"dtype\": \"number\",\n        \"std\": 24.177286075866416,\n        \"min\": 0.0,\n        \"max\": 80.24605554030029,\n        \"num_unique_values\": 7,\n        \"samples\": [\n          19.445395789418342,\n          28.01195068024984,\n          48.50694320575115\n        ],\n        \"semantic_type\": \"\",\n        \"description\": \"\"\n      }\n    },\n    {\n      \"column\": \"Node 3\",\n      \"properties\": {\n        \"dtype\": \"number\",\n        \"std\": 33.28277985224448,\n        \"min\": 0.0,\n        \"max\": 103.44070311946388,\n        \"num_unique_values\": 7,\n        \"samples\": [\n          28.78099270742925,\n          51.206598259413425,\n          71.70159078491474\n        ],\n        \"semantic_type\": \"\",\n        \"description\": \"\"\n      }\n    },\n    {\n      \"column\": \"Node 4\",\n      \"properties\": {\n        \"dtype\": \"number\",\n        \"std\": 34.243789166942555,\n        \"min\": 0.0,\n        \"max\": 103.44070311946388,\n        \"num_unique_values\": 7,\n        \"samples\": [\n          74.65971041203463,\n          52.23410486005046,\n          31.739112334549148\n        ],\n        \"semantic_type\": \"\",\n        \"description\": \"\"\n      }\n    },\n    {\n      \"column\": \"Node 5\",\n      \"properties\": {\n        \"dtype\": \"number\",\n        \"std\": 22.7683253196477,\n        \"min\": 0.0,\n        \"max\": 71.70159078491474,\n        \"num_unique_values\": 7,\n        \"samples\": [\n          42.92059807748549,\n          20.49499252550131,\n          0.0\n        ],\n        \"semantic_type\": \"\",\n        \"description\": \"\"\n      }\n    },\n    {\n      \"column\": \"Node 6\",\n      \"properties\": {\n        \"dtype\": \"number\",\n        \"std\": 29.476436216007194,\n        \"min\": 0.0,\n        \"max\": 93.77733188739802,\n        \"num_unique_values\": 7,\n        \"samples\": [\n          22.963832908684907,\n          41.54322702734757,\n          62.03821955284888\n        ],\n        \"semantic_type\": \"\",\n        \"description\": \"\"\n      }\n    },\n    {\n      \"column\": \"Node 7\",\n      \"properties\": {\n        \"dtype\": \"number\",\n        \"std\": 24.135002765784392,\n        \"min\": 0.0,\n        \"max\": 74.65971041203463,\n        \"num_unique_values\": 7,\n        \"samples\": [\n          0.0,\n          22.425605551984177,\n          42.92059807748549\n        ],\n        \"semantic_type\": \"\",\n        \"description\": \"\"\n      }\n    }\n  ]\n}"
            }
          },
          "metadata": {},
          "execution_count": 17
        }
      ]
    },
    {
      "cell_type": "code",
      "source": [
        "d_t = manhattan_df  # Travel times for trucks => will change into a matrix of Manhttan distances\n",
        "d_u = euclidean_df  # Travel times for UAVs => will change into a matrix of  Euclidean distances"
      ],
      "metadata": {
        "id": "JPvOCskKsm6i"
      },
      "execution_count": 18,
      "outputs": []
    },
    {
      "cell_type": "markdown",
      "source": [
        "# Model"
      ],
      "metadata": {
        "id": "THUH9Q4TsdVn"
      }
    },
    {
      "cell_type": "code",
      "source": [
        "env = gp.Env(params=params)\n",
        "m = gp.Model(env=env)"
      ],
      "metadata": {
        "colab": {
          "base_uri": "https://localhost:8080/"
        },
        "id": "mVKmqLEtspMN",
        "outputId": "9ced296f-2b80-4f33-ba57-511b8d27cc65"
      },
      "execution_count": 19,
      "outputs": [
        {
          "output_type": "stream",
          "name": "stdout",
          "text": [
            "Set parameter WLSAccessID\n",
            "Set parameter WLSSecret\n",
            "Set parameter LicenseID to value 2536865\n",
            "Academic license 2536865 - for non-commercial use only - registered to rt___@stevens.edu\n"
          ]
        }
      ]
    },
    {
      "cell_type": "markdown",
      "source": [
        "# Indices"
      ],
      "metadata": {
        "id": "j0UieaS_tOpd"
      }
    },
    {
      "cell_type": "markdown",
      "source": [
        "$i, j, h, s, g, v$  Equivalently used indices for the nodes of the network (aid recipients and depot).\n",
        "\n",
        "$t$  Index of trucks."
      ],
      "metadata": {
        "id": "3gZM6sMLtSTa"
      }
    },
    {
      "cell_type": "markdown",
      "source": [
        "# Variables"
      ],
      "metadata": {
        "id": "lU_hb4cUtUH3"
      }
    },
    {
      "cell_type": "markdown",
      "source": [
        "$x^{t}_{ij}$ 1 if truck $t$ moves from node $i$ to node $j$; 0 otherwise. $(i,j) \\in A_t, t \\in T$.\n",
        "\n",
        "$y^{t}_{ijs}$ 1 if UAV $u$ moves from node $i$ to node $j$ and meet it's truck on node $s$; 0 otherwise. $(i,j) \\in A_U$ s in for $t \\in T$.\n",
        "\n",
        "$z^{t}_{i}$ Position of node $i$ in the truck $t$ route. $i \\in A_E$ for $t \\in T$.\n",
        "\n",
        "$r^{t}_{i}$ Arrival time of truck $t$ at node $i$. $i \\in A_E$ for $t \\in T$.\n",
        "\n",
        "$p^{t}_{i}$ Departure time of truck $t$ from node $i$. $i \\in A_E$ for $t \\in T$."
      ],
      "metadata": {
        "id": "jSH-9RBJtVZw"
      }
    },
    {
      "cell_type": "code",
      "source": [
        "x = m.addVars(A_T, A_T, T, vtype=GRB.BINARY, name=\"from i to j truck t travels\") #1 if truck $w$ moves from node $i$ to node $j$; 0 otherwise. $(i,j) \\in C_0$ for $w \\in W$.\n",
        "y = m.addVars(A_U, A_U, A_T, T, vtype=GRB.BINARY, name=\"from i to j uav u travels\") #1 if UAV $u$ travels from node $i$ to visit node $j$ and returns to the truck $w$ at node $s$; 0 otherwise. $(i,j,s) \\in C_0$ for $w \\in W$ and $u \\in U$.\n",
        "z_t = m.addVars(A_T[1:-1],T, vtype=GRB.INTEGER,lb=1.0,ub= a-1, name=\"truck order\") #Position of node $i$ in the truck $w$ route. $i \\in C_0$ for $w \\in W$.\n",
        "z_u = m.addVars(A_U[1:-1],T, vtype=GRB.INTEGER,lb=1.0,ub= b-1, name=\"uav order\") #Position of node $i$ in the uav $t$ route. $i \\in A_T$ for $t \\in T$.\n",
        "r_t = m.addVars(A_T,T, vtype=GRB.CONTINUOUS, lb=0.0, name=\"arrival time truck\") #Arrival time of truck $w$ at node $i$. $i \\in C_0$ for $w \\in W$.\n",
        "p_t = m.addVars(A_T, T, vtype=GRB.CONTINUOUS, lb=0.0, name=\"departure time truck\") #Departure time of truck $w$ from node $i$. $i \\in C_0$ for $w \\in W$.\n",
        "r_u = m.addVars(A_U, T, vtype=GRB.CONTINUOUS, lb=0.0, name=\"arrival time uav\")\n",
        "p_u = m.addVars(A_U, T, vtype=GRB.CONTINUOUS, lb=0.0, name=\"departure time uav\")"
      ],
      "metadata": {
        "id": "dcz5E-j0sqhL"
      },
      "execution_count": 20,
      "outputs": []
    },
    {
      "cell_type": "markdown",
      "source": [
        "# Objective Function"
      ],
      "metadata": {
        "id": "iWnMEaV-tpc7"
      }
    },
    {
      "cell_type": "markdown",
      "source": [
        "Min $\\sum_{i \\in A_T} \\sum_{t \\in T} r^{t}_{i}$ (1)\n"
      ],
      "metadata": {
        "id": "tYVHH5hytrYP"
      }
    },
    {
      "cell_type": "code",
      "source": [
        "m.setObjective(gp.quicksum(r_t[i, t] for i in A_T[1:-1] for t in T) + gp.quicksum(r_u[i, u] for i in A_U for u in T), GRB.MINIMIZE)"
      ],
      "metadata": {
        "id": "F_5ym-B7tat1"
      },
      "execution_count": 21,
      "outputs": []
    },
    {
      "cell_type": "markdown",
      "source": [],
      "metadata": {
        "id": "gFPN7MgDo64H"
      }
    },
    {
      "cell_type": "markdown",
      "source": [
        "# Constraints"
      ],
      "metadata": {
        "id": "RB_g4lgMFVYr"
      }
    },
    {
      "cell_type": "markdown",
      "source": [
        "$\\sum_{j \\in A_T} x^{t}_{0j} = 1, \\forall t \\in T$  (2)"
      ],
      "metadata": {
        "id": "No8z0ByRty-W"
      }
    },
    {
      "cell_type": "code",
      "source": [
        "m.addConstrs((gp.quicksum(x[0, j, t] for j in A_T[1:-1]) == 1 for t in T), \"DepartsFromDepot\")"
      ],
      "metadata": {
        "colab": {
          "base_uri": "https://localhost:8080/"
        },
        "id": "3MUsg3estb6N",
        "outputId": "b01988b7-970e-42a5-97ba-f75f7f2c4eed"
      },
      "execution_count": 22,
      "outputs": [
        {
          "output_type": "execute_result",
          "data": {
            "text/plain": [
              "{1: <gurobi.Constr *Awaiting Model Update*>}"
            ]
          },
          "metadata": {},
          "execution_count": 22
        }
      ]
    },
    {
      "cell_type": "markdown",
      "source": [
        "$\\sum_{i \\in C_T} x^{t}_{i,end} = 1, \\forall t \\in T$ (3)"
      ],
      "metadata": {
        "id": "sKBVnAjatzx4"
      }
    },
    {
      "cell_type": "code",
      "source": [
        "m.addConstrs((gp.quicksum(x[i, b, t] for i in A_T[1:-1]) == 1 for t in T), \"ReturnsToDepot\")"
      ],
      "metadata": {
        "colab": {
          "base_uri": "https://localhost:8080/"
        },
        "id": "VCXnjPJBtdBb",
        "outputId": "68a8066a-7d1a-4341-eb16-72dc0eeeaaf5"
      },
      "execution_count": 23,
      "outputs": [
        {
          "output_type": "execute_result",
          "data": {
            "text/plain": [
              "{1: <gurobi.Constr *Awaiting Model Update*>}"
            ]
          },
          "metadata": {},
          "execution_count": 23
        }
      ]
    },
    {
      "cell_type": "markdown",
      "source": [
        "explain - truck self return ban"
      ],
      "metadata": {
        "id": "v26ohKCxIH1J"
      }
    },
    {
      "cell_type": "code",
      "source": [
        "m.addConstrs((gp.quicksum(x[i, j, t] for i in A_T for j in A_T if i == j) == 0 for t in T), \"explain - self return ban\")\n",
        "\n",
        "m.addConstrs((gp.quicksum(x[i, 0, t] for i in A_T[1:]) == 0 for t in T), \"ReturnToStartDepot ban\")\n",
        "m.addConstrs((gp.quicksum(x[b, j, t] for j in A_T[:-1]) == 0 for t in T), \"StartFromEndDepot ban\")"
      ],
      "metadata": {
        "colab": {
          "base_uri": "https://localhost:8080/"
        },
        "id": "McyFpUCpDjnR",
        "outputId": "9b122934-0ac4-47e9-945d-9bf6c63f4031"
      },
      "execution_count": 24,
      "outputs": [
        {
          "output_type": "execute_result",
          "data": {
            "text/plain": [
              "{1: <gurobi.Constr *Awaiting Model Update*>}"
            ]
          },
          "metadata": {},
          "execution_count": 24
        }
      ]
    },
    {
      "cell_type": "markdown",
      "source": [
        "explain - uav self return ban"
      ],
      "metadata": {
        "id": "W078EGWxSA_N"
      }
    },
    {
      "cell_type": "code",
      "source": [
        "m.addConstrs((gp.quicksum(y[i, j, s, t] for i in A_U[:-1] for j in A_U[1:] if i == j) == 0 for  s in A_T[1:] for t in T), \"explain - self return ban\")\n",
        "\n",
        "m.addConstrs((gp.quicksum(y[i, 0, s, t] for i in A_U[1:] ) == 0 for s in A_T[1:] for t in T), \"ReturnToStartDepot ban\")\n",
        "m.addConstrs((gp.quicksum(y[b, j, s, t] for j in A_T[:-1]) == 0 for s in A_T[1:] for t in T), \"StartFromEndDepot ban\")"
      ],
      "metadata": {
        "colab": {
          "base_uri": "https://localhost:8080/"
        },
        "id": "S3MAwUNqSBZI",
        "outputId": "166079b3-a6c2-4d73-c5e3-84e9daaa76c6"
      },
      "execution_count": 25,
      "outputs": [
        {
          "output_type": "execute_result",
          "data": {
            "text/plain": [
              "{(1, 1): <gurobi.Constr *Awaiting Model Update*>,\n",
              " (2, 1): <gurobi.Constr *Awaiting Model Update*>,\n",
              " (3, 1): <gurobi.Constr *Awaiting Model Update*>,\n",
              " (7, 1): <gurobi.Constr *Awaiting Model Update*>}"
            ]
          },
          "metadata": {},
          "execution_count": 25
        }
      ]
    },
    {
      "cell_type": "markdown",
      "source": [
        "$\\sum_{g \\in A_T \\atop g \\neq i} x^{t}_{gi} = \\sum_{j \\in A_U \\atop j \\neq i} x^{t}_{ij}, \\forall i \\in A_T, \\forall t \\in T,$ (4)"
      ],
      "metadata": {
        "id": "rfS_QQlJDyS5"
      }
    },
    {
      "cell_type": "code",
      "source": [
        "m.addConstrs((gp.quicksum(x[g, i, t] for g in A_T[:-1] if g != i) == gp.quicksum(x[i, j, t] for j in A_T[1:] if j != i) for i in A_T[1:-1] for t in T), \"FlowConservationTruck\")"
      ],
      "metadata": {
        "colab": {
          "base_uri": "https://localhost:8080/"
        },
        "id": "4d2fZmGaD2VA",
        "outputId": "4d198c24-3b9e-45f0-fe66-c0e48fb45f9d"
      },
      "execution_count": 26,
      "outputs": [
        {
          "output_type": "execute_result",
          "data": {
            "text/plain": [
              "{(1, 1): <gurobi.Constr *Awaiting Model Update*>,\n",
              " (2, 1): <gurobi.Constr *Awaiting Model Update*>,\n",
              " (3, 1): <gurobi.Constr *Awaiting Model Update*>}"
            ]
          },
          "metadata": {},
          "execution_count": 26
        }
      ]
    },
    {
      "cell_type": "code",
      "source": [
        "# m.addConstrs((gp.quicksum(x[g, i, t] for g in A_T[:-1] if g != i) == gp.quicksum(x[i, j, t] for j in A_T[1:] if j != i) for i in A_T for t in T), \"FlowConservationTruck\")"
      ],
      "metadata": {
        "id": "cHPZlisqlAN-"
      },
      "execution_count": 27,
      "outputs": []
    },
    {
      "cell_type": "markdown",
      "source": [
        "$\\sum_{i \\in A_T \\atop i \\neq j} \\sum_{t \\in T} x^{t}_{ij} + \\sum_{i \\in A_U \\atop i \\neq j} \\sum_{s \\in A_E} \\sum_{u \\in U} y^{ut}_{ijs} = 1, \\forall j \\in A_T,$ (5)\n",
        "\n",
        "\n",
        "it is only for nodes A_T. we should another one only for nodes unique for A_U (A_U - A_T)"
      ],
      "metadata": {
        "id": "-qIw8oExJKdq"
      }
    },
    {
      "cell_type": "code",
      "source": [
        "# m.addConstrs((gp.quicksum(x[i, j, t] for i in A_T[:-1] if i != j for t in T) == 1 for j in A_T[1:]), \"VisitExactOnce - Truck\")\n",
        "\n",
        "m.addConstrs((gp.quicksum(x[i, j, t] for i in A_T[:-1] if i != j for t in T) + gp.quicksum(y[i, j, s, t] for i in A_U[:-1] if i != j for s in A_T for t in T) == 1 for j in A_T[1:]), \"VisitOnce - Truck and UAV\")"
      ],
      "metadata": {
        "colab": {
          "base_uri": "https://localhost:8080/"
        },
        "id": "VCLyybkShnBM",
        "outputId": "24451bb7-b557-43c5-edd4-9b27682e3f15"
      },
      "execution_count": 28,
      "outputs": [
        {
          "output_type": "execute_result",
          "data": {
            "text/plain": [
              "{1: <gurobi.Constr *Awaiting Model Update*>,\n",
              " 2: <gurobi.Constr *Awaiting Model Update*>,\n",
              " 3: <gurobi.Constr *Awaiting Model Update*>,\n",
              " 7: <gurobi.Constr *Awaiting Model Update*>}"
            ]
          },
          "metadata": {},
          "execution_count": 28
        }
      ]
    },
    {
      "cell_type": "markdown",
      "source": [
        "it is only for nodes A_T. we should another one only for nodes unique for A_U (A_U - A_T)"
      ],
      "metadata": {
        "id": "w5gfx6OrnRuG"
      }
    },
    {
      "cell_type": "code",
      "source": [
        "m.addConstrs((gp.quicksum(y[i, j, s, t] for i in A_U[:-1] if i != j for s in A_T for t in T) == 1 for j in A_U[1:]), \"VisitOnce - UAV\")"
      ],
      "metadata": {
        "colab": {
          "base_uri": "https://localhost:8080/"
        },
        "id": "59iJF1NKnQ_W",
        "outputId": "9a13a765-96a2-478a-f74d-d16b5c7ce15d"
      },
      "execution_count": 29,
      "outputs": [
        {
          "output_type": "execute_result",
          "data": {
            "text/plain": [
              "{1: <gurobi.Constr *Awaiting Model Update*>,\n",
              " 2: <gurobi.Constr *Awaiting Model Update*>,\n",
              " 3: <gurobi.Constr *Awaiting Model Update*>,\n",
              " 4: <gurobi.Constr *Awaiting Model Update*>,\n",
              " 5: <gurobi.Constr *Awaiting Model Update*>,\n",
              " 6: <gurobi.Constr *Awaiting Model Update*>,\n",
              " 7: <gurobi.Constr *Awaiting Model Update*>}"
            ]
          },
          "metadata": {},
          "execution_count": 29
        }
      ]
    },
    {
      "cell_type": "markdown",
      "source": [
        "$\\sum_{h \\in A_T \\atop h \\neq i} x_{hi} + \\sum_{g \\in A_E \\atop g \\neq s} x_{gs} \\geq 2 \\sum_{j \\in A_U} y^{ut}_{ijs}, \\forall i \\in A_T, \\forall s \\in A_E, \\forall u \\in U,$ (6)"
      ],
      "metadata": {
        "id": "O-I2AjbjRl6O"
      }
    },
    {
      "cell_type": "code",
      "source": [
        "m.addConstrs((gp.quicksum(x[h, i, t] for h in A_T[:-1] if h != i) + gp.quicksum(x[g, s, t] for g in A_T[:-1] if g != s) >= 2 * gp.quicksum(y[i, j, s, t] for j in A_U) for i in A_T[:-1] for s in A_T[1:] for t in T))"
      ],
      "metadata": {
        "colab": {
          "base_uri": "https://localhost:8080/"
        },
        "id": "zhhkj2DNRmKP",
        "outputId": "3740d91e-9119-436b-cb20-8dbaea7faec4"
      },
      "execution_count": 30,
      "outputs": [
        {
          "output_type": "execute_result",
          "data": {
            "text/plain": [
              "{(0, 1, 1): <gurobi.Constr *Awaiting Model Update*>,\n",
              " (0, 2, 1): <gurobi.Constr *Awaiting Model Update*>,\n",
              " (0, 3, 1): <gurobi.Constr *Awaiting Model Update*>,\n",
              " (0, 7, 1): <gurobi.Constr *Awaiting Model Update*>,\n",
              " (1, 1, 1): <gurobi.Constr *Awaiting Model Update*>,\n",
              " (1, 2, 1): <gurobi.Constr *Awaiting Model Update*>,\n",
              " (1, 3, 1): <gurobi.Constr *Awaiting Model Update*>,\n",
              " (1, 7, 1): <gurobi.Constr *Awaiting Model Update*>,\n",
              " (2, 1, 1): <gurobi.Constr *Awaiting Model Update*>,\n",
              " (2, 2, 1): <gurobi.Constr *Awaiting Model Update*>,\n",
              " (2, 3, 1): <gurobi.Constr *Awaiting Model Update*>,\n",
              " (2, 7, 1): <gurobi.Constr *Awaiting Model Update*>,\n",
              " (3, 1, 1): <gurobi.Constr *Awaiting Model Update*>,\n",
              " (3, 2, 1): <gurobi.Constr *Awaiting Model Update*>,\n",
              " (3, 3, 1): <gurobi.Constr *Awaiting Model Update*>,\n",
              " (3, 7, 1): <gurobi.Constr *Awaiting Model Update*>}"
            ]
          },
          "metadata": {},
          "execution_count": 30
        }
      ]
    },
    {
      "cell_type": "markdown",
      "source": [
        "$\\sum_{j \\in C_D} y^{uw}_{0js} \\leq \\sum_{g \\in C_T \\atop g \\neq s} x_{gs}, \\forall s \\in C_E, \\forall u \\in U,$ (7)"
      ],
      "metadata": {
        "id": "20xhDxwvUBUM"
      }
    },
    {
      "cell_type": "code",
      "source": [
        "m.addConstrs((gp.quicksum(y[i, j, s, t] for j in A_U) <= gp.quicksum(x[g, s, t] for g in A_T[:-1] if g != s) for s in A_T[1:] for t in T), \"UAVRouteConsistency\")\n"
      ],
      "metadata": {
        "colab": {
          "base_uri": "https://localhost:8080/"
        },
        "id": "aVOPoT3sUBet",
        "outputId": "3c054e63-4a59-4f4c-cd9d-1cfbadb83e33"
      },
      "execution_count": 31,
      "outputs": [
        {
          "output_type": "execute_result",
          "data": {
            "text/plain": [
              "{(1, 1): <gurobi.Constr *Awaiting Model Update*>,\n",
              " (2, 1): <gurobi.Constr *Awaiting Model Update*>,\n",
              " (3, 1): <gurobi.Constr *Awaiting Model Update*>,\n",
              " (7, 1): <gurobi.Constr *Awaiting Model Update*>}"
            ]
          },
          "metadata": {},
          "execution_count": 31
        }
      ]
    },
    {
      "cell_type": "markdown",
      "source": [
        " $r^{t}_{j} + d_{ij} - (1 - x^{t}_{ij}) M \\leq p^{t}_{j}, \\forall i \\in A_T, \\forall j \\in A_E, i \\neq j,$ (8)\n"
      ],
      "metadata": {
        "id": "fWXSj49_IbYN"
      }
    },
    {
      "cell_type": "code",
      "source": [
        "m.addConstrs((p_t[i, t] + d_t.iloc[i, j] - (1 - x[i, j, t]) * M <= r_t[j, t] for i in A_T[:-1] for j in A_T[1:] if i != j for t in T), \"TruckArrivalTime\")"
      ],
      "metadata": {
        "colab": {
          "base_uri": "https://localhost:8080/"
        },
        "id": "ysx5ROcEIbqE",
        "outputId": "75b09987-2d28-47b8-ace5-c2493fb138ff"
      },
      "execution_count": 32,
      "outputs": [
        {
          "output_type": "execute_result",
          "data": {
            "text/plain": [
              "{(0, 1, 1): <gurobi.Constr *Awaiting Model Update*>,\n",
              " (0, 2, 1): <gurobi.Constr *Awaiting Model Update*>,\n",
              " (0, 3, 1): <gurobi.Constr *Awaiting Model Update*>,\n",
              " (0, 7, 1): <gurobi.Constr *Awaiting Model Update*>,\n",
              " (1, 2, 1): <gurobi.Constr *Awaiting Model Update*>,\n",
              " (1, 3, 1): <gurobi.Constr *Awaiting Model Update*>,\n",
              " (1, 7, 1): <gurobi.Constr *Awaiting Model Update*>,\n",
              " (2, 1, 1): <gurobi.Constr *Awaiting Model Update*>,\n",
              " (2, 3, 1): <gurobi.Constr *Awaiting Model Update*>,\n",
              " (2, 7, 1): <gurobi.Constr *Awaiting Model Update*>,\n",
              " (3, 1, 1): <gurobi.Constr *Awaiting Model Update*>,\n",
              " (3, 2, 1): <gurobi.Constr *Awaiting Model Update*>,\n",
              " (3, 7, 1): <gurobi.Constr *Awaiting Model Update*>}"
            ]
          },
          "metadata": {},
          "execution_count": 32
        }
      ]
    },
    {
      "cell_type": "markdown",
      "source": [
        "$\\tilde{t}^{u}_{i} + \\bar{d}_{ij} - (1 - \\sum_{s \\in C_E \\atop s \\neq j} y^{uw}_{ijs}) M \\leq \\tilde{l}^{u}_{j}, \\forall i \\in C_D, \\forall j \\in C, \\forall u \\in U,$ (9)"
      ],
      "metadata": {
        "id": "GqgLEbUOMLuN"
      }
    },
    {
      "cell_type": "code",
      "source": [
        "# m.addConstrs((p_u[i, t] + d_u.iloc[i, j] - (1 - gp.quicksum(y[i, j, s, t] for s in A_T if s != j)) * M <= r_u[j, u] for i in A_U for j in A_U if i != j for t in T), \"UAVArrivalTime\")"
      ],
      "metadata": {
        "id": "47kL1k8tML2t"
      },
      "execution_count": 33,
      "outputs": []
    },
    {
      "cell_type": "code",
      "source": [
        "m.addConstrs((p_u[i, t] + d_u.iloc[i, j] - (1 - gp.quicksum(y[i, j, s, t] for s in A_T[1:] if s != j)) * M <= r_u[j, t] for i in A_U[:-1] for j in A_U[1:] if i != j for t in T), \"UAVArrivalTime\")"
      ],
      "metadata": {
        "colab": {
          "base_uri": "https://localhost:8080/"
        },
        "id": "r_Xdd2QnM8AJ",
        "outputId": "44c543ac-94e8-4833-93c8-68ebf0e49015"
      },
      "execution_count": 34,
      "outputs": [
        {
          "output_type": "execute_result",
          "data": {
            "text/plain": [
              "{(0, 1, 1): <gurobi.Constr *Awaiting Model Update*>,\n",
              " (0, 2, 1): <gurobi.Constr *Awaiting Model Update*>,\n",
              " (0, 3, 1): <gurobi.Constr *Awaiting Model Update*>,\n",
              " (0, 4, 1): <gurobi.Constr *Awaiting Model Update*>,\n",
              " (0, 5, 1): <gurobi.Constr *Awaiting Model Update*>,\n",
              " (0, 6, 1): <gurobi.Constr *Awaiting Model Update*>,\n",
              " (0, 7, 1): <gurobi.Constr *Awaiting Model Update*>,\n",
              " (1, 2, 1): <gurobi.Constr *Awaiting Model Update*>,\n",
              " (1, 3, 1): <gurobi.Constr *Awaiting Model Update*>,\n",
              " (1, 4, 1): <gurobi.Constr *Awaiting Model Update*>,\n",
              " (1, 5, 1): <gurobi.Constr *Awaiting Model Update*>,\n",
              " (1, 6, 1): <gurobi.Constr *Awaiting Model Update*>,\n",
              " (1, 7, 1): <gurobi.Constr *Awaiting Model Update*>,\n",
              " (2, 1, 1): <gurobi.Constr *Awaiting Model Update*>,\n",
              " (2, 3, 1): <gurobi.Constr *Awaiting Model Update*>,\n",
              " (2, 4, 1): <gurobi.Constr *Awaiting Model Update*>,\n",
              " (2, 5, 1): <gurobi.Constr *Awaiting Model Update*>,\n",
              " (2, 6, 1): <gurobi.Constr *Awaiting Model Update*>,\n",
              " (2, 7, 1): <gurobi.Constr *Awaiting Model Update*>,\n",
              " (3, 1, 1): <gurobi.Constr *Awaiting Model Update*>,\n",
              " (3, 2, 1): <gurobi.Constr *Awaiting Model Update*>,\n",
              " (3, 4, 1): <gurobi.Constr *Awaiting Model Update*>,\n",
              " (3, 5, 1): <gurobi.Constr *Awaiting Model Update*>,\n",
              " (3, 6, 1): <gurobi.Constr *Awaiting Model Update*>,\n",
              " (3, 7, 1): <gurobi.Constr *Awaiting Model Update*>,\n",
              " (4, 1, 1): <gurobi.Constr *Awaiting Model Update*>,\n",
              " (4, 2, 1): <gurobi.Constr *Awaiting Model Update*>,\n",
              " (4, 3, 1): <gurobi.Constr *Awaiting Model Update*>,\n",
              " (4, 5, 1): <gurobi.Constr *Awaiting Model Update*>,\n",
              " (4, 6, 1): <gurobi.Constr *Awaiting Model Update*>,\n",
              " (4, 7, 1): <gurobi.Constr *Awaiting Model Update*>,\n",
              " (5, 1, 1): <gurobi.Constr *Awaiting Model Update*>,\n",
              " (5, 2, 1): <gurobi.Constr *Awaiting Model Update*>,\n",
              " (5, 3, 1): <gurobi.Constr *Awaiting Model Update*>,\n",
              " (5, 4, 1): <gurobi.Constr *Awaiting Model Update*>,\n",
              " (5, 6, 1): <gurobi.Constr *Awaiting Model Update*>,\n",
              " (5, 7, 1): <gurobi.Constr *Awaiting Model Update*>,\n",
              " (6, 1, 1): <gurobi.Constr *Awaiting Model Update*>,\n",
              " (6, 2, 1): <gurobi.Constr *Awaiting Model Update*>,\n",
              " (6, 3, 1): <gurobi.Constr *Awaiting Model Update*>,\n",
              " (6, 4, 1): <gurobi.Constr *Awaiting Model Update*>,\n",
              " (6, 5, 1): <gurobi.Constr *Awaiting Model Update*>,\n",
              " (6, 7, 1): <gurobi.Constr *Awaiting Model Update*>}"
            ]
          },
          "metadata": {},
          "execution_count": 34
        }
      ]
    },
    {
      "cell_type": "markdown",
      "source": [
        "${p}^{u}_{i} \\leq {r}^{u}_{i}, \\forall i \\in {A}_{U}, \\forall u \\in U,$ (10)"
      ],
      "metadata": {
        "id": "MMbdpq0qNr_K"
      }
    },
    {
      "cell_type": "code",
      "source": [
        "m.addConstrs((r_u[i, t] <= p_u[i, t] for i in A_U[1:-1] for t in T), \"UAVDepartureTime\")"
      ],
      "metadata": {
        "colab": {
          "base_uri": "https://localhost:8080/"
        },
        "id": "f4JssxbnNr2p",
        "outputId": "b2e9b1f7-769b-4848-bc01-ab25515f648e"
      },
      "execution_count": 35,
      "outputs": [
        {
          "output_type": "execute_result",
          "data": {
            "text/plain": [
              "{(1, 1): <gurobi.Constr *Awaiting Model Update*>,\n",
              " (2, 1): <gurobi.Constr *Awaiting Model Update*>,\n",
              " (3, 1): <gurobi.Constr *Awaiting Model Update*>,\n",
              " (4, 1): <gurobi.Constr *Awaiting Model Update*>,\n",
              " (5, 1): <gurobi.Constr *Awaiting Model Update*>,\n",
              " (6, 1): <gurobi.Constr *Awaiting Model Update*>}"
            ]
          },
          "metadata": {},
          "execution_count": 35
        }
      ]
    },
    {
      "cell_type": "markdown",
      "source": [
        "$p^{t}_{i} \\leq r^{t}_{j}, \\forall i \\in A_T, \\forall t \\in W,$ (11)"
      ],
      "metadata": {
        "id": "w9I4DaY_KPC5"
      }
    },
    {
      "cell_type": "code",
      "source": [
        "m.addConstrs((r_t[i, t] <= p_t[i, t] for i in A_T[1:-1] for t in T), \"TruckDepartureTime\")"
      ],
      "metadata": {
        "colab": {
          "base_uri": "https://localhost:8080/"
        },
        "id": "SbMIoC9CJLZj",
        "outputId": "38d0d7f9-7368-4aae-c8be-a8b17b5e338d"
      },
      "execution_count": 36,
      "outputs": [
        {
          "output_type": "execute_result",
          "data": {
            "text/plain": [
              "{(1, 1): <gurobi.Constr *Awaiting Model Update*>,\n",
              " (2, 1): <gurobi.Constr *Awaiting Model Update*>,\n",
              " (3, 1): <gurobi.Constr *Awaiting Model Update*>}"
            ]
          },
          "metadata": {},
          "execution_count": 36
        }
      ]
    },
    {
      "cell_type": "markdown",
      "source": [
        "$\\tilde{t}^{u}_{i} - (1 - \\sum_{j \\in C \\atop j \\neq i} \\sum_{s \\in C_E} y^{uw}_{ijs}) M \\leq l^{w}_{j}, \\forall i \\in C_D, \\forall u \\in U, \\forall w \\in W,$ (12)\n",
        "\n",
        "UAV must depart from node i after truck arrives there"
      ],
      "metadata": {
        "id": "xavf6doGOOzh"
      }
    },
    {
      "cell_type": "code",
      "source": [
        "m.addConstrs((r_t[i, t] - (1 - gp.quicksum(y[i, g, s, t] for g in A_U[1:] if g != i for s in A_T[1:])) * M <= p_u[i, t] for i in A_T[:-1] for t in T), \"UAVReturnTime1\")"
      ],
      "metadata": {
        "colab": {
          "base_uri": "https://localhost:8080/"
        },
        "id": "4NfpSsV1OO64",
        "outputId": "46917f8f-c34c-4cf9-bada-2071a058d183"
      },
      "execution_count": 37,
      "outputs": [
        {
          "output_type": "execute_result",
          "data": {
            "text/plain": [
              "{(0, 1): <gurobi.Constr *Awaiting Model Update*>,\n",
              " (1, 1): <gurobi.Constr *Awaiting Model Update*>,\n",
              " (2, 1): <gurobi.Constr *Awaiting Model Update*>,\n",
              " (3, 1): <gurobi.Constr *Awaiting Model Update*>}"
            ]
          },
          "metadata": {},
          "execution_count": 37
        }
      ]
    },
    {
      "cell_type": "markdown",
      "source": [
        "$l^{w}_{s} + \\bar{d}_{js} - (1 - \\sum_{i \\in C_D \\atop i \\neq j} y^{uw}_{ijs}) M \\leq \\tilde{t}^{u}_{j}, \\forall j \\in C, \\forall s \\in C_E, \\forall u \\in U, \\forall w \\in W,$ (13)\n",
        "\n",
        "UAV must arrive to the intermeeting point s after it's truck"
      ],
      "metadata": {
        "id": "2CfR9XmjXx8M"
      }
    },
    {
      "cell_type": "code",
      "source": [
        "# m.addConstrs((r_t[s, t] + d_u.iloc[j, s] - (1 - gp.quicksum(y[i, j, s, t] for i in A_U if i != j)) * M <= p_u[j, t] for j in A_U for s in A_T for t in T), \"UAVReturnTime2\")\n"
      ],
      "metadata": {
        "id": "QfbFGvL-XyNa"
      },
      "execution_count": 38,
      "outputs": []
    },
    {
      "cell_type": "code",
      "source": [
        "m.addConstrs((r_t[s, t] - (1 - y[i, s, s, t] ) * M <= p_u[i, t] + d_u.iloc[i, s] for i in A_U[:-1] for s in A_T[1:] for t in T if i != s) , \"UAVReturnTime2\")"
      ],
      "metadata": {
        "colab": {
          "base_uri": "https://localhost:8080/"
        },
        "id": "o642cKAyo4o9",
        "outputId": "7bdbd472-0ac6-44aa-d9b3-293d1cfb1931"
      },
      "execution_count": 39,
      "outputs": [
        {
          "output_type": "execute_result",
          "data": {
            "text/plain": [
              "{(0, 1, 1): <gurobi.Constr *Awaiting Model Update*>,\n",
              " (0, 2, 1): <gurobi.Constr *Awaiting Model Update*>,\n",
              " (0, 3, 1): <gurobi.Constr *Awaiting Model Update*>,\n",
              " (0, 7, 1): <gurobi.Constr *Awaiting Model Update*>,\n",
              " (1, 2, 1): <gurobi.Constr *Awaiting Model Update*>,\n",
              " (1, 3, 1): <gurobi.Constr *Awaiting Model Update*>,\n",
              " (1, 7, 1): <gurobi.Constr *Awaiting Model Update*>,\n",
              " (2, 1, 1): <gurobi.Constr *Awaiting Model Update*>,\n",
              " (2, 3, 1): <gurobi.Constr *Awaiting Model Update*>,\n",
              " (2, 7, 1): <gurobi.Constr *Awaiting Model Update*>,\n",
              " (3, 1, 1): <gurobi.Constr *Awaiting Model Update*>,\n",
              " (3, 2, 1): <gurobi.Constr *Awaiting Model Update*>,\n",
              " (3, 7, 1): <gurobi.Constr *Awaiting Model Update*>,\n",
              " (4, 1, 1): <gurobi.Constr *Awaiting Model Update*>,\n",
              " (4, 2, 1): <gurobi.Constr *Awaiting Model Update*>,\n",
              " (4, 3, 1): <gurobi.Constr *Awaiting Model Update*>,\n",
              " (4, 7, 1): <gurobi.Constr *Awaiting Model Update*>,\n",
              " (5, 1, 1): <gurobi.Constr *Awaiting Model Update*>,\n",
              " (5, 2, 1): <gurobi.Constr *Awaiting Model Update*>,\n",
              " (5, 3, 1): <gurobi.Constr *Awaiting Model Update*>,\n",
              " (5, 7, 1): <gurobi.Constr *Awaiting Model Update*>,\n",
              " (6, 1, 1): <gurobi.Constr *Awaiting Model Update*>,\n",
              " (6, 2, 1): <gurobi.Constr *Awaiting Model Update*>,\n",
              " (6, 3, 1): <gurobi.Constr *Awaiting Model Update*>,\n",
              " (6, 7, 1): <gurobi.Constr *Awaiting Model Update*>}"
            ]
          },
          "metadata": {},
          "execution_count": 39
        }
      ]
    },
    {
      "cell_type": "markdown",
      "source": [
        "$t^{w}_{i} - (1 - \\sum_{j \\in C \\atop j \\neq i} \\sum_{s \\in C_E} y^{uw}_{ijs}) M \\leq \\tilde{t}^{u}_{i}, \\forall i \\in C_D, \\forall u \\in U,$ (14)\n",
        "\n",
        "wrong and rep - when truck arives to a node, uav can fly even before truck's departure\n",
        "\n",
        "(14) say uav must fly after truck's departure"
      ],
      "metadata": {
        "id": "dw8N0lV6PTcq"
      }
    },
    {
      "cell_type": "code",
      "source": [
        "# m.addConstrs((\n",
        "\n",
        "#     p_t[i, t] - (1 - gp.quicksum(y[i, j, s, t] for j in A_T[1:] if j != i for s in A_T)) * M <= p_u[i, t]\n",
        "\n",
        "#               for i in A_U for i in A_T for t in T), \"UAVReturnTime3\")"
      ],
      "metadata": {
        "id": "dslUNQZnPTlV"
      },
      "execution_count": 40,
      "outputs": []
    },
    {
      "cell_type": "markdown",
      "source": [
        "$\\tilde{t}^{u}_{j} + \\bar{d}_{js} - \\left(2 - \\sum_{i \\in C_D \\atop i \\neq j} y^{uw}_{ijs} - \\sum_{v \\in C \\atop v \\neq s} \\sum_{h \\in C_E \\atop h \\neq j} y^{uw}_{vsh}\\right) M \\leq \\tilde{l}_{su}, \\forall s \\in C_E, \\forall j \\in C, \\forall u \\in U,$ (15)"
      ],
      "metadata": {
        "id": "bUTJVsp3WaE4"
      }
    },
    {
      "cell_type": "code",
      "source": [
        "m.addConstrs((p_u[j, t] + d_u.iloc[j, s] - (2 - gp.quicksum(y[i, j, s, t] for i in A_U[:-1] if i != j) - gp.quicksum(y[v, s, h, t] for v in A_U[:-1] if v != s for h in A_T[1:] if h != j)) * M <= r_u[s, t] for s in A_T[1:] for j in A_U[1:] for t in T), \"UAVReturnTime4\")"
      ],
      "metadata": {
        "colab": {
          "base_uri": "https://localhost:8080/"
        },
        "id": "bvp6EwnlWaP3",
        "outputId": "a1ccc966-045f-4e81-fd65-e35dd921edd5"
      },
      "execution_count": 41,
      "outputs": [
        {
          "output_type": "execute_result",
          "data": {
            "text/plain": [
              "{(1, 1, 1): <gurobi.Constr *Awaiting Model Update*>,\n",
              " (1, 2, 1): <gurobi.Constr *Awaiting Model Update*>,\n",
              " (1, 3, 1): <gurobi.Constr *Awaiting Model Update*>,\n",
              " (1, 4, 1): <gurobi.Constr *Awaiting Model Update*>,\n",
              " (1, 5, 1): <gurobi.Constr *Awaiting Model Update*>,\n",
              " (1, 6, 1): <gurobi.Constr *Awaiting Model Update*>,\n",
              " (1, 7, 1): <gurobi.Constr *Awaiting Model Update*>,\n",
              " (2, 1, 1): <gurobi.Constr *Awaiting Model Update*>,\n",
              " (2, 2, 1): <gurobi.Constr *Awaiting Model Update*>,\n",
              " (2, 3, 1): <gurobi.Constr *Awaiting Model Update*>,\n",
              " (2, 4, 1): <gurobi.Constr *Awaiting Model Update*>,\n",
              " (2, 5, 1): <gurobi.Constr *Awaiting Model Update*>,\n",
              " (2, 6, 1): <gurobi.Constr *Awaiting Model Update*>,\n",
              " (2, 7, 1): <gurobi.Constr *Awaiting Model Update*>,\n",
              " (3, 1, 1): <gurobi.Constr *Awaiting Model Update*>,\n",
              " (3, 2, 1): <gurobi.Constr *Awaiting Model Update*>,\n",
              " (3, 3, 1): <gurobi.Constr *Awaiting Model Update*>,\n",
              " (3, 4, 1): <gurobi.Constr *Awaiting Model Update*>,\n",
              " (3, 5, 1): <gurobi.Constr *Awaiting Model Update*>,\n",
              " (3, 6, 1): <gurobi.Constr *Awaiting Model Update*>,\n",
              " (3, 7, 1): <gurobi.Constr *Awaiting Model Update*>,\n",
              " (7, 1, 1): <gurobi.Constr *Awaiting Model Update*>,\n",
              " (7, 2, 1): <gurobi.Constr *Awaiting Model Update*>,\n",
              " (7, 3, 1): <gurobi.Constr *Awaiting Model Update*>,\n",
              " (7, 4, 1): <gurobi.Constr *Awaiting Model Update*>,\n",
              " (7, 5, 1): <gurobi.Constr *Awaiting Model Update*>,\n",
              " (7, 6, 1): <gurobi.Constr *Awaiting Model Update*>,\n",
              " (7, 7, 1): <gurobi.Constr *Awaiting Model Update*>}"
            ]
          },
          "metadata": {},
          "execution_count": 41
        }
      ]
    },
    {
      "cell_type": "markdown",
      "source": [
        "$(c+2) - 1 \\leq z_{i} - z_{j} + (c+2) y^{uw}_{ij}, \\forall i \\in C_{0}, \\forall j \\in C_E, \\forall u \\in U, \\forall w \\in W,$ (16)\n",
        "\n",
        "\n",
        "MTZ for UAV"
      ],
      "metadata": {
        "id": "N_hV8pdrZehK"
      }
    },
    {
      "cell_type": "code",
      "source": [
        "m.addConstrs((z_u[i, t] - z_u[j, t] + (b - 1) * y[i, j, s, t] <= b - 2 for i in A_U[1:-1] for j in A_U[1:-1] for s in A_T[1:] for t in T), \"MTZ1\")"
      ],
      "metadata": {
        "colab": {
          "base_uri": "https://localhost:8080/"
        },
        "id": "9nOnWafHZepx",
        "outputId": "c5df765d-0d4c-447f-f3fa-e01cbe4a82e8"
      },
      "execution_count": 42,
      "outputs": [
        {
          "output_type": "execute_result",
          "data": {
            "text/plain": [
              "{(1, 1, 1, 1): <gurobi.Constr *Awaiting Model Update*>,\n",
              " (1, 1, 2, 1): <gurobi.Constr *Awaiting Model Update*>,\n",
              " (1, 1, 3, 1): <gurobi.Constr *Awaiting Model Update*>,\n",
              " (1, 1, 7, 1): <gurobi.Constr *Awaiting Model Update*>,\n",
              " (1, 2, 1, 1): <gurobi.Constr *Awaiting Model Update*>,\n",
              " (1, 2, 2, 1): <gurobi.Constr *Awaiting Model Update*>,\n",
              " (1, 2, 3, 1): <gurobi.Constr *Awaiting Model Update*>,\n",
              " (1, 2, 7, 1): <gurobi.Constr *Awaiting Model Update*>,\n",
              " (1, 3, 1, 1): <gurobi.Constr *Awaiting Model Update*>,\n",
              " (1, 3, 2, 1): <gurobi.Constr *Awaiting Model Update*>,\n",
              " (1, 3, 3, 1): <gurobi.Constr *Awaiting Model Update*>,\n",
              " (1, 3, 7, 1): <gurobi.Constr *Awaiting Model Update*>,\n",
              " (1, 4, 1, 1): <gurobi.Constr *Awaiting Model Update*>,\n",
              " (1, 4, 2, 1): <gurobi.Constr *Awaiting Model Update*>,\n",
              " (1, 4, 3, 1): <gurobi.Constr *Awaiting Model Update*>,\n",
              " (1, 4, 7, 1): <gurobi.Constr *Awaiting Model Update*>,\n",
              " (1, 5, 1, 1): <gurobi.Constr *Awaiting Model Update*>,\n",
              " (1, 5, 2, 1): <gurobi.Constr *Awaiting Model Update*>,\n",
              " (1, 5, 3, 1): <gurobi.Constr *Awaiting Model Update*>,\n",
              " (1, 5, 7, 1): <gurobi.Constr *Awaiting Model Update*>,\n",
              " (1, 6, 1, 1): <gurobi.Constr *Awaiting Model Update*>,\n",
              " (1, 6, 2, 1): <gurobi.Constr *Awaiting Model Update*>,\n",
              " (1, 6, 3, 1): <gurobi.Constr *Awaiting Model Update*>,\n",
              " (1, 6, 7, 1): <gurobi.Constr *Awaiting Model Update*>,\n",
              " (2, 1, 1, 1): <gurobi.Constr *Awaiting Model Update*>,\n",
              " (2, 1, 2, 1): <gurobi.Constr *Awaiting Model Update*>,\n",
              " (2, 1, 3, 1): <gurobi.Constr *Awaiting Model Update*>,\n",
              " (2, 1, 7, 1): <gurobi.Constr *Awaiting Model Update*>,\n",
              " (2, 2, 1, 1): <gurobi.Constr *Awaiting Model Update*>,\n",
              " (2, 2, 2, 1): <gurobi.Constr *Awaiting Model Update*>,\n",
              " (2, 2, 3, 1): <gurobi.Constr *Awaiting Model Update*>,\n",
              " (2, 2, 7, 1): <gurobi.Constr *Awaiting Model Update*>,\n",
              " (2, 3, 1, 1): <gurobi.Constr *Awaiting Model Update*>,\n",
              " (2, 3, 2, 1): <gurobi.Constr *Awaiting Model Update*>,\n",
              " (2, 3, 3, 1): <gurobi.Constr *Awaiting Model Update*>,\n",
              " (2, 3, 7, 1): <gurobi.Constr *Awaiting Model Update*>,\n",
              " (2, 4, 1, 1): <gurobi.Constr *Awaiting Model Update*>,\n",
              " (2, 4, 2, 1): <gurobi.Constr *Awaiting Model Update*>,\n",
              " (2, 4, 3, 1): <gurobi.Constr *Awaiting Model Update*>,\n",
              " (2, 4, 7, 1): <gurobi.Constr *Awaiting Model Update*>,\n",
              " (2, 5, 1, 1): <gurobi.Constr *Awaiting Model Update*>,\n",
              " (2, 5, 2, 1): <gurobi.Constr *Awaiting Model Update*>,\n",
              " (2, 5, 3, 1): <gurobi.Constr *Awaiting Model Update*>,\n",
              " (2, 5, 7, 1): <gurobi.Constr *Awaiting Model Update*>,\n",
              " (2, 6, 1, 1): <gurobi.Constr *Awaiting Model Update*>,\n",
              " (2, 6, 2, 1): <gurobi.Constr *Awaiting Model Update*>,\n",
              " (2, 6, 3, 1): <gurobi.Constr *Awaiting Model Update*>,\n",
              " (2, 6, 7, 1): <gurobi.Constr *Awaiting Model Update*>,\n",
              " (3, 1, 1, 1): <gurobi.Constr *Awaiting Model Update*>,\n",
              " (3, 1, 2, 1): <gurobi.Constr *Awaiting Model Update*>,\n",
              " (3, 1, 3, 1): <gurobi.Constr *Awaiting Model Update*>,\n",
              " (3, 1, 7, 1): <gurobi.Constr *Awaiting Model Update*>,\n",
              " (3, 2, 1, 1): <gurobi.Constr *Awaiting Model Update*>,\n",
              " (3, 2, 2, 1): <gurobi.Constr *Awaiting Model Update*>,\n",
              " (3, 2, 3, 1): <gurobi.Constr *Awaiting Model Update*>,\n",
              " (3, 2, 7, 1): <gurobi.Constr *Awaiting Model Update*>,\n",
              " (3, 3, 1, 1): <gurobi.Constr *Awaiting Model Update*>,\n",
              " (3, 3, 2, 1): <gurobi.Constr *Awaiting Model Update*>,\n",
              " (3, 3, 3, 1): <gurobi.Constr *Awaiting Model Update*>,\n",
              " (3, 3, 7, 1): <gurobi.Constr *Awaiting Model Update*>,\n",
              " (3, 4, 1, 1): <gurobi.Constr *Awaiting Model Update*>,\n",
              " (3, 4, 2, 1): <gurobi.Constr *Awaiting Model Update*>,\n",
              " (3, 4, 3, 1): <gurobi.Constr *Awaiting Model Update*>,\n",
              " (3, 4, 7, 1): <gurobi.Constr *Awaiting Model Update*>,\n",
              " (3, 5, 1, 1): <gurobi.Constr *Awaiting Model Update*>,\n",
              " (3, 5, 2, 1): <gurobi.Constr *Awaiting Model Update*>,\n",
              " (3, 5, 3, 1): <gurobi.Constr *Awaiting Model Update*>,\n",
              " (3, 5, 7, 1): <gurobi.Constr *Awaiting Model Update*>,\n",
              " (3, 6, 1, 1): <gurobi.Constr *Awaiting Model Update*>,\n",
              " (3, 6, 2, 1): <gurobi.Constr *Awaiting Model Update*>,\n",
              " (3, 6, 3, 1): <gurobi.Constr *Awaiting Model Update*>,\n",
              " (3, 6, 7, 1): <gurobi.Constr *Awaiting Model Update*>,\n",
              " (4, 1, 1, 1): <gurobi.Constr *Awaiting Model Update*>,\n",
              " (4, 1, 2, 1): <gurobi.Constr *Awaiting Model Update*>,\n",
              " (4, 1, 3, 1): <gurobi.Constr *Awaiting Model Update*>,\n",
              " (4, 1, 7, 1): <gurobi.Constr *Awaiting Model Update*>,\n",
              " (4, 2, 1, 1): <gurobi.Constr *Awaiting Model Update*>,\n",
              " (4, 2, 2, 1): <gurobi.Constr *Awaiting Model Update*>,\n",
              " (4, 2, 3, 1): <gurobi.Constr *Awaiting Model Update*>,\n",
              " (4, 2, 7, 1): <gurobi.Constr *Awaiting Model Update*>,\n",
              " (4, 3, 1, 1): <gurobi.Constr *Awaiting Model Update*>,\n",
              " (4, 3, 2, 1): <gurobi.Constr *Awaiting Model Update*>,\n",
              " (4, 3, 3, 1): <gurobi.Constr *Awaiting Model Update*>,\n",
              " (4, 3, 7, 1): <gurobi.Constr *Awaiting Model Update*>,\n",
              " (4, 4, 1, 1): <gurobi.Constr *Awaiting Model Update*>,\n",
              " (4, 4, 2, 1): <gurobi.Constr *Awaiting Model Update*>,\n",
              " (4, 4, 3, 1): <gurobi.Constr *Awaiting Model Update*>,\n",
              " (4, 4, 7, 1): <gurobi.Constr *Awaiting Model Update*>,\n",
              " (4, 5, 1, 1): <gurobi.Constr *Awaiting Model Update*>,\n",
              " (4, 5, 2, 1): <gurobi.Constr *Awaiting Model Update*>,\n",
              " (4, 5, 3, 1): <gurobi.Constr *Awaiting Model Update*>,\n",
              " (4, 5, 7, 1): <gurobi.Constr *Awaiting Model Update*>,\n",
              " (4, 6, 1, 1): <gurobi.Constr *Awaiting Model Update*>,\n",
              " (4, 6, 2, 1): <gurobi.Constr *Awaiting Model Update*>,\n",
              " (4, 6, 3, 1): <gurobi.Constr *Awaiting Model Update*>,\n",
              " (4, 6, 7, 1): <gurobi.Constr *Awaiting Model Update*>,\n",
              " (5, 1, 1, 1): <gurobi.Constr *Awaiting Model Update*>,\n",
              " (5, 1, 2, 1): <gurobi.Constr *Awaiting Model Update*>,\n",
              " (5, 1, 3, 1): <gurobi.Constr *Awaiting Model Update*>,\n",
              " (5, 1, 7, 1): <gurobi.Constr *Awaiting Model Update*>,\n",
              " (5, 2, 1, 1): <gurobi.Constr *Awaiting Model Update*>,\n",
              " (5, 2, 2, 1): <gurobi.Constr *Awaiting Model Update*>,\n",
              " (5, 2, 3, 1): <gurobi.Constr *Awaiting Model Update*>,\n",
              " (5, 2, 7, 1): <gurobi.Constr *Awaiting Model Update*>,\n",
              " (5, 3, 1, 1): <gurobi.Constr *Awaiting Model Update*>,\n",
              " (5, 3, 2, 1): <gurobi.Constr *Awaiting Model Update*>,\n",
              " (5, 3, 3, 1): <gurobi.Constr *Awaiting Model Update*>,\n",
              " (5, 3, 7, 1): <gurobi.Constr *Awaiting Model Update*>,\n",
              " (5, 4, 1, 1): <gurobi.Constr *Awaiting Model Update*>,\n",
              " (5, 4, 2, 1): <gurobi.Constr *Awaiting Model Update*>,\n",
              " (5, 4, 3, 1): <gurobi.Constr *Awaiting Model Update*>,\n",
              " (5, 4, 7, 1): <gurobi.Constr *Awaiting Model Update*>,\n",
              " (5, 5, 1, 1): <gurobi.Constr *Awaiting Model Update*>,\n",
              " (5, 5, 2, 1): <gurobi.Constr *Awaiting Model Update*>,\n",
              " (5, 5, 3, 1): <gurobi.Constr *Awaiting Model Update*>,\n",
              " (5, 5, 7, 1): <gurobi.Constr *Awaiting Model Update*>,\n",
              " (5, 6, 1, 1): <gurobi.Constr *Awaiting Model Update*>,\n",
              " (5, 6, 2, 1): <gurobi.Constr *Awaiting Model Update*>,\n",
              " (5, 6, 3, 1): <gurobi.Constr *Awaiting Model Update*>,\n",
              " (5, 6, 7, 1): <gurobi.Constr *Awaiting Model Update*>,\n",
              " (6, 1, 1, 1): <gurobi.Constr *Awaiting Model Update*>,\n",
              " (6, 1, 2, 1): <gurobi.Constr *Awaiting Model Update*>,\n",
              " (6, 1, 3, 1): <gurobi.Constr *Awaiting Model Update*>,\n",
              " (6, 1, 7, 1): <gurobi.Constr *Awaiting Model Update*>,\n",
              " (6, 2, 1, 1): <gurobi.Constr *Awaiting Model Update*>,\n",
              " (6, 2, 2, 1): <gurobi.Constr *Awaiting Model Update*>,\n",
              " (6, 2, 3, 1): <gurobi.Constr *Awaiting Model Update*>,\n",
              " (6, 2, 7, 1): <gurobi.Constr *Awaiting Model Update*>,\n",
              " (6, 3, 1, 1): <gurobi.Constr *Awaiting Model Update*>,\n",
              " (6, 3, 2, 1): <gurobi.Constr *Awaiting Model Update*>,\n",
              " (6, 3, 3, 1): <gurobi.Constr *Awaiting Model Update*>,\n",
              " (6, 3, 7, 1): <gurobi.Constr *Awaiting Model Update*>,\n",
              " (6, 4, 1, 1): <gurobi.Constr *Awaiting Model Update*>,\n",
              " (6, 4, 2, 1): <gurobi.Constr *Awaiting Model Update*>,\n",
              " (6, 4, 3, 1): <gurobi.Constr *Awaiting Model Update*>,\n",
              " (6, 4, 7, 1): <gurobi.Constr *Awaiting Model Update*>,\n",
              " (6, 5, 1, 1): <gurobi.Constr *Awaiting Model Update*>,\n",
              " (6, 5, 2, 1): <gurobi.Constr *Awaiting Model Update*>,\n",
              " (6, 5, 3, 1): <gurobi.Constr *Awaiting Model Update*>,\n",
              " (6, 5, 7, 1): <gurobi.Constr *Awaiting Model Update*>,\n",
              " (6, 6, 1, 1): <gurobi.Constr *Awaiting Model Update*>,\n",
              " (6, 6, 2, 1): <gurobi.Constr *Awaiting Model Update*>,\n",
              " (6, 6, 3, 1): <gurobi.Constr *Awaiting Model Update*>,\n",
              " (6, 6, 7, 1): <gurobi.Constr *Awaiting Model Update*>}"
            ]
          },
          "metadata": {},
          "execution_count": 42
        }
      ]
    },
    {
      "cell_type": "markdown",
      "source": [
        "$1 - (c + 2)(1 - x^{w}_{ij}) \\leq z_j - z^{w}_{i}, \\forall i \\in C_T, \\forall j \\in C_E, i \\neq j, \\forall w \\in W$ (17)\n",
        "\n",
        "\n",
        "MTZ for truck"
      ],
      "metadata": {
        "id": "uObbzQ8adamY"
      }
    },
    {
      "cell_type": "code",
      "source": [
        "m.addConstrs(z_t[i,t] - z_t[j,t] + (a - 1) * x[i,j,t] <= a - 2 for i in A_T[1:-1] for j in A_T[1:-1] if i != j for t in T)"
      ],
      "metadata": {
        "colab": {
          "base_uri": "https://localhost:8080/"
        },
        "id": "TcaIz7rO4jiD",
        "outputId": "7d0525e4-6882-4259-b43a-fa94991819f5"
      },
      "execution_count": 43,
      "outputs": [
        {
          "output_type": "execute_result",
          "data": {
            "text/plain": [
              "{(1, 2, 1): <gurobi.Constr *Awaiting Model Update*>,\n",
              " (1, 3, 1): <gurobi.Constr *Awaiting Model Update*>,\n",
              " (2, 1, 1): <gurobi.Constr *Awaiting Model Update*>,\n",
              " (2, 3, 1): <gurobi.Constr *Awaiting Model Update*>,\n",
              " (3, 1, 1): <gurobi.Constr *Awaiting Model Update*>,\n",
              " (3, 2, 1): <gurobi.Constr *Awaiting Model Update*>}"
            ]
          },
          "metadata": {},
          "execution_count": 43
        }
      ]
    },
    {
      "cell_type": "markdown",
      "source": [
        "$\\sum_{j \\in A} y^{uw}_{ijs} \\leq q, \\forall i \\in A, \\forall s \\in A_E,$ (23)"
      ],
      "metadata": {
        "id": "LBeqU_tQQ6Wo"
      }
    },
    {
      "cell_type": "markdown",
      "source": [
        "$x^{w}_{ij}, p^{w}_{ij} \\in \\{0,1\\}, \\forall i \\in V, \\forall j \\in V,$ (24)"
      ],
      "metadata": {
        "id": "QvFe8nEeQ6ZR"
      }
    },
    {
      "cell_type": "markdown",
      "source": [
        "$y^{uw}_{ijs} \\in \\{0,1\\}, \\forall i \\in V, \\forall j \\in V, \\forall s \\in V, \\forall u \\in U,$ (25)"
      ],
      "metadata": {
        "id": "BNRoxCMLQ6bg"
      }
    },
    {
      "cell_type": "markdown",
      "source": [
        "$1 \\leq z^{w}_{i} \\leq (a + 2), \\forall i \\in A_T,$ (26)"
      ],
      "metadata": {
        "id": "LtvI2PFlQ6d2"
      }
    },
    {
      "cell_type": "markdown",
      "source": [
        "$t^{w}_{i}, l^{w}_{j} \\geq 0, \\forall i \\in V$ (27)"
      ],
      "metadata": {
        "id": "S4keV2ZcRPl4"
      }
    },
    {
      "cell_type": "markdown",
      "source": [
        "$\\tilde{t}^{u}_{i}, \\tilde{l}^{u}_{i} \\geq 0, \\forall i \\in V, \\forall u \\in U.$ (28)"
      ],
      "metadata": {
        "id": "nAYjQhwLRRxh"
      }
    },
    {
      "cell_type": "markdown",
      "source": [
        "# Optimization"
      ],
      "metadata": {
        "id": "imTuIba4t0WV"
      }
    },
    {
      "cell_type": "code",
      "source": [
        "m.optimize()\n",
        "\n",
        "# Display the results\n",
        "if m.status == GRB.OPTIMAL:\n",
        "    print(\"Optimal objective value is :\", m.objVal)\n",
        "    for v in m.getVars():\n",
        "        if v.x > 0:\n",
        "            print(v.varName, v.x)\n",
        "else:\n",
        "    print(\"Ther is no optimal solution.\")"
      ],
      "metadata": {
        "colab": {
          "base_uri": "https://localhost:8080/"
        },
        "id": "_gI-El4Ot0g2",
        "outputId": "9aeb2f8c-02bc-4fa9-ef7c-4170fce2ad32"
      },
      "execution_count": 44,
      "outputs": [
        {
          "output_type": "stream",
          "name": "stdout",
          "text": [
            "Gurobi Optimizer version 11.0.3 build v11.0.3rc0 (linux64 - \"Ubuntu 22.04.3 LTS\")\n",
            "\n",
            "CPU model: Intel(R) Xeon(R) CPU @ 2.20GHz, instruction set [SSE2|AVX|AVX2]\n",
            "Thread count: 1 physical cores, 2 logical processors, using up to 2 threads\n",
            "\n",
            "Academic license 2536865 - for non-commercial use only - registered to rt___@stevens.edu\n",
            "Optimize a model with 323 rows, 380 columns and 2425 nonzeros\n",
            "Model fingerprint: 0xc0442d4c\n",
            "Variable types: 26 continuous, 354 integer (345 binary)\n",
            "Coefficient statistics:\n",
            "  Matrix range     [1e+00, 1e+05]\n",
            "  Objective range  [1e+00, 1e+00]\n",
            "  Bounds range     [1e+00, 6e+00]\n",
            "  RHS range        [1e+00, 2e+05]\n",
            "Presolve removed 107 rows and 336 columns\n",
            "Presolve time: 0.00s\n",
            "\n",
            "Explored 0 nodes (0 simplex iterations) in 0.02 seconds (0.00 work units)\n",
            "Thread count was 1 (of 2 available processors)\n",
            "\n",
            "Solution count 0\n",
            "\n",
            "Model is infeasible\n",
            "Best objective -, best bound -, gap -\n",
            "Ther is no optimal solution.\n"
          ]
        }
      ]
    },
    {
      "cell_type": "markdown",
      "source": [],
      "metadata": {
        "id": "ua2KVavlt0uN"
      }
    },
    {
      "cell_type": "markdown",
      "source": [],
      "metadata": {
        "id": "CSxNsyHRt076"
      }
    },
    {
      "cell_type": "code",
      "source": [],
      "metadata": {
        "id": "RpBf7jGSt1Ci"
      },
      "execution_count": 44,
      "outputs": []
    },
    {
      "cell_type": "markdown",
      "source": [],
      "metadata": {
        "id": "E5VitiWlt1Im"
      }
    },
    {
      "cell_type": "code",
      "source": [],
      "metadata": {
        "id": "hZuF8Sydt1PW"
      },
      "execution_count": 44,
      "outputs": []
    },
    {
      "cell_type": "markdown",
      "source": [],
      "metadata": {
        "id": "qQjMiAp5t1VE"
      }
    },
    {
      "cell_type": "code",
      "source": [],
      "metadata": {
        "id": "8A0tD1krt1bZ"
      },
      "execution_count": 44,
      "outputs": []
    },
    {
      "cell_type": "markdown",
      "source": [],
      "metadata": {
        "id": "K9QGDC4Dt1hI"
      }
    },
    {
      "cell_type": "code",
      "source": [],
      "metadata": {
        "id": "Afcp9I4jt1nM"
      },
      "execution_count": null,
      "outputs": []
    },
    {
      "cell_type": "markdown",
      "source": [],
      "metadata": {
        "id": "sBshFgYit1tK"
      }
    },
    {
      "cell_type": "code",
      "source": [],
      "metadata": {
        "id": "lBFzS-04t1zp"
      },
      "execution_count": null,
      "outputs": []
    },
    {
      "cell_type": "markdown",
      "source": [
        "House prediction"
      ],
      "metadata": {
        "id": "TCAlWh4Pt15R"
      }
    },
    {
      "cell_type": "code",
      "source": [
        "import pandas as pd\n",
        "from sklearn.model_selection import train_test_split\n",
        "from sklearn.linear_model import LinearRegression\n",
        "from sklearn.metrics import mean_squared_error, r2_score\n",
        "\n",
        "# Create the dataset\n",
        "data = {\n",
        "    'm2': [50, 65, 38, 57, 58, 58, 45, 50, 58, 52, 55, 50, 55, 55, 57, 55, 45, 45],\n",
        "    'year': [85, 85, 85, 88, 92, 85, 89, 97, 87, 87, 96, 83, 88, 79, 82, 95, 95, 90],\n",
        "    'down': [300, 650, 300, 800, 200, 750, 450, 700, 750, 300, 300, 200, 100, 200, 400, 750, 200, 200],\n",
        "    'rent': [7.5, 6, 6, 0, 17, 0, 6, 0, 0, 9.5, 15.5, 15, 20, 13, 9, 0, 15, 16],\n",
        "    'parking': [1, 1, 1, 1, 1, 1, 1, 1, 1, 1, 1, 1, 0, 0, 1, 1, 1, 1],\n",
        "    'elevator': [1, 1, 1, 0, 1, 0, 1, 1, 0, 0, 1, 1, 0, 0, 0, 1, 1, 1],\n",
        "    'warehouse': [1, 1, 1, 1, 1, 1, 1, 1, 1, 1, 1, 1, 1, 1, 1, 0, 1, 1]\n",
        "}\n",
        "\n",
        "# Create a DataFrame\n",
        "df = pd.DataFrame(data)\n",
        "\n",
        "# Define features and targets for 'down' and 'rent'\n",
        "features = ['m2', 'year', 'parking', 'elevator', 'warehouse']\n",
        "X = df[features]\n",
        "y_down = df['down']\n",
        "y_rent = df['rent']\n",
        "\n",
        "# Split the data into training and testing sets for both targets\n",
        "X_train_down, X_test_down, y_train_down, y_test_down = train_test_split(X, y_down, test_size=0.2, random_state=42)\n",
        "X_train_rent, X_test_rent, y_train_rent, y_test_rent = train_test_split(X, y_rent, test_size=0.2, random_state=42)\n",
        "\n",
        "# Initialize and train the models\n",
        "model_down = LinearRegression()\n",
        "model_rent = LinearRegression()\n",
        "\n",
        "model_down.fit(X_train_down, y_train_down)\n",
        "model_rent.fit(X_train_rent, y_train_rent)\n",
        "\n",
        "# Function to predict 'down' and 'rent'\n",
        "def predict_down_rent(details):\n",
        "    down = model_down.predict([details])\n",
        "    rent = model_rent.predict([details])\n",
        "    return down[0], rent[0]\n",
        "\n",
        "# Example prediction\n",
        "example_house = [54, 92, 1, 1, 1]\n",
        "predicted_down, predicted_rent = predict_down_rent(example_house)\n",
        "print(f\"Predicted down payment: {predicted_down}\")\n",
        "print(f\"Predicted rent: {predicted_rent}\")\n"
      ],
      "metadata": {
        "id": "uZhu41YAYj4p",
        "colab": {
          "base_uri": "https://localhost:8080/"
        },
        "outputId": "92c416d2-e8ca-4225-97eb-6681d355460b"
      },
      "execution_count": 2,
      "outputs": [
        {
          "output_type": "stream",
          "name": "stdout",
          "text": [
            "Predicted down payment: 324.67676788439763\n",
            "Predicted rent: 13.301497453712019\n"
          ]
        },
        {
          "output_type": "stream",
          "name": "stderr",
          "text": [
            "/usr/local/lib/python3.10/dist-packages/sklearn/base.py:465: UserWarning: X does not have valid feature names, but LinearRegression was fitted with feature names\n",
            "  warnings.warn(\n",
            "/usr/local/lib/python3.10/dist-packages/sklearn/base.py:465: UserWarning: X does not have valid feature names, but LinearRegression was fitted with feature names\n",
            "  warnings.warn(\n"
          ]
        }
      ]
    },
    {
      "cell_type": "code",
      "source": [
        "import pandas as pd\n",
        "from sklearn.model_selection import train_test_split\n",
        "from sklearn.linear_model import LinearRegression\n",
        "from sklearn.metrics import mean_squared_error, r2_score\n",
        "\n",
        "# Create the dataset\n",
        "data = {\n",
        "    'm2': [50, 65, 38, 57, 58, 58, 45, 50, 58, 52, 55, 50, 55, 55, 57, 55, 45, 45],\n",
        "    'year': [85, 85, 85, 88, 92, 85, 89, 97, 87, 87, 96, 83, 88, 79, 82, 95, 95, 90],\n",
        "    'down': [300, 650, 300, 800, 200, 750, 450, 700, 750, 300, 300, 200, 100, 200, 400, 750, 200, 200],\n",
        "    'rent': [7.5, 6, 6, 0, 17, 0, 6, 0, 0, 9.5, 15.5, 15, 20, 13, 9, 0, 15, 16],\n",
        "    'parking': [1, 1, 1, 1, 1, 1, 1, 1, 1, 1, 1, 1, 0, 0, 1, 1, 1, 1],\n",
        "    'elevator': [1, 1, 1, 0, 1, 0, 1, 1, 0, 0, 1, 1, 0, 0, 0, 1, 1, 1],\n",
        "    'warehouse': [1, 1, 1, 1, 1, 1, 1, 1, 1, 1, 1, 1, 1, 1, 1, 0, 1, 1]\n",
        "}\n",
        "\n",
        "# Create a DataFrame\n",
        "df = pd.DataFrame(data)\n",
        "\n",
        "# Define features and targets for 'down' and 'rent'\n",
        "features = ['m2', 'year', 'parking', 'elevator', 'warehouse']\n",
        "X = df[features]\n",
        "y_down = df['down']\n",
        "y_rent = df['rent']\n",
        "\n",
        "# Split the data into training and testing sets for both targets\n",
        "X_train_down, X_test_down, y_train_down, y_test_down = train_test_split(X, y_down, test_size=0.2, random_state=42)\n",
        "X_train_rent, X_test_rent, y_train_rent, y_test_rent = train_test_split(X, y_rent, test_size=0.2, random_state=42)\n",
        "\n",
        "# Initialize and train the models\n",
        "model_down = LinearRegression()\n",
        "model_rent = LinearRegression()\n",
        "\n",
        "model_down.fit(X_train_down, y_train_down)\n",
        "model_rent.fit(X_train_rent, y_train_rent)\n",
        "\n",
        "# Function to predict 'down' and 'rent' with minimum down payment constraint\n",
        "def predict_down_rent(details, min_down=450):\n",
        "    down = model_down.predict([details])\n",
        "    rent = model_rent.predict([details])\n",
        "    # Ensure down payment is at least the minimum value\n",
        "    if down[0] < min_down:\n",
        "        down[0] = min_down\n",
        "    return down[0], rent[0]\n",
        "\n",
        "# Example prediction\n",
        "example_house = [54, 92, 1, 1, 1]\n",
        "predicted_down, predicted_rent = predict_down_rent(example_house)\n",
        "print(f\"Predicted down payment: {predicted_down}\")\n",
        "print(f\"Predicted rent: {predicted_rent}\")\n"
      ],
      "metadata": {
        "colab": {
          "base_uri": "https://localhost:8080/"
        },
        "id": "RpPxO3How_S5",
        "outputId": "915efc96-3b9a-4c80-e10d-cb4d251af764"
      },
      "execution_count": 3,
      "outputs": [
        {
          "output_type": "stream",
          "name": "stdout",
          "text": [
            "Predicted down payment: 450.0\n",
            "Predicted rent: 13.301497453712019\n"
          ]
        },
        {
          "output_type": "stream",
          "name": "stderr",
          "text": [
            "/usr/local/lib/python3.10/dist-packages/sklearn/base.py:465: UserWarning: X does not have valid feature names, but LinearRegression was fitted with feature names\n",
            "  warnings.warn(\n",
            "/usr/local/lib/python3.10/dist-packages/sklearn/base.py:465: UserWarning: X does not have valid feature names, but LinearRegression was fitted with feature names\n",
            "  warnings.warn(\n"
          ]
        }
      ]
    },
    {
      "cell_type": "code",
      "source": [
        "import numpy as np\n",
        "import pandas as pd\n",
        "from sklearn.model_selection import train_test_split\n",
        "from sklearn.linear_model import LinearRegression\n",
        "\n",
        "# Create the DataFrame\n",
        "data = {\n",
        "    'm2': [50, 65, 38, 57, 58, 58, 45, 50, 58, 52, 55, 50, 55, 55, 57, 55, 45, 45],\n",
        "    'year': [85, 85, 85, 88, 92, 85, 89, 97, 87, 87, 96, 83, 88, 79, 82, 95, 95, 90],\n",
        "    'down': [300, 650, 300, 800, 200, 750, 450, 700, 750, 300, 300, 200, 100, 200, 400, 750, 200, 200],\n",
        "    'rent': [7.5, 6, 6, 0, 17, 0, 6, 0, 0, 9.5, 15.5, 15, 20, 13, 9, 0, 15, 16],\n",
        "    'parking': [1, 1, 1, 1, 1, 1, 1, 1, 1, 1, 1, 1, 0, 0, 1, 1, 1, 1],\n",
        "    'elevator': [1, 1, 1, 0, 1, 0, 1, 1, 0, 0, 1, 1, 0, 0, 0, 1, 1, 1],\n",
        "    'warehouse': [1, 1, 1, 1, 1, 1, 1, 1, 1, 1, 1, 1, 1, 1, 1, 0, 1, 1]\n",
        "}\n",
        "\n",
        "df = pd.DataFrame(data)\n",
        "\n",
        "# Prepare Features and Target\n",
        "X = df[['m2', 'year', 'down', 'parking', 'elevator', 'warehouse']]\n",
        "y = df['rent']\n",
        "\n",
        "# Split the Data\n",
        "X_train, X_test, y_train, y_test = train_test_split(X, y, test_size=0.2, random_state=42)\n",
        "\n",
        "# Train the Model\n",
        "model = LinearRegression()\n",
        "model.fit(X_train, y_train)\n",
        "\n",
        "# Make Predictions\n",
        "new_house = np.array([[54, 92, 450, 1, 1, 1]])\n",
        "predicted_rent = model.predict(new_house)\n",
        "print(f\"Predicted rent for the house: {predicted_rent[0]}\")\n"
      ],
      "metadata": {
        "colab": {
          "base_uri": "https://localhost:8080/"
        },
        "id": "s_A52_AzyIJZ",
        "outputId": "82b0bf52-3990-41e5-ec57-6376a2e2c0f5"
      },
      "execution_count": 11,
      "outputs": [
        {
          "output_type": "stream",
          "name": "stdout",
          "text": [
            "Predicted rent for the house: 9.49923989984794\n"
          ]
        },
        {
          "output_type": "stream",
          "name": "stderr",
          "text": [
            "/usr/local/lib/python3.10/dist-packages/sklearn/base.py:465: UserWarning: X does not have valid feature names, but LinearRegression was fitted with feature names\n",
            "  warnings.warn(\n"
          ]
        }
      ]
    },
    {
      "cell_type": "code",
      "source": [
        "5*30"
      ],
      "metadata": {
        "colab": {
          "base_uri": "https://localhost:8080/"
        },
        "id": "vn3fkIYEyYuQ",
        "outputId": "65234774-551e-4521-8bc9-db1c3a19ea1c"
      },
      "execution_count": 12,
      "outputs": [
        {
          "output_type": "execute_result",
          "data": {
            "text/plain": [
              "150"
            ]
          },
          "metadata": {},
          "execution_count": 12
        }
      ]
    },
    {
      "cell_type": "code",
      "source": [
        "600,4.5"
      ],
      "metadata": {
        "colab": {
          "base_uri": "https://localhost:8080/"
        },
        "id": "Iy6u8bBX1Qzz",
        "outputId": "0631fb48-ca01-410c-f881-843c6fe223c1"
      },
      "execution_count": 13,
      "outputs": [
        {
          "output_type": "execute_result",
          "data": {
            "text/plain": [
              "(600, 4.5)"
            ]
          },
          "metadata": {},
          "execution_count": 13
        }
      ]
    },
    {
      "cell_type": "code",
      "source": [
        "450+120,4.5"
      ],
      "metadata": {
        "colab": {
          "base_uri": "https://localhost:8080/"
        },
        "id": "YjqJsWKw1qWM",
        "outputId": "a0c53fa6-1650-4f1f-becd-4f5d5a361f85"
      },
      "execution_count": 15,
      "outputs": [
        {
          "output_type": "execute_result",
          "data": {
            "text/plain": [
              "(570, 4.5)"
            ]
          },
          "metadata": {},
          "execution_count": 15
        }
      ]
    },
    {
      "cell_type": "code",
      "source": [
        "450,4.5+120/30"
      ],
      "metadata": {
        "colab": {
          "base_uri": "https://localhost:8080/"
        },
        "id": "ipIfo_gW1vSz",
        "outputId": "8998254f-9ece-4355-fbf7-8fa89330d90c"
      },
      "execution_count": 16,
      "outputs": [
        {
          "output_type": "execute_result",
          "data": {
            "text/plain": [
              "(450, 8.5)"
            ]
          },
          "metadata": {},
          "execution_count": 16
        }
      ]
    },
    {
      "cell_type": "code",
      "source": [
        "500, 4.5+70/30"
      ],
      "metadata": {
        "colab": {
          "base_uri": "https://localhost:8080/"
        },
        "id": "xt4JjRSa152L",
        "outputId": "72a2172a-bbf3-49d4-97f8-78045c9b54e0"
      },
      "execution_count": 17,
      "outputs": [
        {
          "output_type": "execute_result",
          "data": {
            "text/plain": [
              "(500, 6.833333333333334)"
            ]
          },
          "metadata": {},
          "execution_count": 17
        }
      ]
    },
    {
      "cell_type": "code",
      "source": [],
      "metadata": {
        "id": "c57TuVfe2Bb-"
      },
      "execution_count": null,
      "outputs": []
    }
  ]
}