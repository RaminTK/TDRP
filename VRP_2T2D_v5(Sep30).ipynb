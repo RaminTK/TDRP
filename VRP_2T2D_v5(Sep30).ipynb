{
  "cells": [
    {
      "cell_type": "markdown",
      "metadata": {
        "id": "view-in-github",
        "colab_type": "text"
      },
      "source": [
        "<a href=\"https://colab.research.google.com/github/RaminTK/TDRP/blob/main/VRP_2T2D_v5(Sep30).ipynb\" target=\"_parent\"><img src=\"https://colab.research.google.com/assets/colab-badge.svg\" alt=\"Open In Colab\"/></a>"
      ]
    },
    {
      "cell_type": "markdown",
      "metadata": {
        "id": "UV_CFLQu2gCR"
      },
      "source": [
        "Improvements compared to v3:\n",
        "\n",
        "- Overlap on UAV and Truck path\n",
        "\n",
        "- Capacitated UAV"
      ]
    },
    {
      "cell_type": "code",
      "execution_count": null,
      "metadata": {
        "id": "5xkeVfY1qXW1"
      },
      "outputs": [],
      "source": [
        "# !pip install gurobipy"
      ]
    },
    {
      "cell_type": "markdown",
      "metadata": {
        "id": "cHRYm6ZOrbdX"
      },
      "source": [
        "# Libraries"
      ]
    },
    {
      "cell_type": "code",
      "execution_count": null,
      "metadata": {
        "id": "M0ERIaWlqmr8"
      },
      "outputs": [],
      "source": [
        "import gurobipy as gp\n",
        "from gurobipy import GRB\n",
        "import numpy as np\n",
        "import pandas as pd\n",
        "from scipy.spatial import distance_matrix\n",
        "import matplotlib.pyplot as plt"
      ]
    },
    {
      "cell_type": "code",
      "execution_count": null,
      "metadata": {
        "id": "hlFg4ZJVWMmt"
      },
      "outputs": [],
      "source": [
        "# Create an environment with your WLS license\n",
        "params = {\n",
        "\"WLSACCESSID\": 'c5c6ef9a-d24b-4e09-99ba-a30fae3c2de1',\n",
        "\"WLSSECRET\": '3809b277-8064-4385-8804-9971d3dc9938',\n",
        "\"LICENSEID\": 2536865,\n",
        "}\n",
        "\n",
        "# env = gp.Env(params=params)\n",
        "\n",
        "# # Create the model within the Gurobi environment\n",
        "# model = gp.Model(env=env)"
      ]
    },
    {
      "cell_type": "markdown",
      "metadata": {
        "id": "0Cb1h78brjFQ"
      },
      "source": [
        "# Parameters"
      ]
    },
    {
      "cell_type": "markdown",
      "metadata": {
        "id": "0Lcdp_oTsAru"
      },
      "source": [
        "$d^{t}_{ij}$ Travel time between node $i$ and $j$ by truck, $(i,j) \\in A^t$.\n",
        "\n",
        "$d^{u}_{ij}$ Travel time between node $i$ and $j$ by UAV, $(i,j) \\in A^u$.\n",
        "\n",
        "$M$ A sufficiently large number.\n",
        "\n",
        "<!-- $L$ & Battery life limit of UAV. -->\n",
        "\n",
        "$N$ Total number of aid recipients (bu UAV).\n",
        "\n",
        "$L$ Number of aid recipients accessible by truck.\n",
        "\n",
        "$R$ Number of Trucks.\n",
        "\n",
        "$V$ Number of UAVs.\n",
        "\n",
        "<!-- $q$ Relief item capacity limit of UAVs. (unlimited) -->"
      ]
    },
    {
      "cell_type": "code",
      "execution_count": null,
      "metadata": {
        "id": "d2h7rxwSrb6y"
      },
      "outputs": [],
      "source": [
        "N = 6  # Total number of aid recipients (bu UAV)\n",
        "L = 5  # Number of aid recipients accessible by truck\n",
        "R = 2  # Number of Trucks\n",
        "V = 2  # Number of UAVs\n",
        "# q = 10  # Relief item capacity limit of UAVs. (unlimited)\n",
        "M = 100000  # A large number"
      ]
    },
    {
      "cell_type": "markdown",
      "metadata": {
        "id": "22KInr9IsMJb"
      },
      "source": [
        "# Sets"
      ]
    },
    {
      "cell_type": "markdown",
      "metadata": {
        "id": "JrY1jphCsN_3"
      },
      "source": [
        "\n",
        "$A^t$  Set of aid recipients served by trucks and depot. $A^t \\subset A_U$.\n",
        "\n",
        "$A^u$  Set of aid recipients served by UAVs and depote (all nodes). $A^u$.\n",
        "\n",
        "$U$  Set of UAVs. $|U|= V$.\n",
        "\n",
        "$T$  Set of trucks. $|T| = R$."
      ]
    },
    {
      "cell_type": "code",
      "execution_count": null,
      "metadata": {
        "id": "A8CLQlefrjej"
      },
      "outputs": [],
      "source": [
        "A_T = (list(range(L+1)))+[N+1]  # Set of nodes for trucks\n",
        "A_U = list(range(N+2))# Set of nodes for UAVs\n",
        "\n",
        "T = list(range(1,R+1))      # Set of trucks\n",
        "U = T"
      ]
    },
    {
      "cell_type": "markdown",
      "metadata": {
        "id": "EVQNkUDwsVKp"
      },
      "source": [
        "## Generate random coordinates for the nodes"
      ]
    },
    {
      "cell_type": "code",
      "execution_count": null,
      "metadata": {
        "id": "6Dd6GW_3sSxd"
      },
      "outputs": [],
      "source": [
        "# Number of nodes\n",
        "N += 1\n",
        "\n",
        "np.random.seed(0)  # For reproducibility\n",
        "coordinates = np.random.rand(N, 2) * 100  # Generate random coordinates in a 100x100 area"
      ]
    },
    {
      "cell_type": "code",
      "execution_count": null,
      "metadata": {
        "id": "F7VW5VvasXPg"
      },
      "outputs": [],
      "source": [
        "coordinates = np.vstack([coordinates, coordinates[0]])"
      ]
    },
    {
      "cell_type": "markdown",
      "metadata": {
        "id": "FyRuSDs5saGK"
      },
      "source": [
        "## Distance Matrix\n"
      ]
    },
    {
      "cell_type": "code",
      "execution_count": null,
      "metadata": {
        "id": "8CzdgsFnsYpN"
      },
      "outputs": [],
      "source": [
        "euclidean_dist_matrix = distance_matrix(coordinates, coordinates)\n",
        "manhattan_dist_matrix = distance_matrix(coordinates, coordinates, p=1)"
      ]
    },
    {
      "cell_type": "code",
      "execution_count": null,
      "metadata": {
        "id": "DQ-79jNtc4PA"
      },
      "outputs": [],
      "source": [
        "euclidean_df = pd.DataFrame(euclidean_dist_matrix, columns=[f'Node {i}' for i in range(N+1)], index=[f'Node {i}' for i in range(N+1)])\n",
        "manhattan_df = pd.DataFrame(manhattan_dist_matrix, columns=[f'Node {i}' for i in range(N+1)], index=[f'Node {i}' for i in range(N+1)])"
      ]
    },
    {
      "cell_type": "markdown",
      "metadata": {
        "id": "tXIMqXwrsdoK"
      },
      "source": [
        "## Plot the nodes"
      ]
    },
    {
      "cell_type": "code",
      "execution_count": null,
      "metadata": {
        "colab": {
          "base_uri": "https://localhost:8080/",
          "height": 872
        },
        "id": "vWhRbD2HPwcl",
        "outputId": "05f2c691-344f-4677-ddac-0d0c2a8f888a"
      },
      "outputs": [
        {
          "output_type": "display_data",
          "data": {
            "text/plain": [
              "<Figure size 1000x1000 with 1 Axes>"
            ],
            "image/png": "[encoded data removed]"
          },
          "metadata": {}
        }
      ],
      "source": [
        "plt.figure(figsize=(10, 10))\n",
        "# plt.scatter(coordinates[:, 0], coordinates[:, 1], color='red')\n",
        "plt.scatter(coordinates[A_T[1:-1], 0], coordinates[A_T[1:-1], 1], color='red', label='Truck or Drone')\n",
        "plt.scatter(coordinates[[item for item in A_U if item not in A_T], 0], coordinates[[item for item in A_U if item not in A_T], 1], color='blue', label='Only Drone')\n",
        "\n",
        "# Highlight the first and last points as depots\n",
        "plt.scatter(coordinates[0, 0], coordinates[0, 1], color='gray', s=100, label='Depot')\n",
        "plt.scatter(coordinates[-1, 0], coordinates[-1, 1], color='gray', s=100)\n",
        "\n",
        "# Annotate the nodes\n",
        "for i, (x, y) in enumerate(coordinates):\n",
        "    if i == 0:\n",
        "        plt.text(x, y, 'Depot', fontsize=12, ha='right')\n",
        "    elif i == len(coordinates) - 1:\n",
        "        plt.text(x, y, 'Depot', fontsize=12, ha='right')\n",
        "    else:\n",
        "        plt.text(x, y, f'Node {i}', fontsize=12, ha='right')\n",
        "\n",
        "# Draw lines between nodes for Euclidean distances\n",
        "for i in range(len(coordinates)):\n",
        "    for j in range(i + 1, N+1):\n",
        "        plt.plot([coordinates[i, 0], coordinates[j, 0]], [coordinates[i, 1], coordinates[j, 1]], 'gray', linestyle='--', linewidth=0.5)\n",
        "\n",
        "plt.title('Nodes and Euclidean Distances')\n",
        "plt.xlabel('X Coordinate')\n",
        "plt.ylabel('Y Coordinate')\n",
        "plt.grid(True)\n",
        "plt.legend()\n",
        "plt.show()"
      ]
    },
    {
      "cell_type": "code",
      "execution_count": null,
      "metadata": {
        "id": "JPvOCskKsm6i"
      },
      "outputs": [],
      "source": [
        "d_t = manhattan_df  # Travel times for trucks => will change into a matrix of Manhttan distances\n",
        "d_u = euclidean_df  # Travel times for UAVs => will change into a matrix of  Euclidean distances"
      ]
    },
    {
      "cell_type": "markdown",
      "metadata": {
        "id": "THUH9Q4TsdVn"
      },
      "source": [
        "# Model"
      ]
    },
    {
      "cell_type": "code",
      "execution_count": null,
      "metadata": {
        "colab": {
          "base_uri": "https://localhost:8080/"
        },
        "id": "mVKmqLEtspMN",
        "outputId": "dc8379e5-8c26-4ef5-878a-cb5450bd7d22"
      },
      "outputs": [
        {
          "output_type": "stream",
          "name": "stdout",
          "text": [
            "Set parameter WLSAccessID\n",
            "Set parameter WLSSecret\n",
            "Set parameter LicenseID to value 2536865\n",
            "Academic license 2536865 - for non-commercial use only - registered to rt___@stevens.edu\n"
          ]
        }
      ],
      "source": [
        "env = gp.Env(params=params)\n",
        "m = gp.Model(env=env)"
      ]
    },
    {
      "cell_type": "markdown",
      "metadata": {
        "id": "j0UieaS_tOpd"
      },
      "source": [
        "# Indices"
      ]
    },
    {
      "cell_type": "markdown",
      "metadata": {
        "id": "3gZM6sMLtSTa"
      },
      "source": [
        "$i, j, h, s, g, v$  Equivalently used indices for the nodes of the network (aid recipients and depot).\n",
        "\n",
        "$t$  Index of trucks."
      ]
    },
    {
      "cell_type": "markdown",
      "metadata": {
        "id": "lU_hb4cUtUH3"
      },
      "source": [
        "# Variables"
      ]
    },
    {
      "cell_type": "markdown",
      "metadata": {
        "id": "jSH-9RBJtVZw"
      },
      "source": [
        "$x^{t}_{ij}$ 1 if truck $t$ moves from node $i$ to node $j$; 0 otherwise. $(i,j) \\in A_t, t \\in T$.\n",
        "\n",
        "$y^{t}_{ijs}$ 1 if UAV $u$ moves from node $i$ to node $j$ and meet it's truck on node $s$; 0 otherwise. $(i,j) \\in A_U$ s in for $t \\in T$.\n",
        "\n",
        "$z^{t}_{i}$ Position of node $i$ in the truck $t$ route. $i \\in A_E$ for $t \\in T$.\n",
        "\n",
        "$r^{t}_{i}$ Arrival time of truck $t$ at node $i$. $i \\in A_E$ for $t \\in T$.\n",
        "\n",
        "$p^{t}_{i}$ Departure time of truck $t$ from node $i$. $i \\in A_E$ for $t \\in T$."
      ]
    },
    {
      "cell_type": "code",
      "execution_count": null,
      "metadata": {
        "id": "dcz5E-j0sqhL"
      },
      "outputs": [],
      "source": [
        "x = m.addVars(A_T[:-1], A_T[1:], T, vtype=GRB.BINARY,lb=0, name=\"Truck\") #1 if truck $w$ moves from node $i$ to node $j$; 0 otherwise. $(i,j) \\in C_0$ for $w \\in W$.\n",
        "y = m.addVars(A_U[:-1], A_U[1:], A_T[1:], U, vtype=GRB.BINARY, lb=0, name=\"UAV\") #1 if UAV $u$ travels from node $i$ to visit node $j$ and returns to the truck $w$ at node $s$; 0 otherwise. $(i,j,s) \\in C_0$ for $w \\in W$ and $u \\in U$.\n",
        "z_t = m.addVars(A_T[1:-1],T, vtype=GRB.INTEGER,lb=1.0,ub= L, name=\"truck order\") #Position of node $i$ in the truck $w$ route. $i \\in C_0$ for $w \\in W$.\n",
        "z_u = m.addVars(A_U[1:-1],U, vtype=GRB.INTEGER,lb=1.0,ub= N, name=\"uav order\") #Position of node $i$ in the uav $t$ route. $i \\in A_T$ for $t \\in T$.\n",
        "r_t = m.addVars(A_T,T, vtype=GRB.CONTINUOUS, lb=0.0, name=\"arrival time truck\") #Arrival time of truck $w$ at node $i$. $i \\in C_0$ for $w \\in W$.\n",
        "p_t = m.addVars(A_T, T, vtype=GRB.CONTINUOUS, lb=0.0, name=\"departure time truck\") #Departure time of truck $w$ from node $i$. $i \\in C_0$ for $w \\in W$.\n",
        "r_u = m.addVars(A_U, U, vtype=GRB.CONTINUOUS, lb=0.0, name=\"arrival time uav\")\n",
        "p_u = m.addVars(A_U, T, vtype=GRB.CONTINUOUS, lb=0.0, name=\"departure time uav\")\n",
        "w = m.addVar(vtype=GRB.CONTINUOUS, lb=0.0, name=\"objective\")"
      ]
    },
    {
      "cell_type": "markdown",
      "metadata": {
        "id": "iWnMEaV-tpc7"
      },
      "source": [
        "# Objective Function\n",
        "\n",
        "Min (Max $(r^t_{it} + r^u_{ju}), \\forall i \\in A^t,\\forall j \\in A^u,\\forall t \\in T,\\forall u \\in U), $"
      ]
    },
    {
      "cell_type": "markdown",
      "metadata": {
        "id": "tYVHH5hytrYP"
      },
      "source": [
        "Min $\\sum_{i \\in A_T} \\sum_{t \\in T} r^{t}_{i}$ (1)\n"
      ]
    },
    {
      "cell_type": "code",
      "source": [
        "r_t,r_u"
      ],
      "metadata": {
        "colab": {
          "base_uri": "https://localhost:8080/"
        },
        "id": "2CRUWIZfIWPL",
        "outputId": "cfb58c83-7cf5-40da-9d1d-bf5a1e67ca11"
      },
      "execution_count": null,
      "outputs": [
        {
          "output_type": "execute_result",
          "data": {
            "text/plain": [
              "({(0, 1): <gurobi.Var *Awaiting Model Update*>,\n",
              "  (0, 2): <gurobi.Var *Awaiting Model Update*>,\n",
              "  (1, 1): <gurobi.Var *Awaiting Model Update*>,\n",
              "  (1, 2): <gurobi.Var *Awaiting Model Update*>,\n",
              "  (2, 1): <gurobi.Var *Awaiting Model Update*>,\n",
              "  (2, 2): <gurobi.Var *Awaiting Model Update*>,\n",
              "  (3, 1): <gurobi.Var *Awaiting Model Update*>,\n",
              "  (3, 2): <gurobi.Var *Awaiting Model Update*>,\n",
              "  (4, 1): <gurobi.Var *Awaiting Model Update*>,\n",
              "  (4, 2): <gurobi.Var *Awaiting Model Update*>,\n",
              "  (5, 1): <gurobi.Var *Awaiting Model Update*>,\n",
              "  (5, 2): <gurobi.Var *Awaiting Model Update*>,\n",
              "  (7, 1): <gurobi.Var *Awaiting Model Update*>,\n",
              "  (7, 2): <gurobi.Var *Awaiting Model Update*>},\n",
              " {(0, 1): <gurobi.Var *Awaiting Model Update*>,\n",
              "  (0, 2): <gurobi.Var *Awaiting Model Update*>,\n",
              "  (1, 1): <gurobi.Var *Awaiting Model Update*>,\n",
              "  (1, 2): <gurobi.Var *Awaiting Model Update*>,\n",
              "  (2, 1): <gurobi.Var *Awaiting Model Update*>,\n",
              "  (2, 2): <gurobi.Var *Awaiting Model Update*>,\n",
              "  (3, 1): <gurobi.Var *Awaiting Model Update*>,\n",
              "  (3, 2): <gurobi.Var *Awaiting Model Update*>,\n",
              "  (4, 1): <gurobi.Var *Awaiting Model Update*>,\n",
              "  (4, 2): <gurobi.Var *Awaiting Model Update*>,\n",
              "  (5, 1): <gurobi.Var *Awaiting Model Update*>,\n",
              "  (5, 2): <gurobi.Var *Awaiting Model Update*>,\n",
              "  (6, 1): <gurobi.Var *Awaiting Model Update*>,\n",
              "  (6, 2): <gurobi.Var *Awaiting Model Update*>,\n",
              "  (7, 1): <gurobi.Var *Awaiting Model Update*>,\n",
              "  (7, 2): <gurobi.Var *Awaiting Model Update*>})"
            ]
          },
          "metadata": {},
          "execution_count": 225
        }
      ]
    },
    {
      "cell_type": "code",
      "execution_count": null,
      "metadata": {
        "id": "5Z49Y9LOdmsm"
      },
      "outputs": [],
      "source": [
        "m.setObjective(w, GRB.MINIMIZE)"
      ]
    },
    {
      "cell_type": "code",
      "execution_count": null,
      "metadata": {
        "colab": {
          "base_uri": "https://localhost:8080/"
        },
        "id": "vAayEdfldmqR",
        "outputId": "78517e40-975c-4e88-933b-676835bf865b"
      },
      "outputs": [
        {
          "output_type": "execute_result",
          "data": {
            "text/plain": [
              "{(1, 1): <gurobi.Constr *Awaiting Model Update*>,\n",
              " (1, 2): <gurobi.Constr *Awaiting Model Update*>,\n",
              " (2, 1): <gurobi.Constr *Awaiting Model Update*>,\n",
              " (2, 2): <gurobi.Constr *Awaiting Model Update*>,\n",
              " (3, 1): <gurobi.Constr *Awaiting Model Update*>,\n",
              " (3, 2): <gurobi.Constr *Awaiting Model Update*>,\n",
              " (4, 1): <gurobi.Constr *Awaiting Model Update*>,\n",
              " (4, 2): <gurobi.Constr *Awaiting Model Update*>,\n",
              " (5, 1): <gurobi.Constr *Awaiting Model Update*>,\n",
              " (5, 2): <gurobi.Constr *Awaiting Model Update*>,\n",
              " (6, 1): <gurobi.Constr *Awaiting Model Update*>,\n",
              " (6, 2): <gurobi.Constr *Awaiting Model Update*>}"
            ]
          },
          "metadata": {},
          "execution_count": 227
        }
      ],
      "source": [
        "m.addConstrs(r_t[i,t] <= w for i in A_T[1:-1] for t in T)\n",
        "m.addConstrs(r_u[i,u] <= w for i in A_U[1:-1] for u in U)"
      ]
    },
    {
      "cell_type": "markdown",
      "metadata": {
        "id": "gFPN7MgDo64H"
      },
      "source": []
    },
    {
      "cell_type": "markdown",
      "metadata": {
        "id": "RB_g4lgMFVYr"
      },
      "source": [
        "# Constraints"
      ]
    },
    {
      "cell_type": "markdown",
      "metadata": {
        "id": "No8z0ByRty-W"
      },
      "source": [
        "$\\sum_{j \\in A_T} x^{t}_{0j} = 1, \\forall t \\in T$  (2)"
      ]
    },
    {
      "cell_type": "code",
      "execution_count": null,
      "metadata": {
        "colab": {
          "base_uri": "https://localhost:8080/"
        },
        "id": "3MUsg3estb6N",
        "outputId": "70786ed4-4998-4235-ff5d-2aa12ac8aacd"
      },
      "outputs": [
        {
          "output_type": "execute_result",
          "data": {
            "text/plain": [
              "{1: <gurobi.Constr *Awaiting Model Update*>,\n",
              " 2: <gurobi.Constr *Awaiting Model Update*>}"
            ]
          },
          "metadata": {},
          "execution_count": 228
        }
      ],
      "source": [
        "m.addConstrs((gp.quicksum(x[0, j, t] for j in A_T[1:-1]) == 1 for t in T), \"DepartsFromDepot\") #done\n",
        "\n",
        "m.addConstrs((gp.quicksum(y[0, j, s, u] for j in A_U[1:-1] for s in A_T[1:]) <= 1 for u in U), \"UAVsFromDepot\") #done"
      ]
    },
    {
      "cell_type": "markdown",
      "metadata": {
        "id": "sKBVnAjatzx4"
      },
      "source": [
        "$\\sum_{i \\in C_T} x^{t}_{i,end} = 1, \\forall t \\in T$ (3)"
      ]
    },
    {
      "cell_type": "code",
      "execution_count": null,
      "metadata": {
        "colab": {
          "base_uri": "https://localhost:8080/"
        },
        "id": "VCXnjPJBtdBb",
        "outputId": "92355bdb-b949-4fb8-bc7c-77be444491f3"
      },
      "outputs": [
        {
          "output_type": "execute_result",
          "data": {
            "text/plain": [
              "{1: <gurobi.Constr *Awaiting Model Update*>,\n",
              " 2: <gurobi.Constr *Awaiting Model Update*>}"
            ]
          },
          "metadata": {},
          "execution_count": 229
        }
      ],
      "source": [
        "m.addConstrs((gp.quicksum(x[i, N, t] for i in A_T[1:-1]) == 1 for t in T), \"ReturnsToDepot\") #done"
      ]
    },
    {
      "cell_type": "markdown",
      "metadata": {
        "id": "v26ohKCxIH1J"
      },
      "source": [
        "explain - truck self return ban"
      ]
    },
    {
      "cell_type": "code",
      "execution_count": null,
      "metadata": {
        "colab": {
          "base_uri": "https://localhost:8080/"
        },
        "id": "McyFpUCpDjnR",
        "outputId": "dad3e03e-d7e5-4f3a-ab2b-65b8be702c22"
      },
      "outputs": [
        {
          "output_type": "execute_result",
          "data": {
            "text/plain": [
              "<gurobi.Constr *Awaiting Model Update*>"
            ]
          },
          "metadata": {},
          "execution_count": 230
        }
      ],
      "source": [
        "m.addConstr(gp.quicksum(x[i, j, t] for t in T for i in A_T[1:-1] for j in A_T[1:-1] if i == j) == 0, \"self_return_ban\") #done\n",
        "\n",
        "m.addConstr(gp.quicksum(x[0, N, t] for t in T) == 0, \"self return ban\") #done"
      ]
    },
    {
      "cell_type": "markdown",
      "metadata": {
        "id": "W078EGWxSA_N"
      },
      "source": [
        "explain - uav self return ban"
      ]
    },
    {
      "cell_type": "code",
      "execution_count": null,
      "metadata": {
        "colab": {
          "base_uri": "https://localhost:8080/"
        },
        "id": "S3MAwUNqSBZI",
        "outputId": "0028cf93-df94-46a3-b737-46a59df707e8"
      },
      "outputs": [
        {
          "output_type": "execute_result",
          "data": {
            "text/plain": [
              "<gurobi.Constr *Awaiting Model Update*>"
            ]
          },
          "metadata": {},
          "execution_count": 231
        }
      ],
      "source": [
        "m.addConstr(gp.quicksum(y[i, j, s, u] for s in A_T[1:] for u in U for i in A_U[1:-1] for j in A_U[1:-1] if i == j ) == 0, \"self return ban\") #done\n",
        "\n",
        "m.addConstr(gp.quicksum(y[0, N, s, u] for s in A_T[1:] for u in U) == 0, \"self return ban\") #done"
      ]
    },
    {
      "cell_type": "markdown",
      "metadata": {
        "id": "rfS_QQlJDyS5"
      },
      "source": [
        "$\\sum_{g \\in A_T \\atop g \\neq i} x^{t}_{gi} = \\sum_{j \\in A_U \\atop j \\neq i} x^{t}_{ij}, \\forall i \\in A_T, \\forall t \\in T,$ (4)"
      ]
    },
    {
      "cell_type": "code",
      "execution_count": null,
      "metadata": {
        "colab": {
          "base_uri": "https://localhost:8080/"
        },
        "id": "4d2fZmGaD2VA",
        "outputId": "b310b110-e7c4-4a87-d74d-02720f8b048d"
      },
      "outputs": [
        {
          "output_type": "execute_result",
          "data": {
            "text/plain": [
              "{(1, 1): <gurobi.Constr *Awaiting Model Update*>,\n",
              " (1, 2): <gurobi.Constr *Awaiting Model Update*>,\n",
              " (2, 1): <gurobi.Constr *Awaiting Model Update*>,\n",
              " (2, 2): <gurobi.Constr *Awaiting Model Update*>,\n",
              " (3, 1): <gurobi.Constr *Awaiting Model Update*>,\n",
              " (3, 2): <gurobi.Constr *Awaiting Model Update*>,\n",
              " (4, 1): <gurobi.Constr *Awaiting Model Update*>,\n",
              " (4, 2): <gurobi.Constr *Awaiting Model Update*>,\n",
              " (5, 1): <gurobi.Constr *Awaiting Model Update*>,\n",
              " (5, 2): <gurobi.Constr *Awaiting Model Update*>}"
            ]
          },
          "metadata": {},
          "execution_count": 232
        }
      ],
      "source": [
        "m.addConstrs((gp.quicksum(x[g, i, t] for g in A_T[:-1] if g != i) == gp.quicksum(x[i, j, t] for j in A_T[1:] if j != i) for i in A_T[1:-1] for t in T), \"FlowConservationTruck\") #probably this forces to visit the depote at the end"
      ]
    },
    {
      "cell_type": "code",
      "execution_count": null,
      "metadata": {
        "colab": {
          "base_uri": "https://localhost:8080/"
        },
        "collapsed": true,
        "id": "YCwIMgBMIigS",
        "outputId": "85a18111-e592-4167-babb-61d1a74b1ee6"
      },
      "outputs": [
        {
          "output_type": "execute_result",
          "data": {
            "text/plain": [
              "{(1, 1, 1): <gurobi.Constr *Awaiting Model Update*>,\n",
              " (1, 1, 2): <gurobi.Constr *Awaiting Model Update*>,\n",
              " (1, 2, 1): <gurobi.Constr *Awaiting Model Update*>,\n",
              " (1, 2, 2): <gurobi.Constr *Awaiting Model Update*>,\n",
              " (1, 3, 1): <gurobi.Constr *Awaiting Model Update*>,\n",
              " (1, 3, 2): <gurobi.Constr *Awaiting Model Update*>,\n",
              " (1, 4, 1): <gurobi.Constr *Awaiting Model Update*>,\n",
              " (1, 4, 2): <gurobi.Constr *Awaiting Model Update*>,\n",
              " (1, 5, 1): <gurobi.Constr *Awaiting Model Update*>,\n",
              " (1, 5, 2): <gurobi.Constr *Awaiting Model Update*>,\n",
              " (1, 7, 1): <gurobi.Constr *Awaiting Model Update*>,\n",
              " (1, 7, 2): <gurobi.Constr *Awaiting Model Update*>,\n",
              " (2, 1, 1): <gurobi.Constr *Awaiting Model Update*>,\n",
              " (2, 1, 2): <gurobi.Constr *Awaiting Model Update*>,\n",
              " (2, 2, 1): <gurobi.Constr *Awaiting Model Update*>,\n",
              " (2, 2, 2): <gurobi.Constr *Awaiting Model Update*>,\n",
              " (2, 3, 1): <gurobi.Constr *Awaiting Model Update*>,\n",
              " (2, 3, 2): <gurobi.Constr *Awaiting Model Update*>,\n",
              " (2, 4, 1): <gurobi.Constr *Awaiting Model Update*>,\n",
              " (2, 4, 2): <gurobi.Constr *Awaiting Model Update*>,\n",
              " (2, 5, 1): <gurobi.Constr *Awaiting Model Update*>,\n",
              " (2, 5, 2): <gurobi.Constr *Awaiting Model Update*>,\n",
              " (2, 7, 1): <gurobi.Constr *Awaiting Model Update*>,\n",
              " (2, 7, 2): <gurobi.Constr *Awaiting Model Update*>,\n",
              " (3, 1, 1): <gurobi.Constr *Awaiting Model Update*>,\n",
              " (3, 1, 2): <gurobi.Constr *Awaiting Model Update*>,\n",
              " (3, 2, 1): <gurobi.Constr *Awaiting Model Update*>,\n",
              " (3, 2, 2): <gurobi.Constr *Awaiting Model Update*>,\n",
              " (3, 3, 1): <gurobi.Constr *Awaiting Model Update*>,\n",
              " (3, 3, 2): <gurobi.Constr *Awaiting Model Update*>,\n",
              " (3, 4, 1): <gurobi.Constr *Awaiting Model Update*>,\n",
              " (3, 4, 2): <gurobi.Constr *Awaiting Model Update*>,\n",
              " (3, 5, 1): <gurobi.Constr *Awaiting Model Update*>,\n",
              " (3, 5, 2): <gurobi.Constr *Awaiting Model Update*>,\n",
              " (3, 7, 1): <gurobi.Constr *Awaiting Model Update*>,\n",
              " (3, 7, 2): <gurobi.Constr *Awaiting Model Update*>,\n",
              " (4, 1, 1): <gurobi.Constr *Awaiting Model Update*>,\n",
              " (4, 1, 2): <gurobi.Constr *Awaiting Model Update*>,\n",
              " (4, 2, 1): <gurobi.Constr *Awaiting Model Update*>,\n",
              " (4, 2, 2): <gurobi.Constr *Awaiting Model Update*>,\n",
              " (4, 3, 1): <gurobi.Constr *Awaiting Model Update*>,\n",
              " (4, 3, 2): <gurobi.Constr *Awaiting Model Update*>,\n",
              " (4, 4, 1): <gurobi.Constr *Awaiting Model Update*>,\n",
              " (4, 4, 2): <gurobi.Constr *Awaiting Model Update*>,\n",
              " (4, 5, 1): <gurobi.Constr *Awaiting Model Update*>,\n",
              " (4, 5, 2): <gurobi.Constr *Awaiting Model Update*>,\n",
              " (4, 7, 1): <gurobi.Constr *Awaiting Model Update*>,\n",
              " (4, 7, 2): <gurobi.Constr *Awaiting Model Update*>,\n",
              " (5, 1, 1): <gurobi.Constr *Awaiting Model Update*>,\n",
              " (5, 1, 2): <gurobi.Constr *Awaiting Model Update*>,\n",
              " (5, 2, 1): <gurobi.Constr *Awaiting Model Update*>,\n",
              " (5, 2, 2): <gurobi.Constr *Awaiting Model Update*>,\n",
              " (5, 3, 1): <gurobi.Constr *Awaiting Model Update*>,\n",
              " (5, 3, 2): <gurobi.Constr *Awaiting Model Update*>,\n",
              " (5, 4, 1): <gurobi.Constr *Awaiting Model Update*>,\n",
              " (5, 4, 2): <gurobi.Constr *Awaiting Model Update*>,\n",
              " (5, 5, 1): <gurobi.Constr *Awaiting Model Update*>,\n",
              " (5, 5, 2): <gurobi.Constr *Awaiting Model Update*>,\n",
              " (5, 7, 1): <gurobi.Constr *Awaiting Model Update*>,\n",
              " (5, 7, 2): <gurobi.Constr *Awaiting Model Update*>,\n",
              " (6, 1, 1): <gurobi.Constr *Awaiting Model Update*>,\n",
              " (6, 1, 2): <gurobi.Constr *Awaiting Model Update*>,\n",
              " (6, 2, 1): <gurobi.Constr *Awaiting Model Update*>,\n",
              " (6, 2, 2): <gurobi.Constr *Awaiting Model Update*>,\n",
              " (6, 3, 1): <gurobi.Constr *Awaiting Model Update*>,\n",
              " (6, 3, 2): <gurobi.Constr *Awaiting Model Update*>,\n",
              " (6, 4, 1): <gurobi.Constr *Awaiting Model Update*>,\n",
              " (6, 4, 2): <gurobi.Constr *Awaiting Model Update*>,\n",
              " (6, 5, 1): <gurobi.Constr *Awaiting Model Update*>,\n",
              " (6, 5, 2): <gurobi.Constr *Awaiting Model Update*>,\n",
              " (6, 7, 1): <gurobi.Constr *Awaiting Model Update*>,\n",
              " (6, 7, 2): <gurobi.Constr *Awaiting Model Update*>}"
            ]
          },
          "metadata": {},
          "execution_count": 233
        }
      ],
      "source": [
        "m.addConstrs((gp.quicksum(y[g, i, s, u] for g in A_U[:-1] if g != i) == gp.quicksum(y[i, j, s, u] for j in A_U[1:] if j != i) for i in A_U[1:-1] for s in A_T[1:] for u in U), \"FlowConservationUAV\")  #probably this forces to visit the depote at the end\n"
      ]
    },
    {
      "cell_type": "markdown",
      "metadata": {
        "id": "-qIw8oExJKdq"
      },
      "source": [
        "$\\sum_{i \\in A_T \\atop i \\neq j} \\sum_{t \\in T} x^{t}_{ij} + \\sum_{i \\in A_U \\atop i \\neq j} \\sum_{s \\in A_E} \\sum_{u \\in U} y^{ut}_{ijs} = 1, \\forall j \\in A_T,$ (5)\n",
        "\n",
        "\n",
        "it is only for nodes A_T. we should another one only for nodes unique for A_U (A_U - A_T)"
      ]
    },
    {
      "cell_type": "code",
      "execution_count": null,
      "metadata": {
        "colab": {
          "base_uri": "https://localhost:8080/"
        },
        "id": "VCLyybkShnBM",
        "outputId": "9875ec2a-cf0f-44c2-b505-4b0fbd862740"
      },
      "outputs": [
        {
          "output_type": "execute_result",
          "data": {
            "text/plain": [
              "{1: <gurobi.Constr *Awaiting Model Update*>,\n",
              " 2: <gurobi.Constr *Awaiting Model Update*>,\n",
              " 3: <gurobi.Constr *Awaiting Model Update*>,\n",
              " 4: <gurobi.Constr *Awaiting Model Update*>,\n",
              " 5: <gurobi.Constr *Awaiting Model Update*>}"
            ]
          },
          "metadata": {},
          "execution_count": 234
        }
      ],
      "source": [
        "m.addConstrs((gp.quicksum(x[i, j, t] for i in A_T[:-1] if i != j for t in T) + gp.quicksum(y[g, j, s, u] for g in A_U[:-1] if g != j for s in A_T[1:] for u in U) == 1 for j in A_T[1:-1]), \"VisitOnce - Truck or UAV\")\n"
      ]
    },
    {
      "cell_type": "markdown",
      "metadata": {
        "id": "w5gfx6OrnRuG"
      },
      "source": [
        "it is only for nodes A_T. we should another one only for nodes unique for A_U (A_U - A_T)"
      ]
    },
    {
      "cell_type": "code",
      "execution_count": null,
      "metadata": {
        "colab": {
          "base_uri": "https://localhost:8080/"
        },
        "id": "59iJF1NKnQ_W",
        "outputId": "dfac4a0b-653f-40dc-d822-8bde40755655"
      },
      "outputs": [
        {
          "output_type": "execute_result",
          "data": {
            "text/plain": [
              "{6: <gurobi.Constr *Awaiting Model Update*>}"
            ]
          },
          "metadata": {},
          "execution_count": 235
        }
      ],
      "source": [
        "m.addConstrs((gp.quicksum(y[i, j, s, t] for i in A_U[:-1] if i != j for s in A_T[1:] for t in T) == 1 for j in  list(set(A_U) - set(A_T))), \"VisitOnce - UAV\")\n"
      ]
    },
    {
      "cell_type": "markdown",
      "metadata": {
        "id": "uObbzQ8adamY"
      },
      "source": [
        "$1 - (c + 2)(1 - x^{w}_{ij}) \\leq z_j - z^{w}_{i}, \\forall i \\in C_T, \\forall j \\in C_E, i \\neq j, \\forall w \\in W$ (17)\n",
        "\n",
        "\n",
        "MTZ for truck"
      ]
    },
    {
      "cell_type": "code",
      "execution_count": null,
      "metadata": {
        "colab": {
          "base_uri": "https://localhost:8080/"
        },
        "collapsed": true,
        "id": "TcaIz7rO4jiD",
        "outputId": "c3fc779d-3f30-4b20-dca5-ee4366aea27e"
      },
      "outputs": [
        {
          "output_type": "execute_result",
          "data": {
            "text/plain": [
              "{(1, 2, 1): <gurobi.Constr *Awaiting Model Update*>,\n",
              " (1, 2, 2): <gurobi.Constr *Awaiting Model Update*>,\n",
              " (1, 3, 1): <gurobi.Constr *Awaiting Model Update*>,\n",
              " (1, 3, 2): <gurobi.Constr *Awaiting Model Update*>,\n",
              " (1, 4, 1): <gurobi.Constr *Awaiting Model Update*>,\n",
              " (1, 4, 2): <gurobi.Constr *Awaiting Model Update*>,\n",
              " (1, 5, 1): <gurobi.Constr *Awaiting Model Update*>,\n",
              " (1, 5, 2): <gurobi.Constr *Awaiting Model Update*>,\n",
              " (2, 1, 1): <gurobi.Constr *Awaiting Model Update*>,\n",
              " (2, 1, 2): <gurobi.Constr *Awaiting Model Update*>,\n",
              " (2, 3, 1): <gurobi.Constr *Awaiting Model Update*>,\n",
              " (2, 3, 2): <gurobi.Constr *Awaiting Model Update*>,\n",
              " (2, 4, 1): <gurobi.Constr *Awaiting Model Update*>,\n",
              " (2, 4, 2): <gurobi.Constr *Awaiting Model Update*>,\n",
              " (2, 5, 1): <gurobi.Constr *Awaiting Model Update*>,\n",
              " (2, 5, 2): <gurobi.Constr *Awaiting Model Update*>,\n",
              " (3, 1, 1): <gurobi.Constr *Awaiting Model Update*>,\n",
              " (3, 1, 2): <gurobi.Constr *Awaiting Model Update*>,\n",
              " (3, 2, 1): <gurobi.Constr *Awaiting Model Update*>,\n",
              " (3, 2, 2): <gurobi.Constr *Awaiting Model Update*>,\n",
              " (3, 4, 1): <gurobi.Constr *Awaiting Model Update*>,\n",
              " (3, 4, 2): <gurobi.Constr *Awaiting Model Update*>,\n",
              " (3, 5, 1): <gurobi.Constr *Awaiting Model Update*>,\n",
              " (3, 5, 2): <gurobi.Constr *Awaiting Model Update*>,\n",
              " (4, 1, 1): <gurobi.Constr *Awaiting Model Update*>,\n",
              " (4, 1, 2): <gurobi.Constr *Awaiting Model Update*>,\n",
              " (4, 2, 1): <gurobi.Constr *Awaiting Model Update*>,\n",
              " (4, 2, 2): <gurobi.Constr *Awaiting Model Update*>,\n",
              " (4, 3, 1): <gurobi.Constr *Awaiting Model Update*>,\n",
              " (4, 3, 2): <gurobi.Constr *Awaiting Model Update*>,\n",
              " (4, 5, 1): <gurobi.Constr *Awaiting Model Update*>,\n",
              " (4, 5, 2): <gurobi.Constr *Awaiting Model Update*>,\n",
              " (5, 1, 1): <gurobi.Constr *Awaiting Model Update*>,\n",
              " (5, 1, 2): <gurobi.Constr *Awaiting Model Update*>,\n",
              " (5, 2, 1): <gurobi.Constr *Awaiting Model Update*>,\n",
              " (5, 2, 2): <gurobi.Constr *Awaiting Model Update*>,\n",
              " (5, 3, 1): <gurobi.Constr *Awaiting Model Update*>,\n",
              " (5, 3, 2): <gurobi.Constr *Awaiting Model Update*>,\n",
              " (5, 4, 1): <gurobi.Constr *Awaiting Model Update*>,\n",
              " (5, 4, 2): <gurobi.Constr *Awaiting Model Update*>}"
            ]
          },
          "metadata": {},
          "execution_count": 236
        }
      ],
      "source": [
        "m.addConstrs(z_t[i,t] - z_t[j,t] + (L) * x[i,j,t] <= L - 1 for i in A_T[1:-1] for j in A_T[1:-1] if i != j for t in T)"
      ]
    },
    {
      "cell_type": "markdown",
      "metadata": {
        "id": "N_hV8pdrZehK"
      },
      "source": [
        "$(c+2) - 1 \\leq z_{i} - z_{j} + (c+2) y^{uw}_{ij}, \\forall i \\in C_{0}, \\forall j \\in C_E, \\forall u \\in U, \\forall w \\in W,$ (16)\n",
        "\n",
        "\n",
        "MTZ for UAV"
      ]
    },
    {
      "cell_type": "code",
      "execution_count": null,
      "metadata": {
        "colab": {
          "base_uri": "https://localhost:8080/"
        },
        "collapsed": true,
        "id": "9nOnWafHZepx",
        "outputId": "d362f535-3b3e-4d58-95f9-5aed24c3048f"
      },
      "outputs": [
        {
          "output_type": "execute_result",
          "data": {
            "text/plain": [
              "{(1, 2, 1, 1): <gurobi.Constr *Awaiting Model Update*>,\n",
              " (1, 2, 1, 2): <gurobi.Constr *Awaiting Model Update*>,\n",
              " (1, 2, 2, 1): <gurobi.Constr *Awaiting Model Update*>,\n",
              " (1, 2, 2, 2): <gurobi.Constr *Awaiting Model Update*>,\n",
              " (1, 2, 3, 1): <gurobi.Constr *Awaiting Model Update*>,\n",
              " (1, 2, 3, 2): <gurobi.Constr *Awaiting Model Update*>,\n",
              " (1, 2, 4, 1): <gurobi.Constr *Awaiting Model Update*>,\n",
              " (1, 2, 4, 2): <gurobi.Constr *Awaiting Model Update*>,\n",
              " (1, 2, 5, 1): <gurobi.Constr *Awaiting Model Update*>,\n",
              " (1, 2, 5, 2): <gurobi.Constr *Awaiting Model Update*>,\n",
              " (1, 2, 7, 1): <gurobi.Constr *Awaiting Model Update*>,\n",
              " (1, 2, 7, 2): <gurobi.Constr *Awaiting Model Update*>,\n",
              " (1, 3, 1, 1): <gurobi.Constr *Awaiting Model Update*>,\n",
              " (1, 3, 1, 2): <gurobi.Constr *Awaiting Model Update*>,\n",
              " (1, 3, 2, 1): <gurobi.Constr *Awaiting Model Update*>,\n",
              " (1, 3, 2, 2): <gurobi.Constr *Awaiting Model Update*>,\n",
              " (1, 3, 3, 1): <gurobi.Constr *Awaiting Model Update*>,\n",
              " (1, 3, 3, 2): <gurobi.Constr *Awaiting Model Update*>,\n",
              " (1, 3, 4, 1): <gurobi.Constr *Awaiting Model Update*>,\n",
              " (1, 3, 4, 2): <gurobi.Constr *Awaiting Model Update*>,\n",
              " (1, 3, 5, 1): <gurobi.Constr *Awaiting Model Update*>,\n",
              " (1, 3, 5, 2): <gurobi.Constr *Awaiting Model Update*>,\n",
              " (1, 3, 7, 1): <gurobi.Constr *Awaiting Model Update*>,\n",
              " (1, 3, 7, 2): <gurobi.Constr *Awaiting Model Update*>,\n",
              " (1, 4, 1, 1): <gurobi.Constr *Awaiting Model Update*>,\n",
              " (1, 4, 1, 2): <gurobi.Constr *Awaiting Model Update*>,\n",
              " (1, 4, 2, 1): <gurobi.Constr *Awaiting Model Update*>,\n",
              " (1, 4, 2, 2): <gurobi.Constr *Awaiting Model Update*>,\n",
              " (1, 4, 3, 1): <gurobi.Constr *Awaiting Model Update*>,\n",
              " (1, 4, 3, 2): <gurobi.Constr *Awaiting Model Update*>,\n",
              " (1, 4, 4, 1): <gurobi.Constr *Awaiting Model Update*>,\n",
              " (1, 4, 4, 2): <gurobi.Constr *Awaiting Model Update*>,\n",
              " (1, 4, 5, 1): <gurobi.Constr *Awaiting Model Update*>,\n",
              " (1, 4, 5, 2): <gurobi.Constr *Awaiting Model Update*>,\n",
              " (1, 4, 7, 1): <gurobi.Constr *Awaiting Model Update*>,\n",
              " (1, 4, 7, 2): <gurobi.Constr *Awaiting Model Update*>,\n",
              " (1, 5, 1, 1): <gurobi.Constr *Awaiting Model Update*>,\n",
              " (1, 5, 1, 2): <gurobi.Constr *Awaiting Model Update*>,\n",
              " (1, 5, 2, 1): <gurobi.Constr *Awaiting Model Update*>,\n",
              " (1, 5, 2, 2): <gurobi.Constr *Awaiting Model Update*>,\n",
              " (1, 5, 3, 1): <gurobi.Constr *Awaiting Model Update*>,\n",
              " (1, 5, 3, 2): <gurobi.Constr *Awaiting Model Update*>,\n",
              " (1, 5, 4, 1): <gurobi.Constr *Awaiting Model Update*>,\n",
              " (1, 5, 4, 2): <gurobi.Constr *Awaiting Model Update*>,\n",
              " (1, 5, 5, 1): <gurobi.Constr *Awaiting Model Update*>,\n",
              " (1, 5, 5, 2): <gurobi.Constr *Awaiting Model Update*>,\n",
              " (1, 5, 7, 1): <gurobi.Constr *Awaiting Model Update*>,\n",
              " (1, 5, 7, 2): <gurobi.Constr *Awaiting Model Update*>,\n",
              " (1, 6, 1, 1): <gurobi.Constr *Awaiting Model Update*>,\n",
              " (1, 6, 1, 2): <gurobi.Constr *Awaiting Model Update*>,\n",
              " (1, 6, 2, 1): <gurobi.Constr *Awaiting Model Update*>,\n",
              " (1, 6, 2, 2): <gurobi.Constr *Awaiting Model Update*>,\n",
              " (1, 6, 3, 1): <gurobi.Constr *Awaiting Model Update*>,\n",
              " (1, 6, 3, 2): <gurobi.Constr *Awaiting Model Update*>,\n",
              " (1, 6, 4, 1): <gurobi.Constr *Awaiting Model Update*>,\n",
              " (1, 6, 4, 2): <gurobi.Constr *Awaiting Model Update*>,\n",
              " (1, 6, 5, 1): <gurobi.Constr *Awaiting Model Update*>,\n",
              " (1, 6, 5, 2): <gurobi.Constr *Awaiting Model Update*>,\n",
              " (1, 6, 7, 1): <gurobi.Constr *Awaiting Model Update*>,\n",
              " (1, 6, 7, 2): <gurobi.Constr *Awaiting Model Update*>,\n",
              " (2, 1, 1, 1): <gurobi.Constr *Awaiting Model Update*>,\n",
              " (2, 1, 1, 2): <gurobi.Constr *Awaiting Model Update*>,\n",
              " (2, 1, 2, 1): <gurobi.Constr *Awaiting Model Update*>,\n",
              " (2, 1, 2, 2): <gurobi.Constr *Awaiting Model Update*>,\n",
              " (2, 1, 3, 1): <gurobi.Constr *Awaiting Model Update*>,\n",
              " (2, 1, 3, 2): <gurobi.Constr *Awaiting Model Update*>,\n",
              " (2, 1, 4, 1): <gurobi.Constr *Awaiting Model Update*>,\n",
              " (2, 1, 4, 2): <gurobi.Constr *Awaiting Model Update*>,\n",
              " (2, 1, 5, 1): <gurobi.Constr *Awaiting Model Update*>,\n",
              " (2, 1, 5, 2): <gurobi.Constr *Awaiting Model Update*>,\n",
              " (2, 1, 7, 1): <gurobi.Constr *Awaiting Model Update*>,\n",
              " (2, 1, 7, 2): <gurobi.Constr *Awaiting Model Update*>,\n",
              " (2, 3, 1, 1): <gurobi.Constr *Awaiting Model Update*>,\n",
              " (2, 3, 1, 2): <gurobi.Constr *Awaiting Model Update*>,\n",
              " (2, 3, 2, 1): <gurobi.Constr *Awaiting Model Update*>,\n",
              " (2, 3, 2, 2): <gurobi.Constr *Awaiting Model Update*>,\n",
              " (2, 3, 3, 1): <gurobi.Constr *Awaiting Model Update*>,\n",
              " (2, 3, 3, 2): <gurobi.Constr *Awaiting Model Update*>,\n",
              " (2, 3, 4, 1): <gurobi.Constr *Awaiting Model Update*>,\n",
              " (2, 3, 4, 2): <gurobi.Constr *Awaiting Model Update*>,\n",
              " (2, 3, 5, 1): <gurobi.Constr *Awaiting Model Update*>,\n",
              " (2, 3, 5, 2): <gurobi.Constr *Awaiting Model Update*>,\n",
              " (2, 3, 7, 1): <gurobi.Constr *Awaiting Model Update*>,\n",
              " (2, 3, 7, 2): <gurobi.Constr *Awaiting Model Update*>,\n",
              " (2, 4, 1, 1): <gurobi.Constr *Awaiting Model Update*>,\n",
              " (2, 4, 1, 2): <gurobi.Constr *Awaiting Model Update*>,\n",
              " (2, 4, 2, 1): <gurobi.Constr *Awaiting Model Update*>,\n",
              " (2, 4, 2, 2): <gurobi.Constr *Awaiting Model Update*>,\n",
              " (2, 4, 3, 1): <gurobi.Constr *Awaiting Model Update*>,\n",
              " (2, 4, 3, 2): <gurobi.Constr *Awaiting Model Update*>,\n",
              " (2, 4, 4, 1): <gurobi.Constr *Awaiting Model Update*>,\n",
              " (2, 4, 4, 2): <gurobi.Constr *Awaiting Model Update*>,\n",
              " (2, 4, 5, 1): <gurobi.Constr *Awaiting Model Update*>,\n",
              " (2, 4, 5, 2): <gurobi.Constr *Awaiting Model Update*>,\n",
              " (2, 4, 7, 1): <gurobi.Constr *Awaiting Model Update*>,\n",
              " (2, 4, 7, 2): <gurobi.Constr *Awaiting Model Update*>,\n",
              " (2, 5, 1, 1): <gurobi.Constr *Awaiting Model Update*>,\n",
              " (2, 5, 1, 2): <gurobi.Constr *Awaiting Model Update*>,\n",
              " (2, 5, 2, 1): <gurobi.Constr *Awaiting Model Update*>,\n",
              " (2, 5, 2, 2): <gurobi.Constr *Awaiting Model Update*>,\n",
              " (2, 5, 3, 1): <gurobi.Constr *Awaiting Model Update*>,\n",
              " (2, 5, 3, 2): <gurobi.Constr *Awaiting Model Update*>,\n",
              " (2, 5, 4, 1): <gurobi.Constr *Awaiting Model Update*>,\n",
              " (2, 5, 4, 2): <gurobi.Constr *Awaiting Model Update*>,\n",
              " (2, 5, 5, 1): <gurobi.Constr *Awaiting Model Update*>,\n",
              " (2, 5, 5, 2): <gurobi.Constr *Awaiting Model Update*>,\n",
              " (2, 5, 7, 1): <gurobi.Constr *Awaiting Model Update*>,\n",
              " (2, 5, 7, 2): <gurobi.Constr *Awaiting Model Update*>,\n",
              " (2, 6, 1, 1): <gurobi.Constr *Awaiting Model Update*>,\n",
              " (2, 6, 1, 2): <gurobi.Constr *Awaiting Model Update*>,\n",
              " (2, 6, 2, 1): <gurobi.Constr *Awaiting Model Update*>,\n",
              " (2, 6, 2, 2): <gurobi.Constr *Awaiting Model Update*>,\n",
              " (2, 6, 3, 1): <gurobi.Constr *Awaiting Model Update*>,\n",
              " (2, 6, 3, 2): <gurobi.Constr *Awaiting Model Update*>,\n",
              " (2, 6, 4, 1): <gurobi.Constr *Awaiting Model Update*>,\n",
              " (2, 6, 4, 2): <gurobi.Constr *Awaiting Model Update*>,\n",
              " (2, 6, 5, 1): <gurobi.Constr *Awaiting Model Update*>,\n",
              " (2, 6, 5, 2): <gurobi.Constr *Awaiting Model Update*>,\n",
              " (2, 6, 7, 1): <gurobi.Constr *Awaiting Model Update*>,\n",
              " (2, 6, 7, 2): <gurobi.Constr *Awaiting Model Update*>,\n",
              " (3, 1, 1, 1): <gurobi.Constr *Awaiting Model Update*>,\n",
              " (3, 1, 1, 2): <gurobi.Constr *Awaiting Model Update*>,\n",
              " (3, 1, 2, 1): <gurobi.Constr *Awaiting Model Update*>,\n",
              " (3, 1, 2, 2): <gurobi.Constr *Awaiting Model Update*>,\n",
              " (3, 1, 3, 1): <gurobi.Constr *Awaiting Model Update*>,\n",
              " (3, 1, 3, 2): <gurobi.Constr *Awaiting Model Update*>,\n",
              " (3, 1, 4, 1): <gurobi.Constr *Awaiting Model Update*>,\n",
              " (3, 1, 4, 2): <gurobi.Constr *Awaiting Model Update*>,\n",
              " (3, 1, 5, 1): <gurobi.Constr *Awaiting Model Update*>,\n",
              " (3, 1, 5, 2): <gurobi.Constr *Awaiting Model Update*>,\n",
              " (3, 1, 7, 1): <gurobi.Constr *Awaiting Model Update*>,\n",
              " (3, 1, 7, 2): <gurobi.Constr *Awaiting Model Update*>,\n",
              " (3, 2, 1, 1): <gurobi.Constr *Awaiting Model Update*>,\n",
              " (3, 2, 1, 2): <gurobi.Constr *Awaiting Model Update*>,\n",
              " (3, 2, 2, 1): <gurobi.Constr *Awaiting Model Update*>,\n",
              " (3, 2, 2, 2): <gurobi.Constr *Awaiting Model Update*>,\n",
              " (3, 2, 3, 1): <gurobi.Constr *Awaiting Model Update*>,\n",
              " (3, 2, 3, 2): <gurobi.Constr *Awaiting Model Update*>,\n",
              " (3, 2, 4, 1): <gurobi.Constr *Awaiting Model Update*>,\n",
              " (3, 2, 4, 2): <gurobi.Constr *Awaiting Model Update*>,\n",
              " (3, 2, 5, 1): <gurobi.Constr *Awaiting Model Update*>,\n",
              " (3, 2, 5, 2): <gurobi.Constr *Awaiting Model Update*>,\n",
              " (3, 2, 7, 1): <gurobi.Constr *Awaiting Model Update*>,\n",
              " (3, 2, 7, 2): <gurobi.Constr *Awaiting Model Update*>,\n",
              " (3, 4, 1, 1): <gurobi.Constr *Awaiting Model Update*>,\n",
              " (3, 4, 1, 2): <gurobi.Constr *Awaiting Model Update*>,\n",
              " (3, 4, 2, 1): <gurobi.Constr *Awaiting Model Update*>,\n",
              " (3, 4, 2, 2): <gurobi.Constr *Awaiting Model Update*>,\n",
              " (3, 4, 3, 1): <gurobi.Constr *Awaiting Model Update*>,\n",
              " (3, 4, 3, 2): <gurobi.Constr *Awaiting Model Update*>,\n",
              " (3, 4, 4, 1): <gurobi.Constr *Awaiting Model Update*>,\n",
              " (3, 4, 4, 2): <gurobi.Constr *Awaiting Model Update*>,\n",
              " (3, 4, 5, 1): <gurobi.Constr *Awaiting Model Update*>,\n",
              " (3, 4, 5, 2): <gurobi.Constr *Awaiting Model Update*>,\n",
              " (3, 4, 7, 1): <gurobi.Constr *Awaiting Model Update*>,\n",
              " (3, 4, 7, 2): <gurobi.Constr *Awaiting Model Update*>,\n",
              " (3, 5, 1, 1): <gurobi.Constr *Awaiting Model Update*>,\n",
              " (3, 5, 1, 2): <gurobi.Constr *Awaiting Model Update*>,\n",
              " (3, 5, 2, 1): <gurobi.Constr *Awaiting Model Update*>,\n",
              " (3, 5, 2, 2): <gurobi.Constr *Awaiting Model Update*>,\n",
              " (3, 5, 3, 1): <gurobi.Constr *Awaiting Model Update*>,\n",
              " (3, 5, 3, 2): <gurobi.Constr *Awaiting Model Update*>,\n",
              " (3, 5, 4, 1): <gurobi.Constr *Awaiting Model Update*>,\n",
              " (3, 5, 4, 2): <gurobi.Constr *Awaiting Model Update*>,\n",
              " (3, 5, 5, 1): <gurobi.Constr *Awaiting Model Update*>,\n",
              " (3, 5, 5, 2): <gurobi.Constr *Awaiting Model Update*>,\n",
              " (3, 5, 7, 1): <gurobi.Constr *Awaiting Model Update*>,\n",
              " (3, 5, 7, 2): <gurobi.Constr *Awaiting Model Update*>,\n",
              " (3, 6, 1, 1): <gurobi.Constr *Awaiting Model Update*>,\n",
              " (3, 6, 1, 2): <gurobi.Constr *Awaiting Model Update*>,\n",
              " (3, 6, 2, 1): <gurobi.Constr *Awaiting Model Update*>,\n",
              " (3, 6, 2, 2): <gurobi.Constr *Awaiting Model Update*>,\n",
              " (3, 6, 3, 1): <gurobi.Constr *Awaiting Model Update*>,\n",
              " (3, 6, 3, 2): <gurobi.Constr *Awaiting Model Update*>,\n",
              " (3, 6, 4, 1): <gurobi.Constr *Awaiting Model Update*>,\n",
              " (3, 6, 4, 2): <gurobi.Constr *Awaiting Model Update*>,\n",
              " (3, 6, 5, 1): <gurobi.Constr *Awaiting Model Update*>,\n",
              " (3, 6, 5, 2): <gurobi.Constr *Awaiting Model Update*>,\n",
              " (3, 6, 7, 1): <gurobi.Constr *Awaiting Model Update*>,\n",
              " (3, 6, 7, 2): <gurobi.Constr *Awaiting Model Update*>,\n",
              " (4, 1, 1, 1): <gurobi.Constr *Awaiting Model Update*>,\n",
              " (4, 1, 1, 2): <gurobi.Constr *Awaiting Model Update*>,\n",
              " (4, 1, 2, 1): <gurobi.Constr *Awaiting Model Update*>,\n",
              " (4, 1, 2, 2): <gurobi.Constr *Awaiting Model Update*>,\n",
              " (4, 1, 3, 1): <gurobi.Constr *Awaiting Model Update*>,\n",
              " (4, 1, 3, 2): <gurobi.Constr *Awaiting Model Update*>,\n",
              " (4, 1, 4, 1): <gurobi.Constr *Awaiting Model Update*>,\n",
              " (4, 1, 4, 2): <gurobi.Constr *Awaiting Model Update*>,\n",
              " (4, 1, 5, 1): <gurobi.Constr *Awaiting Model Update*>,\n",
              " (4, 1, 5, 2): <gurobi.Constr *Awaiting Model Update*>,\n",
              " (4, 1, 7, 1): <gurobi.Constr *Awaiting Model Update*>,\n",
              " (4, 1, 7, 2): <gurobi.Constr *Awaiting Model Update*>,\n",
              " (4, 2, 1, 1): <gurobi.Constr *Awaiting Model Update*>,\n",
              " (4, 2, 1, 2): <gurobi.Constr *Awaiting Model Update*>,\n",
              " (4, 2, 2, 1): <gurobi.Constr *Awaiting Model Update*>,\n",
              " (4, 2, 2, 2): <gurobi.Constr *Awaiting Model Update*>,\n",
              " (4, 2, 3, 1): <gurobi.Constr *Awaiting Model Update*>,\n",
              " (4, 2, 3, 2): <gurobi.Constr *Awaiting Model Update*>,\n",
              " (4, 2, 4, 1): <gurobi.Constr *Awaiting Model Update*>,\n",
              " (4, 2, 4, 2): <gurobi.Constr *Awaiting Model Update*>,\n",
              " (4, 2, 5, 1): <gurobi.Constr *Awaiting Model Update*>,\n",
              " (4, 2, 5, 2): <gurobi.Constr *Awaiting Model Update*>,\n",
              " (4, 2, 7, 1): <gurobi.Constr *Awaiting Model Update*>,\n",
              " (4, 2, 7, 2): <gurobi.Constr *Awaiting Model Update*>,\n",
              " (4, 3, 1, 1): <gurobi.Constr *Awaiting Model Update*>,\n",
              " (4, 3, 1, 2): <gurobi.Constr *Awaiting Model Update*>,\n",
              " (4, 3, 2, 1): <gurobi.Constr *Awaiting Model Update*>,\n",
              " (4, 3, 2, 2): <gurobi.Constr *Awaiting Model Update*>,\n",
              " (4, 3, 3, 1): <gurobi.Constr *Awaiting Model Update*>,\n",
              " (4, 3, 3, 2): <gurobi.Constr *Awaiting Model Update*>,\n",
              " (4, 3, 4, 1): <gurobi.Constr *Awaiting Model Update*>,\n",
              " (4, 3, 4, 2): <gurobi.Constr *Awaiting Model Update*>,\n",
              " (4, 3, 5, 1): <gurobi.Constr *Awaiting Model Update*>,\n",
              " (4, 3, 5, 2): <gurobi.Constr *Awaiting Model Update*>,\n",
              " (4, 3, 7, 1): <gurobi.Constr *Awaiting Model Update*>,\n",
              " (4, 3, 7, 2): <gurobi.Constr *Awaiting Model Update*>,\n",
              " (4, 5, 1, 1): <gurobi.Constr *Awaiting Model Update*>,\n",
              " (4, 5, 1, 2): <gurobi.Constr *Awaiting Model Update*>,\n",
              " (4, 5, 2, 1): <gurobi.Constr *Awaiting Model Update*>,\n",
              " (4, 5, 2, 2): <gurobi.Constr *Awaiting Model Update*>,\n",
              " (4, 5, 3, 1): <gurobi.Constr *Awaiting Model Update*>,\n",
              " (4, 5, 3, 2): <gurobi.Constr *Awaiting Model Update*>,\n",
              " (4, 5, 4, 1): <gurobi.Constr *Awaiting Model Update*>,\n",
              " (4, 5, 4, 2): <gurobi.Constr *Awaiting Model Update*>,\n",
              " (4, 5, 5, 1): <gurobi.Constr *Awaiting Model Update*>,\n",
              " (4, 5, 5, 2): <gurobi.Constr *Awaiting Model Update*>,\n",
              " (4, 5, 7, 1): <gurobi.Constr *Awaiting Model Update*>,\n",
              " (4, 5, 7, 2): <gurobi.Constr *Awaiting Model Update*>,\n",
              " (4, 6, 1, 1): <gurobi.Constr *Awaiting Model Update*>,\n",
              " (4, 6, 1, 2): <gurobi.Constr *Awaiting Model Update*>,\n",
              " (4, 6, 2, 1): <gurobi.Constr *Awaiting Model Update*>,\n",
              " (4, 6, 2, 2): <gurobi.Constr *Awaiting Model Update*>,\n",
              " (4, 6, 3, 1): <gurobi.Constr *Awaiting Model Update*>,\n",
              " (4, 6, 3, 2): <gurobi.Constr *Awaiting Model Update*>,\n",
              " (4, 6, 4, 1): <gurobi.Constr *Awaiting Model Update*>,\n",
              " (4, 6, 4, 2): <gurobi.Constr *Awaiting Model Update*>,\n",
              " (4, 6, 5, 1): <gurobi.Constr *Awaiting Model Update*>,\n",
              " (4, 6, 5, 2): <gurobi.Constr *Awaiting Model Update*>,\n",
              " (4, 6, 7, 1): <gurobi.Constr *Awaiting Model Update*>,\n",
              " (4, 6, 7, 2): <gurobi.Constr *Awaiting Model Update*>,\n",
              " (5, 1, 1, 1): <gurobi.Constr *Awaiting Model Update*>,\n",
              " (5, 1, 1, 2): <gurobi.Constr *Awaiting Model Update*>,\n",
              " (5, 1, 2, 1): <gurobi.Constr *Awaiting Model Update*>,\n",
              " (5, 1, 2, 2): <gurobi.Constr *Awaiting Model Update*>,\n",
              " (5, 1, 3, 1): <gurobi.Constr *Awaiting Model Update*>,\n",
              " (5, 1, 3, 2): <gurobi.Constr *Awaiting Model Update*>,\n",
              " (5, 1, 4, 1): <gurobi.Constr *Awaiting Model Update*>,\n",
              " (5, 1, 4, 2): <gurobi.Constr *Awaiting Model Update*>,\n",
              " (5, 1, 5, 1): <gurobi.Constr *Awaiting Model Update*>,\n",
              " (5, 1, 5, 2): <gurobi.Constr *Awaiting Model Update*>,\n",
              " (5, 1, 7, 1): <gurobi.Constr *Awaiting Model Update*>,\n",
              " (5, 1, 7, 2): <gurobi.Constr *Awaiting Model Update*>,\n",
              " (5, 2, 1, 1): <gurobi.Constr *Awaiting Model Update*>,\n",
              " (5, 2, 1, 2): <gurobi.Constr *Awaiting Model Update*>,\n",
              " (5, 2, 2, 1): <gurobi.Constr *Awaiting Model Update*>,\n",
              " (5, 2, 2, 2): <gurobi.Constr *Awaiting Model Update*>,\n",
              " (5, 2, 3, 1): <gurobi.Constr *Awaiting Model Update*>,\n",
              " (5, 2, 3, 2): <gurobi.Constr *Awaiting Model Update*>,\n",
              " (5, 2, 4, 1): <gurobi.Constr *Awaiting Model Update*>,\n",
              " (5, 2, 4, 2): <gurobi.Constr *Awaiting Model Update*>,\n",
              " (5, 2, 5, 1): <gurobi.Constr *Awaiting Model Update*>,\n",
              " (5, 2, 5, 2): <gurobi.Constr *Awaiting Model Update*>,\n",
              " (5, 2, 7, 1): <gurobi.Constr *Awaiting Model Update*>,\n",
              " (5, 2, 7, 2): <gurobi.Constr *Awaiting Model Update*>,\n",
              " (5, 3, 1, 1): <gurobi.Constr *Awaiting Model Update*>,\n",
              " (5, 3, 1, 2): <gurobi.Constr *Awaiting Model Update*>,\n",
              " (5, 3, 2, 1): <gurobi.Constr *Awaiting Model Update*>,\n",
              " (5, 3, 2, 2): <gurobi.Constr *Awaiting Model Update*>,\n",
              " (5, 3, 3, 1): <gurobi.Constr *Awaiting Model Update*>,\n",
              " (5, 3, 3, 2): <gurobi.Constr *Awaiting Model Update*>,\n",
              " (5, 3, 4, 1): <gurobi.Constr *Awaiting Model Update*>,\n",
              " (5, 3, 4, 2): <gurobi.Constr *Awaiting Model Update*>,\n",
              " (5, 3, 5, 1): <gurobi.Constr *Awaiting Model Update*>,\n",
              " (5, 3, 5, 2): <gurobi.Constr *Awaiting Model Update*>,\n",
              " (5, 3, 7, 1): <gurobi.Constr *Awaiting Model Update*>,\n",
              " (5, 3, 7, 2): <gurobi.Constr *Awaiting Model Update*>,\n",
              " (5, 4, 1, 1): <gurobi.Constr *Awaiting Model Update*>,\n",
              " (5, 4, 1, 2): <gurobi.Constr *Awaiting Model Update*>,\n",
              " (5, 4, 2, 1): <gurobi.Constr *Awaiting Model Update*>,\n",
              " (5, 4, 2, 2): <gurobi.Constr *Awaiting Model Update*>,\n",
              " (5, 4, 3, 1): <gurobi.Constr *Awaiting Model Update*>,\n",
              " (5, 4, 3, 2): <gurobi.Constr *Awaiting Model Update*>,\n",
              " (5, 4, 4, 1): <gurobi.Constr *Awaiting Model Update*>,\n",
              " (5, 4, 4, 2): <gurobi.Constr *Awaiting Model Update*>,\n",
              " (5, 4, 5, 1): <gurobi.Constr *Awaiting Model Update*>,\n",
              " (5, 4, 5, 2): <gurobi.Constr *Awaiting Model Update*>,\n",
              " (5, 4, 7, 1): <gurobi.Constr *Awaiting Model Update*>,\n",
              " (5, 4, 7, 2): <gurobi.Constr *Awaiting Model Update*>,\n",
              " (5, 6, 1, 1): <gurobi.Constr *Awaiting Model Update*>,\n",
              " (5, 6, 1, 2): <gurobi.Constr *Awaiting Model Update*>,\n",
              " (5, 6, 2, 1): <gurobi.Constr *Awaiting Model Update*>,\n",
              " (5, 6, 2, 2): <gurobi.Constr *Awaiting Model Update*>,\n",
              " (5, 6, 3, 1): <gurobi.Constr *Awaiting Model Update*>,\n",
              " (5, 6, 3, 2): <gurobi.Constr *Awaiting Model Update*>,\n",
              " (5, 6, 4, 1): <gurobi.Constr *Awaiting Model Update*>,\n",
              " (5, 6, 4, 2): <gurobi.Constr *Awaiting Model Update*>,\n",
              " (5, 6, 5, 1): <gurobi.Constr *Awaiting Model Update*>,\n",
              " (5, 6, 5, 2): <gurobi.Constr *Awaiting Model Update*>,\n",
              " (5, 6, 7, 1): <gurobi.Constr *Awaiting Model Update*>,\n",
              " (5, 6, 7, 2): <gurobi.Constr *Awaiting Model Update*>,\n",
              " (6, 1, 1, 1): <gurobi.Constr *Awaiting Model Update*>,\n",
              " (6, 1, 1, 2): <gurobi.Constr *Awaiting Model Update*>,\n",
              " (6, 1, 2, 1): <gurobi.Constr *Awaiting Model Update*>,\n",
              " (6, 1, 2, 2): <gurobi.Constr *Awaiting Model Update*>,\n",
              " (6, 1, 3, 1): <gurobi.Constr *Awaiting Model Update*>,\n",
              " (6, 1, 3, 2): <gurobi.Constr *Awaiting Model Update*>,\n",
              " (6, 1, 4, 1): <gurobi.Constr *Awaiting Model Update*>,\n",
              " (6, 1, 4, 2): <gurobi.Constr *Awaiting Model Update*>,\n",
              " (6, 1, 5, 1): <gurobi.Constr *Awaiting Model Update*>,\n",
              " (6, 1, 5, 2): <gurobi.Constr *Awaiting Model Update*>,\n",
              " (6, 1, 7, 1): <gurobi.Constr *Awaiting Model Update*>,\n",
              " (6, 1, 7, 2): <gurobi.Constr *Awaiting Model Update*>,\n",
              " (6, 2, 1, 1): <gurobi.Constr *Awaiting Model Update*>,\n",
              " (6, 2, 1, 2): <gurobi.Constr *Awaiting Model Update*>,\n",
              " (6, 2, 2, 1): <gurobi.Constr *Awaiting Model Update*>,\n",
              " (6, 2, 2, 2): <gurobi.Constr *Awaiting Model Update*>,\n",
              " (6, 2, 3, 1): <gurobi.Constr *Awaiting Model Update*>,\n",
              " (6, 2, 3, 2): <gurobi.Constr *Awaiting Model Update*>,\n",
              " (6, 2, 4, 1): <gurobi.Constr *Awaiting Model Update*>,\n",
              " (6, 2, 4, 2): <gurobi.Constr *Awaiting Model Update*>,\n",
              " (6, 2, 5, 1): <gurobi.Constr *Awaiting Model Update*>,\n",
              " (6, 2, 5, 2): <gurobi.Constr *Awaiting Model Update*>,\n",
              " (6, 2, 7, 1): <gurobi.Constr *Awaiting Model Update*>,\n",
              " (6, 2, 7, 2): <gurobi.Constr *Awaiting Model Update*>,\n",
              " (6, 3, 1, 1): <gurobi.Constr *Awaiting Model Update*>,\n",
              " (6, 3, 1, 2): <gurobi.Constr *Awaiting Model Update*>,\n",
              " (6, 3, 2, 1): <gurobi.Constr *Awaiting Model Update*>,\n",
              " (6, 3, 2, 2): <gurobi.Constr *Awaiting Model Update*>,\n",
              " (6, 3, 3, 1): <gurobi.Constr *Awaiting Model Update*>,\n",
              " (6, 3, 3, 2): <gurobi.Constr *Awaiting Model Update*>,\n",
              " (6, 3, 4, 1): <gurobi.Constr *Awaiting Model Update*>,\n",
              " (6, 3, 4, 2): <gurobi.Constr *Awaiting Model Update*>,\n",
              " (6, 3, 5, 1): <gurobi.Constr *Awaiting Model Update*>,\n",
              " (6, 3, 5, 2): <gurobi.Constr *Awaiting Model Update*>,\n",
              " (6, 3, 7, 1): <gurobi.Constr *Awaiting Model Update*>,\n",
              " (6, 3, 7, 2): <gurobi.Constr *Awaiting Model Update*>,\n",
              " (6, 4, 1, 1): <gurobi.Constr *Awaiting Model Update*>,\n",
              " (6, 4, 1, 2): <gurobi.Constr *Awaiting Model Update*>,\n",
              " (6, 4, 2, 1): <gurobi.Constr *Awaiting Model Update*>,\n",
              " (6, 4, 2, 2): <gurobi.Constr *Awaiting Model Update*>,\n",
              " (6, 4, 3, 1): <gurobi.Constr *Awaiting Model Update*>,\n",
              " (6, 4, 3, 2): <gurobi.Constr *Awaiting Model Update*>,\n",
              " (6, 4, 4, 1): <gurobi.Constr *Awaiting Model Update*>,\n",
              " (6, 4, 4, 2): <gurobi.Constr *Awaiting Model Update*>,\n",
              " (6, 4, 5, 1): <gurobi.Constr *Awaiting Model Update*>,\n",
              " (6, 4, 5, 2): <gurobi.Constr *Awaiting Model Update*>,\n",
              " (6, 4, 7, 1): <gurobi.Constr *Awaiting Model Update*>,\n",
              " (6, 4, 7, 2): <gurobi.Constr *Awaiting Model Update*>,\n",
              " (6, 5, 1, 1): <gurobi.Constr *Awaiting Model Update*>,\n",
              " (6, 5, 1, 2): <gurobi.Constr *Awaiting Model Update*>,\n",
              " (6, 5, 2, 1): <gurobi.Constr *Awaiting Model Update*>,\n",
              " (6, 5, 2, 2): <gurobi.Constr *Awaiting Model Update*>,\n",
              " (6, 5, 3, 1): <gurobi.Constr *Awaiting Model Update*>,\n",
              " (6, 5, 3, 2): <gurobi.Constr *Awaiting Model Update*>,\n",
              " (6, 5, 4, 1): <gurobi.Constr *Awaiting Model Update*>,\n",
              " (6, 5, 4, 2): <gurobi.Constr *Awaiting Model Update*>,\n",
              " (6, 5, 5, 1): <gurobi.Constr *Awaiting Model Update*>,\n",
              " (6, 5, 5, 2): <gurobi.Constr *Awaiting Model Update*>,\n",
              " (6, 5, 7, 1): <gurobi.Constr *Awaiting Model Update*>,\n",
              " (6, 5, 7, 2): <gurobi.Constr *Awaiting Model Update*>}"
            ]
          },
          "metadata": {},
          "execution_count": 237
        }
      ],
      "source": [
        "m.addConstrs((z_u[i, u] - z_u[j, u] + (N) * y[i, j, s, u] <= N - 1 for i in A_U[1:-1] for j in A_U[1:-1] if i!= j for s in A_T[1:] for u in U))"
      ]
    },
    {
      "cell_type": "markdown",
      "metadata": {
        "id": "O-I2AjbjRl6O"
      },
      "source": [
        "$\\sum_{h \\in A_T \\atop h \\neq i} x_{hi} + \\sum_{g \\in A_E \\atop g \\neq s} x_{gs} \\geq 2 \\sum_{j \\in A_U} y^{ut}_{ijs}, \\forall i \\in A_T, \\forall s \\in A_E, \\forall u \\in U,$ (6)\n",
        "\n",
        "$\\sum_{j \\in C_D} y^{uw}_{0js} \\leq \\sum_{g \\in C_T \\atop g \\neq s} x_{gs}, \\forall s \\in C_E, \\forall u \\in U,$ (7)\n",
        "\n",
        "\n",
        "limit of visiting one node per tour by UAV\n",
        "\n",
        "must have more constrs for two and three visits"
      ]
    },
    {
      "cell_type": "code",
      "execution_count": null,
      "metadata": {
        "id": "zhhkj2DNRmKP"
      },
      "outputs": [],
      "source": [
        "# m.addConstrs((gp.quicksum(x[h, i, t] for h in A_T[:-1] if h != i) + gp.quicksum(x[g, s, t] for g in A_T[:-1] if g != s) >= 2 * gp.quicksum(y[i, j, s, t] for j in A_U[1:]) for i in A_T[1:-1] for s in A_T[1:] for t in T)) # this is just for S\n",
        "\n",
        "# m.addConstrs((gp.quicksum(y[0, j, s, t] for j in A_U[1:]) <= gp.quicksum(x[g, s, t] for g in A_T[:-1] if g != s) for s in A_T[1:] for t in T), \"UAVRouteConsistency\") # this is just for S\n"
      ]
    },
    {
      "cell_type": "markdown",
      "metadata": {
        "id": "fWXSj49_IbYN"
      },
      "source": [
        " $r^{t}_{j} + d_{ij} - (1 - x^{t}_{ij}) M \\leq p^{t}_{j}, \\forall i \\in A_T, \\forall j \\in A_E, i \\neq j,$ (8)\n"
      ]
    },
    {
      "cell_type": "code",
      "execution_count": null,
      "metadata": {
        "colab": {
          "base_uri": "https://localhost:8080/"
        },
        "id": "ysx5ROcEIbqE",
        "outputId": "45428ccc-2cf8-4a0e-b3e9-85e78fc8eca2"
      },
      "outputs": [
        {
          "output_type": "execute_result",
          "data": {
            "text/plain": [
              "{(0, 1, 1): <gurobi.Constr *Awaiting Model Update*>,\n",
              " (0, 1, 2): <gurobi.Constr *Awaiting Model Update*>,\n",
              " (0, 2, 1): <gurobi.Constr *Awaiting Model Update*>,\n",
              " (0, 2, 2): <gurobi.Constr *Awaiting Model Update*>,\n",
              " (0, 3, 1): <gurobi.Constr *Awaiting Model Update*>,\n",
              " (0, 3, 2): <gurobi.Constr *Awaiting Model Update*>,\n",
              " (0, 4, 1): <gurobi.Constr *Awaiting Model Update*>,\n",
              " (0, 4, 2): <gurobi.Constr *Awaiting Model Update*>,\n",
              " (0, 5, 1): <gurobi.Constr *Awaiting Model Update*>,\n",
              " (0, 5, 2): <gurobi.Constr *Awaiting Model Update*>,\n",
              " (0, 7, 1): <gurobi.Constr *Awaiting Model Update*>,\n",
              " (0, 7, 2): <gurobi.Constr *Awaiting Model Update*>,\n",
              " (1, 2, 1): <gurobi.Constr *Awaiting Model Update*>,\n",
              " (1, 2, 2): <gurobi.Constr *Awaiting Model Update*>,\n",
              " (1, 3, 1): <gurobi.Constr *Awaiting Model Update*>,\n",
              " (1, 3, 2): <gurobi.Constr *Awaiting Model Update*>,\n",
              " (1, 4, 1): <gurobi.Constr *Awaiting Model Update*>,\n",
              " (1, 4, 2): <gurobi.Constr *Awaiting Model Update*>,\n",
              " (1, 5, 1): <gurobi.Constr *Awaiting Model Update*>,\n",
              " (1, 5, 2): <gurobi.Constr *Awaiting Model Update*>,\n",
              " (1, 7, 1): <gurobi.Constr *Awaiting Model Update*>,\n",
              " (1, 7, 2): <gurobi.Constr *Awaiting Model Update*>,\n",
              " (2, 1, 1): <gurobi.Constr *Awaiting Model Update*>,\n",
              " (2, 1, 2): <gurobi.Constr *Awaiting Model Update*>,\n",
              " (2, 3, 1): <gurobi.Constr *Awaiting Model Update*>,\n",
              " (2, 3, 2): <gurobi.Constr *Awaiting Model Update*>,\n",
              " (2, 4, 1): <gurobi.Constr *Awaiting Model Update*>,\n",
              " (2, 4, 2): <gurobi.Constr *Awaiting Model Update*>,\n",
              " (2, 5, 1): <gurobi.Constr *Awaiting Model Update*>,\n",
              " (2, 5, 2): <gurobi.Constr *Awaiting Model Update*>,\n",
              " (2, 7, 1): <gurobi.Constr *Awaiting Model Update*>,\n",
              " (2, 7, 2): <gurobi.Constr *Awaiting Model Update*>,\n",
              " (3, 1, 1): <gurobi.Constr *Awaiting Model Update*>,\n",
              " (3, 1, 2): <gurobi.Constr *Awaiting Model Update*>,\n",
              " (3, 2, 1): <gurobi.Constr *Awaiting Model Update*>,\n",
              " (3, 2, 2): <gurobi.Constr *Awaiting Model Update*>,\n",
              " (3, 4, 1): <gurobi.Constr *Awaiting Model Update*>,\n",
              " (3, 4, 2): <gurobi.Constr *Awaiting Model Update*>,\n",
              " (3, 5, 1): <gurobi.Constr *Awaiting Model Update*>,\n",
              " (3, 5, 2): <gurobi.Constr *Awaiting Model Update*>,\n",
              " (3, 7, 1): <gurobi.Constr *Awaiting Model Update*>,\n",
              " (3, 7, 2): <gurobi.Constr *Awaiting Model Update*>,\n",
              " (4, 1, 1): <gurobi.Constr *Awaiting Model Update*>,\n",
              " (4, 1, 2): <gurobi.Constr *Awaiting Model Update*>,\n",
              " (4, 2, 1): <gurobi.Constr *Awaiting Model Update*>,\n",
              " (4, 2, 2): <gurobi.Constr *Awaiting Model Update*>,\n",
              " (4, 3, 1): <gurobi.Constr *Awaiting Model Update*>,\n",
              " (4, 3, 2): <gurobi.Constr *Awaiting Model Update*>,\n",
              " (4, 5, 1): <gurobi.Constr *Awaiting Model Update*>,\n",
              " (4, 5, 2): <gurobi.Constr *Awaiting Model Update*>,\n",
              " (4, 7, 1): <gurobi.Constr *Awaiting Model Update*>,\n",
              " (4, 7, 2): <gurobi.Constr *Awaiting Model Update*>,\n",
              " (5, 1, 1): <gurobi.Constr *Awaiting Model Update*>,\n",
              " (5, 1, 2): <gurobi.Constr *Awaiting Model Update*>,\n",
              " (5, 2, 1): <gurobi.Constr *Awaiting Model Update*>,\n",
              " (5, 2, 2): <gurobi.Constr *Awaiting Model Update*>,\n",
              " (5, 3, 1): <gurobi.Constr *Awaiting Model Update*>,\n",
              " (5, 3, 2): <gurobi.Constr *Awaiting Model Update*>,\n",
              " (5, 4, 1): <gurobi.Constr *Awaiting Model Update*>,\n",
              " (5, 4, 2): <gurobi.Constr *Awaiting Model Update*>,\n",
              " (5, 7, 1): <gurobi.Constr *Awaiting Model Update*>,\n",
              " (5, 7, 2): <gurobi.Constr *Awaiting Model Update*>}"
            ]
          },
          "metadata": {},
          "execution_count": 239
        }
      ],
      "source": [
        "m.addConstrs((p_t[i, t] + d_t.iloc[i, j] - (1 - x[i, j, t]) * M <= r_t[j, t] for i in A_T[:-1] for j in A_T[1:] if i != j for t in T), \"TruckArrivalTime\")"
      ]
    },
    {
      "cell_type": "markdown",
      "metadata": {
        "id": "GqgLEbUOMLuN"
      },
      "source": [
        "$\\tilde{t}^{u}_{i} + \\bar{d}_{ij} - (1 - \\sum_{s \\in C_E \\atop s \\neq j} y^{uw}_{ijs}) M \\leq \\tilde{l}^{u}_{j}, \\forall i \\in C_D, \\forall j \\in C, \\forall u \\in U,$ (9)"
      ]
    },
    {
      "cell_type": "code",
      "execution_count": null,
      "metadata": {
        "colab": {
          "base_uri": "https://localhost:8080/"
        },
        "id": "47kL1k8tML2t",
        "outputId": "3544ea45-f891-4773-fb53-fda9f21e8c5d"
      },
      "outputs": [
        {
          "output_type": "execute_result",
          "data": {
            "text/plain": [
              "{(0, 1, 1): <gurobi.Constr *Awaiting Model Update*>,\n",
              " (0, 1, 2): <gurobi.Constr *Awaiting Model Update*>,\n",
              " (0, 2, 1): <gurobi.Constr *Awaiting Model Update*>,\n",
              " (0, 2, 2): <gurobi.Constr *Awaiting Model Update*>,\n",
              " (0, 3, 1): <gurobi.Constr *Awaiting Model Update*>,\n",
              " (0, 3, 2): <gurobi.Constr *Awaiting Model Update*>,\n",
              " (0, 4, 1): <gurobi.Constr *Awaiting Model Update*>,\n",
              " (0, 4, 2): <gurobi.Constr *Awaiting Model Update*>,\n",
              " (0, 5, 1): <gurobi.Constr *Awaiting Model Update*>,\n",
              " (0, 5, 2): <gurobi.Constr *Awaiting Model Update*>,\n",
              " (0, 6, 1): <gurobi.Constr *Awaiting Model Update*>,\n",
              " (0, 6, 2): <gurobi.Constr *Awaiting Model Update*>,\n",
              " (0, 7, 1): <gurobi.Constr *Awaiting Model Update*>,\n",
              " (0, 7, 2): <gurobi.Constr *Awaiting Model Update*>,\n",
              " (1, 2, 1): <gurobi.Constr *Awaiting Model Update*>,\n",
              " (1, 2, 2): <gurobi.Constr *Awaiting Model Update*>,\n",
              " (1, 3, 1): <gurobi.Constr *Awaiting Model Update*>,\n",
              " (1, 3, 2): <gurobi.Constr *Awaiting Model Update*>,\n",
              " (1, 4, 1): <gurobi.Constr *Awaiting Model Update*>,\n",
              " (1, 4, 2): <gurobi.Constr *Awaiting Model Update*>,\n",
              " (1, 5, 1): <gurobi.Constr *Awaiting Model Update*>,\n",
              " (1, 5, 2): <gurobi.Constr *Awaiting Model Update*>,\n",
              " (1, 6, 1): <gurobi.Constr *Awaiting Model Update*>,\n",
              " (1, 6, 2): <gurobi.Constr *Awaiting Model Update*>,\n",
              " (1, 7, 1): <gurobi.Constr *Awaiting Model Update*>,\n",
              " (1, 7, 2): <gurobi.Constr *Awaiting Model Update*>,\n",
              " (2, 1, 1): <gurobi.Constr *Awaiting Model Update*>,\n",
              " (2, 1, 2): <gurobi.Constr *Awaiting Model Update*>,\n",
              " (2, 3, 1): <gurobi.Constr *Awaiting Model Update*>,\n",
              " (2, 3, 2): <gurobi.Constr *Awaiting Model Update*>,\n",
              " (2, 4, 1): <gurobi.Constr *Awaiting Model Update*>,\n",
              " (2, 4, 2): <gurobi.Constr *Awaiting Model Update*>,\n",
              " (2, 5, 1): <gurobi.Constr *Awaiting Model Update*>,\n",
              " (2, 5, 2): <gurobi.Constr *Awaiting Model Update*>,\n",
              " (2, 6, 1): <gurobi.Constr *Awaiting Model Update*>,\n",
              " (2, 6, 2): <gurobi.Constr *Awaiting Model Update*>,\n",
              " (2, 7, 1): <gurobi.Constr *Awaiting Model Update*>,\n",
              " (2, 7, 2): <gurobi.Constr *Awaiting Model Update*>,\n",
              " (3, 1, 1): <gurobi.Constr *Awaiting Model Update*>,\n",
              " (3, 1, 2): <gurobi.Constr *Awaiting Model Update*>,\n",
              " (3, 2, 1): <gurobi.Constr *Awaiting Model Update*>,\n",
              " (3, 2, 2): <gurobi.Constr *Awaiting Model Update*>,\n",
              " (3, 4, 1): <gurobi.Constr *Awaiting Model Update*>,\n",
              " (3, 4, 2): <gurobi.Constr *Awaiting Model Update*>,\n",
              " (3, 5, 1): <gurobi.Constr *Awaiting Model Update*>,\n",
              " (3, 5, 2): <gurobi.Constr *Awaiting Model Update*>,\n",
              " (3, 6, 1): <gurobi.Constr *Awaiting Model Update*>,\n",
              " (3, 6, 2): <gurobi.Constr *Awaiting Model Update*>,\n",
              " (3, 7, 1): <gurobi.Constr *Awaiting Model Update*>,\n",
              " (3, 7, 2): <gurobi.Constr *Awaiting Model Update*>,\n",
              " (4, 1, 1): <gurobi.Constr *Awaiting Model Update*>,\n",
              " (4, 1, 2): <gurobi.Constr *Awaiting Model Update*>,\n",
              " (4, 2, 1): <gurobi.Constr *Awaiting Model Update*>,\n",
              " (4, 2, 2): <gurobi.Constr *Awaiting Model Update*>,\n",
              " (4, 3, 1): <gurobi.Constr *Awaiting Model Update*>,\n",
              " (4, 3, 2): <gurobi.Constr *Awaiting Model Update*>,\n",
              " (4, 5, 1): <gurobi.Constr *Awaiting Model Update*>,\n",
              " (4, 5, 2): <gurobi.Constr *Awaiting Model Update*>,\n",
              " (4, 6, 1): <gurobi.Constr *Awaiting Model Update*>,\n",
              " (4, 6, 2): <gurobi.Constr *Awaiting Model Update*>,\n",
              " (4, 7, 1): <gurobi.Constr *Awaiting Model Update*>,\n",
              " (4, 7, 2): <gurobi.Constr *Awaiting Model Update*>,\n",
              " (5, 1, 1): <gurobi.Constr *Awaiting Model Update*>,\n",
              " (5, 1, 2): <gurobi.Constr *Awaiting Model Update*>,\n",
              " (5, 2, 1): <gurobi.Constr *Awaiting Model Update*>,\n",
              " (5, 2, 2): <gurobi.Constr *Awaiting Model Update*>,\n",
              " (5, 3, 1): <gurobi.Constr *Awaiting Model Update*>,\n",
              " (5, 3, 2): <gurobi.Constr *Awaiting Model Update*>,\n",
              " (5, 4, 1): <gurobi.Constr *Awaiting Model Update*>,\n",
              " (5, 4, 2): <gurobi.Constr *Awaiting Model Update*>,\n",
              " (5, 6, 1): <gurobi.Constr *Awaiting Model Update*>,\n",
              " (5, 6, 2): <gurobi.Constr *Awaiting Model Update*>,\n",
              " (5, 7, 1): <gurobi.Constr *Awaiting Model Update*>,\n",
              " (5, 7, 2): <gurobi.Constr *Awaiting Model Update*>,\n",
              " (6, 1, 1): <gurobi.Constr *Awaiting Model Update*>,\n",
              " (6, 1, 2): <gurobi.Constr *Awaiting Model Update*>,\n",
              " (6, 2, 1): <gurobi.Constr *Awaiting Model Update*>,\n",
              " (6, 2, 2): <gurobi.Constr *Awaiting Model Update*>,\n",
              " (6, 3, 1): <gurobi.Constr *Awaiting Model Update*>,\n",
              " (6, 3, 2): <gurobi.Constr *Awaiting Model Update*>,\n",
              " (6, 4, 1): <gurobi.Constr *Awaiting Model Update*>,\n",
              " (6, 4, 2): <gurobi.Constr *Awaiting Model Update*>,\n",
              " (6, 5, 1): <gurobi.Constr *Awaiting Model Update*>,\n",
              " (6, 5, 2): <gurobi.Constr *Awaiting Model Update*>,\n",
              " (6, 7, 1): <gurobi.Constr *Awaiting Model Update*>,\n",
              " (6, 7, 2): <gurobi.Constr *Awaiting Model Update*>}"
            ]
          },
          "metadata": {},
          "execution_count": 240
        }
      ],
      "source": [
        "m.addConstrs((p_u[i, u] + d_u.iloc[i, j] - (1 - gp.quicksum(y[i, j, s, u] for s in A_T[1:])) * M <= r_u[j, u] for i in A_U[:-1] for j in A_U[1:] if i != j for u in U), \"UAVArrivalTime\")"
      ]
    },
    {
      "cell_type": "markdown",
      "metadata": {
        "id": "MMbdpq0qNr_K"
      },
      "source": [
        "${p}^{u}_{i} \\leq {r}^{u}_{i}, \\forall i \\in {A}_{U}, \\forall u \\in U,$ (10)"
      ]
    },
    {
      "cell_type": "code",
      "execution_count": null,
      "metadata": {
        "colab": {
          "base_uri": "https://localhost:8080/"
        },
        "id": "f4JssxbnNr2p",
        "outputId": "48c68b33-4656-4787-cef0-fe040a6f309a"
      },
      "outputs": [
        {
          "output_type": "execute_result",
          "data": {
            "text/plain": [
              "{(1, 1): <gurobi.Constr *Awaiting Model Update*>,\n",
              " (1, 2): <gurobi.Constr *Awaiting Model Update*>,\n",
              " (2, 1): <gurobi.Constr *Awaiting Model Update*>,\n",
              " (2, 2): <gurobi.Constr *Awaiting Model Update*>,\n",
              " (3, 1): <gurobi.Constr *Awaiting Model Update*>,\n",
              " (3, 2): <gurobi.Constr *Awaiting Model Update*>,\n",
              " (4, 1): <gurobi.Constr *Awaiting Model Update*>,\n",
              " (4, 2): <gurobi.Constr *Awaiting Model Update*>,\n",
              " (5, 1): <gurobi.Constr *Awaiting Model Update*>,\n",
              " (5, 2): <gurobi.Constr *Awaiting Model Update*>,\n",
              " (6, 1): <gurobi.Constr *Awaiting Model Update*>,\n",
              " (6, 2): <gurobi.Constr *Awaiting Model Update*>}"
            ]
          },
          "metadata": {},
          "execution_count": 241
        }
      ],
      "source": [
        "m.addConstrs((r_u[i, t] <= p_u[i, t] for i in A_U[1:-1] for t in T), \"UAVDepartureTime\")"
      ]
    },
    {
      "cell_type": "markdown",
      "metadata": {
        "id": "w9I4DaY_KPC5"
      },
      "source": [
        "$p^{t}_{i} \\leq r^{t}_{j}, \\forall i \\in A_T, \\forall t \\in W,$ (11)"
      ]
    },
    {
      "cell_type": "code",
      "execution_count": null,
      "metadata": {
        "colab": {
          "base_uri": "https://localhost:8080/"
        },
        "id": "SbMIoC9CJLZj",
        "outputId": "664108c4-7838-405a-d325-1c5d6e08966c"
      },
      "outputs": [
        {
          "output_type": "execute_result",
          "data": {
            "text/plain": [
              "{(1, 1): <gurobi.Constr *Awaiting Model Update*>,\n",
              " (1, 2): <gurobi.Constr *Awaiting Model Update*>,\n",
              " (2, 1): <gurobi.Constr *Awaiting Model Update*>,\n",
              " (2, 2): <gurobi.Constr *Awaiting Model Update*>,\n",
              " (3, 1): <gurobi.Constr *Awaiting Model Update*>,\n",
              " (3, 2): <gurobi.Constr *Awaiting Model Update*>,\n",
              " (4, 1): <gurobi.Constr *Awaiting Model Update*>,\n",
              " (4, 2): <gurobi.Constr *Awaiting Model Update*>,\n",
              " (5, 1): <gurobi.Constr *Awaiting Model Update*>,\n",
              " (5, 2): <gurobi.Constr *Awaiting Model Update*>}"
            ]
          },
          "metadata": {},
          "execution_count": 242
        }
      ],
      "source": [
        "m.addConstrs((r_t[i, t] <= p_t[i, t] for i in A_T[1:-1] for t in T), \"TruckDepartureTime\")"
      ]
    },
    {
      "cell_type": "markdown",
      "metadata": {
        "id": "xavf6doGOOzh"
      },
      "source": [
        "$\\tilde{t}^{u}_{i} - (1 - \\sum_{j \\in C \\atop j \\neq i} \\sum_{s \\in C_E} y^{uw}_{ijs}) M \\leq l^{w}_{j}, \\forall i \\in C_D, \\forall u \\in U, \\forall w \\in W,$ (12)\n",
        "\n",
        "UAV must depart from node i after truck arrives there"
      ]
    },
    {
      "cell_type": "code",
      "execution_count": null,
      "metadata": {
        "colab": {
          "base_uri": "https://localhost:8080/"
        },
        "id": "4NfpSsV1OO64",
        "outputId": "86fd9dd9-1711-4019-cae3-31affc030646"
      },
      "outputs": [
        {
          "output_type": "execute_result",
          "data": {
            "text/plain": [
              "{(0, 1): <gurobi.Constr *Awaiting Model Update*>,\n",
              " (0, 2): <gurobi.Constr *Awaiting Model Update*>,\n",
              " (1, 1): <gurobi.Constr *Awaiting Model Update*>,\n",
              " (1, 2): <gurobi.Constr *Awaiting Model Update*>,\n",
              " (2, 1): <gurobi.Constr *Awaiting Model Update*>,\n",
              " (2, 2): <gurobi.Constr *Awaiting Model Update*>,\n",
              " (3, 1): <gurobi.Constr *Awaiting Model Update*>,\n",
              " (3, 2): <gurobi.Constr *Awaiting Model Update*>,\n",
              " (4, 1): <gurobi.Constr *Awaiting Model Update*>,\n",
              " (4, 2): <gurobi.Constr *Awaiting Model Update*>,\n",
              " (5, 1): <gurobi.Constr *Awaiting Model Update*>,\n",
              " (5, 2): <gurobi.Constr *Awaiting Model Update*>}"
            ]
          },
          "metadata": {},
          "execution_count": 243
        }
      ],
      "source": [
        "m.addConstrs((r_t[i, t] - (1 - gp.quicksum(y[i, g, s, t] for g in A_U[1:] if g != i for s in A_T[1:])) * M <= p_u[i, t] for i in A_T[:-1] for t in T), \"UAVReturnTime1\")"
      ]
    },
    {
      "cell_type": "markdown",
      "metadata": {
        "id": "2CfR9XmjXx8M"
      },
      "source": [
        "$l^{w}_{s} + \\bar{d}_{js} - (1 - \\sum_{i \\in C_D \\atop i \\neq j} y^{uw}_{ijs}) M \\leq \\tilde{t}^{u}_{j}, \\forall j \\in C, \\forall s \\in C_E, \\forall u \\in U, \\forall w \\in W,$ (13)\n",
        "\n",
        "UAV must arrive to the intermeeting point s after it's truck"
      ]
    },
    {
      "cell_type": "code",
      "execution_count": null,
      "metadata": {
        "colab": {
          "base_uri": "https://localhost:8080/"
        },
        "id": "o642cKAyo4o9",
        "outputId": "df1cd255-9459-40f9-f791-b222c0596330"
      },
      "outputs": [
        {
          "output_type": "execute_result",
          "data": {
            "text/plain": [
              "{(0, 1, 1): <gurobi.Constr *Awaiting Model Update*>,\n",
              " (0, 1, 2): <gurobi.Constr *Awaiting Model Update*>,\n",
              " (0, 2, 1): <gurobi.Constr *Awaiting Model Update*>,\n",
              " (0, 2, 2): <gurobi.Constr *Awaiting Model Update*>,\n",
              " (0, 3, 1): <gurobi.Constr *Awaiting Model Update*>,\n",
              " (0, 3, 2): <gurobi.Constr *Awaiting Model Update*>,\n",
              " (0, 4, 1): <gurobi.Constr *Awaiting Model Update*>,\n",
              " (0, 4, 2): <gurobi.Constr *Awaiting Model Update*>,\n",
              " (0, 5, 1): <gurobi.Constr *Awaiting Model Update*>,\n",
              " (0, 5, 2): <gurobi.Constr *Awaiting Model Update*>,\n",
              " (0, 7, 1): <gurobi.Constr *Awaiting Model Update*>,\n",
              " (0, 7, 2): <gurobi.Constr *Awaiting Model Update*>,\n",
              " (1, 2, 1): <gurobi.Constr *Awaiting Model Update*>,\n",
              " (1, 2, 2): <gurobi.Constr *Awaiting Model Update*>,\n",
              " (1, 3, 1): <gurobi.Constr *Awaiting Model Update*>,\n",
              " (1, 3, 2): <gurobi.Constr *Awaiting Model Update*>,\n",
              " (1, 4, 1): <gurobi.Constr *Awaiting Model Update*>,\n",
              " (1, 4, 2): <gurobi.Constr *Awaiting Model Update*>,\n",
              " (1, 5, 1): <gurobi.Constr *Awaiting Model Update*>,\n",
              " (1, 5, 2): <gurobi.Constr *Awaiting Model Update*>,\n",
              " (1, 7, 1): <gurobi.Constr *Awaiting Model Update*>,\n",
              " (1, 7, 2): <gurobi.Constr *Awaiting Model Update*>,\n",
              " (2, 1, 1): <gurobi.Constr *Awaiting Model Update*>,\n",
              " (2, 1, 2): <gurobi.Constr *Awaiting Model Update*>,\n",
              " (2, 3, 1): <gurobi.Constr *Awaiting Model Update*>,\n",
              " (2, 3, 2): <gurobi.Constr *Awaiting Model Update*>,\n",
              " (2, 4, 1): <gurobi.Constr *Awaiting Model Update*>,\n",
              " (2, 4, 2): <gurobi.Constr *Awaiting Model Update*>,\n",
              " (2, 5, 1): <gurobi.Constr *Awaiting Model Update*>,\n",
              " (2, 5, 2): <gurobi.Constr *Awaiting Model Update*>,\n",
              " (2, 7, 1): <gurobi.Constr *Awaiting Model Update*>,\n",
              " (2, 7, 2): <gurobi.Constr *Awaiting Model Update*>,\n",
              " (3, 1, 1): <gurobi.Constr *Awaiting Model Update*>,\n",
              " (3, 1, 2): <gurobi.Constr *Awaiting Model Update*>,\n",
              " (3, 2, 1): <gurobi.Constr *Awaiting Model Update*>,\n",
              " (3, 2, 2): <gurobi.Constr *Awaiting Model Update*>,\n",
              " (3, 4, 1): <gurobi.Constr *Awaiting Model Update*>,\n",
              " (3, 4, 2): <gurobi.Constr *Awaiting Model Update*>,\n",
              " (3, 5, 1): <gurobi.Constr *Awaiting Model Update*>,\n",
              " (3, 5, 2): <gurobi.Constr *Awaiting Model Update*>,\n",
              " (3, 7, 1): <gurobi.Constr *Awaiting Model Update*>,\n",
              " (3, 7, 2): <gurobi.Constr *Awaiting Model Update*>,\n",
              " (4, 1, 1): <gurobi.Constr *Awaiting Model Update*>,\n",
              " (4, 1, 2): <gurobi.Constr *Awaiting Model Update*>,\n",
              " (4, 2, 1): <gurobi.Constr *Awaiting Model Update*>,\n",
              " (4, 2, 2): <gurobi.Constr *Awaiting Model Update*>,\n",
              " (4, 3, 1): <gurobi.Constr *Awaiting Model Update*>,\n",
              " (4, 3, 2): <gurobi.Constr *Awaiting Model Update*>,\n",
              " (4, 5, 1): <gurobi.Constr *Awaiting Model Update*>,\n",
              " (4, 5, 2): <gurobi.Constr *Awaiting Model Update*>,\n",
              " (4, 7, 1): <gurobi.Constr *Awaiting Model Update*>,\n",
              " (4, 7, 2): <gurobi.Constr *Awaiting Model Update*>,\n",
              " (5, 1, 1): <gurobi.Constr *Awaiting Model Update*>,\n",
              " (5, 1, 2): <gurobi.Constr *Awaiting Model Update*>,\n",
              " (5, 2, 1): <gurobi.Constr *Awaiting Model Update*>,\n",
              " (5, 2, 2): <gurobi.Constr *Awaiting Model Update*>,\n",
              " (5, 3, 1): <gurobi.Constr *Awaiting Model Update*>,\n",
              " (5, 3, 2): <gurobi.Constr *Awaiting Model Update*>,\n",
              " (5, 4, 1): <gurobi.Constr *Awaiting Model Update*>,\n",
              " (5, 4, 2): <gurobi.Constr *Awaiting Model Update*>,\n",
              " (5, 7, 1): <gurobi.Constr *Awaiting Model Update*>,\n",
              " (5, 7, 2): <gurobi.Constr *Awaiting Model Update*>,\n",
              " (6, 1, 1): <gurobi.Constr *Awaiting Model Update*>,\n",
              " (6, 1, 2): <gurobi.Constr *Awaiting Model Update*>,\n",
              " (6, 2, 1): <gurobi.Constr *Awaiting Model Update*>,\n",
              " (6, 2, 2): <gurobi.Constr *Awaiting Model Update*>,\n",
              " (6, 3, 1): <gurobi.Constr *Awaiting Model Update*>,\n",
              " (6, 3, 2): <gurobi.Constr *Awaiting Model Update*>,\n",
              " (6, 4, 1): <gurobi.Constr *Awaiting Model Update*>,\n",
              " (6, 4, 2): <gurobi.Constr *Awaiting Model Update*>,\n",
              " (6, 5, 1): <gurobi.Constr *Awaiting Model Update*>,\n",
              " (6, 5, 2): <gurobi.Constr *Awaiting Model Update*>,\n",
              " (6, 7, 1): <gurobi.Constr *Awaiting Model Update*>,\n",
              " (6, 7, 2): <gurobi.Constr *Awaiting Model Update*>}"
            ]
          },
          "metadata": {},
          "execution_count": 244
        }
      ],
      "source": [
        "m.addConstrs((r_t[s, t] - (1 - y[i, s, s, t] ) * M <= p_u[i, t] + d_u.iloc[i, s] for i in A_U[:-1] for s in A_T[1:] for t in T if i != s) , \"UAVReturnTime2\")"
      ]
    },
    {
      "cell_type": "markdown",
      "metadata": {
        "id": "dw8N0lV6PTcq"
      },
      "source": [
        "$t^{w}_{i} - (1 - \\sum_{j \\in C \\atop j \\neq i} \\sum_{s \\in C_E} y^{uw}_{ijs}) M \\leq \\tilde{t}^{u}_{i}, \\forall i \\in C_D, \\forall u \\in U,$ (14)\n",
        "\n",
        "wrong and rep - when truck arives to a node, uav can fly even before truck's departure\n",
        "\n",
        "(14) say uav must fly after truck's departure"
      ]
    },
    {
      "cell_type": "markdown",
      "metadata": {
        "id": "bUTJVsp3WaE4"
      },
      "source": [
        "$\\tilde{t}^{u}_{j} + \\bar{d}_{js} - \\left(2 - \\sum_{i \\in C_D \\atop i \\neq j} y^{uw}_{ijs} - \\sum_{v \\in C \\atop v \\neq s} \\sum_{h \\in C_E \\atop h \\neq j} y^{uw}_{vsh}\\right) M \\leq \\tilde{l}_{su}, \\forall s \\in C_E, \\forall j \\in C, \\forall u \\in U,$ (15)"
      ]
    },
    {
      "cell_type": "code",
      "execution_count": null,
      "metadata": {
        "colab": {
          "base_uri": "https://localhost:8080/"
        },
        "id": "bvp6EwnlWaP3",
        "outputId": "e04a10e6-ff29-49ce-c349-70abff85e8ac"
      },
      "outputs": [
        {
          "output_type": "execute_result",
          "data": {
            "text/plain": [
              "{(1, 1, 1): <gurobi.Constr *Awaiting Model Update*>,\n",
              " (1, 1, 2): <gurobi.Constr *Awaiting Model Update*>,\n",
              " (1, 2, 1): <gurobi.Constr *Awaiting Model Update*>,\n",
              " (1, 2, 2): <gurobi.Constr *Awaiting Model Update*>,\n",
              " (1, 3, 1): <gurobi.Constr *Awaiting Model Update*>,\n",
              " (1, 3, 2): <gurobi.Constr *Awaiting Model Update*>,\n",
              " (1, 4, 1): <gurobi.Constr *Awaiting Model Update*>,\n",
              " (1, 4, 2): <gurobi.Constr *Awaiting Model Update*>,\n",
              " (1, 5, 1): <gurobi.Constr *Awaiting Model Update*>,\n",
              " (1, 5, 2): <gurobi.Constr *Awaiting Model Update*>,\n",
              " (1, 6, 1): <gurobi.Constr *Awaiting Model Update*>,\n",
              " (1, 6, 2): <gurobi.Constr *Awaiting Model Update*>,\n",
              " (2, 1, 1): <gurobi.Constr *Awaiting Model Update*>,\n",
              " (2, 1, 2): <gurobi.Constr *Awaiting Model Update*>,\n",
              " (2, 2, 1): <gurobi.Constr *Awaiting Model Update*>,\n",
              " (2, 2, 2): <gurobi.Constr *Awaiting Model Update*>,\n",
              " (2, 3, 1): <gurobi.Constr *Awaiting Model Update*>,\n",
              " (2, 3, 2): <gurobi.Constr *Awaiting Model Update*>,\n",
              " (2, 4, 1): <gurobi.Constr *Awaiting Model Update*>,\n",
              " (2, 4, 2): <gurobi.Constr *Awaiting Model Update*>,\n",
              " (2, 5, 1): <gurobi.Constr *Awaiting Model Update*>,\n",
              " (2, 5, 2): <gurobi.Constr *Awaiting Model Update*>,\n",
              " (2, 6, 1): <gurobi.Constr *Awaiting Model Update*>,\n",
              " (2, 6, 2): <gurobi.Constr *Awaiting Model Update*>,\n",
              " (3, 1, 1): <gurobi.Constr *Awaiting Model Update*>,\n",
              " (3, 1, 2): <gurobi.Constr *Awaiting Model Update*>,\n",
              " (3, 2, 1): <gurobi.Constr *Awaiting Model Update*>,\n",
              " (3, 2, 2): <gurobi.Constr *Awaiting Model Update*>,\n",
              " (3, 3, 1): <gurobi.Constr *Awaiting Model Update*>,\n",
              " (3, 3, 2): <gurobi.Constr *Awaiting Model Update*>,\n",
              " (3, 4, 1): <gurobi.Constr *Awaiting Model Update*>,\n",
              " (3, 4, 2): <gurobi.Constr *Awaiting Model Update*>,\n",
              " (3, 5, 1): <gurobi.Constr *Awaiting Model Update*>,\n",
              " (3, 5, 2): <gurobi.Constr *Awaiting Model Update*>,\n",
              " (3, 6, 1): <gurobi.Constr *Awaiting Model Update*>,\n",
              " (3, 6, 2): <gurobi.Constr *Awaiting Model Update*>,\n",
              " (4, 1, 1): <gurobi.Constr *Awaiting Model Update*>,\n",
              " (4, 1, 2): <gurobi.Constr *Awaiting Model Update*>,\n",
              " (4, 2, 1): <gurobi.Constr *Awaiting Model Update*>,\n",
              " (4, 2, 2): <gurobi.Constr *Awaiting Model Update*>,\n",
              " (4, 3, 1): <gurobi.Constr *Awaiting Model Update*>,\n",
              " (4, 3, 2): <gurobi.Constr *Awaiting Model Update*>,\n",
              " (4, 4, 1): <gurobi.Constr *Awaiting Model Update*>,\n",
              " (4, 4, 2): <gurobi.Constr *Awaiting Model Update*>,\n",
              " (4, 5, 1): <gurobi.Constr *Awaiting Model Update*>,\n",
              " (4, 5, 2): <gurobi.Constr *Awaiting Model Update*>,\n",
              " (4, 6, 1): <gurobi.Constr *Awaiting Model Update*>,\n",
              " (4, 6, 2): <gurobi.Constr *Awaiting Model Update*>,\n",
              " (5, 1, 1): <gurobi.Constr *Awaiting Model Update*>,\n",
              " (5, 1, 2): <gurobi.Constr *Awaiting Model Update*>,\n",
              " (5, 2, 1): <gurobi.Constr *Awaiting Model Update*>,\n",
              " (5, 2, 2): <gurobi.Constr *Awaiting Model Update*>,\n",
              " (5, 3, 1): <gurobi.Constr *Awaiting Model Update*>,\n",
              " (5, 3, 2): <gurobi.Constr *Awaiting Model Update*>,\n",
              " (5, 4, 1): <gurobi.Constr *Awaiting Model Update*>,\n",
              " (5, 4, 2): <gurobi.Constr *Awaiting Model Update*>,\n",
              " (5, 5, 1): <gurobi.Constr *Awaiting Model Update*>,\n",
              " (5, 5, 2): <gurobi.Constr *Awaiting Model Update*>,\n",
              " (5, 6, 1): <gurobi.Constr *Awaiting Model Update*>,\n",
              " (5, 6, 2): <gurobi.Constr *Awaiting Model Update*>,\n",
              " (7, 1, 1): <gurobi.Constr *Awaiting Model Update*>,\n",
              " (7, 1, 2): <gurobi.Constr *Awaiting Model Update*>,\n",
              " (7, 2, 1): <gurobi.Constr *Awaiting Model Update*>,\n",
              " (7, 2, 2): <gurobi.Constr *Awaiting Model Update*>,\n",
              " (7, 3, 1): <gurobi.Constr *Awaiting Model Update*>,\n",
              " (7, 3, 2): <gurobi.Constr *Awaiting Model Update*>,\n",
              " (7, 4, 1): <gurobi.Constr *Awaiting Model Update*>,\n",
              " (7, 4, 2): <gurobi.Constr *Awaiting Model Update*>,\n",
              " (7, 5, 1): <gurobi.Constr *Awaiting Model Update*>,\n",
              " (7, 5, 2): <gurobi.Constr *Awaiting Model Update*>,\n",
              " (7, 6, 1): <gurobi.Constr *Awaiting Model Update*>,\n",
              " (7, 6, 2): <gurobi.Constr *Awaiting Model Update*>}"
            ]
          },
          "metadata": {},
          "execution_count": 245
        }
      ],
      "source": [
        "m.addConstrs((p_u[j, u] + d_u.iloc[j, s] - (1 - y[j, s, s, u]) * M <= r_u[s, u] for s in A_T[1:] for j in A_U[1:-1] for u in U), \"UAVReturnTime4\")"
      ]
    },
    {
      "cell_type": "markdown",
      "metadata": {
        "id": "LBeqU_tQQ6Wo"
      },
      "source": [
        "$\\sum_{j \\in A} y^{uw}_{ijs} \\leq q, \\forall i \\in A, \\forall s \\in A_E,$ (23)"
      ]
    },
    {
      "cell_type": "markdown",
      "metadata": {
        "id": "QvFe8nEeQ6ZR"
      },
      "source": [
        "$x^{w}_{ij}, p^{w}_{ij} \\in \\{0,1\\}, \\forall i \\in V, \\forall j \\in V,$ (24)"
      ]
    },
    {
      "cell_type": "code",
      "execution_count": null,
      "metadata": {
        "colab": {
          "base_uri": "https://localhost:8080/"
        },
        "id": "s1sLsU1hLUOJ",
        "outputId": "1b70e992-0765-486c-fe28-115f9a33fb47"
      },
      "outputs": [
        {
          "output_type": "stream",
          "name": "stdout",
          "text": [
            "Gurobi Optimizer version 11.0.3 build v11.0.3rc0 (linux64 - \"Ubuntu 22.04.3 LTS\")\n",
            "\n",
            "CPU model: Intel(R) Xeon(R) CPU @ 2.20GHz, instruction set [SSE2|AVX|AVX2]\n",
            "Thread count: 1 physical cores, 2 logical processors, using up to 2 threads\n",
            "\n",
            "Academic license 2536865 - for non-commercial use only - registered to rt___@stevens.edu\n",
            "Optimize a model with 848 rows, 743 columns and 4702 nonzeros\n",
            "Model fingerprint: 0xf0f173b3\n",
            "Variable types: 61 continuous, 682 integer (660 binary)\n",
            "Coefficient statistics:\n",
            "  Matrix range     [1e+00, 1e+05]\n",
            "  Objective range  [1e+00, 1e+00]\n",
            "  Bounds range     [1e+00, 7e+00]\n",
            "  RHS range        [1e+00, 1e+05]\n",
            "Presolve removed 94 rows and 118 columns\n",
            "Presolve time: 0.03s\n",
            "Presolved: 754 rows, 625 columns, 4172 nonzeros\n",
            "Variable types: 39 continuous, 586 integer (564 binary)\n",
            "\n",
            "Root relaxation: objective 5.971717e+00, 106 iterations, 0.01 seconds (0.00 work units)\n",
            "\n",
            "    Nodes    |    Current Node    |     Objective Bounds      |     Work\n",
            " Expl Unexpl |  Obj  Depth IntInf | Incumbent    BestBd   Gap | It/Node Time\n",
            "\n",
            "     0     0    5.97172    0   30          -    5.97172      -     -    0s\n",
            "H    0     0                     249.8020043    5.97172  97.6%     -    0s\n",
            "     0     0   10.18890    0   34  249.80200   10.18890  95.9%     -    0s\n",
            "H    0     0                      99.6914513   11.88500  88.1%     -    0s\n",
            "H    0     0                      74.4052659   11.88500  84.0%     -    0s\n",
            "     0     0   12.66980    0   31   74.40527   12.66980  83.0%     -    0s\n",
            "     0     0   12.66980    0   31   74.40527   12.66980  83.0%     -    0s\n",
            "     0     0   16.48222    0   32   74.40527   16.48222  77.8%     -    0s\n",
            "     0     0   16.48222    0   37   74.40527   16.48222  77.8%     -    0s\n",
            "     0     0   16.48222    0   35   74.40527   16.48222  77.8%     -    0s\n",
            "     0     0   16.48222    0   34   74.40527   16.48222  77.8%     -    0s\n",
            "H    0     0                      73.6322038   16.56997  77.5%     -    0s\n",
            "H    0     0                      53.1332957   16.56997  68.8%     -    0s\n",
            "     0     0   16.56997    0   35   53.13330   16.56997  68.8%     -    0s\n",
            "     0     0   19.92220    0   34   53.13330   19.92220  62.5%     -    0s\n",
            "     0     0   19.92220    0   31   53.13330   19.92220  62.5%     -    0s\n",
            "     0     0   19.92220    0   34   53.13330   19.92220  62.5%     -    0s\n",
            "     0     0   19.92220    0   32   53.13330   19.92220  62.5%     -    0s\n",
            "     0     0   19.92220    0   32   53.13330   19.92220  62.5%     -    0s\n",
            "     0     0   19.92220    0   31   53.13330   19.92220  62.5%     -    0s\n",
            "     0     0   19.92220    0   33   53.13330   19.92220  62.5%     -    0s\n",
            "     0     0   19.92220    0   32   53.13330   19.92220  62.5%     -    0s\n",
            "     0     0   20.12238    0   33   53.13330   20.12238  62.1%     -    0s\n",
            "     0     0   20.12238    0   29   53.13330   20.12238  62.1%     -    0s\n",
            "     0     0   20.12238    0   29   53.13330   20.12238  62.1%     -    0s\n",
            "     0     0   20.93550    0   20   53.13330   20.93550  60.6%     -    0s\n",
            "     0     0   20.93550    0   24   53.13330   20.93550  60.6%     -    0s\n",
            "     0     0   20.93550    0   23   53.13330   20.93550  60.6%     -    0s\n",
            "     0     0   20.93550    0   22   53.13330   20.93550  60.6%     -    0s\n",
            "     0     0   20.93550    0   26   53.13330   20.93550  60.6%     -    0s\n",
            "     0     0   20.93550    0   15   53.13330   20.93550  60.6%     -    0s\n",
            "H    0     0                      53.1184092   20.93550  60.6%     -    0s\n",
            "     0     0   22.52094    0   23   53.11841   22.52094  57.6%     -    0s\n",
            "     0     0   22.52094    0   22   53.11841   22.52094  57.6%     -    0s\n",
            "     0     0   22.52094    0   23   53.11841   22.52094  57.6%     -    0s\n",
            "     0     0   22.52094    0   22   53.11841   22.52094  57.6%     -    0s\n",
            "     0     0   22.52094    0   22   53.11841   22.52094  57.6%     -    0s\n",
            "     0     0   22.52094    0   22   53.11841   22.52094  57.6%     -    0s\n",
            "     0     0   41.48670    0   17   53.11841   41.48670  21.9%     -    0s\n",
            "     0     0   41.48670    0   21   53.11841   41.48670  21.9%     -    0s\n",
            "     0     0   41.48670    0   17   53.11841   41.48670  21.9%     -    0s\n",
            "     0     0   41.48670    0   17   53.11841   41.48670  21.9%     -    0s\n",
            "     0     0 infeasible    0        53.11841   53.11841  0.00%     -    0s\n",
            "     0     0 infeasible    0        53.11841   53.11841  0.00%     -    0s\n",
            "\n",
            "Cutting planes:\n",
            "  Implied bound: 5\n",
            "  MIR: 1\n",
            "  RLT: 2\n",
            "\n",
            "Explored 1 nodes (1087 simplex iterations) in 0.55 seconds (0.11 work units)\n",
            "Thread count was 2 (of 2 available processors)\n",
            "\n",
            "Solution count 7: 53.1184 53.1333 53.1333 ... 249.802\n",
            "\n",
            "Optimal solution found (tolerance 1.00e-04)\n",
            "Best objective 5.311840924120e+01, best bound 5.311840924120e+01, gap 0.0000%\n",
            "Non-zero values of x:\n",
            "Truck[0,1,2]: 1.0\n",
            "Truck[0,2,1]: 1.0\n",
            "Truck[1,5,2]: 1.0\n",
            "Truck[2,7,1]: 1.0\n",
            "Truck[5,7,2]: 1.0\n",
            "\n",
            "Non-zero values of y:\n",
            "UAV[0,4,3,1]: 1.0\n",
            "UAV[0,6,3,2]: 1.0\n",
            "UAV[3,7,3,2]: 1.0\n",
            "UAV[4,7,3,1]: 1.0\n",
            "UAV[6,3,3,2]: 1.0\n"
          ]
        }
      ],
      "source": [
        "m.optimize()\n",
        "\n",
        "# Print the variables with values greater than 0\n",
        "print(\"Non-zero values of x:\")\n",
        "for v in x.values():\n",
        "    if v.x > 0:\n",
        "        print(f'{v.varName}: {v.x}')\n",
        "\n",
        "\n",
        "print(\"\\nNon-zero values of y:\")\n",
        "for v in y.values():\n",
        "    if v.x > 0:\n",
        "        print(f'{v.varName}: {v.x}')\n",
        "\n",
        "\n",
        "# if m.status == GRB.INFEASIBLE:\n",
        "#     print(\"Model is infeasible, computing IIS...\")\n",
        "#     m.computeIIS()\n",
        "#     m.write(\"model.ilp\")\n",
        "\n",
        "\n",
        "# m.computeIIS()\n",
        "# m.write(\"model.ilp\")\n",
        "\n",
        "\n",
        "# import os\n",
        "# os.listdir()\n",
        "\n",
        "\n",
        "# from google.colab import files\n",
        "# files.download('model.ilp')\n"
      ]
    },
    {
      "cell_type": "markdown",
      "metadata": {
        "id": "BNRoxCMLQ6bg"
      },
      "source": [
        "$y^{uw}_{ijs} \\in \\{0,1\\}, \\forall i \\in V, \\forall j \\in V, \\forall s \\in V, \\forall u \\in U,$ (25)"
      ]
    },
    {
      "cell_type": "markdown",
      "metadata": {
        "id": "LtvI2PFlQ6d2"
      },
      "source": [
        "$1 \\leq z^{w}_{i} \\leq (a + 2), \\forall i \\in A_T,$ (26)"
      ]
    },
    {
      "cell_type": "markdown",
      "metadata": {
        "id": "S4keV2ZcRPl4"
      },
      "source": [
        "$t^{w}_{i}, l^{w}_{j} \\geq 0, \\forall i \\in V$ (27)"
      ]
    },
    {
      "cell_type": "markdown",
      "metadata": {
        "id": "nAYjQhwLRRxh"
      },
      "source": [
        "$t^{u}_{i}, l^{u}_{i} \\geq 0, \\forall i \\in V, \\forall u \\in U.$ (28)"
      ]
    },
    {
      "cell_type": "markdown",
      "metadata": {
        "id": "imTuIba4t0WV"
      },
      "source": [
        "# Optimization"
      ]
    },
    {
      "cell_type": "code",
      "source": [],
      "metadata": {
        "id": "j0YksNYW82qO"
      },
      "execution_count": null,
      "outputs": []
    }
  ],
  "metadata": {
    "colab": {
      "provenance": [],
      "authorship_tag": "ABX9TyO9u0HQySFEHZ07Zbbv3tl1",
      "include_colab_link": true
    },
    "kernelspec": {
      "display_name": "Python 3",
      "name": "python3"
    },
    "language_info": {
      "name": "python"
    }
  },
  "nbformat": 4,
  "nbformat_minor": 0
}