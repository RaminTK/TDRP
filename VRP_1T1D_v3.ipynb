{
  "nbformat": 4,
  "nbformat_minor": 0,
  "metadata": {
    "colab": {
      "provenance": [],
      "authorship_tag": "ABX9TyPWN5832P/lGcmSkuJXwenC",
      "include_colab_link": true
    },
    "kernelspec": {
      "name": "python3",
      "display_name": "Python 3"
    },
    "language_info": {
      "name": "python"
    }
  },
  "cells": [
    {
      "cell_type": "markdown",
      "metadata": {
        "id": "view-in-github",
        "colab_type": "text"
      },
      "source": [
        "<a href=\"https://colab.research.google.com/github/RaminTK/TDRP/blob/main/VRP_1T1D_v3.ipynb\" target=\"_parent\"><img src=\"https://colab.research.google.com/assets/colab-badge.svg\" alt=\"Open In Colab\"/></a>"
      ]
    },
    {
      "cell_type": "code",
      "source": [
        "!pip install gurobipy"
      ],
      "metadata": {
        "colab": {
          "base_uri": "https://localhost:8080/"
        },
        "id": "5xkeVfY1qXW1",
        "outputId": "ed3042c3-ceb8-46aa-ea4b-fc14b6f6e9e7"
      },
      "execution_count": 1,
      "outputs": [
        {
          "output_type": "stream",
          "name": "stdout",
          "text": [
            "Collecting gurobipy\n",
            "  Downloading gurobipy-11.0.3-cp310-cp310-manylinux2014_x86_64.manylinux_2_17_x86_64.whl.metadata (15 kB)\n",
            "Downloading gurobipy-11.0.3-cp310-cp310-manylinux2014_x86_64.manylinux_2_17_x86_64.whl (13.4 MB)\n",
            "\u001b[2K   \u001b[90m━━━━━━━━━━━━━━━━━━━━━━━━━━━━━━━━━━━━━━━━\u001b[0m \u001b[32m13.4/13.4 MB\u001b[0m \u001b[31m39.9 MB/s\u001b[0m eta \u001b[36m0:00:00\u001b[0m\n",
            "\u001b[?25hInstalling collected packages: gurobipy\n",
            "Successfully installed gurobipy-11.0.3\n"
          ]
        }
      ]
    },
    {
      "cell_type": "markdown",
      "source": [
        "# Libraries"
      ],
      "metadata": {
        "id": "cHRYm6ZOrbdX"
      }
    },
    {
      "cell_type": "code",
      "source": [
        "import gurobipy as gp\n",
        "from gurobipy import GRB\n",
        "import numpy as np\n",
        "import pandas as pd\n",
        "from scipy.spatial import distance_matrix\n",
        "import matplotlib.pyplot as plt"
      ],
      "metadata": {
        "id": "M0ERIaWlqmr8"
      },
      "execution_count": 114,
      "outputs": []
    },
    {
      "cell_type": "code",
      "source": [
        "# Create an environment with your WLS license\n",
        "params = {\n",
        "\"WLSACCESSID\": 'c5c6ef9a-d24b-4e09-99ba-a30fae3c2de1',\n",
        "\"WLSSECRET\": '3809b277-8064-4385-8804-9971d3dc9938',\n",
        "\"LICENSEID\": 2536865,\n",
        "}\n",
        "\n",
        "# env = gp.Env(params=params)\n",
        "\n",
        "# # Create the model within the Gurobi environment\n",
        "# model = gp.Model(env=env)"
      ],
      "metadata": {
        "id": "hlFg4ZJVWMmt"
      },
      "execution_count": 115,
      "outputs": []
    },
    {
      "cell_type": "markdown",
      "source": [
        "# Parameters"
      ],
      "metadata": {
        "id": "0Cb1h78brjFQ"
      }
    },
    {
      "cell_type": "markdown",
      "source": [
        "$d^{t}_{ij}$ Travel time between node $i$ and $j$ by truck, $(i,j) \\in A^t$.\n",
        "\n",
        "$d^{u}_{ij}$ Travel time between node $i$ and $j$ by UAV, $(i,j) \\in A^u$.\n",
        "\n",
        "$M$ A sufficiently large number.\n",
        "\n",
        "<!-- $L$ & Battery life limit of UAV. -->\n",
        "\n",
        "$N$ Total number of aid recipients (bu UAV).\n",
        "\n",
        "$L$ Number of aid recipients accessible by truck.\n",
        "\n",
        "$R$ Number of Trucks.\n",
        "\n",
        "$V$ Number of UAVs.\n",
        "\n",
        "<!-- $q$ Relief item capacity limit of UAVs. (unlimited) -->"
      ],
      "metadata": {
        "id": "0Lcdp_oTsAru"
      }
    },
    {
      "cell_type": "code",
      "source": [
        "N = 8\n",
        "L = 4\n",
        "R = 1\n",
        "V = 1\n",
        "M = 100000  # A large number\n",
        "# a = L + 1\n",
        "# b = N + 1"
      ],
      "metadata": {
        "id": "d2h7rxwSrb6y"
      },
      "execution_count": 227,
      "outputs": []
    },
    {
      "cell_type": "markdown",
      "source": [
        "# Sets"
      ],
      "metadata": {
        "id": "22KInr9IsMJb"
      }
    },
    {
      "cell_type": "markdown",
      "source": [
        "\n",
        "$A^t$  Set of aid recipients served by trucks and depot. $A^t \\subset A_U$.\n",
        "\n",
        "$A^u$  Set of aid recipients served by UAVs and depote (all nodes). $A^u$.\n",
        "\n",
        "$U$  Set of UAVs. $|U|= V$.\n",
        "\n",
        "$T$  Set of trucks. $|T| = R$."
      ],
      "metadata": {
        "id": "JrY1jphCsN_3"
      }
    },
    {
      "cell_type": "code",
      "source": [
        "A_T = (list(range(L+1)))+[N+1]  # Set of nodes for trucks\n",
        "A_U = list(range(N+2))# Set of nodes for UAVs\n",
        "\n",
        "T = list(range(1,R+1))      # Set of trucks\n",
        "U = T"
      ],
      "metadata": {
        "id": "A8CLQlefrjej"
      },
      "execution_count": 228,
      "outputs": []
    },
    {
      "cell_type": "markdown",
      "source": [
        "## Generate random coordinates for the nodes"
      ],
      "metadata": {
        "id": "EVQNkUDwsVKp"
      }
    },
    {
      "cell_type": "code",
      "source": [
        "# Number of nodes\n",
        "N += 1\n",
        "\n",
        "np.random.seed(0)  # For reproducibility\n",
        "coordinates = np.random.rand(N, 2) * 100  # Generate random coordinates in a 100x100 area"
      ],
      "metadata": {
        "id": "6Dd6GW_3sSxd"
      },
      "execution_count": 229,
      "outputs": []
    },
    {
      "cell_type": "code",
      "source": [
        "coordinates = np.vstack([coordinates, coordinates[0]])"
      ],
      "metadata": {
        "id": "F7VW5VvasXPg"
      },
      "execution_count": 230,
      "outputs": []
    },
    {
      "cell_type": "markdown",
      "source": [
        "## Distance Matrix\n"
      ],
      "metadata": {
        "id": "FyRuSDs5saGK"
      }
    },
    {
      "cell_type": "code",
      "source": [
        "euclidean_dist_matrix = distance_matrix(coordinates, coordinates)\n",
        "manhattan_dist_matrix = distance_matrix(coordinates, coordinates, p=1)"
      ],
      "metadata": {
        "id": "8CzdgsFnsYpN"
      },
      "execution_count": 231,
      "outputs": []
    },
    {
      "cell_type": "code",
      "source": [
        "euclidean_df = pd.DataFrame(euclidean_dist_matrix, columns=[f'Node {i}' for i in range(N+1)], index=[f'Node {i}' for i in range(N+1)])\n",
        "manhattan_df = pd.DataFrame(manhattan_dist_matrix, columns=[f'Node {i}' for i in range(N+1)], index=[f'Node {i}' for i in range(N+1)])"
      ],
      "metadata": {
        "id": "DQ-79jNtc4PA"
      },
      "execution_count": 232,
      "outputs": []
    },
    {
      "cell_type": "markdown",
      "source": [
        "## Plot the nodes"
      ],
      "metadata": {
        "id": "tXIMqXwrsdoK"
      }
    },
    {
      "cell_type": "code",
      "source": [
        "plt.figure(figsize=(10, 10))\n",
        "# plt.scatter(coordinates[:, 0], coordinates[:, 1], color='red')\n",
        "plt.scatter(coordinates[A_T[1:-1], 0], coordinates[A_T[1:-1], 1], color='red', label='Truck or Drone')\n",
        "plt.scatter(coordinates[[item for item in A_U if item not in A_T], 0], coordinates[[item for item in A_U if item not in A_T], 1], color='blue', label='Only Drone')\n",
        "\n",
        "# Highlight the first and last points as depots\n",
        "plt.scatter(coordinates[0, 0], coordinates[0, 1], color='gray', s=100, label='Depot')\n",
        "plt.scatter(coordinates[-1, 0], coordinates[-1, 1], color='gray', s=100)\n",
        "\n",
        "# Annotate the nodes\n",
        "for i, (x, y) in enumerate(coordinates):\n",
        "    if i == 0:\n",
        "        plt.text(x, y, 'Depot', fontsize=12, ha='right')\n",
        "    elif i == len(coordinates) - 1:\n",
        "        plt.text(x, y, 'Depot', fontsize=12, ha='right')\n",
        "    else:\n",
        "        plt.text(x, y, f'Node {i}', fontsize=12, ha='right')\n",
        "\n",
        "# Draw lines between nodes for Euclidean distances\n",
        "for i in range(len(coordinates)):\n",
        "    for j in range(i + 1, N+1):\n",
        "        plt.plot([coordinates[i, 0], coordinates[j, 0]], [coordinates[i, 1], coordinates[j, 1]], 'gray', linestyle='--', linewidth=0.5)\n",
        "\n",
        "plt.title('Nodes and Euclidean Distances')\n",
        "plt.xlabel('X Coordinate')\n",
        "plt.ylabel('Y Coordinate')\n",
        "plt.grid(True)\n",
        "plt.legend()\n",
        "plt.show()"
      ],
      "metadata": {
        "colab": {
          "base_uri": "https://localhost:8080/",
          "height": 872
        },
        "id": "vWhRbD2HPwcl",
        "outputId": "39e00182-fc1c-419e-8f23-913cba304a66"
      },
      "execution_count": 233,
      "outputs": [
        {
          "output_type": "display_data",
          "data": {
            "text/plain": [
              "<Figure size 1000x1000 with 1 Axes>"
            ],
            "image/png": "[encoded data removed]"
          },
          "metadata": {}
        }
      ]
    },
    {
      "cell_type": "code",
      "source": [
        "# d_t.iloc[0,2]+d_t.iloc[2,3]+d_t.iloc[3,1]+d_t.iloc[1,4], d_t.iloc[0,2]+d_t.iloc[2,1]+d_t.iloc[1,4]+d_t.iloc[4,3]\n",
        "\n",
        "# d_u.iloc[0,10] + d_u.iloc[10,9] + d_u.iloc[9,6] + d_u.iloc[6,8] + d_u.iloc[8,7], d_u.iloc[0,6] + d_u.iloc[6,9] + d_u.iloc[9,10] + d_u.iloc[10,8] + d_u.iloc[8,7], d_t.iloc[0,3]+d_t.iloc[3,2]+d_t.iloc[2,1]+d_t.iloc[1,5] + d_t.iloc[5,4],r_t,r_u\n",
        "\n",
        "\n",
        "d_u.iloc[0,6] + d_u.iloc[6,4] + d_u.iloc[4,5], d_u.iloc[0,6] + d_u.iloc[6,5] + d_u.iloc[5,4] , d_t.iloc[0,3]+d_t.iloc[3,2]+d_t.iloc[2,1]+d_t.iloc[1,5] + d_t.iloc[5,4],r_t,r_u\n"
      ],
      "metadata": {
        "id": "1vuprk_Smys8",
        "colab": {
          "base_uri": "https://localhost:8080/"
        },
        "outputId": "81c90205-07ea-41ba-8ab7-59a488db90b8"
      },
      "execution_count": 234,
      "outputs": [
        {
          "output_type": "execute_result",
          "data": {
            "text/plain": [
              "(110.76463821542967,\n",
              " 89.19113129127426,\n",
              " 135.00817821165072,\n",
              " {(0, 1): <gurobi.Var arrival time truck[0,1] (value 0.0)>,\n",
              "  (1, 1): <gurobi.Var arrival time truck[1,1] (value 22.42560555197997)>,\n",
              "  (2, 1): <gurobi.Var arrival time truck[2,1] (value 50.43755623222387)>,\n",
              "  (3, 1): <gurobi.Var arrival time truck[3,1] (value 76.41868619614979)>,\n",
              "  (7, 1): <gurobi.Var arrival time truck[7,1] (value 105.19967890357657)>},\n",
              " {(0, 1): <gurobi.Var arrival time uav[0,1] (value 0.0)>,\n",
              "  (1, 1): <gurobi.Var arrival time uav[1,1] (value 0.0)>,\n",
              "  (2, 1): <gurobi.Var arrival time uav[2,1] (value 0.0)>,\n",
              "  (3, 1): <gurobi.Var arrival time uav[3,1] (value 0.0)>,\n",
              "  (4, 1): <gurobi.Var arrival time uav[4,1] (value 89.19113129127072)>,\n",
              "  (5, 1): <gurobi.Var arrival time uav[5,1] (value 66.67019165019155)>,\n",
              "  (6, 1): <gurobi.Var arrival time uav[6,1] (value 21.128429576434428)>,\n",
              "  (7, 1): <gurobi.Var arrival time uav[7,1] (value 143.0)>})"
            ]
          },
          "metadata": {},
          "execution_count": 234
        }
      ]
    },
    {
      "cell_type": "code",
      "source": [
        "d_t = manhattan_df  # Travel times for trucks => will change into a matrix of Manhttan distances\n",
        "d_u = euclidean_df  # Travel times for UAVs => will change into a matrix of  Euclidean distances"
      ],
      "metadata": {
        "id": "JPvOCskKsm6i"
      },
      "execution_count": 235,
      "outputs": []
    },
    {
      "cell_type": "markdown",
      "source": [
        "# Model"
      ],
      "metadata": {
        "id": "THUH9Q4TsdVn"
      }
    },
    {
      "cell_type": "code",
      "source": [
        "env = gp.Env(params=params)\n",
        "m = gp.Model(env=env)"
      ],
      "metadata": {
        "colab": {
          "base_uri": "https://localhost:8080/"
        },
        "id": "mVKmqLEtspMN",
        "outputId": "adb9ef74-730b-42e0-e23b-ef0084aea0a0"
      },
      "execution_count": 236,
      "outputs": [
        {
          "output_type": "stream",
          "name": "stdout",
          "text": [
            "Set parameter WLSAccessID\n",
            "Set parameter WLSSecret\n",
            "Set parameter LicenseID to value 2536865\n",
            "Academic license 2536865 - for non-commercial use only - registered to rt___@stevens.edu\n"
          ]
        }
      ]
    },
    {
      "cell_type": "markdown",
      "source": [
        "# Indices"
      ],
      "metadata": {
        "id": "j0UieaS_tOpd"
      }
    },
    {
      "cell_type": "markdown",
      "source": [
        "$i, j, h, s, g, v$  Equivalently used indices for the nodes of the network (aid recipients and depot).\n",
        "\n",
        "$t$  Index of trucks."
      ],
      "metadata": {
        "id": "3gZM6sMLtSTa"
      }
    },
    {
      "cell_type": "markdown",
      "source": [
        "# Variables"
      ],
      "metadata": {
        "id": "lU_hb4cUtUH3"
      }
    },
    {
      "cell_type": "markdown",
      "source": [
        "$x^{t}_{ij}$ 1 if truck $t$ moves from node $i$ to node $j$; 0 otherwise. $(i,j) \\in A_t, t \\in T$.\n",
        "\n",
        "$y^{t}_{ijs}$ 1 if UAV $u$ moves from node $i$ to node $j$ and meet it's truck on node $s$; 0 otherwise. $(i,j) \\in A_U$ s in for $t \\in T$.\n",
        "\n",
        "$z^{t}_{i}$ Position of node $i$ in the truck $t$ route. $i \\in A_E$ for $t \\in T$.\n",
        "\n",
        "$r^{t}_{i}$ Arrival time of truck $t$ at node $i$. $i \\in A_E$ for $t \\in T$.\n",
        "\n",
        "$p^{t}_{i}$ Departure time of truck $t$ from node $i$. $i \\in A_E$ for $t \\in T$."
      ],
      "metadata": {
        "id": "jSH-9RBJtVZw"
      }
    },
    {
      "cell_type": "code",
      "source": [
        "x = m.addVars(A_T[:-1], A_T[1:], T, vtype=GRB.BINARY,lb=0, name=\"Truck\") #1 if truck $w$ moves from node $i$ to node $j$; 0 otherwise. $(i,j) \\in C_0$ for $w \\in W$.\n",
        "y = m.addVars(A_U[:-1], A_U[1:], A_T[1:], U, vtype=GRB.BINARY, lb=0, name=\"UAV\") #1 if UAV $u$ travels from node $i$ to visit node $j$ and returns to the truck $w$ at node $s$; 0 otherwise. $(i,j,s) \\in C_0$ for $w \\in W$ and $u \\in U$.\n",
        "z_t = m.addVars(A_T[1:-1],T, vtype=GRB.INTEGER,lb=1.0,ub= L, name=\"truck order\") #Position of node $i$ in the truck $w$ route. $i \\in C_0$ for $w \\in W$.\n",
        "z_u = m.addVars(A_U[1:-1],U, vtype=GRB.INTEGER,lb=1.0,ub= N, name=\"uav order\") #Position of node $i$ in the uav $t$ route. $i \\in A_T$ for $t \\in T$.\n",
        "r_t = m.addVars(A_T,T, vtype=GRB.CONTINUOUS, lb=0.0, name=\"arrival time truck\") #Arrival time of truck $w$ at node $i$. $i \\in C_0$ for $w \\in W$.\n",
        "p_t = m.addVars(A_T, T, vtype=GRB.CONTINUOUS, lb=0.0, name=\"departure time truck\") #Departure time of truck $w$ from node $i$. $i \\in C_0$ for $w \\in W$.\n",
        "r_u = m.addVars(A_U, U, vtype=GRB.CONTINUOUS, lb=0.0, name=\"arrival time uav\")\n",
        "p_u = m.addVars(A_U, T, vtype=GRB.CONTINUOUS, lb=0.0, name=\"departure time uav\")\n",
        "w = m.addVar(vtype=GRB.CONTINUOUS, lb=0.0, name=\"objective\")"
      ],
      "metadata": {
        "id": "dcz5E-j0sqhL"
      },
      "execution_count": 237,
      "outputs": []
    },
    {
      "cell_type": "markdown",
      "source": [
        "# Objective Function"
      ],
      "metadata": {
        "id": "iWnMEaV-tpc7"
      }
    },
    {
      "cell_type": "markdown",
      "source": [
        "Min $\\sum_{i \\in A_T} \\sum_{t \\in T} r^{t}_{i}$ (1)\n"
      ],
      "metadata": {
        "id": "tYVHH5hytrYP"
      }
    },
    {
      "cell_type": "code",
      "source": [
        "m.setObjective(w, GRB.MINIMIZE)"
      ],
      "metadata": {
        "id": "5Z49Y9LOdmsm"
      },
      "execution_count": 238,
      "outputs": []
    },
    {
      "cell_type": "code",
      "source": [
        "m.addConstrs(r_t[i,t] <= w for i in A_T[1:-1] for t in T)\n",
        "m.addConstrs(r_u[i,u] <= w for i in A_U[1:-1] for u in U)"
      ],
      "metadata": {
        "colab": {
          "base_uri": "https://localhost:8080/"
        },
        "id": "vAayEdfldmqR",
        "outputId": "f90f8d6a-3b1d-4610-9939-c26bc0907270"
      },
      "execution_count": 239,
      "outputs": [
        {
          "output_type": "execute_result",
          "data": {
            "text/plain": [
              "{(1, 1): <gurobi.Constr *Awaiting Model Update*>,\n",
              " (2, 1): <gurobi.Constr *Awaiting Model Update*>,\n",
              " (3, 1): <gurobi.Constr *Awaiting Model Update*>,\n",
              " (4, 1): <gurobi.Constr *Awaiting Model Update*>,\n",
              " (5, 1): <gurobi.Constr *Awaiting Model Update*>,\n",
              " (6, 1): <gurobi.Constr *Awaiting Model Update*>,\n",
              " (7, 1): <gurobi.Constr *Awaiting Model Update*>,\n",
              " (8, 1): <gurobi.Constr *Awaiting Model Update*>}"
            ]
          },
          "metadata": {},
          "execution_count": 239
        }
      ]
    },
    {
      "cell_type": "code",
      "source": [
        "m.setObjective(gp.quicksum(r_t[i, t] for i in A_T[1:-1] for t in T) + gp.quicksum(r_u[i, u] for i in A_U for u in T), GRB.MINIMIZE)"
      ],
      "metadata": {
        "id": "F_5ym-B7tat1"
      },
      "execution_count": 240,
      "outputs": []
    },
    {
      "cell_type": "code",
      "source": [],
      "metadata": {
        "id": "8zbVBCXBdjVn"
      },
      "execution_count": 240,
      "outputs": []
    },
    {
      "cell_type": "markdown",
      "source": [],
      "metadata": {
        "id": "gFPN7MgDo64H"
      }
    },
    {
      "cell_type": "markdown",
      "source": [
        "# Constraints"
      ],
      "metadata": {
        "id": "RB_g4lgMFVYr"
      }
    },
    {
      "cell_type": "markdown",
      "source": [
        "$\\sum_{j \\in A_T} x^{t}_{0j} = 1, \\forall t \\in T$  (2)"
      ],
      "metadata": {
        "id": "No8z0ByRty-W"
      }
    },
    {
      "cell_type": "code",
      "source": [
        "m.addConstrs((gp.quicksum(x[0, j, t] for j in A_T[1:-1]) == 1 for t in T), \"DepartsFromDepot\") #done\n",
        "\n",
        "m.addConstrs((gp.quicksum(y[0, j, s, u] for j in A_U[1:-1] for s in A_T[1:]) <= 1 for u in U), \"UAVsFromDepot\") #"
      ],
      "metadata": {
        "colab": {
          "base_uri": "https://localhost:8080/"
        },
        "id": "3MUsg3estb6N",
        "outputId": "2c243f89-b87f-497c-dd2e-b5d22985d578"
      },
      "execution_count": 241,
      "outputs": [
        {
          "output_type": "execute_result",
          "data": {
            "text/plain": [
              "{1: <gurobi.Constr *Awaiting Model Update*>}"
            ]
          },
          "metadata": {},
          "execution_count": 241
        }
      ]
    },
    {
      "cell_type": "markdown",
      "source": [
        "$\\sum_{i \\in C_T} x^{t}_{i,end} = 1, \\forall t \\in T$ (3)"
      ],
      "metadata": {
        "id": "sKBVnAjatzx4"
      }
    },
    {
      "cell_type": "code",
      "source": [
        "m.addConstrs((gp.quicksum(x[i, N, t] for i in A_T[1:-1]) == 1 for t in T), \"ReturnsToDepot\") #done\n",
        "\n",
        "m.addConstrs((gp.quicksum(y[i, N, s, u] for i in A_U[1:-1] for s in A_T[1:]) <= 1 for u in U), \"ReturnsToDepot - UAV\") #"
      ],
      "metadata": {
        "colab": {
          "base_uri": "https://localhost:8080/"
        },
        "id": "VCXnjPJBtdBb",
        "outputId": "10e34780-9d67-4dd4-815b-886dd926aed2"
      },
      "execution_count": 242,
      "outputs": [
        {
          "output_type": "execute_result",
          "data": {
            "text/plain": [
              "{1: <gurobi.Constr *Awaiting Model Update*>}"
            ]
          },
          "metadata": {},
          "execution_count": 242
        }
      ]
    },
    {
      "cell_type": "markdown",
      "source": [
        "explain - truck self return ban"
      ],
      "metadata": {
        "id": "v26ohKCxIH1J"
      }
    },
    {
      "cell_type": "code",
      "source": [
        "# m.addConstrs((gp.quicksum(x[i, j, t] for i in A_T[1:-1] for j in A_T[1:-1] if i == j) == 0 for t in T), \"explain - self return ban\") #done\n",
        "m.addConstr(gp.quicksum(x[i, j, t] for t in T for i in A_T[1:-1] for j in A_T[1:-1] if i == j) == 0, \"self_return_ban\")\n",
        "\n",
        "m.addConstr(gp.quicksum(x[0, N, t] for t in T) == 0, \"explain - self return ban for depot repetition\") #done"
      ],
      "metadata": {
        "colab": {
          "base_uri": "https://localhost:8080/"
        },
        "id": "McyFpUCpDjnR",
        "outputId": "55b79c53-7268-410d-cb7f-5ae416f5bb11"
      },
      "execution_count": 243,
      "outputs": [
        {
          "output_type": "execute_result",
          "data": {
            "text/plain": [
              "<gurobi.Constr *Awaiting Model Update*>"
            ]
          },
          "metadata": {},
          "execution_count": 243
        }
      ]
    },
    {
      "cell_type": "markdown",
      "source": [
        "explain - uav self return ban"
      ],
      "metadata": {
        "id": "W078EGWxSA_N"
      }
    },
    {
      "cell_type": "code",
      "source": [
        "m.addConstr(gp.quicksum(y[i, j, s, u] for s in A_T[1:] for u in U for i in A_U[1:-1] for j in A_U[1:-1] if i == j ) == 0, \"explain - self return ban\") #done\n",
        "\n",
        "m.addConstr(gp.quicksum(y[0, N, s, u] for s in A_T[1:] for u in U) == 0, \"explain - self return ban for depot repetition\") #done"
      ],
      "metadata": {
        "colab": {
          "base_uri": "https://localhost:8080/"
        },
        "id": "S3MAwUNqSBZI",
        "outputId": "a4355d89-8250-4818-aeeb-630bf19ccc21"
      },
      "execution_count": 244,
      "outputs": [
        {
          "output_type": "execute_result",
          "data": {
            "text/plain": [
              "<gurobi.Constr *Awaiting Model Update*>"
            ]
          },
          "metadata": {},
          "execution_count": 244
        }
      ]
    },
    {
      "cell_type": "markdown",
      "source": [
        "$\\sum_{g \\in A_T \\atop g \\neq i} x^{t}_{gi} = \\sum_{j \\in A_U \\atop j \\neq i} x^{t}_{ij}, \\forall i \\in A_T, \\forall t \\in T,$ (4)"
      ],
      "metadata": {
        "id": "rfS_QQlJDyS5"
      }
    },
    {
      "cell_type": "code",
      "source": [
        "m.addConstrs((gp.quicksum(x[g, i, t] for g in A_T[:-1] if g != i) == gp.quicksum(x[i, j, t] for j in A_T[1:] if j != i) for i in A_T[1:-1] for t in T), \"FlowConservationTruck\") #done"
      ],
      "metadata": {
        "colab": {
          "base_uri": "https://localhost:8080/"
        },
        "id": "4d2fZmGaD2VA",
        "outputId": "a44adfc4-f71d-43a4-8f6f-6a2645a8c1ba"
      },
      "execution_count": 245,
      "outputs": [
        {
          "output_type": "execute_result",
          "data": {
            "text/plain": [
              "{(1, 1): <gurobi.Constr *Awaiting Model Update*>,\n",
              " (2, 1): <gurobi.Constr *Awaiting Model Update*>,\n",
              " (3, 1): <gurobi.Constr *Awaiting Model Update*>,\n",
              " (4, 1): <gurobi.Constr *Awaiting Model Update*>}"
            ]
          },
          "metadata": {},
          "execution_count": 245
        }
      ]
    },
    {
      "cell_type": "code",
      "source": [
        "m.addConstrs((gp.quicksum(y[g, i, s, u] for g in A_U[:-1] if g != i) == gp.quicksum(y[i, j, s, u] for j in A_U[1:] if j != i) for i in A_U[1:-1] for s in A_T[1:] for u in U), \"FlowConservationUAV\")\n"
      ],
      "metadata": {
        "colab": {
          "base_uri": "https://localhost:8080/"
        },
        "id": "YCwIMgBMIigS",
        "outputId": "d07b53cc-c389-44eb-c311-6dccb65c5620",
        "collapsed": true
      },
      "execution_count": 246,
      "outputs": [
        {
          "output_type": "execute_result",
          "data": {
            "text/plain": [
              "{(1, 1, 1): <gurobi.Constr *Awaiting Model Update*>,\n",
              " (1, 2, 1): <gurobi.Constr *Awaiting Model Update*>,\n",
              " (1, 3, 1): <gurobi.Constr *Awaiting Model Update*>,\n",
              " (1, 4, 1): <gurobi.Constr *Awaiting Model Update*>,\n",
              " (1, 9, 1): <gurobi.Constr *Awaiting Model Update*>,\n",
              " (2, 1, 1): <gurobi.Constr *Awaiting Model Update*>,\n",
              " (2, 2, 1): <gurobi.Constr *Awaiting Model Update*>,\n",
              " (2, 3, 1): <gurobi.Constr *Awaiting Model Update*>,\n",
              " (2, 4, 1): <gurobi.Constr *Awaiting Model Update*>,\n",
              " (2, 9, 1): <gurobi.Constr *Awaiting Model Update*>,\n",
              " (3, 1, 1): <gurobi.Constr *Awaiting Model Update*>,\n",
              " (3, 2, 1): <gurobi.Constr *Awaiting Model Update*>,\n",
              " (3, 3, 1): <gurobi.Constr *Awaiting Model Update*>,\n",
              " (3, 4, 1): <gurobi.Constr *Awaiting Model Update*>,\n",
              " (3, 9, 1): <gurobi.Constr *Awaiting Model Update*>,\n",
              " (4, 1, 1): <gurobi.Constr *Awaiting Model Update*>,\n",
              " (4, 2, 1): <gurobi.Constr *Awaiting Model Update*>,\n",
              " (4, 3, 1): <gurobi.Constr *Awaiting Model Update*>,\n",
              " (4, 4, 1): <gurobi.Constr *Awaiting Model Update*>,\n",
              " (4, 9, 1): <gurobi.Constr *Awaiting Model Update*>,\n",
              " (5, 1, 1): <gurobi.Constr *Awaiting Model Update*>,\n",
              " (5, 2, 1): <gurobi.Constr *Awaiting Model Update*>,\n",
              " (5, 3, 1): <gurobi.Constr *Awaiting Model Update*>,\n",
              " (5, 4, 1): <gurobi.Constr *Awaiting Model Update*>,\n",
              " (5, 9, 1): <gurobi.Constr *Awaiting Model Update*>,\n",
              " (6, 1, 1): <gurobi.Constr *Awaiting Model Update*>,\n",
              " (6, 2, 1): <gurobi.Constr *Awaiting Model Update*>,\n",
              " (6, 3, 1): <gurobi.Constr *Awaiting Model Update*>,\n",
              " (6, 4, 1): <gurobi.Constr *Awaiting Model Update*>,\n",
              " (6, 9, 1): <gurobi.Constr *Awaiting Model Update*>,\n",
              " (7, 1, 1): <gurobi.Constr *Awaiting Model Update*>,\n",
              " (7, 2, 1): <gurobi.Constr *Awaiting Model Update*>,\n",
              " (7, 3, 1): <gurobi.Constr *Awaiting Model Update*>,\n",
              " (7, 4, 1): <gurobi.Constr *Awaiting Model Update*>,\n",
              " (7, 9, 1): <gurobi.Constr *Awaiting Model Update*>,\n",
              " (8, 1, 1): <gurobi.Constr *Awaiting Model Update*>,\n",
              " (8, 2, 1): <gurobi.Constr *Awaiting Model Update*>,\n",
              " (8, 3, 1): <gurobi.Constr *Awaiting Model Update*>,\n",
              " (8, 4, 1): <gurobi.Constr *Awaiting Model Update*>,\n",
              " (8, 9, 1): <gurobi.Constr *Awaiting Model Update*>}"
            ]
          },
          "metadata": {},
          "execution_count": 246
        }
      ]
    },
    {
      "cell_type": "code",
      "source": [
        "# m.addConstrs((gp.quicksum(x[g, i, t] for g in A_T[:-1] if g != i) == gp.quicksum(x[i, j, t] for j in A_T[1:] if j != i) for i in A_T for t in T), \"FlowConservationTruck\")"
      ],
      "metadata": {
        "id": "cHPZlisqlAN-"
      },
      "execution_count": 247,
      "outputs": []
    },
    {
      "cell_type": "markdown",
      "source": [
        "$\\sum_{i \\in A_T \\atop i \\neq j} \\sum_{t \\in T} x^{t}_{ij} + \\sum_{i \\in A_U \\atop i \\neq j} \\sum_{s \\in A_E} \\sum_{u \\in U} y^{ut}_{ijs} = 1, \\forall j \\in A_T,$ (5)\n",
        "\n",
        "\n",
        "it is only for nodes A_T. we should another one only for nodes unique for A_U (A_U - A_T)"
      ],
      "metadata": {
        "id": "-qIw8oExJKdq"
      }
    },
    {
      "cell_type": "code",
      "source": [
        "# m.addConstrs((gp.quicksum(x[i, j, t] for i in A_T[:-1] if i != j for t in T) == 1 for j in A_T[1:]), \"VisitExactOnce - Truck\")\n",
        "\n",
        "m.addConstrs((gp.quicksum(x[i, j, t] for i in A_T[:-1] if i != j for t in T) + gp.quicksum(y[i, j, s, t] for i in A_U[:-1] if i != j for s in A_T[1:] if s!=j for t in T) == 1 for j in A_T[1:]), \"VisitOnce - Truck and UAV\")\n",
        "\n",
        "# m.addConstrs((gp.quicksum(x[i, j, t] for i in A_T[:-1] if i != j for t in T) == 1 for j in A_T[1:]), \"VisitOnce - Truck\")"
      ],
      "metadata": {
        "colab": {
          "base_uri": "https://localhost:8080/"
        },
        "id": "VCLyybkShnBM",
        "outputId": "1ad71900-6785-48cc-a76c-7f3a8a7a8cd4"
      },
      "execution_count": 248,
      "outputs": [
        {
          "output_type": "execute_result",
          "data": {
            "text/plain": [
              "{1: <gurobi.Constr *Awaiting Model Update*>,\n",
              " 2: <gurobi.Constr *Awaiting Model Update*>,\n",
              " 3: <gurobi.Constr *Awaiting Model Update*>,\n",
              " 4: <gurobi.Constr *Awaiting Model Update*>,\n",
              " 9: <gurobi.Constr *Awaiting Model Update*>}"
            ]
          },
          "metadata": {},
          "execution_count": 248
        }
      ]
    },
    {
      "cell_type": "markdown",
      "source": [
        "it is only for nodes A_T. we should another one only for nodes unique for A_U (A_U - A_T)"
      ],
      "metadata": {
        "id": "w5gfx6OrnRuG"
      }
    },
    {
      "cell_type": "code",
      "source": [
        "m.addConstrs((gp.quicksum(y[i, j, s, t] for i in A_U[:-1] if i != j for s in A_T[1:] for t in T) == 1 for j in [item for item in A_U if item not in A_T]), \"VisitOnce - UAV\")"
      ],
      "metadata": {
        "colab": {
          "base_uri": "https://localhost:8080/"
        },
        "id": "59iJF1NKnQ_W",
        "outputId": "1472294c-ef9c-4f0f-cd82-90fae72831fa"
      },
      "execution_count": 249,
      "outputs": [
        {
          "output_type": "execute_result",
          "data": {
            "text/plain": [
              "{5: <gurobi.Constr *Awaiting Model Update*>,\n",
              " 6: <gurobi.Constr *Awaiting Model Update*>,\n",
              " 7: <gurobi.Constr *Awaiting Model Update*>,\n",
              " 8: <gurobi.Constr *Awaiting Model Update*>}"
            ]
          },
          "metadata": {},
          "execution_count": 249
        }
      ]
    },
    {
      "cell_type": "markdown",
      "source": [
        "$1 - (c + 2)(1 - x^{w}_{ij}) \\leq z_j - z^{w}_{i}, \\forall i \\in C_T, \\forall j \\in C_E, i \\neq j, \\forall w \\in W$ (17)\n",
        "\n",
        "\n",
        "MTZ for truck"
      ],
      "metadata": {
        "id": "uObbzQ8adamY"
      }
    },
    {
      "cell_type": "code",
      "source": [
        "m.addConstrs(z_t[i,t] - z_t[j,t] + (L) * x[i,j,t] <= L - 1 for i in A_T[1:-1] for j in A_T[1:-1] if i != j for t in T)"
      ],
      "metadata": {
        "id": "TcaIz7rO4jiD",
        "colab": {
          "base_uri": "https://localhost:8080/"
        },
        "outputId": "05b057ec-d2a9-4585-b1c0-8f2d665c5f6d",
        "collapsed": true
      },
      "execution_count": 250,
      "outputs": [
        {
          "output_type": "execute_result",
          "data": {
            "text/plain": [
              "{(1, 2, 1): <gurobi.Constr *Awaiting Model Update*>,\n",
              " (1, 3, 1): <gurobi.Constr *Awaiting Model Update*>,\n",
              " (1, 4, 1): <gurobi.Constr *Awaiting Model Update*>,\n",
              " (2, 1, 1): <gurobi.Constr *Awaiting Model Update*>,\n",
              " (2, 3, 1): <gurobi.Constr *Awaiting Model Update*>,\n",
              " (2, 4, 1): <gurobi.Constr *Awaiting Model Update*>,\n",
              " (3, 1, 1): <gurobi.Constr *Awaiting Model Update*>,\n",
              " (3, 2, 1): <gurobi.Constr *Awaiting Model Update*>,\n",
              " (3, 4, 1): <gurobi.Constr *Awaiting Model Update*>,\n",
              " (4, 1, 1): <gurobi.Constr *Awaiting Model Update*>,\n",
              " (4, 2, 1): <gurobi.Constr *Awaiting Model Update*>,\n",
              " (4, 3, 1): <gurobi.Constr *Awaiting Model Update*>}"
            ]
          },
          "metadata": {},
          "execution_count": 250
        }
      ]
    },
    {
      "cell_type": "markdown",
      "source": [
        "$(c+2) - 1 \\leq z_{i} - z_{j} + (c+2) y^{uw}_{ij}, \\forall i \\in C_{0}, \\forall j \\in C_E, \\forall u \\in U, \\forall w \\in W,$ (16)\n",
        "\n",
        "\n",
        "MTZ for UAV"
      ],
      "metadata": {
        "id": "N_hV8pdrZehK"
      }
    },
    {
      "cell_type": "code",
      "source": [
        "m.addConstrs((z_u[i, u] - z_u[j, u] + (N) * y[i, j, s, u] <= N - 1 for i in A_U[1:-1] for j in A_U[1:-1] if i!= j for s in A_T[1:] for u in U))"
      ],
      "metadata": {
        "colab": {
          "base_uri": "https://localhost:8080/"
        },
        "id": "9nOnWafHZepx",
        "outputId": "8be3c399-4007-4b48-cea7-afe2056e0ada",
        "collapsed": true
      },
      "execution_count": 251,
      "outputs": [
        {
          "output_type": "execute_result",
          "data": {
            "text/plain": [
              "{(1, 2, 1, 1): <gurobi.Constr *Awaiting Model Update*>,\n",
              " (1, 2, 2, 1): <gurobi.Constr *Awaiting Model Update*>,\n",
              " (1, 2, 3, 1): <gurobi.Constr *Awaiting Model Update*>,\n",
              " (1, 2, 4, 1): <gurobi.Constr *Awaiting Model Update*>,\n",
              " (1, 2, 9, 1): <gurobi.Constr *Awaiting Model Update*>,\n",
              " (1, 3, 1, 1): <gurobi.Constr *Awaiting Model Update*>,\n",
              " (1, 3, 2, 1): <gurobi.Constr *Awaiting Model Update*>,\n",
              " (1, 3, 3, 1): <gurobi.Constr *Awaiting Model Update*>,\n",
              " (1, 3, 4, 1): <gurobi.Constr *Awaiting Model Update*>,\n",
              " (1, 3, 9, 1): <gurobi.Constr *Awaiting Model Update*>,\n",
              " (1, 4, 1, 1): <gurobi.Constr *Awaiting Model Update*>,\n",
              " (1, 4, 2, 1): <gurobi.Constr *Awaiting Model Update*>,\n",
              " (1, 4, 3, 1): <gurobi.Constr *Awaiting Model Update*>,\n",
              " (1, 4, 4, 1): <gurobi.Constr *Awaiting Model Update*>,\n",
              " (1, 4, 9, 1): <gurobi.Constr *Awaiting Model Update*>,\n",
              " (1, 5, 1, 1): <gurobi.Constr *Awaiting Model Update*>,\n",
              " (1, 5, 2, 1): <gurobi.Constr *Awaiting Model Update*>,\n",
              " (1, 5, 3, 1): <gurobi.Constr *Awaiting Model Update*>,\n",
              " (1, 5, 4, 1): <gurobi.Constr *Awaiting Model Update*>,\n",
              " (1, 5, 9, 1): <gurobi.Constr *Awaiting Model Update*>,\n",
              " (1, 6, 1, 1): <gurobi.Constr *Awaiting Model Update*>,\n",
              " (1, 6, 2, 1): <gurobi.Constr *Awaiting Model Update*>,\n",
              " (1, 6, 3, 1): <gurobi.Constr *Awaiting Model Update*>,\n",
              " (1, 6, 4, 1): <gurobi.Constr *Awaiting Model Update*>,\n",
              " (1, 6, 9, 1): <gurobi.Constr *Awaiting Model Update*>,\n",
              " (1, 7, 1, 1): <gurobi.Constr *Awaiting Model Update*>,\n",
              " (1, 7, 2, 1): <gurobi.Constr *Awaiting Model Update*>,\n",
              " (1, 7, 3, 1): <gurobi.Constr *Awaiting Model Update*>,\n",
              " (1, 7, 4, 1): <gurobi.Constr *Awaiting Model Update*>,\n",
              " (1, 7, 9, 1): <gurobi.Constr *Awaiting Model Update*>,\n",
              " (1, 8, 1, 1): <gurobi.Constr *Awaiting Model Update*>,\n",
              " (1, 8, 2, 1): <gurobi.Constr *Awaiting Model Update*>,\n",
              " (1, 8, 3, 1): <gurobi.Constr *Awaiting Model Update*>,\n",
              " (1, 8, 4, 1): <gurobi.Constr *Awaiting Model Update*>,\n",
              " (1, 8, 9, 1): <gurobi.Constr *Awaiting Model Update*>,\n",
              " (2, 1, 1, 1): <gurobi.Constr *Awaiting Model Update*>,\n",
              " (2, 1, 2, 1): <gurobi.Constr *Awaiting Model Update*>,\n",
              " (2, 1, 3, 1): <gurobi.Constr *Awaiting Model Update*>,\n",
              " (2, 1, 4, 1): <gurobi.Constr *Awaiting Model Update*>,\n",
              " (2, 1, 9, 1): <gurobi.Constr *Awaiting Model Update*>,\n",
              " (2, 3, 1, 1): <gurobi.Constr *Awaiting Model Update*>,\n",
              " (2, 3, 2, 1): <gurobi.Constr *Awaiting Model Update*>,\n",
              " (2, 3, 3, 1): <gurobi.Constr *Awaiting Model Update*>,\n",
              " (2, 3, 4, 1): <gurobi.Constr *Awaiting Model Update*>,\n",
              " (2, 3, 9, 1): <gurobi.Constr *Awaiting Model Update*>,\n",
              " (2, 4, 1, 1): <gurobi.Constr *Awaiting Model Update*>,\n",
              " (2, 4, 2, 1): <gurobi.Constr *Awaiting Model Update*>,\n",
              " (2, 4, 3, 1): <gurobi.Constr *Awaiting Model Update*>,\n",
              " (2, 4, 4, 1): <gurobi.Constr *Awaiting Model Update*>,\n",
              " (2, 4, 9, 1): <gurobi.Constr *Awaiting Model Update*>,\n",
              " (2, 5, 1, 1): <gurobi.Constr *Awaiting Model Update*>,\n",
              " (2, 5, 2, 1): <gurobi.Constr *Awaiting Model Update*>,\n",
              " (2, 5, 3, 1): <gurobi.Constr *Awaiting Model Update*>,\n",
              " (2, 5, 4, 1): <gurobi.Constr *Awaiting Model Update*>,\n",
              " (2, 5, 9, 1): <gurobi.Constr *Awaiting Model Update*>,\n",
              " (2, 6, 1, 1): <gurobi.Constr *Awaiting Model Update*>,\n",
              " (2, 6, 2, 1): <gurobi.Constr *Awaiting Model Update*>,\n",
              " (2, 6, 3, 1): <gurobi.Constr *Awaiting Model Update*>,\n",
              " (2, 6, 4, 1): <gurobi.Constr *Awaiting Model Update*>,\n",
              " (2, 6, 9, 1): <gurobi.Constr *Awaiting Model Update*>,\n",
              " (2, 7, 1, 1): <gurobi.Constr *Awaiting Model Update*>,\n",
              " (2, 7, 2, 1): <gurobi.Constr *Awaiting Model Update*>,\n",
              " (2, 7, 3, 1): <gurobi.Constr *Awaiting Model Update*>,\n",
              " (2, 7, 4, 1): <gurobi.Constr *Awaiting Model Update*>,\n",
              " (2, 7, 9, 1): <gurobi.Constr *Awaiting Model Update*>,\n",
              " (2, 8, 1, 1): <gurobi.Constr *Awaiting Model Update*>,\n",
              " (2, 8, 2, 1): <gurobi.Constr *Awaiting Model Update*>,\n",
              " (2, 8, 3, 1): <gurobi.Constr *Awaiting Model Update*>,\n",
              " (2, 8, 4, 1): <gurobi.Constr *Awaiting Model Update*>,\n",
              " (2, 8, 9, 1): <gurobi.Constr *Awaiting Model Update*>,\n",
              " (3, 1, 1, 1): <gurobi.Constr *Awaiting Model Update*>,\n",
              " (3, 1, 2, 1): <gurobi.Constr *Awaiting Model Update*>,\n",
              " (3, 1, 3, 1): <gurobi.Constr *Awaiting Model Update*>,\n",
              " (3, 1, 4, 1): <gurobi.Constr *Awaiting Model Update*>,\n",
              " (3, 1, 9, 1): <gurobi.Constr *Awaiting Model Update*>,\n",
              " (3, 2, 1, 1): <gurobi.Constr *Awaiting Model Update*>,\n",
              " (3, 2, 2, 1): <gurobi.Constr *Awaiting Model Update*>,\n",
              " (3, 2, 3, 1): <gurobi.Constr *Awaiting Model Update*>,\n",
              " (3, 2, 4, 1): <gurobi.Constr *Awaiting Model Update*>,\n",
              " (3, 2, 9, 1): <gurobi.Constr *Awaiting Model Update*>,\n",
              " (3, 4, 1, 1): <gurobi.Constr *Awaiting Model Update*>,\n",
              " (3, 4, 2, 1): <gurobi.Constr *Awaiting Model Update*>,\n",
              " (3, 4, 3, 1): <gurobi.Constr *Awaiting Model Update*>,\n",
              " (3, 4, 4, 1): <gurobi.Constr *Awaiting Model Update*>,\n",
              " (3, 4, 9, 1): <gurobi.Constr *Awaiting Model Update*>,\n",
              " (3, 5, 1, 1): <gurobi.Constr *Awaiting Model Update*>,\n",
              " (3, 5, 2, 1): <gurobi.Constr *Awaiting Model Update*>,\n",
              " (3, 5, 3, 1): <gurobi.Constr *Awaiting Model Update*>,\n",
              " (3, 5, 4, 1): <gurobi.Constr *Awaiting Model Update*>,\n",
              " (3, 5, 9, 1): <gurobi.Constr *Awaiting Model Update*>,\n",
              " (3, 6, 1, 1): <gurobi.Constr *Awaiting Model Update*>,\n",
              " (3, 6, 2, 1): <gurobi.Constr *Awaiting Model Update*>,\n",
              " (3, 6, 3, 1): <gurobi.Constr *Awaiting Model Update*>,\n",
              " (3, 6, 4, 1): <gurobi.Constr *Awaiting Model Update*>,\n",
              " (3, 6, 9, 1): <gurobi.Constr *Awaiting Model Update*>,\n",
              " (3, 7, 1, 1): <gurobi.Constr *Awaiting Model Update*>,\n",
              " (3, 7, 2, 1): <gurobi.Constr *Awaiting Model Update*>,\n",
              " (3, 7, 3, 1): <gurobi.Constr *Awaiting Model Update*>,\n",
              " (3, 7, 4, 1): <gurobi.Constr *Awaiting Model Update*>,\n",
              " (3, 7, 9, 1): <gurobi.Constr *Awaiting Model Update*>,\n",
              " (3, 8, 1, 1): <gurobi.Constr *Awaiting Model Update*>,\n",
              " (3, 8, 2, 1): <gurobi.Constr *Awaiting Model Update*>,\n",
              " (3, 8, 3, 1): <gurobi.Constr *Awaiting Model Update*>,\n",
              " (3, 8, 4, 1): <gurobi.Constr *Awaiting Model Update*>,\n",
              " (3, 8, 9, 1): <gurobi.Constr *Awaiting Model Update*>,\n",
              " (4, 1, 1, 1): <gurobi.Constr *Awaiting Model Update*>,\n",
              " (4, 1, 2, 1): <gurobi.Constr *Awaiting Model Update*>,\n",
              " (4, 1, 3, 1): <gurobi.Constr *Awaiting Model Update*>,\n",
              " (4, 1, 4, 1): <gurobi.Constr *Awaiting Model Update*>,\n",
              " (4, 1, 9, 1): <gurobi.Constr *Awaiting Model Update*>,\n",
              " (4, 2, 1, 1): <gurobi.Constr *Awaiting Model Update*>,\n",
              " (4, 2, 2, 1): <gurobi.Constr *Awaiting Model Update*>,\n",
              " (4, 2, 3, 1): <gurobi.Constr *Awaiting Model Update*>,\n",
              " (4, 2, 4, 1): <gurobi.Constr *Awaiting Model Update*>,\n",
              " (4, 2, 9, 1): <gurobi.Constr *Awaiting Model Update*>,\n",
              " (4, 3, 1, 1): <gurobi.Constr *Awaiting Model Update*>,\n",
              " (4, 3, 2, 1): <gurobi.Constr *Awaiting Model Update*>,\n",
              " (4, 3, 3, 1): <gurobi.Constr *Awaiting Model Update*>,\n",
              " (4, 3, 4, 1): <gurobi.Constr *Awaiting Model Update*>,\n",
              " (4, 3, 9, 1): <gurobi.Constr *Awaiting Model Update*>,\n",
              " (4, 5, 1, 1): <gurobi.Constr *Awaiting Model Update*>,\n",
              " (4, 5, 2, 1): <gurobi.Constr *Awaiting Model Update*>,\n",
              " (4, 5, 3, 1): <gurobi.Constr *Awaiting Model Update*>,\n",
              " (4, 5, 4, 1): <gurobi.Constr *Awaiting Model Update*>,\n",
              " (4, 5, 9, 1): <gurobi.Constr *Awaiting Model Update*>,\n",
              " (4, 6, 1, 1): <gurobi.Constr *Awaiting Model Update*>,\n",
              " (4, 6, 2, 1): <gurobi.Constr *Awaiting Model Update*>,\n",
              " (4, 6, 3, 1): <gurobi.Constr *Awaiting Model Update*>,\n",
              " (4, 6, 4, 1): <gurobi.Constr *Awaiting Model Update*>,\n",
              " (4, 6, 9, 1): <gurobi.Constr *Awaiting Model Update*>,\n",
              " (4, 7, 1, 1): <gurobi.Constr *Awaiting Model Update*>,\n",
              " (4, 7, 2, 1): <gurobi.Constr *Awaiting Model Update*>,\n",
              " (4, 7, 3, 1): <gurobi.Constr *Awaiting Model Update*>,\n",
              " (4, 7, 4, 1): <gurobi.Constr *Awaiting Model Update*>,\n",
              " (4, 7, 9, 1): <gurobi.Constr *Awaiting Model Update*>,\n",
              " (4, 8, 1, 1): <gurobi.Constr *Awaiting Model Update*>,\n",
              " (4, 8, 2, 1): <gurobi.Constr *Awaiting Model Update*>,\n",
              " (4, 8, 3, 1): <gurobi.Constr *Awaiting Model Update*>,\n",
              " (4, 8, 4, 1): <gurobi.Constr *Awaiting Model Update*>,\n",
              " (4, 8, 9, 1): <gurobi.Constr *Awaiting Model Update*>,\n",
              " (5, 1, 1, 1): <gurobi.Constr *Awaiting Model Update*>,\n",
              " (5, 1, 2, 1): <gurobi.Constr *Awaiting Model Update*>,\n",
              " (5, 1, 3, 1): <gurobi.Constr *Awaiting Model Update*>,\n",
              " (5, 1, 4, 1): <gurobi.Constr *Awaiting Model Update*>,\n",
              " (5, 1, 9, 1): <gurobi.Constr *Awaiting Model Update*>,\n",
              " (5, 2, 1, 1): <gurobi.Constr *Awaiting Model Update*>,\n",
              " (5, 2, 2, 1): <gurobi.Constr *Awaiting Model Update*>,\n",
              " (5, 2, 3, 1): <gurobi.Constr *Awaiting Model Update*>,\n",
              " (5, 2, 4, 1): <gurobi.Constr *Awaiting Model Update*>,\n",
              " (5, 2, 9, 1): <gurobi.Constr *Awaiting Model Update*>,\n",
              " (5, 3, 1, 1): <gurobi.Constr *Awaiting Model Update*>,\n",
              " (5, 3, 2, 1): <gurobi.Constr *Awaiting Model Update*>,\n",
              " (5, 3, 3, 1): <gurobi.Constr *Awaiting Model Update*>,\n",
              " (5, 3, 4, 1): <gurobi.Constr *Awaiting Model Update*>,\n",
              " (5, 3, 9, 1): <gurobi.Constr *Awaiting Model Update*>,\n",
              " (5, 4, 1, 1): <gurobi.Constr *Awaiting Model Update*>,\n",
              " (5, 4, 2, 1): <gurobi.Constr *Awaiting Model Update*>,\n",
              " (5, 4, 3, 1): <gurobi.Constr *Awaiting Model Update*>,\n",
              " (5, 4, 4, 1): <gurobi.Constr *Awaiting Model Update*>,\n",
              " (5, 4, 9, 1): <gurobi.Constr *Awaiting Model Update*>,\n",
              " (5, 6, 1, 1): <gurobi.Constr *Awaiting Model Update*>,\n",
              " (5, 6, 2, 1): <gurobi.Constr *Awaiting Model Update*>,\n",
              " (5, 6, 3, 1): <gurobi.Constr *Awaiting Model Update*>,\n",
              " (5, 6, 4, 1): <gurobi.Constr *Awaiting Model Update*>,\n",
              " (5, 6, 9, 1): <gurobi.Constr *Awaiting Model Update*>,\n",
              " (5, 7, 1, 1): <gurobi.Constr *Awaiting Model Update*>,\n",
              " (5, 7, 2, 1): <gurobi.Constr *Awaiting Model Update*>,\n",
              " (5, 7, 3, 1): <gurobi.Constr *Awaiting Model Update*>,\n",
              " (5, 7, 4, 1): <gurobi.Constr *Awaiting Model Update*>,\n",
              " (5, 7, 9, 1): <gurobi.Constr *Awaiting Model Update*>,\n",
              " (5, 8, 1, 1): <gurobi.Constr *Awaiting Model Update*>,\n",
              " (5, 8, 2, 1): <gurobi.Constr *Awaiting Model Update*>,\n",
              " (5, 8, 3, 1): <gurobi.Constr *Awaiting Model Update*>,\n",
              " (5, 8, 4, 1): <gurobi.Constr *Awaiting Model Update*>,\n",
              " (5, 8, 9, 1): <gurobi.Constr *Awaiting Model Update*>,\n",
              " (6, 1, 1, 1): <gurobi.Constr *Awaiting Model Update*>,\n",
              " (6, 1, 2, 1): <gurobi.Constr *Awaiting Model Update*>,\n",
              " (6, 1, 3, 1): <gurobi.Constr *Awaiting Model Update*>,\n",
              " (6, 1, 4, 1): <gurobi.Constr *Awaiting Model Update*>,\n",
              " (6, 1, 9, 1): <gurobi.Constr *Awaiting Model Update*>,\n",
              " (6, 2, 1, 1): <gurobi.Constr *Awaiting Model Update*>,\n",
              " (6, 2, 2, 1): <gurobi.Constr *Awaiting Model Update*>,\n",
              " (6, 2, 3, 1): <gurobi.Constr *Awaiting Model Update*>,\n",
              " (6, 2, 4, 1): <gurobi.Constr *Awaiting Model Update*>,\n",
              " (6, 2, 9, 1): <gurobi.Constr *Awaiting Model Update*>,\n",
              " (6, 3, 1, 1): <gurobi.Constr *Awaiting Model Update*>,\n",
              " (6, 3, 2, 1): <gurobi.Constr *Awaiting Model Update*>,\n",
              " (6, 3, 3, 1): <gurobi.Constr *Awaiting Model Update*>,\n",
              " (6, 3, 4, 1): <gurobi.Constr *Awaiting Model Update*>,\n",
              " (6, 3, 9, 1): <gurobi.Constr *Awaiting Model Update*>,\n",
              " (6, 4, 1, 1): <gurobi.Constr *Awaiting Model Update*>,\n",
              " (6, 4, 2, 1): <gurobi.Constr *Awaiting Model Update*>,\n",
              " (6, 4, 3, 1): <gurobi.Constr *Awaiting Model Update*>,\n",
              " (6, 4, 4, 1): <gurobi.Constr *Awaiting Model Update*>,\n",
              " (6, 4, 9, 1): <gurobi.Constr *Awaiting Model Update*>,\n",
              " (6, 5, 1, 1): <gurobi.Constr *Awaiting Model Update*>,\n",
              " (6, 5, 2, 1): <gurobi.Constr *Awaiting Model Update*>,\n",
              " (6, 5, 3, 1): <gurobi.Constr *Awaiting Model Update*>,\n",
              " (6, 5, 4, 1): <gurobi.Constr *Awaiting Model Update*>,\n",
              " (6, 5, 9, 1): <gurobi.Constr *Awaiting Model Update*>,\n",
              " (6, 7, 1, 1): <gurobi.Constr *Awaiting Model Update*>,\n",
              " (6, 7, 2, 1): <gurobi.Constr *Awaiting Model Update*>,\n",
              " (6, 7, 3, 1): <gurobi.Constr *Awaiting Model Update*>,\n",
              " (6, 7, 4, 1): <gurobi.Constr *Awaiting Model Update*>,\n",
              " (6, 7, 9, 1): <gurobi.Constr *Awaiting Model Update*>,\n",
              " (6, 8, 1, 1): <gurobi.Constr *Awaiting Model Update*>,\n",
              " (6, 8, 2, 1): <gurobi.Constr *Awaiting Model Update*>,\n",
              " (6, 8, 3, 1): <gurobi.Constr *Awaiting Model Update*>,\n",
              " (6, 8, 4, 1): <gurobi.Constr *Awaiting Model Update*>,\n",
              " (6, 8, 9, 1): <gurobi.Constr *Awaiting Model Update*>,\n",
              " (7, 1, 1, 1): <gurobi.Constr *Awaiting Model Update*>,\n",
              " (7, 1, 2, 1): <gurobi.Constr *Awaiting Model Update*>,\n",
              " (7, 1, 3, 1): <gurobi.Constr *Awaiting Model Update*>,\n",
              " (7, 1, 4, 1): <gurobi.Constr *Awaiting Model Update*>,\n",
              " (7, 1, 9, 1): <gurobi.Constr *Awaiting Model Update*>,\n",
              " (7, 2, 1, 1): <gurobi.Constr *Awaiting Model Update*>,\n",
              " (7, 2, 2, 1): <gurobi.Constr *Awaiting Model Update*>,\n",
              " (7, 2, 3, 1): <gurobi.Constr *Awaiting Model Update*>,\n",
              " (7, 2, 4, 1): <gurobi.Constr *Awaiting Model Update*>,\n",
              " (7, 2, 9, 1): <gurobi.Constr *Awaiting Model Update*>,\n",
              " (7, 3, 1, 1): <gurobi.Constr *Awaiting Model Update*>,\n",
              " (7, 3, 2, 1): <gurobi.Constr *Awaiting Model Update*>,\n",
              " (7, 3, 3, 1): <gurobi.Constr *Awaiting Model Update*>,\n",
              " (7, 3, 4, 1): <gurobi.Constr *Awaiting Model Update*>,\n",
              " (7, 3, 9, 1): <gurobi.Constr *Awaiting Model Update*>,\n",
              " (7, 4, 1, 1): <gurobi.Constr *Awaiting Model Update*>,\n",
              " (7, 4, 2, 1): <gurobi.Constr *Awaiting Model Update*>,\n",
              " (7, 4, 3, 1): <gurobi.Constr *Awaiting Model Update*>,\n",
              " (7, 4, 4, 1): <gurobi.Constr *Awaiting Model Update*>,\n",
              " (7, 4, 9, 1): <gurobi.Constr *Awaiting Model Update*>,\n",
              " (7, 5, 1, 1): <gurobi.Constr *Awaiting Model Update*>,\n",
              " (7, 5, 2, 1): <gurobi.Constr *Awaiting Model Update*>,\n",
              " (7, 5, 3, 1): <gurobi.Constr *Awaiting Model Update*>,\n",
              " (7, 5, 4, 1): <gurobi.Constr *Awaiting Model Update*>,\n",
              " (7, 5, 9, 1): <gurobi.Constr *Awaiting Model Update*>,\n",
              " (7, 6, 1, 1): <gurobi.Constr *Awaiting Model Update*>,\n",
              " (7, 6, 2, 1): <gurobi.Constr *Awaiting Model Update*>,\n",
              " (7, 6, 3, 1): <gurobi.Constr *Awaiting Model Update*>,\n",
              " (7, 6, 4, 1): <gurobi.Constr *Awaiting Model Update*>,\n",
              " (7, 6, 9, 1): <gurobi.Constr *Awaiting Model Update*>,\n",
              " (7, 8, 1, 1): <gurobi.Constr *Awaiting Model Update*>,\n",
              " (7, 8, 2, 1): <gurobi.Constr *Awaiting Model Update*>,\n",
              " (7, 8, 3, 1): <gurobi.Constr *Awaiting Model Update*>,\n",
              " (7, 8, 4, 1): <gurobi.Constr *Awaiting Model Update*>,\n",
              " (7, 8, 9, 1): <gurobi.Constr *Awaiting Model Update*>,\n",
              " (8, 1, 1, 1): <gurobi.Constr *Awaiting Model Update*>,\n",
              " (8, 1, 2, 1): <gurobi.Constr *Awaiting Model Update*>,\n",
              " (8, 1, 3, 1): <gurobi.Constr *Awaiting Model Update*>,\n",
              " (8, 1, 4, 1): <gurobi.Constr *Awaiting Model Update*>,\n",
              " (8, 1, 9, 1): <gurobi.Constr *Awaiting Model Update*>,\n",
              " (8, 2, 1, 1): <gurobi.Constr *Awaiting Model Update*>,\n",
              " (8, 2, 2, 1): <gurobi.Constr *Awaiting Model Update*>,\n",
              " (8, 2, 3, 1): <gurobi.Constr *Awaiting Model Update*>,\n",
              " (8, 2, 4, 1): <gurobi.Constr *Awaiting Model Update*>,\n",
              " (8, 2, 9, 1): <gurobi.Constr *Awaiting Model Update*>,\n",
              " (8, 3, 1, 1): <gurobi.Constr *Awaiting Model Update*>,\n",
              " (8, 3, 2, 1): <gurobi.Constr *Awaiting Model Update*>,\n",
              " (8, 3, 3, 1): <gurobi.Constr *Awaiting Model Update*>,\n",
              " (8, 3, 4, 1): <gurobi.Constr *Awaiting Model Update*>,\n",
              " (8, 3, 9, 1): <gurobi.Constr *Awaiting Model Update*>,\n",
              " (8, 4, 1, 1): <gurobi.Constr *Awaiting Model Update*>,\n",
              " (8, 4, 2, 1): <gurobi.Constr *Awaiting Model Update*>,\n",
              " (8, 4, 3, 1): <gurobi.Constr *Awaiting Model Update*>,\n",
              " (8, 4, 4, 1): <gurobi.Constr *Awaiting Model Update*>,\n",
              " (8, 4, 9, 1): <gurobi.Constr *Awaiting Model Update*>,\n",
              " (8, 5, 1, 1): <gurobi.Constr *Awaiting Model Update*>,\n",
              " (8, 5, 2, 1): <gurobi.Constr *Awaiting Model Update*>,\n",
              " (8, 5, 3, 1): <gurobi.Constr *Awaiting Model Update*>,\n",
              " (8, 5, 4, 1): <gurobi.Constr *Awaiting Model Update*>,\n",
              " (8, 5, 9, 1): <gurobi.Constr *Awaiting Model Update*>,\n",
              " (8, 6, 1, 1): <gurobi.Constr *Awaiting Model Update*>,\n",
              " (8, 6, 2, 1): <gurobi.Constr *Awaiting Model Update*>,\n",
              " (8, 6, 3, 1): <gurobi.Constr *Awaiting Model Update*>,\n",
              " (8, 6, 4, 1): <gurobi.Constr *Awaiting Model Update*>,\n",
              " (8, 6, 9, 1): <gurobi.Constr *Awaiting Model Update*>,\n",
              " (8, 7, 1, 1): <gurobi.Constr *Awaiting Model Update*>,\n",
              " (8, 7, 2, 1): <gurobi.Constr *Awaiting Model Update*>,\n",
              " (8, 7, 3, 1): <gurobi.Constr *Awaiting Model Update*>,\n",
              " (8, 7, 4, 1): <gurobi.Constr *Awaiting Model Update*>,\n",
              " (8, 7, 9, 1): <gurobi.Constr *Awaiting Model Update*>}"
            ]
          },
          "metadata": {},
          "execution_count": 251
        }
      ]
    },
    {
      "cell_type": "code",
      "source": [],
      "metadata": {
        "id": "djdLk9F2qwEl"
      },
      "execution_count": 251,
      "outputs": []
    },
    {
      "cell_type": "markdown",
      "source": [
        "$\\sum_{h \\in A_T \\atop h \\neq i} x_{hi} + \\sum_{g \\in A_E \\atop g \\neq s} x_{gs} \\geq 2 \\sum_{j \\in A_U} y^{ut}_{ijs}, \\forall i \\in A_T, \\forall s \\in A_E, \\forall u \\in U,$ (6)"
      ],
      "metadata": {
        "id": "O-I2AjbjRl6O"
      }
    },
    {
      "cell_type": "code",
      "source": [
        "m.addConstrs((gp.quicksum(x[h, i, t] for h in A_T[:-1] if h != i) + gp.quicksum(x[g, s, t] for g in A_T[:-1] if g != s) >= 2 * gp.quicksum(y[i, j, s, t] for j in A_U[1:]) for i in A_T[1:-1] for s in A_T[1:] for t in T))\n",
        "\n",
        "\n",
        "m.addConstrs((gp.quicksum(x[0, h, t] for h in A_T[1:-1]) + gp.quicksum(x[g, s, t] for g in A_T[:-1] if g != s) >= 2 * gp.quicksum(y[0, j, s, t] for j in A_U[1:]) for s in A_T[1:] for t in T))"
      ],
      "metadata": {
        "colab": {
          "base_uri": "https://localhost:8080/"
        },
        "id": "zhhkj2DNRmKP",
        "outputId": "b12fb9f8-5563-4059-acd2-a24db8e3a514"
      },
      "execution_count": 252,
      "outputs": [
        {
          "output_type": "execute_result",
          "data": {
            "text/plain": [
              "{(1, 1): <gurobi.Constr *Awaiting Model Update*>,\n",
              " (2, 1): <gurobi.Constr *Awaiting Model Update*>,\n",
              " (3, 1): <gurobi.Constr *Awaiting Model Update*>,\n",
              " (4, 1): <gurobi.Constr *Awaiting Model Update*>,\n",
              " (9, 1): <gurobi.Constr *Awaiting Model Update*>}"
            ]
          },
          "metadata": {},
          "execution_count": 252
        }
      ]
    },
    {
      "cell_type": "markdown",
      "source": [
        "$\\sum_{j \\in C_D} y^{uw}_{0js} \\leq \\sum_{g \\in C_T \\atop g \\neq s} x_{gs}, \\forall s \\in C_E, \\forall u \\in U,$ (7)"
      ],
      "metadata": {
        "id": "20xhDxwvUBUM"
      }
    },
    {
      "cell_type": "code",
      "source": [
        "# m.addConstrs((gp.quicksum(y[i, j, s, t] for j in A_U) <= gp.quicksum(x[g, s, t] for g in A_T[:-1] if g != s) for s in A_T[1:] for t in T), \"UAVRouteConsistency\")\n"
      ],
      "metadata": {
        "id": "aVOPoT3sUBet"
      },
      "execution_count": 253,
      "outputs": []
    },
    {
      "cell_type": "markdown",
      "source": [
        " $r^{t}_{j} + d_{ij} - (1 - x^{t}_{ij}) M \\leq p^{t}_{j}, \\forall i \\in A_T, \\forall j \\in A_E, i \\neq j,$ (8)\n"
      ],
      "metadata": {
        "id": "fWXSj49_IbYN"
      }
    },
    {
      "cell_type": "code",
      "source": [
        "m.addConstrs((p_t[i, t] + d_t.iloc[i, j] - (1 - x[i, j, t]) * M <= r_t[j, t] for i in A_T[:-1] for j in A_T[1:] if i != j for t in T), \"TruckArrivalTime\")"
      ],
      "metadata": {
        "colab": {
          "base_uri": "https://localhost:8080/"
        },
        "id": "ysx5ROcEIbqE",
        "outputId": "9459b747-b4b7-4ed5-dadb-a73afcce2671"
      },
      "execution_count": 254,
      "outputs": [
        {
          "output_type": "execute_result",
          "data": {
            "text/plain": [
              "{(0, 1, 1): <gurobi.Constr *Awaiting Model Update*>,\n",
              " (0, 2, 1): <gurobi.Constr *Awaiting Model Update*>,\n",
              " (0, 3, 1): <gurobi.Constr *Awaiting Model Update*>,\n",
              " (0, 4, 1): <gurobi.Constr *Awaiting Model Update*>,\n",
              " (0, 9, 1): <gurobi.Constr *Awaiting Model Update*>,\n",
              " (1, 2, 1): <gurobi.Constr *Awaiting Model Update*>,\n",
              " (1, 3, 1): <gurobi.Constr *Awaiting Model Update*>,\n",
              " (1, 4, 1): <gurobi.Constr *Awaiting Model Update*>,\n",
              " (1, 9, 1): <gurobi.Constr *Awaiting Model Update*>,\n",
              " (2, 1, 1): <gurobi.Constr *Awaiting Model Update*>,\n",
              " (2, 3, 1): <gurobi.Constr *Awaiting Model Update*>,\n",
              " (2, 4, 1): <gurobi.Constr *Awaiting Model Update*>,\n",
              " (2, 9, 1): <gurobi.Constr *Awaiting Model Update*>,\n",
              " (3, 1, 1): <gurobi.Constr *Awaiting Model Update*>,\n",
              " (3, 2, 1): <gurobi.Constr *Awaiting Model Update*>,\n",
              " (3, 4, 1): <gurobi.Constr *Awaiting Model Update*>,\n",
              " (3, 9, 1): <gurobi.Constr *Awaiting Model Update*>,\n",
              " (4, 1, 1): <gurobi.Constr *Awaiting Model Update*>,\n",
              " (4, 2, 1): <gurobi.Constr *Awaiting Model Update*>,\n",
              " (4, 3, 1): <gurobi.Constr *Awaiting Model Update*>,\n",
              " (4, 9, 1): <gurobi.Constr *Awaiting Model Update*>}"
            ]
          },
          "metadata": {},
          "execution_count": 254
        }
      ]
    },
    {
      "cell_type": "markdown",
      "source": [
        "$\\tilde{t}^{u}_{i} + \\bar{d}_{ij} - (1 - \\sum_{s \\in C_E \\atop s \\neq j} y^{uw}_{ijs}) M \\leq \\tilde{l}^{u}_{j}, \\forall i \\in C_D, \\forall j \\in C, \\forall u \\in U,$ (9)"
      ],
      "metadata": {
        "id": "GqgLEbUOMLuN"
      }
    },
    {
      "cell_type": "code",
      "source": [
        "# m.addConstrs((p_u[i, t] + d_u.iloc[i, j] - (1 - gp.quicksum(y[i, j, s, t] for s in A_T if s != j)) * M <= r_u[j, u] for i in A_U for j in A_U if i != j for t in T), \"UAVArrivalTime\")"
      ],
      "metadata": {
        "id": "47kL1k8tML2t"
      },
      "execution_count": 255,
      "outputs": []
    },
    {
      "cell_type": "code",
      "source": [
        "m.addConstrs((p_u[i, u] + d_u.iloc[i, j] - (1 - gp.quicksum(y[i, j, s, u] for s in A_T[1:] if s != j)) * M <= r_u[j, u] for i in A_U[:-1] for j in A_U[1:] if i != j for u in U), \"UAVArrivalTime\")"
      ],
      "metadata": {
        "colab": {
          "base_uri": "https://localhost:8080/"
        },
        "id": "r_Xdd2QnM8AJ",
        "outputId": "c3cde63a-44ba-413f-b0c8-d4ac3eff058f",
        "collapsed": true
      },
      "execution_count": 256,
      "outputs": [
        {
          "output_type": "execute_result",
          "data": {
            "text/plain": [
              "{(0, 1, 1): <gurobi.Constr *Awaiting Model Update*>,\n",
              " (0, 2, 1): <gurobi.Constr *Awaiting Model Update*>,\n",
              " (0, 3, 1): <gurobi.Constr *Awaiting Model Update*>,\n",
              " (0, 4, 1): <gurobi.Constr *Awaiting Model Update*>,\n",
              " (0, 5, 1): <gurobi.Constr *Awaiting Model Update*>,\n",
              " (0, 6, 1): <gurobi.Constr *Awaiting Model Update*>,\n",
              " (0, 7, 1): <gurobi.Constr *Awaiting Model Update*>,\n",
              " (0, 8, 1): <gurobi.Constr *Awaiting Model Update*>,\n",
              " (0, 9, 1): <gurobi.Constr *Awaiting Model Update*>,\n",
              " (1, 2, 1): <gurobi.Constr *Awaiting Model Update*>,\n",
              " (1, 3, 1): <gurobi.Constr *Awaiting Model Update*>,\n",
              " (1, 4, 1): <gurobi.Constr *Awaiting Model Update*>,\n",
              " (1, 5, 1): <gurobi.Constr *Awaiting Model Update*>,\n",
              " (1, 6, 1): <gurobi.Constr *Awaiting Model Update*>,\n",
              " (1, 7, 1): <gurobi.Constr *Awaiting Model Update*>,\n",
              " (1, 8, 1): <gurobi.Constr *Awaiting Model Update*>,\n",
              " (1, 9, 1): <gurobi.Constr *Awaiting Model Update*>,\n",
              " (2, 1, 1): <gurobi.Constr *Awaiting Model Update*>,\n",
              " (2, 3, 1): <gurobi.Constr *Awaiting Model Update*>,\n",
              " (2, 4, 1): <gurobi.Constr *Awaiting Model Update*>,\n",
              " (2, 5, 1): <gurobi.Constr *Awaiting Model Update*>,\n",
              " (2, 6, 1): <gurobi.Constr *Awaiting Model Update*>,\n",
              " (2, 7, 1): <gurobi.Constr *Awaiting Model Update*>,\n",
              " (2, 8, 1): <gurobi.Constr *Awaiting Model Update*>,\n",
              " (2, 9, 1): <gurobi.Constr *Awaiting Model Update*>,\n",
              " (3, 1, 1): <gurobi.Constr *Awaiting Model Update*>,\n",
              " (3, 2, 1): <gurobi.Constr *Awaiting Model Update*>,\n",
              " (3, 4, 1): <gurobi.Constr *Awaiting Model Update*>,\n",
              " (3, 5, 1): <gurobi.Constr *Awaiting Model Update*>,\n",
              " (3, 6, 1): <gurobi.Constr *Awaiting Model Update*>,\n",
              " (3, 7, 1): <gurobi.Constr *Awaiting Model Update*>,\n",
              " (3, 8, 1): <gurobi.Constr *Awaiting Model Update*>,\n",
              " (3, 9, 1): <gurobi.Constr *Awaiting Model Update*>,\n",
              " (4, 1, 1): <gurobi.Constr *Awaiting Model Update*>,\n",
              " (4, 2, 1): <gurobi.Constr *Awaiting Model Update*>,\n",
              " (4, 3, 1): <gurobi.Constr *Awaiting Model Update*>,\n",
              " (4, 5, 1): <gurobi.Constr *Awaiting Model Update*>,\n",
              " (4, 6, 1): <gurobi.Constr *Awaiting Model Update*>,\n",
              " (4, 7, 1): <gurobi.Constr *Awaiting Model Update*>,\n",
              " (4, 8, 1): <gurobi.Constr *Awaiting Model Update*>,\n",
              " (4, 9, 1): <gurobi.Constr *Awaiting Model Update*>,\n",
              " (5, 1, 1): <gurobi.Constr *Awaiting Model Update*>,\n",
              " (5, 2, 1): <gurobi.Constr *Awaiting Model Update*>,\n",
              " (5, 3, 1): <gurobi.Constr *Awaiting Model Update*>,\n",
              " (5, 4, 1): <gurobi.Constr *Awaiting Model Update*>,\n",
              " (5, 6, 1): <gurobi.Constr *Awaiting Model Update*>,\n",
              " (5, 7, 1): <gurobi.Constr *Awaiting Model Update*>,\n",
              " (5, 8, 1): <gurobi.Constr *Awaiting Model Update*>,\n",
              " (5, 9, 1): <gurobi.Constr *Awaiting Model Update*>,\n",
              " (6, 1, 1): <gurobi.Constr *Awaiting Model Update*>,\n",
              " (6, 2, 1): <gurobi.Constr *Awaiting Model Update*>,\n",
              " (6, 3, 1): <gurobi.Constr *Awaiting Model Update*>,\n",
              " (6, 4, 1): <gurobi.Constr *Awaiting Model Update*>,\n",
              " (6, 5, 1): <gurobi.Constr *Awaiting Model Update*>,\n",
              " (6, 7, 1): <gurobi.Constr *Awaiting Model Update*>,\n",
              " (6, 8, 1): <gurobi.Constr *Awaiting Model Update*>,\n",
              " (6, 9, 1): <gurobi.Constr *Awaiting Model Update*>,\n",
              " (7, 1, 1): <gurobi.Constr *Awaiting Model Update*>,\n",
              " (7, 2, 1): <gurobi.Constr *Awaiting Model Update*>,\n",
              " (7, 3, 1): <gurobi.Constr *Awaiting Model Update*>,\n",
              " (7, 4, 1): <gurobi.Constr *Awaiting Model Update*>,\n",
              " (7, 5, 1): <gurobi.Constr *Awaiting Model Update*>,\n",
              " (7, 6, 1): <gurobi.Constr *Awaiting Model Update*>,\n",
              " (7, 8, 1): <gurobi.Constr *Awaiting Model Update*>,\n",
              " (7, 9, 1): <gurobi.Constr *Awaiting Model Update*>,\n",
              " (8, 1, 1): <gurobi.Constr *Awaiting Model Update*>,\n",
              " (8, 2, 1): <gurobi.Constr *Awaiting Model Update*>,\n",
              " (8, 3, 1): <gurobi.Constr *Awaiting Model Update*>,\n",
              " (8, 4, 1): <gurobi.Constr *Awaiting Model Update*>,\n",
              " (8, 5, 1): <gurobi.Constr *Awaiting Model Update*>,\n",
              " (8, 6, 1): <gurobi.Constr *Awaiting Model Update*>,\n",
              " (8, 7, 1): <gurobi.Constr *Awaiting Model Update*>,\n",
              " (8, 9, 1): <gurobi.Constr *Awaiting Model Update*>}"
            ]
          },
          "metadata": {},
          "execution_count": 256
        }
      ]
    },
    {
      "cell_type": "code",
      "source": [
        "m.optimize()\n",
        "\n",
        "# Print the variables with values greater than 0\n",
        "print(\"Non-zero values of x:\")\n",
        "for v in x.values():\n",
        "    if v.x > 0:\n",
        "        print(f'{v.varName}: {v.x}')\n",
        "\n",
        "\n",
        "print(\"\\nNon-zero values of y:\")\n",
        "for v in y.values():\n",
        "    if v.x > 0:\n",
        "        print(f'{v.varName}: {v.x}')"
      ],
      "metadata": {
        "colab": {
          "base_uri": "https://localhost:8080/"
        },
        "collapsed": true,
        "id": "FW0fFALybqFt",
        "outputId": "60375288-4996-4a2a-f988-cdb045ac3721"
      },
      "execution_count": 257,
      "outputs": [
        {
          "output_type": "stream",
          "name": "stdout",
          "text": [
            "Gurobi Optimizer version 11.0.3 build v11.0.3rc0 (linux64 - \"Ubuntu 22.04.3 LTS\")\n",
            "\n",
            "CPU model: Intel(R) Xeon(R) CPU @ 2.20GHz, instruction set [SSE2|AVX|AVX2]\n",
            "Thread count: 1 physical cores, 2 logical processors, using up to 2 threads\n",
            "\n",
            "Academic license 2536865 - for non-commercial use only - registered to rt___@stevens.edu\n",
            "Optimize a model with 484 rows, 475 columns and 2998 nonzeros\n",
            "Model fingerprint: 0x3c544d23\n",
            "Variable types: 33 continuous, 442 integer (430 binary)\n",
            "Coefficient statistics:\n",
            "  Matrix range     [1e+00, 1e+05]\n",
            "  Objective range  [1e+00, 1e+00]\n",
            "  Bounds range     [1e+00, 9e+00]\n",
            "  RHS range        [1e+00, 1e+05]\n",
            "Presolve removed 132 rows and 183 columns\n",
            "Presolve time: 0.04s\n",
            "Presolved: 352 rows, 292 columns, 1968 nonzeros\n",
            "Variable types: 8 continuous, 284 integer (272 binary)\n",
            "\n",
            "Root relaxation: objective 7.906512e+01, 233 iterations, 0.01 seconds (0.00 work units)\n",
            "\n",
            "    Nodes    |    Current Node    |     Objective Bounds      |     Work\n",
            " Expl Unexpl |  Obj  Depth IntInf | Incumbent    BestBd   Gap | It/Node Time\n",
            "\n",
            "     0     0   79.06512    0   94          -   79.06512      -     -    0s\n",
            "     0     0  242.89448    0   40          -  242.89448      -     -    0s\n",
            "     0     0  245.58096    0   42          -  245.58096      -     -    0s\n",
            "     0     0  245.58096    0   42          -  245.58096      -     -    0s\n",
            "     0     0  257.43680    0   47          -  257.43680      -     -    0s\n",
            "     0     0  259.56630    0   42          -  259.56630      -     -    0s\n",
            "     0     0  259.56630    0   46          -  259.56630      -     -    0s\n",
            "     0     0  259.56630    0   48          -  259.56630      -     -    0s\n",
            "     0     0  261.62154    0   30          -  261.62154      -     -    0s\n",
            "     0     0  264.31868    0   44          -  264.31868      -     -    0s\n",
            "     0     0  264.31868    0   36          -  264.31868      -     -    0s\n",
            "     0     0  264.31868    0   36          -  264.31868      -     -    0s\n",
            "     0     0  264.82108    0   56          -  264.82108      -     -    0s\n",
            "     0     0  267.64521    0   57          -  267.64521      -     -    0s\n",
            "     0     0  272.43316    0   48          -  272.43316      -     -    0s\n",
            "     0     0  276.69304    0   45          -  276.69304      -     -    0s\n",
            "     0     0  276.69304    0   46          -  276.69304      -     -    0s\n",
            "     0     0  276.69304    0   58          -  276.69304      -     -    0s\n",
            "     0     0  278.40107    0   48          -  278.40107      -     -    0s\n",
            "     0     0  279.56689    0   58          -  279.56689      -     -    0s\n",
            "     0     0  279.63895    0   49          -  279.63895      -     -    0s\n",
            "     0     0  281.23086    0   53          -  281.23086      -     -    0s\n",
            "     0     0  282.95889    0   53          -  282.95889      -     -    0s\n",
            "     0     0  282.95889    0   53          -  282.95889      -     -    0s\n",
            "     0     0  283.58102    0   52          -  283.58102      -     -    0s\n",
            "     0     0  283.58102    0   53          -  283.58102      -     -    0s\n",
            "     0     0  284.45911    0   49          -  284.45911      -     -    0s\n",
            "     0     2  286.86323    0   47          -  286.86323      -     -    0s\n",
            "*  319    60              24     355.3094184  319.98721  9.94%   7.0    0s\n",
            "*  345    33              22     341.4503677  321.62591  5.81%   6.8    0s\n",
            "\n",
            "Cutting planes:\n",
            "  Gomory: 2\n",
            "  Cover: 1\n",
            "  Implied bound: 8\n",
            "  MIR: 14\n",
            "  StrongCG: 1\n",
            "  Inf proof: 4\n",
            "  Zero half: 7\n",
            "  RLT: 25\n",
            "  Relax-and-lift: 5\n",
            "  PSD: 1\n",
            "\n",
            "Explored 387 nodes (3460 simplex iterations) in 0.75 seconds (0.26 work units)\n",
            "Thread count was 2 (of 2 available processors)\n",
            "\n",
            "Solution count 2: 341.45 355.309 \n",
            "\n",
            "Optimal solution found (tolerance 1.00e-04)\n",
            "Best objective 3.414503677454e+02, best bound 3.414503677454e+02, gap 0.0000%\n",
            "Non-zero values of x:\n",
            "Truck[0,3,1]: 1.0\n",
            "Truck[1,4,1]: 1.0\n",
            "Truck[2,1,1]: 1.0\n",
            "Truck[3,2,1]: 1.0\n",
            "Truck[4,9,1]: 1.0\n",
            "\n",
            "Non-zero values of y:\n",
            "UAV[0,5,9,1]: 1.0\n",
            "UAV[5,6,9,1]: 1.0\n",
            "UAV[6,8,9,1]: 1.0\n",
            "UAV[7,9,9,1]: 1.0\n",
            "UAV[8,7,9,1]: 1.0\n"
          ]
        }
      ]
    },
    {
      "cell_type": "code",
      "source": [
        "# d_t.iloc[0,1] + d_t.iloc[1,9] + d_u.iloc[0,7] + d_u.iloc[7,5] + d_u.iloc[5,6] + d_u.iloc[6,2] + d_u.iloc[2,4] + d_u.iloc[4,3] + d_u.iloc[3,8] + d_u.iloc[8,9]\n",
        "\n",
        "# r_t, r_u"
      ],
      "metadata": {
        "id": "antVx9SXqwC-"
      },
      "execution_count": 258,
      "outputs": []
    },
    {
      "cell_type": "markdown",
      "source": [
        "${p}^{u}_{i} \\leq {r}^{u}_{i}, \\forall i \\in {A}_{U}, \\forall u \\in U,$ (10)"
      ],
      "metadata": {
        "id": "MMbdpq0qNr_K"
      }
    },
    {
      "cell_type": "code",
      "source": [
        "m.addConstrs((r_u[i, t] <= p_u[i, t] for i in A_U[1:-1] for t in T), \"UAVDepartureTime\")"
      ],
      "metadata": {
        "colab": {
          "base_uri": "https://localhost:8080/"
        },
        "id": "f4JssxbnNr2p",
        "outputId": "f21485a6-872b-4438-d3bc-3ce55d912592"
      },
      "execution_count": 259,
      "outputs": [
        {
          "output_type": "execute_result",
          "data": {
            "text/plain": [
              "{(1, 1): <gurobi.Constr *Awaiting Model Update*>,\n",
              " (2, 1): <gurobi.Constr *Awaiting Model Update*>,\n",
              " (3, 1): <gurobi.Constr *Awaiting Model Update*>,\n",
              " (4, 1): <gurobi.Constr *Awaiting Model Update*>,\n",
              " (5, 1): <gurobi.Constr *Awaiting Model Update*>,\n",
              " (6, 1): <gurobi.Constr *Awaiting Model Update*>,\n",
              " (7, 1): <gurobi.Constr *Awaiting Model Update*>,\n",
              " (8, 1): <gurobi.Constr *Awaiting Model Update*>}"
            ]
          },
          "metadata": {},
          "execution_count": 259
        }
      ]
    },
    {
      "cell_type": "markdown",
      "source": [
        "$p^{t}_{i} \\leq r^{t}_{j}, \\forall i \\in A_T, \\forall t \\in W,$ (11)"
      ],
      "metadata": {
        "id": "w9I4DaY_KPC5"
      }
    },
    {
      "cell_type": "code",
      "source": [
        "m.addConstrs((r_t[i, t] <= p_t[i, t] for i in A_T[1:-1] for t in T), \"TruckDepartureTime\")"
      ],
      "metadata": {
        "colab": {
          "base_uri": "https://localhost:8080/"
        },
        "id": "SbMIoC9CJLZj",
        "outputId": "c11181fa-7fad-40c5-a221-c17b7505526b"
      },
      "execution_count": 260,
      "outputs": [
        {
          "output_type": "execute_result",
          "data": {
            "text/plain": [
              "{(1, 1): <gurobi.Constr *Awaiting Model Update*>,\n",
              " (2, 1): <gurobi.Constr *Awaiting Model Update*>,\n",
              " (3, 1): <gurobi.Constr *Awaiting Model Update*>,\n",
              " (4, 1): <gurobi.Constr *Awaiting Model Update*>}"
            ]
          },
          "metadata": {},
          "execution_count": 260
        }
      ]
    },
    {
      "cell_type": "markdown",
      "source": [
        "$\\tilde{t}^{u}_{i} - (1 - \\sum_{j \\in C \\atop j \\neq i} \\sum_{s \\in C_E} y^{uw}_{ijs}) M \\leq l^{w}_{j}, \\forall i \\in C_D, \\forall u \\in U, \\forall w \\in W,$ (12)\n",
        "\n",
        "UAV must depart from node i after truck arrives there"
      ],
      "metadata": {
        "id": "xavf6doGOOzh"
      }
    },
    {
      "cell_type": "code",
      "source": [
        "m.addConstrs((r_t[i, t] - (1 - gp.quicksum(y[i, g, s, t] for g in A_U[1:] if g != i for s in A_T[1:])) * M <= p_u[i, t] for i in A_T[:-1] for t in T), \"UAVReturnTime1\")"
      ],
      "metadata": {
        "colab": {
          "base_uri": "https://localhost:8080/"
        },
        "id": "4NfpSsV1OO64",
        "outputId": "3592ec42-3ac5-471c-e5ae-8decf16403d2"
      },
      "execution_count": 261,
      "outputs": [
        {
          "output_type": "execute_result",
          "data": {
            "text/plain": [
              "{(0, 1): <gurobi.Constr *Awaiting Model Update*>,\n",
              " (1, 1): <gurobi.Constr *Awaiting Model Update*>,\n",
              " (2, 1): <gurobi.Constr *Awaiting Model Update*>,\n",
              " (3, 1): <gurobi.Constr *Awaiting Model Update*>,\n",
              " (4, 1): <gurobi.Constr *Awaiting Model Update*>}"
            ]
          },
          "metadata": {},
          "execution_count": 261
        }
      ]
    },
    {
      "cell_type": "markdown",
      "source": [
        "$l^{w}_{s} + \\bar{d}_{js} - (1 - \\sum_{i \\in C_D \\atop i \\neq j} y^{uw}_{ijs}) M \\leq \\tilde{t}^{u}_{j}, \\forall j \\in C, \\forall s \\in C_E, \\forall u \\in U, \\forall w \\in W,$ (13)\n",
        "\n",
        "UAV must arrive to the intermeeting point s after it's truck"
      ],
      "metadata": {
        "id": "2CfR9XmjXx8M"
      }
    },
    {
      "cell_type": "code",
      "source": [
        "# m.addConstrs((r_t[s, t] + d_u.iloc[j, s] - (1 - gp.quicksum(y[i, j, s, t] for i in A_U if i != j)) * M <= p_u[j, t] for j in A_U for s in A_T for t in T), \"UAVReturnTime2\")\n"
      ],
      "metadata": {
        "id": "QfbFGvL-XyNa"
      },
      "execution_count": 262,
      "outputs": []
    },
    {
      "cell_type": "code",
      "source": [
        "m.addConstrs((r_t[s, t] - (1 - y[i, s, s, t] ) * M <= p_u[i, t] + d_u.iloc[i, s] for i in A_U[:-1] for s in A_T[1:] for t in T if i != s) , \"UAVReturnTime2\")"
      ],
      "metadata": {
        "colab": {
          "base_uri": "https://localhost:8080/"
        },
        "id": "o642cKAyo4o9",
        "outputId": "c1c920c2-06f9-40ff-c195-08c0cda0d0e1"
      },
      "execution_count": 263,
      "outputs": [
        {
          "output_type": "execute_result",
          "data": {
            "text/plain": [
              "{(0, 1, 1): <gurobi.Constr *Awaiting Model Update*>,\n",
              " (0, 2, 1): <gurobi.Constr *Awaiting Model Update*>,\n",
              " (0, 3, 1): <gurobi.Constr *Awaiting Model Update*>,\n",
              " (0, 4, 1): <gurobi.Constr *Awaiting Model Update*>,\n",
              " (0, 9, 1): <gurobi.Constr *Awaiting Model Update*>,\n",
              " (1, 2, 1): <gurobi.Constr *Awaiting Model Update*>,\n",
              " (1, 3, 1): <gurobi.Constr *Awaiting Model Update*>,\n",
              " (1, 4, 1): <gurobi.Constr *Awaiting Model Update*>,\n",
              " (1, 9, 1): <gurobi.Constr *Awaiting Model Update*>,\n",
              " (2, 1, 1): <gurobi.Constr *Awaiting Model Update*>,\n",
              " (2, 3, 1): <gurobi.Constr *Awaiting Model Update*>,\n",
              " (2, 4, 1): <gurobi.Constr *Awaiting Model Update*>,\n",
              " (2, 9, 1): <gurobi.Constr *Awaiting Model Update*>,\n",
              " (3, 1, 1): <gurobi.Constr *Awaiting Model Update*>,\n",
              " (3, 2, 1): <gurobi.Constr *Awaiting Model Update*>,\n",
              " (3, 4, 1): <gurobi.Constr *Awaiting Model Update*>,\n",
              " (3, 9, 1): <gurobi.Constr *Awaiting Model Update*>,\n",
              " (4, 1, 1): <gurobi.Constr *Awaiting Model Update*>,\n",
              " (4, 2, 1): <gurobi.Constr *Awaiting Model Update*>,\n",
              " (4, 3, 1): <gurobi.Constr *Awaiting Model Update*>,\n",
              " (4, 9, 1): <gurobi.Constr *Awaiting Model Update*>,\n",
              " (5, 1, 1): <gurobi.Constr *Awaiting Model Update*>,\n",
              " (5, 2, 1): <gurobi.Constr *Awaiting Model Update*>,\n",
              " (5, 3, 1): <gurobi.Constr *Awaiting Model Update*>,\n",
              " (5, 4, 1): <gurobi.Constr *Awaiting Model Update*>,\n",
              " (5, 9, 1): <gurobi.Constr *Awaiting Model Update*>,\n",
              " (6, 1, 1): <gurobi.Constr *Awaiting Model Update*>,\n",
              " (6, 2, 1): <gurobi.Constr *Awaiting Model Update*>,\n",
              " (6, 3, 1): <gurobi.Constr *Awaiting Model Update*>,\n",
              " (6, 4, 1): <gurobi.Constr *Awaiting Model Update*>,\n",
              " (6, 9, 1): <gurobi.Constr *Awaiting Model Update*>,\n",
              " (7, 1, 1): <gurobi.Constr *Awaiting Model Update*>,\n",
              " (7, 2, 1): <gurobi.Constr *Awaiting Model Update*>,\n",
              " (7, 3, 1): <gurobi.Constr *Awaiting Model Update*>,\n",
              " (7, 4, 1): <gurobi.Constr *Awaiting Model Update*>,\n",
              " (7, 9, 1): <gurobi.Constr *Awaiting Model Update*>,\n",
              " (8, 1, 1): <gurobi.Constr *Awaiting Model Update*>,\n",
              " (8, 2, 1): <gurobi.Constr *Awaiting Model Update*>,\n",
              " (8, 3, 1): <gurobi.Constr *Awaiting Model Update*>,\n",
              " (8, 4, 1): <gurobi.Constr *Awaiting Model Update*>,\n",
              " (8, 9, 1): <gurobi.Constr *Awaiting Model Update*>}"
            ]
          },
          "metadata": {},
          "execution_count": 263
        }
      ]
    },
    {
      "cell_type": "markdown",
      "source": [
        "$t^{w}_{i} - (1 - \\sum_{j \\in C \\atop j \\neq i} \\sum_{s \\in C_E} y^{uw}_{ijs}) M \\leq \\tilde{t}^{u}_{i}, \\forall i \\in C_D, \\forall u \\in U,$ (14)\n",
        "\n",
        "wrong and rep - when truck arives to a node, uav can fly even before truck's departure\n",
        "\n",
        "(14) say uav must fly after truck's departure"
      ],
      "metadata": {
        "id": "dw8N0lV6PTcq"
      }
    },
    {
      "cell_type": "code",
      "source": [
        "# m.addConstrs((\n",
        "\n",
        "#     p_t[i, t] - (1 - gp.quicksum(y[i, j, s, t] for j in A_T[1:] if j != i for s in A_T)) * M <= p_u[i, t]\n",
        "\n",
        "#               for i in A_U for i in A_T for t in T), \"UAVReturnTime3\")"
      ],
      "metadata": {
        "id": "dslUNQZnPTlV"
      },
      "execution_count": 264,
      "outputs": []
    },
    {
      "cell_type": "markdown",
      "source": [
        "$\\tilde{t}^{u}_{j} + \\bar{d}_{js} - \\left(2 - \\sum_{i \\in C_D \\atop i \\neq j} y^{uw}_{ijs} - \\sum_{v \\in C \\atop v \\neq s} \\sum_{h \\in C_E \\atop h \\neq j} y^{uw}_{vsh}\\right) M \\leq \\tilde{l}_{su}, \\forall s \\in C_E, \\forall j \\in C, \\forall u \\in U,$ (15)"
      ],
      "metadata": {
        "id": "bUTJVsp3WaE4"
      }
    },
    {
      "cell_type": "code",
      "source": [
        "m.addConstrs((p_u[j, t] + d_u.iloc[j, s] - (2 - gp.quicksum(y[i, j, s, t] for i in A_U[:-1] if i != j) - gp.quicksum(y[v, s, h, t] for v in A_U[:-1] if v != s for h in A_T[1:] if h != j)) * M <= r_u[s, t] for s in A_T[1:] for j in A_U[1:] for t in T), \"UAVReturnTime4\")"
      ],
      "metadata": {
        "colab": {
          "base_uri": "https://localhost:8080/"
        },
        "id": "bvp6EwnlWaP3",
        "outputId": "d3383576-1462-4b0a-cbff-0898424e58e0"
      },
      "execution_count": 265,
      "outputs": [
        {
          "output_type": "execute_result",
          "data": {
            "text/plain": [
              "{(1, 1, 1): <gurobi.Constr *Awaiting Model Update*>,\n",
              " (1, 2, 1): <gurobi.Constr *Awaiting Model Update*>,\n",
              " (1, 3, 1): <gurobi.Constr *Awaiting Model Update*>,\n",
              " (1, 4, 1): <gurobi.Constr *Awaiting Model Update*>,\n",
              " (1, 5, 1): <gurobi.Constr *Awaiting Model Update*>,\n",
              " (1, 6, 1): <gurobi.Constr *Awaiting Model Update*>,\n",
              " (1, 7, 1): <gurobi.Constr *Awaiting Model Update*>,\n",
              " (1, 8, 1): <gurobi.Constr *Awaiting Model Update*>,\n",
              " (1, 9, 1): <gurobi.Constr *Awaiting Model Update*>,\n",
              " (2, 1, 1): <gurobi.Constr *Awaiting Model Update*>,\n",
              " (2, 2, 1): <gurobi.Constr *Awaiting Model Update*>,\n",
              " (2, 3, 1): <gurobi.Constr *Awaiting Model Update*>,\n",
              " (2, 4, 1): <gurobi.Constr *Awaiting Model Update*>,\n",
              " (2, 5, 1): <gurobi.Constr *Awaiting Model Update*>,\n",
              " (2, 6, 1): <gurobi.Constr *Awaiting Model Update*>,\n",
              " (2, 7, 1): <gurobi.Constr *Awaiting Model Update*>,\n",
              " (2, 8, 1): <gurobi.Constr *Awaiting Model Update*>,\n",
              " (2, 9, 1): <gurobi.Constr *Awaiting Model Update*>,\n",
              " (3, 1, 1): <gurobi.Constr *Awaiting Model Update*>,\n",
              " (3, 2, 1): <gurobi.Constr *Awaiting Model Update*>,\n",
              " (3, 3, 1): <gurobi.Constr *Awaiting Model Update*>,\n",
              " (3, 4, 1): <gurobi.Constr *Awaiting Model Update*>,\n",
              " (3, 5, 1): <gurobi.Constr *Awaiting Model Update*>,\n",
              " (3, 6, 1): <gurobi.Constr *Awaiting Model Update*>,\n",
              " (3, 7, 1): <gurobi.Constr *Awaiting Model Update*>,\n",
              " (3, 8, 1): <gurobi.Constr *Awaiting Model Update*>,\n",
              " (3, 9, 1): <gurobi.Constr *Awaiting Model Update*>,\n",
              " (4, 1, 1): <gurobi.Constr *Awaiting Model Update*>,\n",
              " (4, 2, 1): <gurobi.Constr *Awaiting Model Update*>,\n",
              " (4, 3, 1): <gurobi.Constr *Awaiting Model Update*>,\n",
              " (4, 4, 1): <gurobi.Constr *Awaiting Model Update*>,\n",
              " (4, 5, 1): <gurobi.Constr *Awaiting Model Update*>,\n",
              " (4, 6, 1): <gurobi.Constr *Awaiting Model Update*>,\n",
              " (4, 7, 1): <gurobi.Constr *Awaiting Model Update*>,\n",
              " (4, 8, 1): <gurobi.Constr *Awaiting Model Update*>,\n",
              " (4, 9, 1): <gurobi.Constr *Awaiting Model Update*>,\n",
              " (9, 1, 1): <gurobi.Constr *Awaiting Model Update*>,\n",
              " (9, 2, 1): <gurobi.Constr *Awaiting Model Update*>,\n",
              " (9, 3, 1): <gurobi.Constr *Awaiting Model Update*>,\n",
              " (9, 4, 1): <gurobi.Constr *Awaiting Model Update*>,\n",
              " (9, 5, 1): <gurobi.Constr *Awaiting Model Update*>,\n",
              " (9, 6, 1): <gurobi.Constr *Awaiting Model Update*>,\n",
              " (9, 7, 1): <gurobi.Constr *Awaiting Model Update*>,\n",
              " (9, 8, 1): <gurobi.Constr *Awaiting Model Update*>,\n",
              " (9, 9, 1): <gurobi.Constr *Awaiting Model Update*>}"
            ]
          },
          "metadata": {},
          "execution_count": 265
        }
      ]
    },
    {
      "cell_type": "markdown",
      "source": [
        "$\\sum_{j \\in A} y^{uw}_{ijs} \\leq q, \\forall i \\in A, \\forall s \\in A_E,$ (23)"
      ],
      "metadata": {
        "id": "LBeqU_tQQ6Wo"
      }
    },
    {
      "cell_type": "markdown",
      "source": [
        "$x^{w}_{ij}, p^{w}_{ij} \\in \\{0,1\\}, \\forall i \\in V, \\forall j \\in V,$ (24)"
      ],
      "metadata": {
        "id": "QvFe8nEeQ6ZR"
      }
    },
    {
      "cell_type": "markdown",
      "source": [
        "$y^{uw}_{ijs} \\in \\{0,1\\}, \\forall i \\in V, \\forall j \\in V, \\forall s \\in V, \\forall u \\in U,$ (25)"
      ],
      "metadata": {
        "id": "BNRoxCMLQ6bg"
      }
    },
    {
      "cell_type": "markdown",
      "source": [
        "$1 \\leq z^{w}_{i} \\leq (a + 2), \\forall i \\in A_T,$ (26)"
      ],
      "metadata": {
        "id": "LtvI2PFlQ6d2"
      }
    },
    {
      "cell_type": "markdown",
      "source": [
        "$t^{w}_{i}, l^{w}_{j} \\geq 0, \\forall i \\in V$ (27)"
      ],
      "metadata": {
        "id": "S4keV2ZcRPl4"
      }
    },
    {
      "cell_type": "markdown",
      "source": [
        "$\\tilde{t}^{u}_{i}, \\tilde{l}^{u}_{i} \\geq 0, \\forall i \\in V, \\forall u \\in U.$ (28)"
      ],
      "metadata": {
        "id": "nAYjQhwLRRxh"
      }
    },
    {
      "cell_type": "markdown",
      "source": [
        "# Optimization"
      ],
      "metadata": {
        "id": "imTuIba4t0WV"
      }
    },
    {
      "cell_type": "code",
      "source": [
        "m.optimize()\n",
        "\n",
        "# # Display the results\n",
        "# if m.status == GRB.OPTIMAL:\n",
        "#     print(\"Optimal objective value is :\", m.objVal)\n",
        "#     for v in m.getVars():\n",
        "#         if v.x > 0:\n",
        "#             print(v.varName, v.x)\n",
        "# else:\n",
        "#     print(\"Ther is no optimal solution.\")\n",
        "\n",
        "# Print the variables with values greater than 0\n",
        "print(\"Non-zero values of x:\")\n",
        "for v in x.values():\n",
        "    if v.x > 0:\n",
        "        print(f'{v.varName}: {v.x}')\n",
        "\n",
        "\n",
        "print(\"\\nNon-zero values of y:\")\n",
        "for v in y.values():\n",
        "    if v.x > 0:\n",
        "        print(f'{v.varName}: {v.x}')"
      ],
      "metadata": {
        "colab": {
          "base_uri": "https://localhost:8080/"
        },
        "id": "_gI-El4Ot0g2",
        "outputId": "1da33cad-7c9c-4498-9ffc-4ddf68478c2e"
      },
      "execution_count": 266,
      "outputs": [
        {
          "output_type": "stream",
          "name": "stdout",
          "text": [
            "Gurobi Optimizer version 11.0.3 build v11.0.3rc0 (linux64 - \"Ubuntu 22.04.3 LTS\")\n",
            "\n",
            "CPU model: Intel(R) Xeon(R) CPU @ 2.20GHz, instruction set [SSE2|AVX|AVX2]\n",
            "Thread count: 1 physical cores, 2 logical processors, using up to 2 threads\n",
            "\n",
            "Academic license 2536865 - for non-commercial use only - registered to rt___@stevens.edu\n",
            "Optimize a model with 587 rows, 475 columns and 5455 nonzeros\n",
            "Model fingerprint: 0xbe06739d\n",
            "Variable types: 33 continuous, 442 integer (430 binary)\n",
            "Coefficient statistics:\n",
            "  Matrix range     [1e+00, 1e+05]\n",
            "  Objective range  [1e+00, 1e+00]\n",
            "  Bounds range     [1e+00, 9e+00]\n",
            "  RHS range        [1e+00, 2e+05]\n",
            "\n",
            "MIP start from previous solve produced solution with objective 1031.61 (0.02s)\n",
            "Loaded MIP start from previous solve with objective 1031.61\n",
            "\n",
            "Presolve removed 249 rows and 296 columns\n",
            "Presolve time: 0.06s\n",
            "Presolved: 338 rows, 179 columns, 2042 nonzeros\n",
            "Variable types: 23 continuous, 156 integer (140 binary)\n",
            "\n",
            "Root relaxation: objective 1.944540e+01, 71 iterations, 0.00 seconds (0.00 work units)\n",
            "\n",
            "    Nodes    |    Current Node    |     Objective Bounds      |     Work\n",
            " Expl Unexpl |  Obj  Depth IntInf | Incumbent    BestBd   Gap | It/Node Time\n",
            "\n",
            "     0     0   19.44540    0   15 1031.60964   19.44540  98.1%     -    0s\n",
            "     0     0   28.77596    0   29 1031.60964   28.77596  97.2%     -    0s\n",
            "     0     0   40.68250    0   29 1031.60964   40.68250  96.1%     -    0s\n",
            "     0     0   61.89805    0   30 1031.60964   61.89805  94.0%     -    0s\n",
            "     0     0   61.89805    0   30 1031.60964   61.89805  94.0%     -    0s\n",
            "     0     0  136.83358    0   32 1031.60964  136.83358  86.7%     -    0s\n",
            "     0     0  148.88268    0   30 1031.60964  148.88268  85.6%     -    0s\n",
            "     0     0  148.88268    0   29 1031.60964  148.88268  85.6%     -    0s\n",
            "     0     0  157.94269    0   32 1031.60964  157.94269  84.7%     -    0s\n",
            "     0     0  162.75116    0   32 1031.60964  162.75116  84.2%     -    0s\n",
            "     0     0  163.44614    0   33 1031.60964  163.44614  84.2%     -    0s\n",
            "     0     0  186.22167    0   33 1031.60964  186.22167  81.9%     -    0s\n",
            "     0     0  198.80313    0   30 1031.60964  198.80313  80.7%     -    0s\n",
            "     0     0  199.27605    0   26 1031.60964  199.27605  80.7%     -    0s\n",
            "     0     0  205.66419    0   26 1031.60964  205.66419  80.1%     -    0s\n",
            "     0     0  205.66419    0   39 1031.60964  205.66419  80.1%     -    0s\n",
            "     0     0  205.66419    0   36 1031.60964  205.66419  80.1%     -    0s\n",
            "     0     0  243.24201    0   35 1031.60964  243.24201  76.4%     -    0s\n",
            "     0     0  269.13310    0   36 1031.60964  269.13310  73.9%     -    0s\n",
            "     0     0  304.95183    0   38 1031.60964  304.95183  70.4%     -    0s\n",
            "     0     0  311.65876    0   41 1031.60964  311.65876  69.8%     -    0s\n",
            "     0     0  337.85889    0   31 1031.60964  337.85889  67.2%     -    0s\n",
            "     0     0  354.15838    0   35 1031.60964  354.15838  65.7%     -    0s\n",
            "     0     0  381.50401    0   42 1031.60964  381.50401  63.0%     -    0s\n",
            "     0     0  385.25872    0   42 1031.60964  385.25872  62.7%     -    0s\n",
            "     0     0  385.25872    0   41 1031.60964  385.25872  62.7%     -    0s\n",
            "     0     0  385.87055    0   43 1031.60964  385.87055  62.6%     -    0s\n",
            "     0     0  386.44681    0   41 1031.60964  386.44681  62.5%     -    0s\n",
            "     0     0  387.01976    0   43 1031.60964  387.01976  62.5%     -    0s\n",
            "     0     0  388.75403    0   41 1031.60964  388.75403  62.3%     -    0s\n",
            "     0     0  393.19000    0   41 1031.60964  393.19000  61.9%     -    0s\n",
            "     0     0  393.19000    0   41 1031.60964  393.19000  61.9%     -    0s\n",
            "     0     0  393.19000    0   42 1031.60964  393.19000  61.9%     -    0s\n",
            "     0     0  393.19000    0   43 1031.60964  393.19000  61.9%     -    0s\n",
            "     0     0  393.19000    0   44 1031.60964  393.19000  61.9%     -    0s\n",
            "     0     0  393.19000    0   42 1031.60964  393.19000  61.9%     -    0s\n",
            "     0     2  399.01600    0   42 1031.60964  399.01600  61.3%     -    0s\n",
            "\n",
            "Cutting planes:\n",
            "  Learned: 1\n",
            "  Gomory: 10\n",
            "  Cover: 1\n",
            "  Implied bound: 11\n",
            "  Projected implied bound: 1\n",
            "  Clique: 1\n",
            "  MIR: 14\n",
            "  Flow cover: 11\n",
            "  Inf proof: 1\n",
            "  Zero half: 5\n",
            "  RLT: 29\n",
            "  Relax-and-lift: 2\n",
            "\n",
            "Explored 1104 nodes (11165 simplex iterations) in 1.64 seconds (0.71 work units)\n",
            "Thread count was 2 (of 2 available processors)\n",
            "\n",
            "Solution count 2: 1031.61 1031.61 \n",
            "\n",
            "Optimal solution found (tolerance 1.00e-04)\n",
            "Best objective 1.031609642221e+03, best bound 1.031609642221e+03, gap 0.0000%\n",
            "Non-zero values of x:\n",
            "Truck[0,3,1]: 1.0\n",
            "Truck[1,4,1]: 1.0\n",
            "Truck[2,1,1]: 1.0\n",
            "Truck[3,2,1]: 1.0\n",
            "Truck[4,9,1]: 1.0\n",
            "\n",
            "Non-zero values of y:\n",
            "UAV[0,5,9,1]: 1.0\n",
            "UAV[5,6,9,1]: 1.0\n",
            "UAV[6,8,9,1]: 1.0\n",
            "UAV[7,9,9,1]: 1.0\n",
            "UAV[8,7,9,1]: 1.0\n"
          ]
        }
      ]
    },
    {
      "cell_type": "markdown",
      "source": [],
      "metadata": {
        "id": "ua2KVavlt0uN"
      }
    },
    {
      "cell_type": "markdown",
      "source": [],
      "metadata": {
        "id": "CSxNsyHRt076"
      }
    },
    {
      "cell_type": "code",
      "source": [],
      "metadata": {
        "id": "RpBf7jGSt1Ci"
      },
      "execution_count": 225,
      "outputs": []
    },
    {
      "cell_type": "markdown",
      "source": [],
      "metadata": {
        "id": "E5VitiWlt1Im"
      }
    },
    {
      "cell_type": "code",
      "source": [],
      "metadata": {
        "id": "hZuF8Sydt1PW"
      },
      "execution_count": null,
      "outputs": []
    },
    {
      "cell_type": "markdown",
      "source": [],
      "metadata": {
        "id": "qQjMiAp5t1VE"
      }
    },
    {
      "cell_type": "code",
      "source": [],
      "metadata": {
        "id": "8A0tD1krt1bZ"
      },
      "execution_count": null,
      "outputs": []
    },
    {
      "cell_type": "markdown",
      "source": [],
      "metadata": {
        "id": "K9QGDC4Dt1hI"
      }
    },
    {
      "cell_type": "code",
      "source": [],
      "metadata": {
        "id": "Afcp9I4jt1nM"
      },
      "execution_count": null,
      "outputs": []
    },
    {
      "cell_type": "markdown",
      "source": [],
      "metadata": {
        "id": "sBshFgYit1tK"
      }
    },
    {
      "cell_type": "code",
      "source": [],
      "metadata": {
        "id": "lBFzS-04t1zp"
      },
      "execution_count": null,
      "outputs": []
    },
    {
      "cell_type": "markdown",
      "source": [
        "House prediction"
      ],
      "metadata": {
        "id": "TCAlWh4Pt15R"
      }
    },
    {
      "cell_type": "code",
      "source": [
        "import pandas as pd\n",
        "from sklearn.model_selection import train_test_split\n",
        "from sklearn.linear_model import LinearRegression\n",
        "from sklearn.metrics import mean_squared_error, r2_score\n",
        "\n",
        "# Create the dataset\n",
        "data = {\n",
        "    'm2': [50, 65, 38, 57, 58, 58, 45, 50, 58, 52, 55, 50, 55, 55, 57, 55, 45, 45],\n",
        "    'year': [85, 85, 85, 88, 92, 85, 89, 97, 87, 87, 96, 83, 88, 79, 82, 95, 95, 90],\n",
        "    'down': [300, 650, 300, 800, 200, 750, 450, 700, 750, 300, 300, 200, 100, 200, 400, 750, 200, 200],\n",
        "    'rent': [7.5, 6, 6, 0, 17, 0, 6, 0, 0, 9.5, 15.5, 15, 20, 13, 9, 0, 15, 16],\n",
        "    'parking': [1, 1, 1, 1, 1, 1, 1, 1, 1, 1, 1, 1, 0, 0, 1, 1, 1, 1],\n",
        "    'elevator': [1, 1, 1, 0, 1, 0, 1, 1, 0, 0, 1, 1, 0, 0, 0, 1, 1, 1],\n",
        "    'warehouse': [1, 1, 1, 1, 1, 1, 1, 1, 1, 1, 1, 1, 1, 1, 1, 0, 1, 1]\n",
        "}\n",
        "\n",
        "# Create a DataFrame\n",
        "df = pd.DataFrame(data)\n",
        "\n",
        "# Define features and targets for 'down' and 'rent'\n",
        "features = ['m2', 'year', 'parking', 'elevator', 'warehouse']\n",
        "X = df[features]\n",
        "y_down = df['down']\n",
        "y_rent = df['rent']\n",
        "\n",
        "# Split the data into training and testing sets for both targets\n",
        "X_train_down, X_test_down, y_train_down, y_test_down = train_test_split(X, y_down, test_size=0.2, random_state=42)\n",
        "X_train_rent, X_test_rent, y_train_rent, y_test_rent = train_test_split(X, y_rent, test_size=0.2, random_state=42)\n",
        "\n",
        "# Initialize and train the models\n",
        "model_down = LinearRegression()\n",
        "model_rent = LinearRegression()\n",
        "\n",
        "model_down.fit(X_train_down, y_train_down)\n",
        "model_rent.fit(X_train_rent, y_train_rent)\n",
        "\n",
        "# Function to predict 'down' and 'rent'\n",
        "def predict_down_rent(details):\n",
        "    down = model_down.predict([details])\n",
        "    rent = model_rent.predict([details])\n",
        "    return down[0], rent[0]\n",
        "\n",
        "# Example prediction\n",
        "example_house = [54, 92, 1, 1, 1]\n",
        "predicted_down, predicted_rent = predict_down_rent(example_house)\n",
        "print(f\"Predicted down payment: {predicted_down}\")\n",
        "print(f\"Predicted rent: {predicted_rent}\")\n"
      ],
      "metadata": {
        "id": "uZhu41YAYj4p",
        "colab": {
          "base_uri": "https://localhost:8080/"
        },
        "outputId": "92c416d2-e8ca-4225-97eb-6681d355460b"
      },
      "execution_count": null,
      "outputs": [
        {
          "output_type": "stream",
          "name": "stdout",
          "text": [
            "Predicted down payment: 324.67676788439763\n",
            "Predicted rent: 13.301497453712019\n"
          ]
        },
        {
          "output_type": "stream",
          "name": "stderr",
          "text": [
            "/usr/local/lib/python3.10/dist-packages/sklearn/base.py:465: UserWarning: X does not have valid feature names, but LinearRegression was fitted with feature names\n",
            "  warnings.warn(\n",
            "/usr/local/lib/python3.10/dist-packages/sklearn/base.py:465: UserWarning: X does not have valid feature names, but LinearRegression was fitted with feature names\n",
            "  warnings.warn(\n"
          ]
        }
      ]
    },
    {
      "cell_type": "code",
      "source": [
        "import pandas as pd\n",
        "from sklearn.model_selection import train_test_split\n",
        "from sklearn.linear_model import LinearRegression\n",
        "from sklearn.metrics import mean_squared_error, r2_score\n",
        "\n",
        "# Create the dataset\n",
        "data = {\n",
        "    'm2': [50, 65, 38, 57, 58, 58, 45, 50, 58, 52, 55, 50, 55, 55, 57, 55, 45, 45],\n",
        "    'year': [85, 85, 85, 88, 92, 85, 89, 97, 87, 87, 96, 83, 88, 79, 82, 95, 95, 90],\n",
        "    'down': [300, 650, 300, 800, 200, 750, 450, 700, 750, 300, 300, 200, 100, 200, 400, 750, 200, 200],\n",
        "    'rent': [7.5, 6, 6, 0, 17, 0, 6, 0, 0, 9.5, 15.5, 15, 20, 13, 9, 0, 15, 16],\n",
        "    'parking': [1, 1, 1, 1, 1, 1, 1, 1, 1, 1, 1, 1, 0, 0, 1, 1, 1, 1],\n",
        "    'elevator': [1, 1, 1, 0, 1, 0, 1, 1, 0, 0, 1, 1, 0, 0, 0, 1, 1, 1],\n",
        "    'warehouse': [1, 1, 1, 1, 1, 1, 1, 1, 1, 1, 1, 1, 1, 1, 1, 0, 1, 1]\n",
        "}\n",
        "\n",
        "# Create a DataFrame\n",
        "df = pd.DataFrame(data)\n",
        "\n",
        "# Define features and targets for 'down' and 'rent'\n",
        "features = ['m2', 'year', 'parking', 'elevator', 'warehouse']\n",
        "X = df[features]\n",
        "y_down = df['down']\n",
        "y_rent = df['rent']\n",
        "\n",
        "# Split the data into training and testing sets for both targets\n",
        "X_train_down, X_test_down, y_train_down, y_test_down = train_test_split(X, y_down, test_size=0.2, random_state=42)\n",
        "X_train_rent, X_test_rent, y_train_rent, y_test_rent = train_test_split(X, y_rent, test_size=0.2, random_state=42)\n",
        "\n",
        "# Initialize and train the models\n",
        "model_down = LinearRegression()\n",
        "model_rent = LinearRegression()\n",
        "\n",
        "model_down.fit(X_train_down, y_train_down)\n",
        "model_rent.fit(X_train_rent, y_train_rent)\n",
        "\n",
        "# Function to predict 'down' and 'rent' with minimum down payment constraint\n",
        "def predict_down_rent(details, min_down=450):\n",
        "    down = model_down.predict([details])\n",
        "    rent = model_rent.predict([details])\n",
        "    # Ensure down payment is at least the minimum value\n",
        "    if down[0] < min_down:\n",
        "        down[0] = min_down\n",
        "    return down[0], rent[0]\n",
        "\n",
        "# Example prediction\n",
        "example_house = [54, 92, 1, 1, 1]\n",
        "predicted_down, predicted_rent = predict_down_rent(example_house)\n",
        "print(f\"Predicted down payment: {predicted_down}\")\n",
        "print(f\"Predicted rent: {predicted_rent}\")\n"
      ],
      "metadata": {
        "colab": {
          "base_uri": "https://localhost:8080/"
        },
        "id": "RpPxO3How_S5",
        "outputId": "915efc96-3b9a-4c80-e10d-cb4d251af764"
      },
      "execution_count": null,
      "outputs": [
        {
          "output_type": "stream",
          "name": "stdout",
          "text": [
            "Predicted down payment: 450.0\n",
            "Predicted rent: 13.301497453712019\n"
          ]
        },
        {
          "output_type": "stream",
          "name": "stderr",
          "text": [
            "/usr/local/lib/python3.10/dist-packages/sklearn/base.py:465: UserWarning: X does not have valid feature names, but LinearRegression was fitted with feature names\n",
            "  warnings.warn(\n",
            "/usr/local/lib/python3.10/dist-packages/sklearn/base.py:465: UserWarning: X does not have valid feature names, but LinearRegression was fitted with feature names\n",
            "  warnings.warn(\n"
          ]
        }
      ]
    },
    {
      "cell_type": "code",
      "source": [
        "import numpy as np\n",
        "import pandas as pd\n",
        "from sklearn.model_selection import train_test_split\n",
        "from sklearn.linear_model import LinearRegression\n",
        "\n",
        "# Create the DataFrame\n",
        "data = {\n",
        "    'm2': [50, 65, 38, 57, 58, 58, 45, 50, 58, 52, 55, 50, 55, 55, 57, 55, 45, 45],\n",
        "    'year': [85, 85, 85, 88, 92, 85, 89, 97, 87, 87, 96, 83, 88, 79, 82, 95, 95, 90],\n",
        "    'down': [300, 650, 300, 800, 200, 750, 450, 700, 750, 300, 300, 200, 100, 200, 400, 750, 200, 200],\n",
        "    'rent': [7.5, 6, 6, 0, 17, 0, 6, 0, 0, 9.5, 15.5, 15, 20, 13, 9, 0, 15, 16],\n",
        "    'parking': [1, 1, 1, 1, 1, 1, 1, 1, 1, 1, 1, 1, 0, 0, 1, 1, 1, 1],\n",
        "    'elevator': [1, 1, 1, 0, 1, 0, 1, 1, 0, 0, 1, 1, 0, 0, 0, 1, 1, 1],\n",
        "    'warehouse': [1, 1, 1, 1, 1, 1, 1, 1, 1, 1, 1, 1, 1, 1, 1, 0, 1, 1]\n",
        "}\n",
        "\n",
        "df = pd.DataFrame(data)\n",
        "\n",
        "# Prepare Features and Target\n",
        "X = df[['m2', 'year', 'down', 'parking', 'elevator', 'warehouse']]\n",
        "y = df['rent']\n",
        "\n",
        "# Split the Data\n",
        "X_train, X_test, y_train, y_test = train_test_split(X, y, test_size=0.2, random_state=42)\n",
        "\n",
        "# Train the Model\n",
        "model = LinearRegression()\n",
        "model.fit(X_train, y_train)\n",
        "\n",
        "# Make Predictions\n",
        "new_house = np.array([[54, 92, 450, 1, 1, 1]])\n",
        "predicted_rent = model.predict(new_house)\n",
        "print(f\"Predicted rent for the house: {predicted_rent[0]}\")\n"
      ],
      "metadata": {
        "colab": {
          "base_uri": "https://localhost:8080/"
        },
        "id": "s_A52_AzyIJZ",
        "outputId": "82b0bf52-3990-41e5-ec57-6376a2e2c0f5"
      },
      "execution_count": null,
      "outputs": [
        {
          "output_type": "stream",
          "name": "stdout",
          "text": [
            "Predicted rent for the house: 9.49923989984794\n"
          ]
        },
        {
          "output_type": "stream",
          "name": "stderr",
          "text": [
            "/usr/local/lib/python3.10/dist-packages/sklearn/base.py:465: UserWarning: X does not have valid feature names, but LinearRegression was fitted with feature names\n",
            "  warnings.warn(\n"
          ]
        }
      ]
    },
    {
      "cell_type": "code",
      "source": [
        "5*30"
      ],
      "metadata": {
        "colab": {
          "base_uri": "https://localhost:8080/"
        },
        "id": "vn3fkIYEyYuQ",
        "outputId": "65234774-551e-4521-8bc9-db1c3a19ea1c"
      },
      "execution_count": null,
      "outputs": [
        {
          "output_type": "execute_result",
          "data": {
            "text/plain": [
              "150"
            ]
          },
          "metadata": {},
          "execution_count": 12
        }
      ]
    },
    {
      "cell_type": "code",
      "source": [
        "600,4.5"
      ],
      "metadata": {
        "colab": {
          "base_uri": "https://localhost:8080/"
        },
        "id": "Iy6u8bBX1Qzz",
        "outputId": "0631fb48-ca01-410c-f881-843c6fe223c1"
      },
      "execution_count": null,
      "outputs": [
        {
          "output_type": "execute_result",
          "data": {
            "text/plain": [
              "(600, 4.5)"
            ]
          },
          "metadata": {},
          "execution_count": 13
        }
      ]
    },
    {
      "cell_type": "code",
      "source": [
        "450+120,4.5"
      ],
      "metadata": {
        "colab": {
          "base_uri": "https://localhost:8080/"
        },
        "id": "YjqJsWKw1qWM",
        "outputId": "a0c53fa6-1650-4f1f-becd-4f5d5a361f85"
      },
      "execution_count": null,
      "outputs": [
        {
          "output_type": "execute_result",
          "data": {
            "text/plain": [
              "(570, 4.5)"
            ]
          },
          "metadata": {},
          "execution_count": 15
        }
      ]
    },
    {
      "cell_type": "code",
      "source": [
        "450,4.5+120/30"
      ],
      "metadata": {
        "colab": {
          "base_uri": "https://localhost:8080/"
        },
        "id": "ipIfo_gW1vSz",
        "outputId": "8998254f-9ece-4355-fbf7-8fa89330d90c"
      },
      "execution_count": null,
      "outputs": [
        {
          "output_type": "execute_result",
          "data": {
            "text/plain": [
              "(450, 8.5)"
            ]
          },
          "metadata": {},
          "execution_count": 16
        }
      ]
    },
    {
      "cell_type": "code",
      "source": [
        "500, 4.5+70/30"
      ],
      "metadata": {
        "colab": {
          "base_uri": "https://localhost:8080/"
        },
        "id": "xt4JjRSa152L",
        "outputId": "72a2172a-bbf3-49d4-97f8-78045c9b54e0"
      },
      "execution_count": null,
      "outputs": [
        {
          "output_type": "execute_result",
          "data": {
            "text/plain": [
              "(500, 6.833333333333334)"
            ]
          },
          "metadata": {},
          "execution_count": 17
        }
      ]
    },
    {
      "cell_type": "code",
      "source": [],
      "metadata": {
        "id": "c57TuVfe2Bb-"
      },
      "execution_count": null,
      "outputs": []
    }
  ]
}